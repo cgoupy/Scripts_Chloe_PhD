{
 "cells": [
  {
   "cell_type": "code",
   "execution_count": 1,
   "id": "3cfdebdd",
   "metadata": {},
   "outputs": [],
   "source": [
    "%jsroot off\n",
    "#include <TFitResult.h>"
   ]
  },
  {
   "cell_type": "code",
   "execution_count": 2,
   "id": "eefcb288",
   "metadata": {},
   "outputs": [],
   "source": [
    "TH1D* Put_data_in_histo(TString filename, double real_time, TString Title){\n",
    "    ifstream in;\n",
    "    in.open(filename, ios::in);\n",
    "    cout<<\"\\n*******************************************************\"<<endl;\n",
    "    cout<<filename<<endl;\n",
    "    Float_t time=real_time/(24*3600.);\n",
    "    \n",
    "    Int_t x,y, MCA_chan;\n",
    "    TH1D* h1 = new TH1D(Title,Title,512,-0.5,511.5);\n",
    "    h1->GetXaxis()->SetTitle(\"Pulse Height [MCA a.u.]\");\n",
    "    h1->GetYaxis()->SetTitle(\"Counts per day per MCA channel\");\n",
    "    \n",
    "    while (1) {\n",
    "        in >> x >> y;\n",
    "        if (!in.good()) break;\n",
    "        \n",
    "        h1->SetBinContent(x+1, y);\n",
    "        h1->SetBinError(x+1, sqrt(y));\n",
    "    }\n",
    "    MCA_chan=h1->GetBinWidth(1);\n",
    "    h1->Scale(1./(MCA_chan*time));\n",
    "    return h1;\n",
    "}"
   ]
  },
  {
   "cell_type": "code",
   "execution_count": 233,
   "id": "ef6ab24a-1578-4e5d-a782-afcf05f0f2d1",
   "metadata": {},
   "outputs": [],
   "source": [
    "//--------------------------------------------------------\n",
    "// Residual histogram\n",
    "std::vector<TH1D*> Residuals_histos(TH1D* histo_data, TH1D* Model, Double_t Min, Double_t Max, bool pc = true){\n",
    "    TH1D* hRes = (TH1D*) histo_data->Clone();\n",
    "    TString Title = histo_data->GetTitle();\n",
    "    TH1D* hReducedRes = new TH1D(\"Reduced_res_\"+Title,\"Reduced_res_\"+Title, 50, -10, 10);\n",
    "    \n",
    "    double Value_i, E_i, Diff_i, Error_i;\n",
    "    double chi2=0;\n",
    "    int ndf =0;\n",
    "    for (int i = 1; i<hRes->GetNbinsX(); i++){\n",
    "        Value_i = hRes->GetBinContent(i);\n",
    "        E_i = hRes->GetBinCenter(i);\n",
    "        if (Value_i>0&&E_i>Min&&E_i<Max) {\n",
    "            Diff_i = histo_data->GetBinContent(i)-Model->GetBinContent(i);\n",
    "            Error_i = sqrt(histo_data->GetBinError(i)*histo_data->GetBinError(i)+Model->GetBinError(i)*Model->GetBinError(i));\n",
    "            hReducedRes->Fill(Diff_i/Error_i);\n",
    "            \n",
    "            if (pc) {\n",
    "                hRes->SetBinContent(i, Diff_i/histo_data->GetBinContent(i)*100);\n",
    "                hRes->SetBinError(i, Error_i/histo_data->GetBinContent(i)*100);\n",
    "            }\n",
    "            else {\n",
    "                hRes->SetBinContent(i, Diff_i/Error_i);\n",
    "                hRes->SetBinError(i, 1);\n",
    "            }\n",
    "            chi2+=(Diff_i*Diff_i)/(Error_i*Error_i);\n",
    "            ndf+=1;\n",
    "        }\n",
    "        else {\n",
    "            hRes->SetBinContent(i, 0);\n",
    "            hRes->SetBinError(i, 0);}\n",
    "    }\n",
    "\n",
    "    cout<<\"\\nChi2/ndf = \"<<chi2<<\"/\"<<ndf-4<<\" = \"<<chi2/(ndf-4)<<endl;\n",
    "    hRes->SetLineColor(Model->GetLineColor());\n",
    "    hRes->SetTitle(\"\");\n",
    "    \n",
    "    hReducedRes->SetFillColor(Model->GetLineColor());\n",
    "        hReducedRes->SetLineColor(Model->GetLineColor());\n",
    "        hReducedRes->SetTitle(\"\");\n",
    "    \n",
    "    if (pc) hRes->GetYaxis()->SetRangeUser(-100, 100);\n",
    "    else hRes->GetYaxis()->SetRangeUser(-20, 20);\n",
    "    \n",
    "    //hReducedRes->GetXaxis()->SetRangeUser(-5, 5);\n",
    "    std::vector<TH1D*> histos;\n",
    "    histos.push_back(hRes);\n",
    "    histos.push_back(hReducedRes);\n",
    "    \n",
    "    return histos;\n",
    "}"
   ]
  },
  {
   "cell_type": "code",
   "execution_count": 234,
   "id": "d9dbfbff",
   "metadata": {},
   "outputs": [
    {
     "name": "stdout",
     "output_type": "stream",
     "text": [
      "The calibration slope is MCA = 9xE + 1.1\n"
     ]
    }
   ],
   "source": [
    "// from BS_Calibration\n",
    "\n",
    "double Offset = 1.1;\n",
    "double Gain = 9.0;\n",
    "\n",
    "cout<<\"The calibration slope is MCA = \"<<Gain<<\"xE + \"<<Offset<<endl;\n",
    "\n",
    "double Resol = 4.;"
   ]
  },
  {
   "cell_type": "code",
   "execution_count": 235,
   "id": "a478670a",
   "metadata": {},
   "outputs": [],
   "source": [
    "TH1D* Calibrate_histo(TH1D* histo, Double_t CalibVal, TString NewTitle, Double_t Offset=0){\n",
    "    Int_t NBins = histo->GetNbinsX();\n",
    "    Int_t MCA_min = histo->GetBinCenter(1);\n",
    "    Int_t MCA_max = histo->GetBinCenter(NBins);\n",
    "    \n",
    "    TH1D* Calib_histo = new TH1D(NewTitle, Form(\"%s_keVee\", histo->GetTitle()), NBins, (MCA_min-Offset)*CalibVal, (MCA_max-Offset)*CalibVal);\n",
    "    Int_t MCA_i;\n",
    "    Double_t E_cal, MCA_i_content, MCA_i_Error;\n",
    "    for(int i=0; i<NBins; i++){\n",
    "        MCA_i = histo->GetBinCenter(i);\n",
    "        MCA_i_content = histo->GetBinContent(i)*histo->GetBinWidth(i);\n",
    "        MCA_i_Error = histo->GetBinError(i)*histo->GetBinWidth(i);\n",
    "        E_cal = (MCA_i-Offset)*CalibVal;\n",
    "        int Bin_Ecal = Calib_histo->FindBin(E_cal);\n",
    "        Double_t prev_val_Ecal = Calib_histo->GetBinContent(Bin_Ecal);\n",
    "        Double_t prev_err_Ecal = Calib_histo->GetBinError(Bin_Ecal);\n",
    "        Calib_histo->SetBinContent(Bin_Ecal, prev_val_Ecal+MCA_i_content/Calib_histo->GetBinWidth(i));\n",
    "        Calib_histo->SetBinError(Bin_Ecal, sqrt(prev_err_Ecal*prev_err_Ecal+(MCA_i_Error/Calib_histo->GetBinWidth(i))*(MCA_i_Error/Calib_histo->GetBinWidth(i))));\n",
    "    }\n",
    "    Calib_histo->GetXaxis()->SetTitle(\"Calibrated Energy [keVee]\");\n",
    "    Calib_histo->GetYaxis()->SetTitle(\"Differential rate (ev.d^{-1}.keVee^{-1})\");\n",
    "\n",
    "    return Calib_histo;\n",
    "}"
   ]
  },
  {
   "cell_type": "code",
   "execution_count": 236,
   "id": "0feea2c3",
   "metadata": {},
   "outputs": [],
   "source": [
    "TH1D* Neutron_histogram_from_simu(TString filename, TString Title){\n",
    "    TFile* filein = new TFile(filename);\n",
    "    TH1D* histo = (TH1D*) filein->Get(Title); \n",
    "    \n",
    "    histo->Rebin(200);\n",
    "    histo->Scale(1./200.);\n",
    "    histo->Scale(24*3600.);\n",
    "    \n",
    "    histo->GetXaxis()->SetTitle(\"Energy [keV]\");\n",
    "    histo->GetYaxis()->SetTitle(\"Differential rate (ev.d^{-1}.keV^{-1})\");\n",
    "    return histo;\n",
    "}"
   ]
  },
  {
   "cell_type": "markdown",
   "id": "c16b6227",
   "metadata": {},
   "source": [
    "# Data"
   ]
  },
  {
   "cell_type": "code",
   "execution_count": 237,
   "id": "9cc5092f",
   "metadata": {},
   "outputs": [
    {
     "name": "stdout",
     "output_type": "stream",
     "text": [
      "\n",
      "*******************************************************\n",
      "Measures@Saclay/2022-12-16_BS-A-06_RT_682499.33_LV_681480.33_NoMV.dat\n",
      "\n",
      "*******************************************************\n",
      "Measures@Saclay/2023-03-16_BS-A-06_RT_1215822.32_LT_1213861.85_BotMV.dat\n"
     ]
    }
   ],
   "source": [
    "TH1D* h_NoMV_8inch = Put_data_in_histo(\"Measures@Saclay/2022-12-16_BS-A-06_RT_682499.33_LV_681480.33_NoMV.dat\", 682499.33, \"No MV\");\n",
    "h_NoMV_8inch->Rebin(2);\n",
    "h_NoMV_8inch->Scale(1/2.);\n",
    "\n",
    "TH1D* h_HighBotMV_8inch = Put_data_in_histo(\"Measures@Saclay/2023-03-16_BS-A-06_RT_1215822.32_LT_1213861.85_BotMV.dat\", 1215822.32, \"Bot MV - two sphere supports\");\n",
    "h_HighBotMV_8inch->Rebin(4);\n",
    "h_HighBotMV_8inch->Scale(1/4.);"
   ]
  },
  {
   "cell_type": "code",
   "execution_count": 238,
   "id": "924c6208",
   "metadata": {},
   "outputs": [
    {
     "name": "stderr",
     "output_type": "stream",
     "text": [
      "Warning in <TFile::Append>: Replacing existing TH1: No MV_keVee (Potential memory leak).\n"
     ]
    }
   ],
   "source": [
    "TH1D* hCal_NoMV_8inch = Calibrate_histo(h_NoMV_8inch, 1.13*Gain, Form(\"%s_keVee\", h_NoMV_8inch->GetTitle()), 0.1152862);"
   ]
  },
  {
   "cell_type": "markdown",
   "id": "c7ad0372",
   "metadata": {},
   "source": [
    "# Simu"
   ]
  },
  {
   "cell_type": "markdown",
   "id": "b55e0243",
   "metadata": {},
   "source": [
    "## Atmospheric neutrons"
   ]
  },
  {
   "cell_type": "code",
   "execution_count": 255,
   "id": "8efb0a05",
   "metadata": {},
   "outputs": [],
   "source": [
    "Neutron_simu = Neutron_histogram_from_simu(\"../Simulations/Neutrons/HistoskeV_PT_BS_NewGeom_8inch_FullMV_AtmNeutrons.000-013.root\", \"NeutronsSimu_Neutron_Histogram\");"
   ]
  },
  {
   "cell_type": "code",
   "execution_count": 256,
   "id": "6ef72527-3119-4fac-8c12-915cd3f71ce1",
   "metadata": {},
   "outputs": [],
   "source": [
    "Neutron_simu->Scale(0.80)"
   ]
  },
  {
   "cell_type": "code",
   "execution_count": 257,
   "id": "6b7bc32c",
   "metadata": {},
   "outputs": [],
   "source": [
    "Muon_simu = Neutron_histogram_from_simu(\"../Simulations/Muons/CCIN2P3/HistoskeV_PT_BS_NewGeom_8inch_FullMV_AtmMuons.000-039.root\", \"MuonSimu_Neutron_Histogram\");"
   ]
  },
  {
   "cell_type": "code",
   "execution_count": 258,
   "id": "2ebf448e",
   "metadata": {},
   "outputs": [],
   "source": [
    "Gamma_simu = Neutron_histogram_from_simu(\"../Simulations/AmbGammas/HistoskeV_PT_BS_NewGeom_8inch_FullMV_AmbGammas.000-142.root\", \"GamSimu_Neutron_Histogram\");"
   ]
  },
  {
   "cell_type": "code",
   "execution_count": 266,
   "id": "d386ab68",
   "metadata": {},
   "outputs": [
    {
     "data": {
      "image/png": "[encoded data removed]",
      "text/plain": [
       "<IPython.core.display.Image object>"
      ]
     },
     "metadata": {},
     "output_type": "display_data"
    },
    {
     "name": "stdout",
     "output_type": "stream",
     "text": [
      "\n",
      "Chi2/ndf = 1682.87/231 = 7.28514\n",
      "Data: 310.787 +- 6.27245 cpd in neutron peak\n",
      "Simu: 278.492 +- 2.15633 cpd in neutron peak\n"
     ]
    },
    {
     "name": "stderr",
     "output_type": "stream",
     "text": [
      "Warning in <TCanvas::Constructor>: Deleting canvas with same name: cDC_9inch\n",
      "Warning in <TFile::Append>: Replacing existing TH1: Reduced_res_ (Potential memory leak).\n",
      "Info in <TCanvas::Print>: pdf file /Users/cg264002/research/Redaction_These/Figures/Chap3/Neutrons/Simu_Data_AtmNeutrons_Saclay.pdf has been created\n"
     ]
    }
   ],
   "source": [
    "TCanvas* C = new TCanvas(\"cDC_9inch\", \"cDC_9inch\", 800, 700);\n",
    "C->Draw();\n",
    "TPad *p0 = new TPad(\"p0\",\"p0\",0.02,0.375,0.795,1.);\n",
    "p0->Draw();\n",
    "p0->cd();\n",
    "p0->SetLeftMargin(0.1);\n",
    "p0->SetRightMargin(0.03);\n",
    "p0->SetBottomMargin(0.1);\n",
    "p0->SetTopMargin(0.02);\n",
    "\n",
    "p0->SetLogy();\n",
    "\n",
    "hCal_NoMV_8inch->SetTitle(\"\");\n",
    "hCal_NoMV_8inch->SetLineColor(kBlack);\n",
    "hCal_NoMV_8inch->Draw(\"HIST E0\");\n",
    "Muon_simu->Draw(\"SAME\");\n",
    "Gamma_simu->SetLineColor(kRed);\n",
    "Gamma_simu->SetFillColorAlpha(kRed, 0.1);\n",
    "Gamma_simu->Draw(\"HIST E0 SAME\");\n",
    "Neutron_simu->Draw(\"HIST E0 SAME\");\n",
    "Neutron_simu->SetLineColor(kCyan);\n",
    "Neutron_simu->SetFillColorAlpha(kCyan, 0.1);\n",
    "\n",
    "TH1D* Sum_simu= (TH1D*) Muon_simu->Clone();\n",
    "Sum_simu->Add(Sum_simu, Neutron_simu); \n",
    "Sum_simu->Add(Sum_simu, Gamma_simu); \n",
    "Sum_simu->SetLineColor(kGreen+1);\n",
    "Sum_simu->SetLineColorAlpha(kGreen+1,1);\n",
    "Sum_simu->SetLineWidth(1);\n",
    "Sum_simu->Draw(\"P SAME\");\n",
    "\n",
    "TLegend* leg0 = new TLegend(0.7, 0.7, 0.95, 0.95);\n",
    "leg0->AddEntry(hCal_NoMV_8inch, \"Data\");\n",
    "leg0->AddEntry(Neutron_simu, \"Simulation n\");\n",
    "leg0->AddEntry(Muon_simu, \"Simulation #mu\");\n",
    "leg0->AddEntry(Gamma_simu, \"Simulation #gamma\");\n",
    "leg0->AddEntry(Sum_simu, \"Simulation Sum\");\n",
    "leg0->SetLineColor(0);\n",
    "gStyle->SetOptStat(0);\n",
    "leg0->Draw(\"SAME\");\n",
    "\n",
    "\n",
    "//TCanvas* C2 = new TCanvas(\"cRes_DC_9inch\", \"cRes_DC_9inch\", 1.175*C->GetWw(), 0.6*C->GetWh());\n",
    "//C2->Draw();\n",
    "C->cd();\n",
    "TPad *p1 = new TPad(\"p1\",\"p1\",0.,0.01,0.795,0.375);\n",
    "p1->Draw();\n",
    "p1->cd();\n",
    "p1->SetLeftMargin(0.12);\n",
    "p1->SetRightMargin(0.03);\n",
    "p1->SetBottomMargin(0.2);\n",
    "p1->SetTopMargin(0.04);\n",
    "\n",
    "histosRes= Residuals_histos(hCal_NoMV_8inch, Sum_simu, 0, 5000, true);\n",
    "histoRes_1=histosRes[0];\n",
    "histoRes_1->GetYaxis()->SetTitle(\"Residuals [%]\");\n",
    "histoRes_1->GetYaxis()->SetTitleOffset(0.65);\n",
    "histoRes_1->SetLineColor(kBlack);\n",
    "histoRes_1->SetFillColor(kBlack);\n",
    "//histoRes_1->GetYaxis()->SetRangeUser(-3000, 100);\n",
    "histoRes_1->GetYaxis()->SetTitleSize(1.8*hCal_NoMV_8inch->GetYaxis()->GetTitleSize());\n",
    "histoRes_1->GetXaxis()->SetTitleSize(1.8*hCal_NoMV_8inch->GetXaxis()->GetTitleSize());\n",
    "histoRes_1->GetYaxis()->SetLabelSize(1.8*hCal_NoMV_8inch->GetYaxis()->GetLabelSize());\n",
    "histoRes_1->GetXaxis()->SetLabelSize(1.8*hCal_NoMV_8inch->GetXaxis()->GetLabelSize());\n",
    "histoRes_1->Draw(\"\");\n",
    "\n",
    "h_10pc = (TH1D*) histoRes_1->Clone();\n",
    "for (int i =1; i<=h_10pc->GetNbinsX(); i++){\n",
    "    h_10pc->SetBinContent(i, 0);\n",
    "    h_10pc->SetBinError(i, 10);\n",
    "}\n",
    "h_10pc->SetLineColorAlpha(kOrange+1, 0.2);\n",
    "h_10pc->SetMarkerColorAlpha(kOrange+1, 0.2);\n",
    "h_10pc->SetFillColorAlpha(kOrange+1, 0.2);\n",
    "h_10pc->Draw(\"E3SAME\");\n",
    "\n",
    "TLegend* leg = new TLegend(0.16, 0.25, 0.3, 0.35);\n",
    "leg->AddEntry(h_10pc, \"#pm 10%\", \"f\");\n",
    "leg->Draw(\"SAME\");\n",
    "leg->SetLineWidth(0);\n",
    "\n",
    "\n",
    "C->cd();\n",
    "TPad *p2 = new TPad(\"p2\",\"p2\",0.795,0.01,1.,0.375);\n",
    "p2->Draw();\n",
    "p2->cd();\n",
    "p2->SetLeftMargin(0.15);\n",
    "p2->SetBottomMargin(0.2);\n",
    "p2->SetTopMargin(0.04);\n",
    "\n",
    "histoRes_2=histosRes[1];\n",
    "histoRes_2->Draw(\"\");\n",
    "histoRes_2->GetXaxis()->SetTitle(\"Residuals [#sigma]\");\n",
    "histoRes_2->GetYaxis()->SetTitleSize(3.*hCal_NoMV_8inch->GetYaxis()->GetTitleSize());\n",
    "histoRes_2->GetXaxis()->SetTitleSize(2.7*hCal_NoMV_8inch->GetXaxis()->GetTitleSize());\n",
    "histoRes_2->GetXaxis()->SetTitleOffset(0.7);\n",
    "histoRes_2->SetFillColor(kBlack);\n",
    "histoRes_2->SetLineColor(kBlack);\n",
    "histoRes_2->GetYaxis()->SetLabelSize(2.7*hCal_NoMV_8inch->GetYaxis()->GetLabelSize());\n",
    "histoRes_2->GetXaxis()->SetLabelSize(2.7*hCal_NoMV_8inch->GetXaxis()->GetLabelSize());\n",
    "histoRes_2->GetXaxis()->SetNdivisions(5);\n",
    "\n",
    "Double_t Error_data, Error_simu;\n",
    "cout<<\"Data: \"<<hCal_NoMV_8inch->IntegralAndError(hCal_NoMV_8inch->FindBin(2500),hCal_NoMV_8inch->FindBin(4000),Error_data, \"width\")<<\" +- \"<<Error_data<<\" cpd in neutron peak\"<<endl;\n",
    "cout<<\"Simu: \"<<Sum_simu->IntegralAndError(Sum_simu->FindBin(2500),Sum_simu->FindBin(4000),Error_simu, \"width\")<<\" +- \"<<Error_simu<<\" cpd in neutron peak\"<<endl;\n",
    "C->SaveAs(\"/Users/cg264002/research/Redaction_These/Figures/Chap3/Neutrons/Simu_Data_AtmNeutrons_Saclay.pdf\");"
   ]
  },
  {
   "cell_type": "markdown",
   "id": "6b7874d9",
   "metadata": {},
   "source": [
    "## Source neutrons"
   ]
  },
  {
   "cell_type": "code",
   "execution_count": 254,
   "id": "46308ab3",
   "metadata": {},
   "outputs": [],
   "source": [
    "Cf252_simu = Neutron_histogram_from_simu(\"../Simulations/Cf252/Histos_PT_BS_NewGeom_8inch_SaclayCf252_2.root\", \"NeutronsSimu_Neutron_Histogram\");\n",
    "Cf252_simu_2 = Neutron_histogram_from_simu(\"../Simulations/Cf252/Histos_T_BS_NewGeom_8inch_SaclayCf252_2.000-029.root\", \"NeutronsSimu_Neutron_Histogram\");\n",
    "Cf252_simu_NewGeom = Neutron_histogram_from_simu(\"../Simulations/Cf252/Histos_T_BS_NewGeom_8inch_SaclayCf252_NewGeom.000-013.root\", \"NeutronsSimu_Neutron_Histogram\");\n",
    "//Cf252_simu_NewGeom->Scale(0.65);"
   ]
  },
  {
   "cell_type": "code",
   "execution_count": 231,
   "id": "b15ed669",
   "metadata": {},
   "outputs": [
    {
     "name": "stdout",
     "output_type": "stream",
     "text": [
      "\n",
      "*******************************************************\n",
      "Measures@Saclay/2023-01-26_BS-A-06_RT_914.99_LV_916.99_Cf252.dat\n"
     ]
    }
   ],
   "source": [
    "TH1D* h_Cf_Saclay_8inch_2023_2 = Put_data_in_histo(\"Measures@Saclay/2023-01-26_BS-A-06_RT_914.99_LV_916.99_Cf252.dat\", 916.99, \"Saclay 26 January 2023\");\n",
    "h_Cf_Saclay_8inch_2023_2->Rebin(4);\n",
    "h_Cf_Saclay_8inch_2023_2->Scale(1/4.);\n",
    "\n",
    "TH1D* hCal_Cf_Saclay_8inch_2023_2 = Calibrate_histo(h_Cf_Saclay_8inch_2023_2, 1.02*Gain, Form(\"%s_keVee\", h_Cf_Saclay_8inch_2023_2->GetTitle()), Offset);"
   ]
  },
  {
   "cell_type": "code",
   "execution_count": 59,
   "id": "5f795e4b",
   "metadata": {},
   "outputs": [
    {
     "data": {
      "image/png": "[encoded data removed]",
      "text/plain": [
       "<IPython.core.display.Image object>"
      ]
     },
     "metadata": {},
     "output_type": "display_data"
    },
    {
     "name": "stderr",
     "output_type": "stream",
     "text": [
      "\u001b[1minput_line_132:2:196: \u001b[0m\u001b[0;1;31merror: \u001b[0m\u001b[1muse of undeclared identifier 'Error_data'\u001b[0m\n",
      " (((*(std::ostream*)0x1e01e7e58)) << \"Data: \" << ((*(class TH1D **)0x149f040b8))->IntegralAndError(((*(class TH1D **)0x149f040b8))->FindBin(2000), ((*(class TH1D **)0x149f040b8))->FindBin(3500), Error_data, \"width\") << \" +- \" << Error_data << \" cpd in neutron peak\" << endl)\n",
      "\u001b[0;1;32m                                                                                                                                                                                                   ^\n",
      "\u001b[0m\u001b[1minput_line_132:2:230: \u001b[0m\u001b[0;1;31merror: \u001b[0m\u001b[1muse of undeclared identifier 'Error_data'\u001b[0m\n",
      " (((*(std::ostream*)0x1e01e7e58)) << \"Data: \" << ((*(class TH1D **)0x149f040b8))->IntegralAndError(((*(class TH1D **)0x149f040b8))->FindBin(2000), ((*(class TH1D **)0x149f040b8))->FindBin(3500), Error_data, \"width\") << \" +- \" << Error_data << \" cpd in neutron peak\" << endl)\n",
      "\u001b[0;1;32m                                                                                                                                                                                                                                     ^\n",
      "\u001b[0m\u001b[1minput_line_133:2:196: \u001b[0m\u001b[0;1;31merror: \u001b[0m\u001b[1muse of undeclared identifier 'Error_simu'\u001b[0m\n",
      " (((*(std::ostream*)0x1e01e7e58)) << \"Simu: \" << ((*(class TH1D **)0x149ef8188))->IntegralAndError(((*(class TH1D **)0x149ef8188))->FindBin(2000), ((*(class TH1D **)0x149ef8188))->FindBin(3500), Error_simu, \"width\") << \" +- \" << Error_simu << \" cpd in neutron peak\" << endl)\n",
      "\u001b[0;1;32m                                                                                                                                                                                                   ^\n",
      "\u001b[0m\u001b[1minput_line_133:2:230: \u001b[0m\u001b[0;1;31merror: \u001b[0m\u001b[1muse of undeclared identifier 'Error_simu'\u001b[0m\n",
      " (((*(std::ostream*)0x1e01e7e58)) << \"Simu: \" << ((*(class TH1D **)0x149ef8188))->IntegralAndError(((*(class TH1D **)0x149ef8188))->FindBin(2000), ((*(class TH1D **)0x149ef8188))->FindBin(3500), Error_simu, \"width\") << \" +- \" << Error_simu << \" cpd in neutron peak\" << endl)\n",
      "\u001b[0;1;32m                                                                                                                                                                                                                                     ^\n",
      "\u001b[0mInfo in <TCanvas::Print>: pdf file /Users/cg264002/research/Redaction_These/Figures/Chap3/Neutrons/Cf252_Saclay_Data_Simu.pdf has been created\n"
     ]
    }
   ],
   "source": [
    "TCanvas* C = new TCanvas();\n",
    "C->Draw();\n",
    "C->SetLogy();\n",
    "gPad->SetTopMargin(0.01);\n",
    "gPad->SetRightMargin(0.01);\n",
    "\n",
    "hCal_Cf_Saclay_8inch_2023_2->SetTitle(\"\");\n",
    "hCal_Cf_Saclay_8inch_2023_2->Draw(\"EP\");\n",
    "//Cf252_simu_2->SetLineColor(kRed);\n",
    "//Cf252_simu_2->Draw(\"SAME\");\n",
    "Cf252_simu_NewGeom->SetLineColor(kRed);\n",
    "Cf252_simu_NewGeom->SetLineWidth(1);\n",
    "//Cf252_simu_NewGeom->Draw(\"SAME\");\n",
    "Sum_simu->Draw(\"EP SAME\");\n",
    "TH1D* Sum_simu_Cf252_2= (TH1D*) Sum_simu->Clone();\n",
    "Sum_simu_Cf252_2->Add(Sum_simu_Cf252_2, Cf252_simu_NewGeom);\n",
    "Sum_simu_Cf252_2->Draw(\"EP SAME\");\n",
    "Sum_simu_Cf252_2->SetLineColor(kRed);\n",
    "Sum_simu_Cf252_2->SetLineWidth(1);\n",
    "Sum_simu_Cf252_2->SetLineColor(kRed);\n",
    "Sum_simu->SetLineColor(kGreen);\n",
    "\n",
    "TLegend* leg0 = new TLegend(0.7, 0.85, 0.98, 0.98);\n",
    "leg0->AddEntry(hCal_Cf_Saclay_8inch_2023_2, \"Data\");\n",
    "leg0->AddEntry(Cf252_simu_NewGeom, \"Simulation ^{252}Cf + bkg\");\n",
    "leg0->AddEntry(Sum_simu, \"Simulation bkg\");\n",
    "leg0->SetLineColor(0);\n",
    "gStyle->SetOptStat(0);\n",
    "leg0->Draw(\"SAME\");\n",
    "\n",
    "cout<<\"Data: \"<<hCal_Cf_Saclay_8inch_2023_2->IntegralAndError(hCal_Cf_Saclay_8inch_2023_2->FindBin(2000),hCal_Cf_Saclay_8inch_2023_2->FindBin(3500),Error_data, \"width\")<<\" +- \"<<Error_data<<\" cpd in neutron peak\"<<endl;\n",
    "cout<<\"Simu: \"<<Cf252_simu_NewGeom->IntegralAndError(Cf252_simu_NewGeom->FindBin(2000),Cf252_simu_NewGeom->FindBin(3500),Error_simu, \"width\")<<\" +- \"<<Error_simu<<\" cpd in neutron peak\"<<endl;\n",
    "\n",
    "C->SaveAs(\"/Users/cg264002/research/Redaction_These/Figures/Chap3/Neutrons/Cf252_Saclay_Data_Simu.pdf\");"
   ]
  },
  {
   "cell_type": "markdown",
   "id": "d7baf66c",
   "metadata": {},
   "source": [
    "## Atm Neutrons at TUM"
   ]
  },
  {
   "cell_type": "code",
   "execution_count": 60,
   "id": "5e87dbb0",
   "metadata": {},
   "outputs": [
    {
     "name": "stdout",
     "output_type": "stream",
     "text": [
      "\n",
      "*******************************************************\n",
      "Measures@TUM/02-18_BkgSpektrum_CryoLab__BS-A-06_44h.dat\n"
     ]
    }
   ],
   "source": [
    "TH1D* h_NoMV_8inch_TUM = Put_data_in_histo(\"Measures@TUM/02-18_BkgSpektrum_CryoLab__BS-A-06_44h.dat\", 44*3600., \"No MV @TUM\");\n",
    "h_NoMV_8inch_TUM->Rebin(4);\n",
    "h_NoMV_8inch_TUM->Scale(1/4.);\n",
    "TH1D* hCal_NoMV_8inch_TUM = Calibrate_histo(h_NoMV_8inch_TUM, Gain, Form(\"%s_keVee\", h_NoMV_8inch_TUM->GetTitle()), Offset);"
   ]
  },
  {
   "cell_type": "code",
   "execution_count": 61,
   "id": "8543a313",
   "metadata": {},
   "outputs": [],
   "source": [
    "Gamma_simu = Neutron_histogram_from_simu(\"../Simulations/AmbGammas/HistoskeV_PT_BS_NewGeom_8inch_FullMV_AmbGammas.000-142.root\", \"GamSimu_Neutron_Histogram\");\n",
    "Gamma_simu->Scale(0.8);"
   ]
  },
  {
   "cell_type": "code",
   "execution_count": 62,
   "id": "dcfc1cde",
   "metadata": {},
   "outputs": [
    {
     "data": {
      "image/png": "[encoded data removed]",
      "text/plain": [
       "<IPython.core.display.Image object>"
      ]
     },
     "metadata": {},
     "output_type": "display_data"
    },
    {
     "name": "stdout",
     "output_type": "stream",
     "text": [
      "Data: 315.091 +- 6.31574 cpd in neutron peak\n",
      "Simu: 249.633 +- 1.28769 cpd in neutron peak\n"
     ]
    }
   ],
   "source": [
    "TCanvas* C = new TCanvas();\n",
    "C->Draw();\n",
    "C->SetLogy();\n",
    "\n",
    "hCal_NoMV_8inch_TUM->Draw();\n",
    "Neutron_simu->Draw(\"SAME\");\n",
    "Neutron_simu->SetLineColor(kCyan);\n",
    "Muon_simu->Draw(\"SAME\");\n",
    "Gamma_simu->SetLineColor(kRed);\n",
    "Gamma_simu->Draw(\"SAME\");\n",
    "\n",
    "TH1D* Sum_simu= (TH1D*) Muon_simu->Clone();\n",
    "Sum_simu->Add(Sum_simu, Neutron_simu); \n",
    "Sum_simu->Add(Sum_simu, Gamma_simu); \n",
    "Sum_simu->SetLineColor(kGreen);\n",
    "Sum_simu->Draw(\"SAME\");\n",
    "\n",
    "TLegend* leg0 = new TLegend(0.4, 0.7, 0.89, 0.89);\n",
    "leg0->AddEntry(hCal_NoMV_8inch, \"Data\");\n",
    "leg0->AddEntry(Neutron_simu, \"Simulation n\");\n",
    "leg0->AddEntry(Muon_simu, \"Simulation #mu\");\n",
    "leg0->AddEntry(Gamma_simu, \"Simulation #gamma\");\n",
    "leg0->SetLineColor(0);\n",
    "gStyle->SetOptStat(0);\n",
    "leg0->Draw(\"SAME\");\n",
    "\n",
    "Double_t Error_data, Error_simu;\n",
    "cout<<\"Data: \"<<hCal_NoMV_8inch->IntegralAndError(hCal_NoMV_8inch->FindBin(2500),hCal_NoMV_8inch->FindBin(4000),Error_data, \"width\")<<\" +- \"<<Error_data<<\" cpd in neutron peak\"<<endl;\n",
    "cout<<\"Simu: \"<<Sum_simu->IntegralAndError(Sum_simu->FindBin(2500),Sum_simu->FindBin(4000),Error_simu, \"width\")<<\" +- \"<<Error_simu<<\" cpd in neutron peak\"<<endl;"
   ]
  },
  {
   "cell_type": "markdown",
   "id": "f3d8feec",
   "metadata": {},
   "source": [
    "## Source at TUM"
   ]
  },
  {
   "cell_type": "code",
   "execution_count": null,
   "id": "81538ae7",
   "metadata": {},
   "outputs": [],
   "source": [
    "Cf252_simu_TUM = Neutron_histogram_from_simu(\"../Simulations/Cf252/Histos_T_BS_NewGeom_8inch_TUMCf252.000-049.root\", \"NeutronsSimu_Neutron_Histogram\");\n",
    "//Cf252_simu_TUM->Scale(0.4);"
   ]
  },
  {
   "cell_type": "code",
   "execution_count": null,
   "id": "eecc41f0",
   "metadata": {},
   "outputs": [],
   "source": [
    "//Cf calib at TUM\n",
    "\n",
    "TH1D* h_Cf_TUM_8inch = Put_data_in_histo(\"Measures@TUM/02-18_Cf252_LMU_BS-A-06_2h.dat\", 6939., \"TUM March 2022\");\n",
    "h_Cf_TUM_8inch->Rebin(4);\n",
    "h_Cf_TUM_8inch->Scale(1/4.);\n",
    "\n",
    "TH1D* hCal_Cf_TUM_8inch = Calibrate_histo(h_Cf_TUM_8inch, 0.98*Gain, Form(\"%s_keVee\", h_Cf_TUM_8inch->GetTitle()), Offset);"
   ]
  },
  {
   "cell_type": "code",
   "execution_count": null,
   "id": "5a25ad68",
   "metadata": {},
   "outputs": [],
   "source": [
    "Cf252_simu_TUM_OldGeom = Neutron_histogram_from_simu(\"../Simulations/Cf252/Histos_T_BS_OldGeom_8inch_TUMCf252.000-008.root\", \"NeutronsSimu_Neutron_Histogram\");"
   ]
  },
  {
   "cell_type": "code",
   "execution_count": null,
   "id": "0ade9454",
   "metadata": {},
   "outputs": [],
   "source": [
    "TCanvas* C = new TCanvas();\n",
    "C->Draw();\n",
    "C->SetLogy();\n",
    "gPad->SetTopMargin(0.01);\n",
    "gPad->SetRightMargin(0.01);\n",
    "\n",
    "hCal_Cf_TUM_8inch->SetTitle(\"\");\n",
    "hCal_Cf_TUM_8inch->Draw(\"EP \");\n",
    "//Cf252_simu_TUM->Draw(\"EP SAME\");\n",
    "Sum_simu->SetLineColor(kCyan);\n",
    "Sum_simu->Draw(\"EP SAME\");\n",
    "\n",
    "TH1D* Sum_simu_source=(TH1D*) Sum_simu->Clone();\n",
    "Sum_simu_source->Add(Sum_simu_source, Cf252_simu_TUM);\n",
    "Sum_simu_source->Draw(\"SAME\");\n",
    "Sum_simu_source->SetLineColor(kRed);\n",
    "//Cf252_simu_TUM_OldGeom->Draw(\"SAME\"); \n",
    "\n",
    "Double_t Error_data, Error_simu;\n",
    "cout<<\"Data: \"<<hCal_Cf_TUM_8inch->IntegralAndError(hCal_Cf_TUM_8inch->FindBin(2000),hCal_Cf_TUM_8inch->FindBin(3500),Error_data, \"width\")<<\" +- \"<<Error_data<<\" cpd in neutron peak\"<<endl;\n",
    "cout<<\"Simu: \"<<Cf252_simu_TUM->IntegralAndError(Cf252_simu_TUM->FindBin(2000),Cf252_simu_TUM->FindBin(3500),Error_simu, \"width\")<<\" +- \"<<Error_simu<<\" cpd in neutron peak\"<<endl;\n",
    "cout<<\"Simu Old geom: \"<<Cf252_simu_TUM_OldGeom->IntegralAndError(Cf252_simu_TUM_OldGeom->FindBin(2000),Cf252_simu_TUM_OldGeom->FindBin(3500),Error_simu, \"width\")<<\" +- \"<<Error_simu<<\" cpd in neutron peak\"<<endl;\n",
    "\n",
    "TLegend* leg0 = new TLegend(0.7, 0.85, 0.98, 0.98);\n",
    "leg0->AddEntry(hCal_Cf_TUM_8inch, \"Data\");\n",
    "//leg0->AddEntry(Cf252_simu_TUM, \"Simulation ^{252}Cf\");\n",
    "leg0->AddEntry(Sum_simu_source, \"Simulation ^{252}Cf + bkg\");\n",
    "leg0->AddEntry(Sum_simu, \"Simulation bkg\");\n",
    "leg0->Draw(\"SAME\");\n",
    "leg0->SetLineColor(0);\n",
    "gStyle->SetOptStat(0);\n",
    "\n",
    "C->SaveAs(\"/Users/cg264002/research/Redaction_These/Figures/Chap3/Neutrons/Cf252_TUM_Data_Simu.pdf\");"
   ]
  },
  {
   "cell_type": "code",
   "execution_count": null,
   "id": "0447b6f3",
   "metadata": {},
   "outputs": [],
   "source": [
    "Cf252_simu_TUM_12inch = Neutron_histogram_from_simu(\"../Simulations/Cf252/Histos_T_BS_NewGeom_12inch_TUMCf252.000-049.root\", \"NeutronsSimu_Neutron_Histogram\");"
   ]
  },
  {
   "cell_type": "code",
   "execution_count": null,
   "id": "3804d6f1",
   "metadata": {},
   "outputs": [],
   "source": [
    "//Cf calib at TUM\n",
    "\n",
    "TH1D* h_Cf_TUM_12inch = Put_data_in_histo(\"Measures@TUM/03-14_Cf252_LMU_BS-A-08_2h.dat\", 7740., \"TUM March 2022\");\n",
    "h_Cf_TUM_12inch->Rebin(4);\n",
    "h_Cf_TUM_12inch->Scale(1/4.);\n",
    "\n",
    "TH1D* hCal_Cf_TUM_12inch = Calibrate_histo(h_Cf_TUM_12inch, 0.98*Gain, Form(\"%s_keVee\", h_Cf_TUM_12inch->GetTitle()), Offset);"
   ]
  },
  {
   "cell_type": "code",
   "execution_count": null,
   "id": "1df059f4",
   "metadata": {},
   "outputs": [],
   "source": [
    "TCanvas* C = new TCanvas();\n",
    "C->Draw();\n",
    "C->SetLogy();\n",
    "\n",
    "hCal_Cf_TUM_12inch->Draw(\"\");\n",
    "Cf252_simu_TUM_12inch->Draw(\"SAME\");\n",
    "Cf252_simu_TUM_12inch->SetLineColor(kCyan);\n",
    "\n",
    "Double_t Error_data, Error_simu;\n",
    "cout<<\"Data: \"<<hCal_Cf_TUM_12inch->IntegralAndError(hCal_Cf_TUM_12inch->FindBin(2000),hCal_Cf_TUM_12inch->FindBin(3500),Error_data, \"width\")<<\" +- \"<<Error_data<<\" cpd in neutron peak\"<<endl;\n",
    "cout<<\"Simu: \"<<Cf252_simu_TUM_12inch->IntegralAndError(Cf252_simu_TUM_12inch->FindBin(2000),Cf252_simu_TUM_12inch->FindBin(3500),Error_simu, \"width\")<<\" +- \"<<Error_simu<<\" cpd in neutron peak\"<<endl;\n",
    "\n",
    "TLegend* leg0 = new TLegend(0.6, 0.8, 0.89, 0.89);\n",
    "leg0->AddEntry(hCal_Cf_TUM_12inch, \"Data\");\n",
    "leg0->AddEntry(Cf252_simu_TUM_12inch, \"Simulation\");\n",
    "leg0->Draw(\"SAME\");\n",
    "leg0->SetLineColor(0);\n",
    "gStyle->SetOptStat(0);"
   ]
  },
  {
   "cell_type": "code",
   "execution_count": null,
   "id": "2dad8def-b9ef-406b-8cd3-63f0260a2b02",
   "metadata": {},
   "outputs": [],
   "source": []
  }
 ],
 "metadata": {
  "kernelspec": {
   "display_name": "ROOT C++",
   "language": "c++",
   "name": "root"
  },
  "language_info": {
   "codemirror_mode": "text/x-c++src",
   "file_extension": ".C",
   "mimetype": " text/x-c++src",
   "name": "c++"
  },
  "toc": {
   "base_numbering": 1,
   "nav_menu": {},
   "number_sections": true,
   "sideBar": true,
   "skip_h1_title": false,
   "title_cell": "Table of Contents",
   "title_sidebar": "Contents",
   "toc_cell": false,
   "toc_position": {
    "height": "calc(100% - 180px)",
    "left": "10px",
    "top": "150px",
    "width": "256px"
   },
   "toc_section_display": true,
   "toc_window_display": true
  },
  "widgets": {
   "application/vnd.jupyter.widget-state+json": {
    "state": {},
    "version_major": 2,
    "version_minor": 0
   }
  }
 },
 "nbformat": 4,
 "nbformat_minor": 5
}

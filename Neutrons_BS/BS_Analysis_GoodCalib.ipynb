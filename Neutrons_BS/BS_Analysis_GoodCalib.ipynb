{
 "cells": [
  {
   "cell_type": "code",
   "execution_count": 1,
   "id": "216c72b2",
   "metadata": {},
   "outputs": [],
   "source": [
    "Double_t MVthr_VNS = 7.;\n",
    "Double_t MVthr_DC = 7.;\n",
    "Double_t Emin_fit = 700;\n",
    "Double_t Emax_fit = 4500;"
   ]
  },
  {
   "cell_type": "code",
   "execution_count": 2,
   "id": "6632a4c0",
   "metadata": {},
   "outputs": [],
   "source": [
    "// Functions used to read data and simulations"
   ]
  },
  {
   "cell_type": "code",
   "execution_count": 3,
   "id": "c037365b",
   "metadata": {},
   "outputs": [],
   "source": [
    "//Standard deviation of a vector\n",
    "Double_t Sigma(vector<Double_t> Vector){\n",
    "    int num_val = Vector.size();\n",
    "    Double_t Mean=0;\n",
    "    for (int i=0; i<num_val; i++){\n",
    "        Mean+=Vector[i];\n",
    "    }\n",
    "    Mean= Mean/num_val;\n",
    "    \n",
    "    Double_t sigma=0;\n",
    "    for (int i=0; i<num_val; i++){\n",
    "        sigma+=(Vector[i]-Mean)*(Vector[i]-Mean);\n",
    "    }\n",
    "    sigma= sigma/(num_val-1);\n",
    "    sigma = sqrt(sigma);\n",
    "    return sigma;\n",
    "}"
   ]
  },
  {
   "cell_type": "code",
   "execution_count": 4,
   "id": "db057018",
   "metadata": {},
   "outputs": [],
   "source": [
    "//Smooth Step function\n",
    "//--------------------------------------------------------------\n",
    "double cdf(double *x, double *par){\n",
    "    double mean=par[0];\n",
    "    double sigma = par[1];\n",
    "    \n",
    "    double xx =x[0];\n",
    "    return ROOT::Math::normal_cdf(xx, sigma, mean);\n",
    "}"
   ]
  },
  {
   "cell_type": "code",
   "execution_count": 5,
   "id": "23d8a144",
   "metadata": {},
   "outputs": [],
   "source": [
    "TH1D* Put_data_in_histo(TString filename, double real_time, TString Title){\n",
    "    ifstream in;\n",
    "    in.open(filename, ios::in);\n",
    "    cout<<\"\\n*******************************************************\"<<endl;\n",
    "    cout<<filename<<endl;\n",
    "    Float_t time=real_time/(24*3600.);\n",
    "    \n",
    "    Int_t x,y, MCA_chan;\n",
    "    TH1D* h1 = new TH1D(Title,Title,512,-0.5,511.5);\n",
    "    h1->GetXaxis()->SetTitle(\"Pulse Height [MCA a.u.]\");\n",
    "    h1->GetYaxis()->SetTitle(\"Counts per day per MCA channel\");\n",
    "    \n",
    "    while (1) {\n",
    "        in >> x >> y;\n",
    "        if (!in.good()) break;\n",
    "        \n",
    "        h1->SetBinContent(x+1, y);\n",
    "        h1->SetBinError(x+1, sqrt(y));\n",
    "    }\n",
    "    MCA_chan=h1->GetBinWidth(1);\n",
    "    h1->Scale(1./(MCA_chan*time));\n",
    "    return h1;\n",
    "}"
   ]
  },
  {
   "cell_type": "code",
   "execution_count": 6,
   "id": "094dedee",
   "metadata": {},
   "outputs": [],
   "source": [
    "//This function applies a quenching factor\n",
    "TH1D* Put_simu_in_histo(TString filename, TString Title, int nBin, double Emin, double Emax, Double_t NEvt, Double_t Flux =0.0134, Double_t QF=3.5/5., Double_t MVthr=3., bool Veto=true, Double_t resol = 4.6){\n",
    "    \n",
    "    TFile* Nfile = new TFile(filename);\n",
    "\n",
    "    Float_t ECr, EMV;\n",
    "    TRandom gen(0);\n",
    "    \n",
    "    Double_t NTime = NEvt/40./40./Flux;     // s\n",
    "    \n",
    "    TTree *Nnp = (TTree*) Nfile->Get(\"NTupleAlgoDir/Pri_Ntuple\");\n",
    "    TTree *Nns = (TTree*) Nfile->Get(\"NTupleAlgoDir/Sec_Ntuple\");\n",
    "\n",
    "    Int_t Np_entries= Nnp->GetEntries();\n",
    "    Int_t Ns_entries= Nns->GetEntries();\n",
    "    printf(\"  Primary Entries:      %10d\\n\",Np_entries);\n",
    "    printf(\"  Secondary Entries:    %10d\\n\",Ns_entries);\n",
    "    printf(\"  Generated primaries:  %.0f\\n\",NEvt);\n",
    "    printf(\"  Equivalent time:      %.0f s (%.3f d)\\n\",NTime,NTime/86400.);\n",
    "    \n",
    "    TH1D *neut = new TH1D(Title,Title,nBin,Emin,Emax);\n",
    "\n",
    "    neut->GetXaxis()->SetTitle(\"Energy [keVee]\");\n",
    "    neut->GetYaxis()->SetTitle(\"Counts.d^{-1}.keVee^{-1}\");\n",
    "\n",
    "    Nnp->SetBranchAddress(\"EDep\", &ECr);\n",
    "    if (Veto){Nnp->SetBranchAddress(\"EMV0\", &EMV);}\n",
    "\n",
    "    Float_t NpNSec,NpDelay, NsPDG,NsPidM,NsPid;\n",
    "    Nnp->SetBranchAddress(  \"NSec\", &NpNSec);\n",
    "    Nnp->SetBranchAddress( \"Delay\", &NpDelay);\n",
    "    Nns->SetBranchAddress(   \"PDG\", &NsPDG);\n",
    "    Nns->SetBranchAddress(  \"PidM\", &NsPidM);\n",
    "    Nns->SetBranchAddress(   \"Pid\", &NsPid);\n",
    "    \n",
    "    // Loop on primary particles pk\n",
    "    Int_t pk=0, sk=0, npCheck=0, nsCheck=0, isQF=0, nQuenched=0;\n",
    "    \n",
    "    while (pk < Np_entries) {\n",
    "        \n",
    "        // Loop on secondary particles sk (defined as those particles entering in the LiI(Eu) crystal)\n",
    "        if (sk < Ns_entries) Nns->GetEntry(sk);\n",
    "        \n",
    "        // Get the \"id\" of the primary particles associated to the secondary particle sk\n",
    "        Int_t id = ((Int_t) (NsPidM+0.5))*1000000 + ((Int_t) (NsPid+0.5));\n",
    "        \n",
    "         // if the primary particles is pk (the one under examination in primary loop), set isQF=1 in the cases when the\n",
    "        // secondary particle sk is a neutron or antineutron\n",
    "        // ==> i.e., if the secondary particles entering in the LiI(Eu) crystal is a neutron, the deposited energy is due\n",
    "        // to a neutron interaction in LiI(Eu) detector and the quenching factor has to be applied (isQF=1, --> true).\n",
    "        if(id==pk && sk < Ns_entries) {\n",
    "            if (NsPDG==2112 || NsPDG==-2112) isQF=1;\n",
    "            sk++;\n",
    "            nsCheck++;\n",
    "        } \n",
    "        \n",
    "        // otherwise, no further secondary particles are associated to pk, I can fill the spectrum with the deposited\n",
    "        // energy in LiI(Eu) detector (branch EDep in primary ntuple), applying or not the quenching factor\n",
    "        else {\n",
    "            Nnp->GetEntry(pk);\n",
    "            // it is only a consinstency check (verify that the number of analysed secondary particles is the expected one)\n",
    "            // for the pk primary particle under examination\n",
    "            if (NpNSec != nsCheck) printf(\" Primary entry %d: NSec error NSec=%d, nsCheck=%d\\n\", pk, (int) NpNSec, nsCheck);\n",
    "    \n",
    "            // It happens sometime that the primary particles is not associated to any secondary particles (NpNSec=0);\n",
    "            // Almost always, it is due to very slow neutrons that after entering the LiI(Eu) crystal need long time before\n",
    "            // having an interaction, and therefore are classified as new, delayed events (NpDelay>0) and loose their correlation\n",
    "            // with the secondary particle ntuple. Also these events have to be classified as neutron events ==> isQF=1\n",
    "            // (this point is not easy to explain, maybe we can have a short discussion about it)\n",
    "            if (NpNSec==0 && NpDelay>0) isQF=1;        // Sicuramente neutroni\n",
    "            if (isQF == 1) nQuenched++;\n",
    "            \n",
    "            // the E deposition in the MV is spread accounting for energy resolution resolution\n",
    "            Float_t Ep = EMV;\n",
    "        \n",
    "            if (Ep>0){\n",
    "                Float_t sp = 0.1008*sqrt(1./Ep*(1.+1./Ep))/2.3548;      // (%)\n",
    "                Ep *= (1. + sp*gen.Gaus())*1000.;\n",
    "            }\n",
    "            \n",
    "            if (Veto){\n",
    "                if (Ep < MVthr*1000) {\n",
    "                    Float_t E = ECr*1000.;                                  // keV\n",
    "\n",
    "                    if (isQF==1) E *= QF;\n",
    "                    Double_t Enew = gen.Gaus(E, resol*sqrt(E));\n",
    "                    neut->Fill(Enew);\n",
    "                } // else printf(\"Ep = %f keV\\n\",EMV);\n",
    "            }\n",
    "            \n",
    "            else {\n",
    "                Float_t E = ECr*1000.;                                  // keV\n",
    "\n",
    "                if (isQF==1) E *= QF;\n",
    "                Double_t Enew = gen.Gaus(E, resol*sqrt(E));\n",
    "                neut->Fill(Enew);\n",
    "            }\n",
    "            \n",
    "            npCheck++;\n",
    "            nsCheck=0;\n",
    "            isQF=0;\n",
    "            pk++;\n",
    "        }\n",
    "    }\n",
    "\n",
    "    printf(\" Nb of primary analysed: %d\\n\", npCheck);\n",
    "    printf(\" Nb of events quenched : %d\\n\", nQuenched);\n",
    "    \n",
    "    Double_t Ei = neut->GetBinWidth(1);\n",
    "    neut->Scale(1./(NTime/86400.)/Ei);\n",
    "    return neut;\n",
    "}"
   ]
  },
  {
   "cell_type": "code",
   "execution_count": 7,
   "id": "d33160f3",
   "metadata": {},
   "outputs": [],
   "source": [
    "// Residual histogram\n",
    "TH1D* Residuals(TH1D* histo_data, TF1* Model, Double_t Min, Double_t Max, bool pc = true){\n",
    "    TH1D* hRes = (TH1D*) histo_data->Clone();\n",
    "    double Value_i, E_i, Diff_i, Error_i;\n",
    "    double chi2=0;\n",
    "    for (int i = 1; i<hRes->GetNbinsX(); i++){\n",
    "        Value_i = hRes->GetBinContent(i);\n",
    "        E_i = hRes->GetBinCenter(i);\n",
    "        if (Value_i>0&&E_i>Min&&E_i<Max) {\n",
    "            Diff_i = histo_data->GetBinContent(i)-Model->Eval(E_i);\n",
    "            Error_i = histo_data->GetBinError(i);\n",
    "            if (pc) {\n",
    "                hRes->SetBinContent(i, Diff_i/Value_i*100);\n",
    "                hRes->SetBinError(i, Error_i/Value_i*100);\n",
    "            }\n",
    "            else {\n",
    "                hRes->SetBinContent(i, Diff_i/Error_i);\n",
    "                hRes->SetBinError(i, 1);\n",
    "            }\n",
    "            chi2+=(Diff_i*Diff_i)/(Error_i*Error_i);\n",
    "        }\n",
    "        else hRes->SetBinContent(i, 0);\n",
    "    }\n",
    "\n",
    "    //cout<<\"\\nChi2/ndf = \"<<chi2<<\"/\"<<Model->GetNDF()<<\" = \"<<chi2/Model->GetNDF()<<endl;\n",
    "    hRes->SetLineColor(Model->GetLineColor());\n",
    "    hRes->SetTitle(\"\");\n",
    "    if (pc) hRes->GetYaxis()->SetRangeUser(-100, 100);\n",
    "    else hRes->GetYaxis()->SetRangeUser(-20, 20);\n",
    "    return hRes;\n",
    "}"
   ]
  },
  {
   "cell_type": "code",
   "execution_count": 8,
   "id": "2e1a0200",
   "metadata": {},
   "outputs": [],
   "source": [
    "// Residual histogram\n",
    "std::vector<TH1D*> Residuals_vec(TH1D* histo_data, TF1* Model, Double_t Min, Double_t Max, bool pc = true){\n",
    "    TH1D* hRes = (TH1D*) histo_data->Clone();\n",
    "    TString Title = histo_data->GetTitle();\n",
    "    TH1D* hReducedRes = new TH1D(\"Reduced_res_\"+Title,\"Reduced_res_\"+Title, 50, -10, 10);\n",
    "    \n",
    "    double Value_i, E_i, Diff_i, Error_i;\n",
    "    double chi2=0;\n",
    "    for (int i = 1; i<hRes->GetNbinsX(); i++){\n",
    "        Value_i = hRes->GetBinContent(i);\n",
    "        E_i = hRes->GetBinCenter(i);\n",
    "        if (Value_i>0&&E_i>Min&&E_i<Max) {\n",
    "            Diff_i = histo_data->GetBinContent(i)-Model->Eval(E_i);\n",
    "            Error_i = histo_data->GetBinError(i);\n",
    "            hReducedRes->Fill(Diff_i/Error_i);\n",
    "            if (pc) {\n",
    "                hRes->SetBinContent(i, Diff_i/Value_i*100);\n",
    "                hRes->SetBinError(i, Error_i/Value_i*100);\n",
    "            }\n",
    "            else {\n",
    "                hRes->SetBinContent(i, Diff_i/Error_i);\n",
    "                hRes->SetBinError(i, 1);\n",
    "            }\n",
    "            chi2+=(Diff_i*Diff_i)/(Error_i*Error_i);\n",
    "        }\n",
    "        else {\n",
    "            hRes->SetBinContent(i, 0);\n",
    "            hRes->SetBinError(i, 0);\n",
    "        }\n",
    "    }\n",
    "\n",
    "    //cout<<\"\\nChi2/ndf = \"<<chi2<<\"/\"<<Model->GetNDF()<<\" = \"<<chi2/Model->GetNDF()<<endl;\n",
    "    hRes->SetLineColor(Model->GetLineColor());\n",
    "    hRes->SetTitle(\"\");\n",
    "    \n",
    "    hReducedRes->SetFillColor(Model->GetLineColor());\n",
    "    hReducedRes->SetLineColor(Model->GetLineColor());\n",
    "    hReducedRes->SetTitle(\"\");\n",
    "    \n",
    "    if (pc) hRes->GetYaxis()->SetRangeUser(-100, 100);\n",
    "    else hRes->GetYaxis()->SetRangeUser(-20, 20);\n",
    "    hReducedRes->GetXaxis()->SetRangeUser(-5, 5);\n",
    "    \n",
    "    std::vector<TH1D*> histos;\n",
    "    histos.push_back(hRes);\n",
    "    histos.push_back(hReducedRes);\n",
    "    return histos;\n",
    "}"
   ]
  },
  {
   "cell_type": "code",
   "execution_count": 9,
   "id": "ad3e5d82",
   "metadata": {},
   "outputs": [],
   "source": [
    "TH1D* Put_simu_in_histo_nq(TString filename, TString Title, int nBin, double Emin, double Emax, Double_t NumEv, Double_t Flux, Double_t MVthr=3.){\n",
    "    TFile* Infile = new TFile(filename);\n",
    "    \n",
    "    Float_t ECr, EMV;\n",
    "    TRandom gen(0);\n",
    "    \n",
    "    Double_t Plane_surf = 40.*40.; //cm2\n",
    "    \n",
    "    Double_t Time = NumEv/(Plane_surf*Flux); //s\n",
    "    \n",
    "    TTree *InTree = (TTree*) Infile->Get(\"NTupleAlgoDir/Pri_Ntuple\");\n",
    "    Int_t entries= InTree->GetEntries();\n",
    "    printf(\" Entries:      %10d\\n\",entries);\n",
    "    printf(\" Generated primaries:  %.0f\\n\",NumEv);\n",
    "    printf(\" Equivalent time:      %.0f s (%.3f d)\\n\",Time,Time/86400.);\n",
    "\n",
    "    TH1D *histo = new TH1D(Title,Title,nBin,Emin,Emax);\n",
    "    histo->GetXaxis()->SetTitle(\"Energy [keVee]\");\n",
    "    histo->GetYaxis()->SetTitle(\"Counts.d^{-1}.keVee^{-1}\");\n",
    "\n",
    "    InTree->SetBranchAddress(\"EDep\", &ECr);\n",
    "    InTree->SetBranchAddress(\"EMV0\", &EMV);\n",
    "    for (Int_t pk=0; pk<entries; pk++) {\n",
    "        InTree->GetEntry(pk);\n",
    "        \n",
    "        Float_t Ep = EMV;\n",
    "        \n",
    "        if (Ep>0){\n",
    "            Float_t sp = 0.1008*sqrt(1./Ep*(1.+1./Ep))/2.3548;      // (%)\n",
    "            Ep *= (1. + sp*gen.Gaus())*1000.;\n",
    "            if (Ep < MVthr*1000) continue;\n",
    "        }\n",
    "        \n",
    "        Float_t E = ECr*1000.;                            // keV\n",
    "        Float_t Enew = gen.Gaus(E, 0.084*sqrt(3500)*sqrt(E)); //Neutron peak assumed to be at 3500 keVee\n",
    "        histo->Fill(Enew);\n",
    "    }\n",
    "    Double_t Ei = histo->GetBinWidth(1);\n",
    "    histo->Scale(1./(Time/86400.)/Ei);\n",
    "    \n",
    "    return histo;\n",
    "}"
   ]
  },
  {
   "cell_type": "code",
   "execution_count": 10,
   "id": "2a8e6847",
   "metadata": {},
   "outputs": [],
   "source": [
    "%jsroot off\n",
    "#include <TFitResult.h>"
   ]
  },
  {
   "cell_type": "markdown",
   "id": "5b10e738",
   "metadata": {},
   "source": [
    "# Analysis of the 9 inches sphere"
   ]
  },
  {
   "cell_type": "markdown",
   "id": "0db30306",
   "metadata": {},
   "source": [
    "Load the runs taken in the different locations with the 9inch sphere and the LII(Eu) detector. Those in the VNS, and the Double Chooz Hut (DC Hut) are taken with a muon veto panel in anti-coincidences."
   ]
  },
  {
   "cell_type": "markdown",
   "id": "ec9d754e",
   "metadata": {},
   "source": [
    "## Data"
   ]
  },
  {
   "cell_type": "markdown",
   "id": "ed95fead",
   "metadata": {},
   "source": [
    "### CryoLab"
   ]
  },
  {
   "cell_type": "code",
   "execution_count": 11,
   "id": "d80b2236",
   "metadata": {},
   "outputs": [
    {
     "name": "stdout",
     "output_type": "stream",
     "text": [
      "\n",
      "*******************************************************\n",
      "Measures@TUM/02-21_BkgSpektrum_CryoLab_BS-EXT_72h.dat\n"
     ]
    }
   ],
   "source": [
    "TH1D* h_CryoLab_9inch = Put_data_in_histo(\"Measures@TUM/02-21_BkgSpektrum_CryoLab_BS-EXT_72h.dat\", 72*3600, \"BS-EXT at Cryolab atm neutrons\");\n",
    "h_CryoLab_9inch->Rebin(4);\n",
    "h_CryoLab_9inch->Scale(1/4.);"
   ]
  },
  {
   "cell_type": "code",
   "execution_count": 12,
   "id": "4498793e",
   "metadata": {},
   "outputs": [
    {
     "name": "stdout",
     "output_type": "stream",
     "text": [
      "\n",
      "*******************************************************\n",
      "Measures@TUM/03-28_BkgSpektrum_CryoLab_BS-EXT_19h.dat\n"
     ]
    }
   ],
   "source": [
    "TH1D* h_CryoLab_9inch_MV = Put_data_in_histo(\"Measures@TUM/03-28_BkgSpektrum_CryoLab_BS-EXT_19h.dat\", 19*3600, \"BS-EXT at Cryolab atm neutrons with MV\");\n",
    "h_CryoLab_9inch_MV->Rebin(4);\n",
    "h_CryoLab_9inch_MV->Scale(1/4.);"
   ]
  },
  {
   "cell_type": "markdown",
   "id": "9f017ae4",
   "metadata": {},
   "source": [
    "### CrystalLab"
   ]
  },
  {
   "cell_type": "code",
   "execution_count": 13,
   "id": "66bcaf7c",
   "metadata": {},
   "outputs": [
    {
     "name": "stdout",
     "output_type": "stream",
     "text": [
      "\n",
      "*******************************************************\n",
      "Measures@TUM/03-03_BkgSpektrum_CrystalLab_BS-EXT_141h.dat\n"
     ]
    }
   ],
   "source": [
    "TH1D* h_Crystal_9inch = Put_data_in_histo(\"Measures@TUM/03-03_BkgSpektrum_CrystalLab_BS-EXT_141h.dat\", 141*3600, \"9inch at CrystalLab atm neutrons\");\n",
    "h_Crystal_9inch->Rebin(4);\n",
    "h_Crystal_9inch->Scale(1/4.);"
   ]
  },
  {
   "cell_type": "markdown",
   "id": "4fe546bf",
   "metadata": {},
   "source": [
    "### VNS "
   ]
  },
  {
   "cell_type": "code",
   "execution_count": 14,
   "id": "82122fdb",
   "metadata": {},
   "outputs": [
    {
     "name": "stdout",
     "output_type": "stream",
     "text": [
      "\n",
      "*******************************************************\n",
      "Measures@VNS/2022-04-27_BS-EXT_RT_1122274.88_LV_1121904.17.dat\n",
      "\n",
      "*******************************************************\n",
      "Measures@VNS/2022-06-07_BS-EXT_RT_1140078.50_LV_1139756.64.dat\n",
      "\n",
      "*******************************************************\n",
      "Measures@VNS/2022-07-19_BS-EXT_RT_2242568.15_LV_2241965.42.dat\n"
     ]
    }
   ],
   "source": [
    "TH1D* h_VNS_9inch_1 = Put_data_in_histo(\"Measures@VNS/2022-04-27_BS-EXT_RT_1122274.88_LV_1121904.17.dat\", 1122274., \"9inch at VNS - 1\");\n",
    "h_VNS_9inch_1->Rebin(4);\n",
    "h_VNS_9inch_1->Scale(1/4.);\n",
    "\n",
    "TH1D* h_VNS_9inch_2 = Put_data_in_histo(\"Measures@VNS/2022-06-07_BS-EXT_RT_1140078.50_LV_1139756.64.dat\", 1140078, \"9inch at VNS - 2\");\n",
    "h_VNS_9inch_2->Rebin(4);\n",
    "h_VNS_9inch_2->Scale(1/4.);\n",
    "\n",
    "TH1D* h_VNS_9inch_3 = Put_data_in_histo(\"Measures@VNS/2022-07-19_BS-EXT_RT_2242568.15_LV_2241965.42.dat\", 2242568, \"9inch at VNS - 3\");\n",
    "h_VNS_9inch_3->Rebin(4);\n",
    "h_VNS_9inch_3->Scale(1/4.);"
   ]
  },
  {
   "cell_type": "code",
   "execution_count": 15,
   "id": "0f0c63c8",
   "metadata": {},
   "outputs": [],
   "source": [
    "TH1D* h_VNS_9inch_sum = (TH1D*) h_VNS_9inch_1->Clone();\n",
    "h_VNS_9inch_sum->Add(h_VNS_9inch_sum, h_VNS_9inch_2, 1/3., 1/3.); \n",
    "h_VNS_9inch_sum->Add(h_VNS_9inch_sum, h_VNS_9inch_3, 1, 1/3.);\n",
    "h_VNS_9inch_sum->SetTitle(\"9inch at VNS - sum\");"
   ]
  },
  {
   "cell_type": "markdown",
   "id": "320c56df",
   "metadata": {},
   "source": [
    "The 3 runs taken in the VNS are sumed, without any shift or recalibration, we are considering that the gain didn't change during the whole period of data taking. Here the 3 spectra and the sum are superimposed to check the stability of the measurements."
   ]
  },
  {
   "cell_type": "code",
   "execution_count": 16,
   "id": "506d0831",
   "metadata": {},
   "outputs": [
    {
     "data": {
      "image/png": "[encoded data removed]",
      "text/plain": [
       "<IPython.core.display.Image object>"
      ]
     },
     "metadata": {},
     "output_type": "display_data"
    }
   ],
   "source": [
    "TCanvas* C3 = new TCanvas();\n",
    "C3->Draw();\n",
    "C3->SetLogy();\n",
    "//h_CryoLab_8inch->GetYaxis()->SetRangeUser(0, 500);\n",
    "h_VNS_9inch_1->SetLineColor(kRed);\n",
    "h_VNS_9inch_1->Draw(\"\");\n",
    "h_VNS_9inch_2->SetLineColor(kBlue);\n",
    "h_VNS_9inch_2->Draw(\"Same\");\n",
    "h_VNS_9inch_3->SetLineColor(kGreen);\n",
    "h_VNS_9inch_3->Draw(\"Same\");\n",
    "h_VNS_9inch_sum->SetLineColor(kBlack);\n",
    "h_VNS_9inch_sum->Draw(\"SAME\");\n",
    "gStyle->SetOptStat(0);\n",
    "TLegend* leg = new TLegend(0.8, 0.8);\n",
    "leg->AddEntry(h_VNS_9inch_1, \"1\");\n",
    "leg->AddEntry(h_VNS_9inch_2, \"2\");\n",
    "leg->AddEntry(h_VNS_9inch_3, \"3\");\n",
    "leg->AddEntry(h_VNS_9inch_sum, \"sum\");\n",
    "leg->Draw(\"same\");"
   ]
  },
  {
   "cell_type": "markdown",
   "id": "6042535e",
   "metadata": {},
   "source": [
    "### DCHut"
   ]
  },
  {
   "cell_type": "markdown",
   "id": "91541501",
   "metadata": {},
   "source": [
    "The two runs taken in the DCHut are sumed. No shift, no calibration."
   ]
  },
  {
   "cell_type": "code",
   "execution_count": 17,
   "id": "5071c8a5",
   "metadata": {},
   "outputs": [
    {
     "name": "stdout",
     "output_type": "stream",
     "text": [
      "\n",
      "*******************************************************\n",
      "Measures@DCHut/2022-08-25_BS-EXT_RT_1282905.28_LV_1282579.20.dat\n",
      "\n",
      "*******************************************************\n",
      "Measures@DCHut/2022-10-04_BS-EXT_RT_1748999.66_LV_1748473.16.dat\n"
     ]
    }
   ],
   "source": [
    "TH1D* h_DC_9inch_1 = Put_data_in_histo(\"Measures@DCHut/2022-08-25_BS-EXT_RT_1282905.28_LV_1282579.20.dat\", 1282579., \"9inch at DChut - 1\");\n",
    "h_DC_9inch_1->Rebin(4);\n",
    "h_DC_9inch_1->Scale(1/4.);\n",
    "\n",
    "TH1D* h_DC_9inch_2 = Put_data_in_histo(\"Measures@DCHut/2022-10-04_BS-EXT_RT_1748999.66_LV_1748473.16.dat\", 1748473., \"9inch at DChut - 2\");\n",
    "h_DC_9inch_2->Rebin(4);\n",
    "h_DC_9inch_2->Scale(1/4.);"
   ]
  },
  {
   "cell_type": "code",
   "execution_count": 18,
   "id": "de010ef0",
   "metadata": {},
   "outputs": [],
   "source": [
    "TH1D* h_DC_9inch_sum = (TH1D*) h_DC_9inch_1->Clone();\n",
    "h_DC_9inch_sum->Add(h_DC_9inch_sum, h_DC_9inch_2, 1/2., 1/2.); \n",
    "h_DC_9inch_sum->SetTitle(\"9inch at DCHut - sum\");"
   ]
  },
  {
   "cell_type": "code",
   "execution_count": 19,
   "id": "463fbb5c",
   "metadata": {},
   "outputs": [
    {
     "data": {
      "image/png": "[encoded data removed]",
      "text/plain": [
       "<IPython.core.display.Image object>"
      ]
     },
     "metadata": {},
     "output_type": "display_data"
    }
   ],
   "source": [
    "TCanvas* C4 = new TCanvas();\n",
    "C4->Draw();\n",
    "C4->SetLogy();\n",
    "h_DC_9inch_1->Draw();\n",
    "h_DC_9inch_2->SetLineColor(kRed);\n",
    "h_DC_9inch_2->Draw(\"SAME\");\n",
    "h_DC_9inch_sum->SetLineColor(kBlack);\n",
    "h_DC_9inch_sum->Draw(\"SAME\");\n",
    "\n",
    "gStyle->SetOptStat(0);\n",
    "TLegend* leg = new TLegend(0.9, 0.9);\n",
    "leg->AddEntry(h_DC_9inch_1, \"1\");\n",
    "leg->AddEntry(h_DC_9inch_2, \"2\");\n",
    "leg->AddEntry(h_DC_9inch_sum, \"sum\");\n",
    "leg->Draw(\"same\");"
   ]
  },
  {
   "cell_type": "markdown",
   "id": "a98bfe21",
   "metadata": {},
   "source": [
    "### Cf run"
   ]
  },
  {
   "cell_type": "code",
   "execution_count": 20,
   "id": "0d3fc4de",
   "metadata": {},
   "outputs": [
    {
     "name": "stdout",
     "output_type": "stream",
     "text": [
      "\n",
      "*******************************************************\n",
      "Measures@TUM/03-14_Cf252_LMU_BS-EXT_3h.dat\n"
     ]
    }
   ],
   "source": [
    "TH1D* h_Cal_9inch = Put_data_in_histo(\"Measures@TUM/03-14_Cf252_LMU_BS-EXT_3h.dat\", 3*24*3600., \"9inch with Cf252 n source\");\n",
    "h_Cal_9inch->Rebin(4);\n",
    "h_Cal_9inch->Scale(1/4.);"
   ]
  },
  {
   "cell_type": "markdown",
   "id": "764b96d1",
   "metadata": {},
   "source": [
    "## Calibration"
   ]
  },
  {
   "cell_type": "code",
   "execution_count": 21,
   "id": "26403524",
   "metadata": {
    "scrolled": true
   },
   "outputs": [
    {
     "name": "stdout",
     "output_type": "stream",
     "text": [
      "The calibration slope is MCA = 9xE + 3.3\n"
     ]
    }
   ],
   "source": [
    "// from BS_Calibration\n",
    "\n",
    "double Offset = 3.3;\n",
    "double Gain = 9.0;\n",
    "\n",
    "cout<<\"The calibration slope is MCA = \"<<Gain<<\"xE + \"<<Offset<<endl;\n",
    "\n",
    "double Resol = 4.;"
   ]
  },
  {
   "cell_type": "code",
   "execution_count": 22,
   "id": "11c73d27",
   "metadata": {},
   "outputs": [],
   "source": [
    "TH1D* Calibrate_histo(TH1D* histo, Double_t CalibVal, TString NewTitle, Double_t Offset=0){\n",
    "    Int_t NBins = histo->GetNbinsX();\n",
    "    Int_t MCA_min = histo->GetBinCenter(1);\n",
    "    Int_t MCA_max = histo->GetBinCenter(NBins);\n",
    "    \n",
    "    TH1D* Calib_histo = new TH1D(NewTitle, Form(\"%s_keVee\", histo->GetTitle()), NBins, (MCA_min-Offset)*CalibVal, (MCA_max-Offset)*CalibVal);\n",
    "    Int_t MCA_i;\n",
    "    Double_t E_cal, MCA_i_content, MCA_i_Error;\n",
    "    for(int i=0; i<NBins; i++){\n",
    "        MCA_i = histo->GetBinCenter(i);\n",
    "        MCA_i_content = histo->GetBinContent(i)*histo->GetBinWidth(i);\n",
    "        MCA_i_Error = histo->GetBinError(i)*histo->GetBinWidth(i);\n",
    "        E_cal = (MCA_i-Offset)*CalibVal;\n",
    "        int Bin_Ecal = Calib_histo->FindBin(E_cal);\n",
    "        Double_t prev_val_Ecal = Calib_histo->GetBinContent(Bin_Ecal);\n",
    "        Double_t prev_err_Ecal = Calib_histo->GetBinError(Bin_Ecal);\n",
    "        Calib_histo->SetBinContent(Bin_Ecal, prev_val_Ecal+MCA_i_content/Calib_histo->GetBinWidth(i));\n",
    "        Calib_histo->SetBinError(Bin_Ecal, sqrt(prev_err_Ecal*prev_err_Ecal+(MCA_i_Error/Calib_histo->GetBinWidth(i))*(MCA_i_Error/Calib_histo->GetBinWidth(i))));\n",
    "    }\n",
    "    Calib_histo->GetXaxis()->SetTitle(\"Calibrated Energy [keVee]\");\n",
    "    Calib_histo->GetYaxis()->SetTitle(\"Differential rate (ev.d^{-1}.keVee^{-1})\");\n",
    "\n",
    "    return Calib_histo;\n",
    "}"
   ]
  },
  {
   "cell_type": "code",
   "execution_count": 23,
   "id": "065b0590",
   "metadata": {},
   "outputs": [],
   "source": [
    "//Cryolab\n",
    "TH1D* hCal_CryoLab_9inch = Calibrate_histo(h_CryoLab_9inch, Gain, Form(\"%s_keVee\", h_CryoLab_9inch->GetTitle()), Offset);\n",
    "TH1D* hCal_CryoLab_9inch_MV = Calibrate_histo(h_CryoLab_9inch_MV, Gain, Form(\"%s_keVee\", h_CryoLab_9inch_MV->GetTitle()), Offset);"
   ]
  },
  {
   "cell_type": "code",
   "execution_count": 24,
   "id": "3497e2c9",
   "metadata": {},
   "outputs": [],
   "source": [
    "//Crystal Lab\n",
    "TH1D* hCal_Crystal_9inch = Calibrate_histo(h_Crystal_9inch, Gain, Form(\"%s_keVee\", h_Crystal_9inch->GetTitle()), Offset);"
   ]
  },
  {
   "cell_type": "code",
   "execution_count": 25,
   "id": "71fd6bb7",
   "metadata": {},
   "outputs": [],
   "source": [
    "//VNS\n",
    "TH1D* hCal_VNS_9inch = Calibrate_histo(h_VNS_9inch_sum, Gain, Form(\"%s_keVee\", h_VNS_9inch_sum->GetTitle()), Offset);"
   ]
  },
  {
   "cell_type": "code",
   "execution_count": 26,
   "id": "e7663480",
   "metadata": {},
   "outputs": [],
   "source": [
    "//DCHut\n",
    "TH1D* hCal_DC_9inch = Calibrate_histo(h_DC_9inch_sum, Gain, Form(\"%s_keVee\", h_DC_9inch_sum->GetTitle()), Offset);"
   ]
  },
  {
   "cell_type": "code",
   "execution_count": 27,
   "id": "46b06ad4",
   "metadata": {},
   "outputs": [
    {
     "name": "stdout",
     "output_type": "stream",
     "text": [
      "\n",
      "*******************************************************\n",
      "Measures@Saclay/2022-11-08_BS-A-06_RT_777.23_LV_776.57_Cf252.dat\n"
     ]
    }
   ],
   "source": [
    "//Cf\n",
    "TH1D* h_Cf_Saclay_8inch = Put_data_in_histo(\"Measures@Saclay/2022-11-08_BS-A-06_RT_777.23_LV_776.57_Cf252.dat\", 777.23, \"8inch with Cf252 n source\");\n",
    "h_Cf_Saclay_8inch->Rebin(4);\n",
    "h_Cf_Saclay_8inch->Scale(1/4.);"
   ]
  },
  {
   "cell_type": "markdown",
   "id": "b28ee381",
   "metadata": {},
   "source": [
    "## Quenching Factor"
   ]
  },
  {
   "cell_type": "markdown",
   "id": "21a9c452",
   "metadata": {},
   "source": [
    "The simulation of atmospheric neutrons (unquenched) is used to determine the true energy deposition in the crystal. The quenching factor will be calculated from the ratio of the postion of the peak in the calibrated data and the true energy deposition obtianed from the simulation"
   ]
  },
  {
   "cell_type": "code",
   "execution_count": 28,
   "id": "a635c223",
   "metadata": {
    "scrolled": true
   },
   "outputs": [
    {
     "name": "stdout",
     "output_type": "stream",
     "text": [
      " Entries:          385573\n",
      " Generated primaries:  1500000000\n",
      " Equivalent time:      69962687 s (809.753 d)\n"
     ]
    }
   ],
   "source": [
    "TH1D* h_SimuNeutrons_9inch_nq = Put_simu_in_histo_nq(\"Simulations/Atm_Neutr/BS_D09/Analyzer_T_run01-15.root\", \"9 inches - atmospheric neutrons (with MV)\", 512, 0, 8000, 1.50e9, 0.0134, MVthr_DC);"
   ]
  },
  {
   "cell_type": "code",
   "execution_count": 29,
   "id": "6c301cef",
   "metadata": {},
   "outputs": [
    {
     "data": {
      "image/png": "[encoded data removed]",
      "text/plain": [
       "<IPython.core.display.Image object>"
      ]
     },
     "metadata": {},
     "output_type": "display_data"
    },
    {
     "name": "stdout",
     "output_type": "stream",
     "text": [
      " FCN=130.661 FROM MIGRAD    STATUS=CONVERGED     115 CALLS         116 TOTAL\n",
      "                     EDM=4.02145e-07    STRATEGY= 1      ERROR MATRIX ACCURATE \n",
      "  EXT PARAMETER                                   STEP         FIRST   \n",
      "  NO.   NAME      VALUE            ERROR          SIZE      DERIVATIVE \n",
      "   1  Amplitude [Counts/E]   4.42579e-01   1.00330e-03   4.46685e-06   5.53075e-02\n",
      "   2  #mu [keV]    4.78420e+03   6.58904e-01   3.64280e-03  -9.55400e-04\n",
      "   3  #sigma [keV]   3.47266e+02   5.19263e-01   2.28827e-03  -1.36750e-03\n"
     ]
    }
   ],
   "source": [
    "TCanvas* C8 = new TCanvas();\n",
    "C8->Draw();\n",
    "C8->SetLogy();\n",
    "\n",
    "TF1* Neutron_peak_Gaus_E = new TF1(\"Neutron_peak_Gaus_E\", \"[0]*TMath::Gaus(x, [1], [2])\", 1000, 6000); //Gaussian function to fit the neutron peak\n",
    "Neutron_peak_Gaus_E->SetParNames(\"Amplitude [Counts/E]\", \"#mu [keV]\", \"#sigma [keV]\");\n",
    "Neutron_peak_Gaus_E->SetParameter(0, 0.1);\n",
    "Neutron_peak_Gaus_E->SetParameter(1, 5000);\n",
    "Neutron_peak_Gaus_E->SetParameter(2, 500);\n",
    "\n",
    "h_SimuNeutrons_9inch_nq->Fit(\"Neutron_peak_Gaus_E\", \"R\", \"\",  4000, 6000);\n",
    "h_SimuNeutrons_9inch_nq->Draw();\n",
    "\n",
    "double E_NP_nq = Neutron_peak_Gaus_E->GetParameter(1);  "
   ]
  },
  {
   "cell_type": "markdown",
   "id": "5041104d",
   "metadata": {},
   "source": [
    "### Peak position from neutron calibration run with Cf"
   ]
  },
  {
   "cell_type": "markdown",
   "id": "2dac51e1",
   "metadata": {},
   "source": [
    "In order to calibrate the data, the peak position from the source run performed at TUM is fittted to obtain a calibration factor."
   ]
  },
  {
   "cell_type": "code",
   "execution_count": 30,
   "id": "80a75ac3",
   "metadata": {},
   "outputs": [
    {
     "data": {
      "image/png": "[encoded data removed]",
      "text/plain": [
       "<IPython.core.display.Image object>"
      ]
     },
     "metadata": {},
     "output_type": "display_data"
    }
   ],
   "source": [
    "//Cf\n",
    "TCanvas* C8 = new TCanvas();\n",
    "C8->Draw();\n",
    "C8->SetLogy();\n",
    "\n",
    "//h_Cal_9inch->Draw();\n",
    "TH1D* hCal_Cf_9inch = Calibrate_histo(h_Cal_9inch, Gain, Form(\"%s_keVee\", h_Cal_9inch->GetTitle()), Offset);\n",
    "hCal_Cf_9inch->Draw();"
   ]
  },
  {
   "cell_type": "code",
   "execution_count": 31,
   "id": "404777c7",
   "metadata": {},
   "outputs": [
    {
     "name": "stdout",
     "output_type": "stream",
     "text": [
      " FCN=60.7266 FROM MIGRAD    STATUS=CONVERGED     107 CALLS         108 TOTAL\n",
      "                     EDM=1.30412e-09    STRATEGY= 1      ERROR MATRIX ACCURATE \n",
      "  EXT PARAMETER                                   STEP         FIRST   \n",
      "  NO.   NAME      VALUE            ERROR          SIZE      DERIVATIVE \n",
      "   1  Amplitude [Counts/E]   7.56732e-01   2.58439e-02   7.97734e-05  -7.46184e-04\n",
      "   2  #mu [keV]    2.90316e+03   6.44441e+00   2.45954e-02   2.26232e-06\n",
      "   3  #sigma [keV]   2.32796e+02   4.74030e+00   1.45836e-02  -1.19037e-05\n"
     ]
    }
   ],
   "source": [
    "Neutron_peak_Gaus_E->SetParameter(0, 1.);\n",
    "Neutron_peak_Gaus_E->SetParameter(1, 3000);\n",
    "Neutron_peak_Gaus_E->SetParameter(2, 500);\n",
    "\n",
    "hCal_Cf_9inch->Fit(\"Neutron_peak_Gaus_E\", \"R\", \"\", 2000, 5000);\n",
    "double E_NP_q = Neutron_peak_Gaus_E->GetParameter(1);  \n",
    "double Resol_NP = Neutron_peak_Gaus_E->GetParameter(2);  "
   ]
  },
  {
   "cell_type": "code",
   "execution_count": 32,
   "id": "73c79f28",
   "metadata": {},
   "outputs": [
    {
     "data": {
      "image/png": "[encoded data removed]",
      "text/plain": [
       "<IPython.core.display.Image object>"
      ]
     },
     "metadata": {},
     "output_type": "display_data"
    }
   ],
   "source": [
    "TCanvas* C8 = new TCanvas();\n",
    "C8->Draw();\n",
    "C8->SetLogy();\n",
    "hCal_Cf_9inch->Draw();"
   ]
  },
  {
   "cell_type": "code",
   "execution_count": 33,
   "id": "ae334ae6",
   "metadata": {},
   "outputs": [
    {
     "data": {
      "image/png": "[encoded data removed]",
      "text/plain": [
       "<IPython.core.display.Image object>"
      ]
     },
     "metadata": {},
     "output_type": "display_data"
    },
    {
     "name": "stdout",
     "output_type": "stream",
     "text": [
      " FCN=66.6138 FROM MIGRAD    STATUS=CONVERGED     205 CALLS         206 TOTAL\n",
      "                     EDM=3.94935e-09    STRATEGY= 1      ERROR MATRIX ACCURATE \n",
      "  EXT PARAMETER                                   STEP         FIRST   \n",
      "  NO.   NAME      VALUE            ERROR          SIZE      DERIVATIVE \n",
      "   1  Amplitude [Counts/E]   5.14689e+02   1.26160e+01   3.93657e-02  -2.32423e-06\n",
      "   2  #mu [keV]    2.98566e+03   4.67768e+00   1.82715e-02  -1.12576e-05\n",
      "   3  #sigma [keV]   2.37683e+02   3.69878e+00   1.13536e-02   1.03449e-05\n"
     ]
    }
   ],
   "source": [
    "TH1D* hCal_CfSaclay_9inch = Calibrate_histo(h_Cf_Saclay_8inch, Gain, Form(\"%s_keVee\", h_Cf_Saclay_8inch->GetTitle()), Offset);\n",
    "\n",
    "hCal_CfSaclay_9inch->Fit(\"Neutron_peak_Gaus_E\", \"R\", \"\", 2000, 5000);\n",
    "\n",
    "TCanvas* C8 = new TCanvas();\n",
    "C8->Draw();\n",
    "C8->SetLogy();\n",
    "hCal_CfSaclay_9inch->Draw();\n",
    "\n",
    "double E_NP_q = Neutron_peak_Gaus_E->GetParameter(1);  \n",
    "double Resol_NP = Neutron_peak_Gaus_E->GetParameter(2);  "
   ]
  },
  {
   "cell_type": "code",
   "execution_count": 34,
   "id": "1ced5549",
   "metadata": {},
   "outputs": [],
   "source": [
    "double QF_neutrons = E_NP_q/E_NP_nq;"
   ]
  },
  {
   "cell_type": "code",
   "execution_count": 35,
   "id": "b081ec59-570a-46a9-ba7a-ff3afe5e4624",
   "metadata": {},
   "outputs": [
    {
     "name": "stdout",
     "output_type": "stream",
     "text": [
      "(double) 0.62406669\n"
     ]
    }
   ],
   "source": [
    "QF_neutrons"
   ]
  },
  {
   "cell_type": "code",
   "execution_count": 36,
   "id": "b1e501bf",
   "metadata": {},
   "outputs": [
    {
     "name": "stdout",
     "output_type": "stream",
     "text": [
      "(double) 0.0014780600\n"
     ]
    }
   ],
   "source": [
    "sqrt((4.68*4.68)/(E_NP_nq*E_NP_nq)+(6.44*6.44)/(E_NP_q*E_NP_q))*QF_neutrons"
   ]
  },
  {
   "cell_type": "markdown",
   "id": "ea77b7b4",
   "metadata": {},
   "source": [
    "## Simulation results"
   ]
  },
  {
   "cell_type": "markdown",
   "id": "a8cd23e9",
   "metadata": {},
   "source": [
    "Load the simulations of ambient gammas, atmospheric muons and neutrons with the 9inch sphere, performed by Fabio. Analyzed with the Ntuple algo. The corresponding histograms are calculated from Fabio's method in BS_BkgModel.C : the Muon veto panel is taken into account with a 3 MeV cut. The quenching factor for neutron energy deposition is calculated in order to have a neutron capture peak at 3.5 MeVee. An arbitrary resolution is applied bu will not be considered for the fitting procedure."
   ]
  },
  {
   "cell_type": "markdown",
   "id": "7c0c8cb7",
   "metadata": {},
   "source": [
    "### Gammas"
   ]
  },
  {
   "cell_type": "code",
   "execution_count": 37,
   "id": "879755ae",
   "metadata": {
    "scrolled": true
   },
   "outputs": [
    {
     "name": "stdout",
     "output_type": "stream",
     "text": [
      "  Primary Entries:          158126\n",
      "  Secondary Entries:        163150\n",
      "  Generated primaries:  12000000000\n",
      "  Equivalent time:      2272727 s (26.305 d)\n",
      " Nb of primary analysed: 158126\n",
      " Nb of events quenched : 0\n"
     ]
    }
   ],
   "source": [
    "int nbins = hCal_DC_9inch->GetNbinsX();\n",
    "double hEmin = hCal_DC_9inch->GetBinLowEdge(1);\n",
    "double hEmax = hCal_DC_9inch->GetBinLowEdge(nbins)+hCal_DC_9inch->GetBinWidth(nbins);\n",
    "TH1D* h_SimuGamma_9inch = Put_simu_in_histo(\"Simulations/Env_Gammas/BS_D09/Analyzer_T_run01-09.root\", \"9 inches environmental gammas\", nbins, hEmin, hEmax, 1.20e10, 3.3, QF_neutrons, MVthr_DC, false, Resol);"
   ]
  },
  {
   "cell_type": "markdown",
   "id": "b4ae69a1",
   "metadata": {},
   "source": [
    "### Muons"
   ]
  },
  {
   "cell_type": "markdown",
   "id": "89b978f8",
   "metadata": {},
   "source": [
    "With secondary neutrons quenched"
   ]
  },
  {
   "cell_type": "code",
   "execution_count": 38,
   "id": "f280b695",
   "metadata": {
    "scrolled": true
   },
   "outputs": [
    {
     "name": "stdout",
     "output_type": "stream",
     "text": [
      "  Primary Entries:          400797\n",
      "  Secondary Entries:        468366\n",
      "  Generated primaries:  56000000\n",
      "  Equivalent time:      1842105 s (21.321 d)\n",
      " Nb of primary analysed: 400797\n",
      " Nb of events quenched : 1124\n"
     ]
    }
   ],
   "source": [
    "TH1D* h_SimuMuons_9inch_DC = Put_simu_in_histo(\"Simulations/Atm_Muons/BS_D09/Analyzer_T_run01-09.root\", Form(\"9 inches - atmospheric muons (with MV %0.f MeV thr)\", MVthr_DC), nbins, hEmin, hEmax, 5.6e7, 0.019, QF_neutrons, MVthr_DC, true, Resol);"
   ]
  },
  {
   "cell_type": "code",
   "execution_count": 39,
   "id": "4c3c9cb3",
   "metadata": {},
   "outputs": [
    {
     "name": "stdout",
     "output_type": "stream",
     "text": [
      "  Primary Entries:          400797\n",
      "  Secondary Entries:        468366\n",
      "  Generated primaries:  56000000\n",
      "  Equivalent time:      1842105 s (21.321 d)\n",
      " Nb of primary analysed: 400797\n",
      " Nb of events quenched : 1124\n"
     ]
    }
   ],
   "source": [
    "TH1D* h_SimuMuons_9inch_VNS = Put_simu_in_histo(\"Simulations/Atm_Muons/BS_D09/Analyzer_T_run01-09.root\", Form(\"9 inches - atmospheric muons (with MV %0.f MeV thr)\", MVthr_VNS), nbins, hEmin, hEmax, 5.6e7, 0.019, QF_neutrons, MVthr_VNS, true, Resol);"
   ]
  },
  {
   "cell_type": "code",
   "execution_count": 40,
   "id": "0987a9be",
   "metadata": {},
   "outputs": [
    {
     "data": {
      "image/png": "[encoded data removed]",
      "text/plain": [
       "<IPython.core.display.Image object>"
      ]
     },
     "metadata": {},
     "output_type": "display_data"
    },
    {
     "name": "stdout",
     "output_type": "stream",
     "text": [
      "  Primary Entries:          400797\n",
      "  Secondary Entries:        468366\n",
      "  Generated primaries:  720000000\n",
      "  Equivalent time:      23684211 s (274.123 d)\n",
      " Nb of primary analysed: 400797\n",
      " Nb of events quenched : 1124\n",
      " FCN=56.2747 FROM MIGRAD    STATUS=CONVERGED     123 CALLS         124 TOTAL\n",
      "                     EDM=8.66678e-08    STRATEGY= 1      ERROR MATRIX ACCURATE \n",
      "  EXT PARAMETER                                   STEP         FIRST   \n",
      "  NO.   NAME      VALUE            ERROR          SIZE      DERIVATIVE \n",
      "   1  Constant     1.17717e+00   7.87536e-03   1.93790e-05  -5.75324e-02\n",
      "   2  MPV          1.42600e+03   3.28402e+00   1.17898e-02  -1.09095e-04\n",
      "   3  Sigma        2.41782e+02   2.83214e+00   8.36125e-06  -1.11485e-01\n",
      "  Primary Entries:          400797\n",
      "  Secondary Entries:        468366\n",
      "  Generated primaries:  720000000\n",
      "  Equivalent time:      23684211 s (274.123 d)\n",
      " Nb of primary analysed: 400797\n",
      " Nb of events quenched : 1124\n",
      "  Primary Entries:          400797\n",
      "  Secondary Entries:        468366\n",
      "  Generated primaries:  720000000\n",
      "  Equivalent time:      23684211 s (274.123 d)\n",
      " Nb of primary analysed: 400797\n",
      " Nb of events quenched : 1124\n",
      " FCN=64.4851 FROM MIGRAD    STATUS=CONVERGED     123 CALLS         124 TOTAL\n",
      "                     EDM=1.58579e-10    STRATEGY= 1      ERROR MATRIX ACCURATE \n",
      "  EXT PARAMETER                                   STEP         FIRST   \n",
      "  NO.   NAME      VALUE            ERROR          SIZE      DERIVATIVE \n",
      "   1  Constant     2.87104e+00   1.26159e-02   3.32184e-05   1.67705e-03\n",
      "   2  MPV          1.08320e+03   2.37981e+00   8.41763e-03  -2.09074e-06\n",
      "   3  Sigma        2.26333e+02   1.76154e+00   5.51688e-06   5.10885e-03\n",
      "  Primary Entries:          400797\n",
      "  Secondary Entries:        468366\n",
      "  Generated primaries:  720000000\n",
      "  Equivalent time:      23684211 s (274.123 d)\n",
      " Nb of primary analysed: 400797\n",
      " Nb of events quenched : 1124\n",
      " FCN=56.0977 FROM MIGRAD    STATUS=CONVERGED     130 CALLS         131 TOTAL\n",
      "                     EDM=2.56839e-08    STRATEGY= 1      ERROR MATRIX ACCURATE \n",
      "  EXT PARAMETER                                   STEP         FIRST   \n",
      "  NO.   NAME      VALUE            ERROR          SIZE      DERIVATIVE \n",
      "   1  Constant     5.87482e+00   2.02121e-02   4.89519e-05   1.61214e-02\n",
      "   2  MPV          1.05162e+03   1.08905e+00   3.89599e-03  -1.98538e-05\n",
      "   3  Sigma        1.67153e+02   8.10002e-01   2.99191e-06   1.98779e-01\n",
      "  Primary Entries:          240852\n",
      "  Secondary Entries:        282058\n",
      "  Generated primaries:  500000000\n",
      "  Equivalent time:      16447368 s (190.363 d)\n",
      " Nb of primary analysed: 240852\n",
      " Nb of events quenched : 795\n",
      " FCN=52.2545 FROM MIGRAD    STATUS=CONVERGED     127 CALLS         128 TOTAL\n",
      "                     EDM=1.42959e-06    STRATEGY= 1      ERROR MATRIX ACCURATE \n",
      "  EXT PARAMETER                                   STEP         FIRST   \n",
      "  NO.   NAME      VALUE            ERROR          SIZE      DERIVATIVE \n",
      "   1  Constant     4.24854e+00   1.95017e-02   4.52753e-05  -8.53596e-02\n",
      "   2  MPV          1.10248e+03   1.78983e+00   6.21970e-03   2.05064e-04\n",
      "   3  Sigma        2.07283e+02   1.57032e+00   4.96574e-06  -5.34791e-02\n"
     ]
    }
   ],
   "source": [
    "TH1D* h_SimuMuons_9inch_1MeV = Put_simu_in_histo(\"Simulations/Atm_Muons/BS_D09/Analyzer_T_run01-09.root\", \"9 inches - atmospheric muons (with MV 1 MeV thr)\", nbins, hEmin, hEmax, 7.20e8, 0.019, QF_neutrons, 1., true, Resol);\n",
    "h_SimuMuons_9inch_1MeV->Fit(\"landau\", \"R0\", \"\", 1100, 2300);\n",
    "\n",
    "TH1D* h_SimuMuons_9inch_5MeV = Put_simu_in_histo(\"Simulations/Atm_Muons/BS_D09/Analyzer_T_run01-09.root\", \"9 inches - atmospheric muons (with MV 5 MeV thr)\", nbins, hEmin, hEmax, 7.20e8, 0.019, QF_neutrons, 5., true, Resol);\n",
    "\n",
    "TH1D* h_SimuMuons_9inch_7MeV = Put_simu_in_histo(\"Simulations/Atm_Muons/BS_D09/Analyzer_T_run01-09.root\", \"9 inches - atmospheric muons (with MV 7 MeV thr)\", nbins, hEmin, hEmax, 7.20e8, 0.019, QF_neutrons, 7., true, Resol);\n",
    "h_SimuMuons_9inch_7MeV->Fit(\"landau\", \"R0\", \"\", 800, 2000);\n",
    "\n",
    "TH1D* h_SimuMuons_9inch_noMV = Put_simu_in_histo(\"Simulations/Atm_Muons/BS_D09/Analyzer_T_run01-09.root\", \"9 inches - atmospheric muons (without MV)\", nbins, hEmin, hEmax, 7.20e8, 0.019, QF_neutrons, 10., true, Resol);\n",
    "h_SimuMuons_9inch_noMV->Fit(\"landau\", \"R0\", \"\", 800, 1900);\n",
    "\n",
    "TH1D* h_SimuMuons_9inch45deg_noMV = Put_simu_in_histo(\"Simulations/Atm_Muons/BS_D09/Analyzer_T_BS9_45deg.root\", \"9 inches tilt 45deg - atmospheric muons (without MV)\", nbins, hEmin, hEmax, 5.0e8, 0.019, QF_neutrons, 10., false, Resol);\n",
    "h_SimuMuons_9inch45deg_noMV->Fit(\"landau\", \"R0\", \"\", 800, 1900);\n",
    "\n",
    "TCanvas *C = new TCanvas();\n",
    "C->Draw();\n",
    "C->SetLogy();\n",
    "h_SimuMuons_9inch_1MeV->GetYaxis()->SetRangeUser(1e-3, 10);\n",
    "h_SimuMuons_9inch_1MeV->SetLineColor(kBlue);\n",
    "h_SimuMuons_9inch_5MeV->SetLineColor(kRed);\n",
    "h_SimuMuons_9inch_7MeV->SetLineColor(kMagenta);\n",
    "h_SimuMuons_9inch_noMV->SetLineColor(kBlack);\n",
    "h_SimuMuons_9inch45deg_noMV->SetLineColor(kGreen);\n",
    "h_SimuMuons_9inch_1MeV->Draw(\"HIST\");\n",
    "h_SimuMuons_9inch_5MeV->Draw(\"HIST SAME\");\n",
    "h_SimuMuons_9inch_7MeV->Draw(\"HIST SAME\");\n",
    "h_SimuMuons_9inch_noMV->Draw(\"HIST SAME\");\n",
    "h_SimuMuons_9inch45deg_noMV->Draw(\"HIST SAME\");\n",
    "\n",
    "\n",
    "h_SimuMuons_9inch_1MeV->SetTitle(\"\");\n",
    "TLegend* leg0 = new TLegend(0.6, 0.7, 0.89, 0.89);\n",
    "leg0->AddEntry(h_SimuMuons_9inch_1MeV, \"MV thr 1MeV\");\n",
    "leg0->AddEntry(h_SimuMuons_9inch_5MeV, \"MV thr 5MeV\");\n",
    "leg0->AddEntry(h_SimuMuons_9inch_7MeV, \"MV thr 7MeV\");\n",
    "leg0->AddEntry(h_SimuMuons_9inch_noMV, \"no MV\");\n",
    "leg0->AddEntry(h_SimuMuons_9inch45deg_noMV, \"tilt 45deg - no MV\");\n",
    "leg0->Draw(\"SAME\");\n",
    "leg0->SetLineWidth(0);"
   ]
  },
  {
   "cell_type": "markdown",
   "id": "565cc190",
   "metadata": {},
   "source": [
    "Without quenching"
   ]
  },
  {
   "cell_type": "code",
   "execution_count": 41,
   "id": "54a60329",
   "metadata": {},
   "outputs": [
    {
     "name": "stdout",
     "output_type": "stream",
     "text": [
      " Entries:          400797\n",
      " Generated primaries:  720000000\n",
      " Equivalent time:      23684211 s (274.123 d)\n"
     ]
    }
   ],
   "source": [
    "TH1D* h_SimuMuons_9inch_nq = Put_simu_in_histo_nq(\"Simulations/Atm_Muons/BS_D09/Analyzer_T_run01-09.root\", Form(\"9 inches - atmospheric muons (with MV %0.f MeV thr)\", MVthr_DC), nbins, hEmin, hEmax, 7.20e8, 0.019, MVthr_DC);"
   ]
  },
  {
   "cell_type": "markdown",
   "id": "6a2b5554",
   "metadata": {},
   "source": [
    "### Atmospheric neutrons "
   ]
  },
  {
   "cell_type": "markdown",
   "id": "0b687f43",
   "metadata": {},
   "source": [
    "With quenching"
   ]
  },
  {
   "cell_type": "code",
   "execution_count": 42,
   "id": "405ded2f",
   "metadata": {},
   "outputs": [
    {
     "name": "stdout",
     "output_type": "stream",
     "text": [
      "  Primary Entries:          385573\n",
      "  Secondary Entries:         87314\n",
      "  Generated primaries:  1500000000\n",
      "  Equivalent time:      69962687 s (809.753 d)\n",
      " Nb of primary analysed: 385573\n",
      " Nb of events quenched : 353346\n"
     ]
    }
   ],
   "source": [
    "TH1D* h_SimuNeutrons_9inch = Put_simu_in_histo(\"Simulations/Atm_Neutr/BS_D09/Analyzer_T_run01-15.root\", \"9 inches - atmospheric neutrons (with MV)\", nbins, hEmin, hEmax, 1.50e9, 0.0134, QF_neutrons, MVthr_DC, true, Resol);"
   ]
  },
  {
   "cell_type": "markdown",
   "id": "b3cc5c64",
   "metadata": {},
   "source": [
    "## Background models"
   ]
  },
  {
   "cell_type": "markdown",
   "id": "195cbecd",
   "metadata": {},
   "source": [
    "Use the simulations to constrain the shape of the background model which will be used to fit the measurements."
   ]
  },
  {
   "cell_type": "markdown",
   "id": "d8367012",
   "metadata": {},
   "source": [
    "### Gamma Background "
   ]
  },
  {
   "cell_type": "markdown",
   "id": "024c16fa",
   "metadata": {},
   "source": [
    "The gamma background is fitted with the sum of two exponentials linked by a smooth step function. "
   ]
  },
  {
   "cell_type": "markdown",
   "id": "8a057155",
   "metadata": {},
   "source": [
    "1- First exponential fitted between 1200 and 5000 keVee"
   ]
  },
  {
   "cell_type": "code",
   "execution_count": 43,
   "id": "c23590b9",
   "metadata": {},
   "outputs": [
    {
     "name": "stdout",
     "output_type": "stream",
     "text": [
      " FCN=76.1213 FROM HESSE     STATUS=OK             10 CALLS        1284 TOTAL\n",
      "                     EDM=2.76975e-07    STRATEGY= 1      ERROR MATRIX ACCURATE \n",
      "  EXT PARAMETER                                   STEP         FIRST   \n",
      "  NO.   NAME      VALUE            ERROR          SIZE      DERIVATIVE \n",
      "   1  Constant []   2.91423e+00   7.08037e-02   1.32065e-05   4.83216e-02\n",
      "   2  Slope [keVee^{-1}]  -3.27167e-03   4.98798e-05   9.29787e-09   6.67441e+01\n"
     ]
    }
   ],
   "source": [
    "TF1* Gamma_background_1 = new TF1(\"Gamma_background_1\", \"expo\", 1000, 5000); \n",
    "Gamma_background_1->SetParNames(\"Constant []\", \"Slope [keVee^{-1}]\");\n",
    "Gamma_background_1->SetParameter(0,1);\n",
    "Gamma_background_1->SetParameter(1,100);\n",
    "h_SimuGamma_9inch->Fit(\"Gamma_background_1\", \"MR\", \"\", 1100, 2800); //Decreasing exponentialin the ROI [1.2; 2.8] MeVee\n",
    "\n",
    "Gamma_background_1->FixParameter(0, Gamma_background_1->GetParameter(0));\n",
    "Gamma_background_1->FixParameter(1, Gamma_background_1->GetParameter(1));"
   ]
  },
  {
   "cell_type": "markdown",
   "id": "a3034a6f",
   "metadata": {},
   "source": [
    "2- Second exponential fitted between 200 and 1000 keVee"
   ]
  },
  {
   "cell_type": "code",
   "execution_count": 44,
   "id": "06aea0bc",
   "metadata": {},
   "outputs": [
    {
     "name": "stdout",
     "output_type": "stream",
     "text": [
      " FCN=139.557 FROM HESSE     STATUS=OK             10 CALLS          94 TOTAL\n",
      "                     EDM=4.38466e-08    STRATEGY= 1      ERROR MATRIX ACCURATE \n",
      "  EXT PARAMETER                                   STEP         FIRST   \n",
      "  NO.   NAME      VALUE            ERROR          SIZE      DERIVATIVE \n",
      "   1  Constant []   2.39938e+00   1.63954e-02   6.15039e-06   5.56126e-02\n",
      "   2  Slope [keVee^{-1}]  -3.00077e-03   2.80878e-05   1.05359e-08   3.14470e+01\n"
     ]
    }
   ],
   "source": [
    "TF1* Gamma_background_2 = new TF1(\"Gamma_background_2\", \"expo\", 100, 1000); \n",
    "Gamma_background_2->SetParNames(\"Constant []\", \"Slope [keVee^{-1}]\");\n",
    "Gamma_background_2->SetParameter(0,1);\n",
    "Gamma_background_2->SetParameter(1,100);\n",
    "h_SimuGamma_9inch->Fit(\"Gamma_background_2\", \"MR\", \"\", 300, 1100); \n",
    "\n",
    "Gamma_background_2->FixParameter(0, Gamma_background_2->GetParameter(0));\n",
    "Gamma_background_2->FixParameter(1, Gamma_background_2->GetParameter(1));"
   ]
  },
  {
   "cell_type": "markdown",
   "id": "ae152852",
   "metadata": {},
   "source": [
    "The global function for the gamma background model is a sum of those two exponentials, linked by a smooth step function (cdf) with two parameters: its position and its width."
   ]
  },
  {
   "cell_type": "code",
   "execution_count": 45,
   "id": "5170dffe",
   "metadata": {},
   "outputs": [],
   "source": [
    "Double_t Gammas(Double_t* x, Double_t *par){\n",
    "    Double_t par_cdf[2]= {par[2], par[3]};\n",
    "    return (1-cdf(x, par_cdf))*par[0]*Gamma_background_2->Eval(x[0])+cdf(x, par_cdf)*par[1]*Gamma_background_1->Eval(x[0]);\n",
    "}"
   ]
  },
  {
   "cell_type": "code",
   "execution_count": 46,
   "id": "d6e2b2b2",
   "metadata": {},
   "outputs": [
    {
     "name": "stdout",
     "output_type": "stream",
     "text": [
      " FCN=167.437 FROM HESSE     STATUS=OK             23 CALLS         682 TOTAL\n",
      "                     EDM=7.57242e-09    STRATEGY= 1      ERROR MATRIX ACCURATE \n",
      "  EXT PARAMETER                                   STEP         FIRST   \n",
      "  NO.   NAME      VALUE            ERROR          SIZE      DERIVATIVE \n",
      "   1  Norm_expo1   9.94051e-01   5.40472e-03   6.81591e-06   1.88455e-02\n",
      "   2  Norm_expo2   1.00052e+00   1.45300e-02   1.73732e-05  -3.50507e-03\n",
      "   3  pos cdf      1.00935e+03   1.29332e+01   1.95243e-03  -4.94584e-06\n",
      "   4  sigma cdf    1.29897e+01   1.40277e+01   3.31077e-05   4.74096e-04\n",
      "Chi2/NDF = 167.437/65 = 2.57595\n"
     ]
    }
   ],
   "source": [
    "TF1* Gamma_shape_9inch = new TF1(\"Gamma_shape_9inch\", Gammas, 300, 5000, 4);\n",
    "Gamma_shape_9inch->SetParNames(\"Norm_expo1\", \"Norm_expo2\", \"pos cdf\", \"sigma cdf\");\n",
    "Gamma_shape_9inch->SetParameter(1, 0.98);\n",
    "Gamma_shape_9inch->SetParameter(2, 0.97);\n",
    "Gamma_shape_9inch->SetParameter(3, 1000);\n",
    "Gamma_shape_9inch->SetParameter(4, 81);\n",
    "Gamma_shape_9inch->SetParLimits(3, 10, 1200);\n",
    "h_SimuGamma_9inch->Fit(\"Gamma_shape_9inch\", \"MR\");\n",
    "\n",
    "std::cout<<\"Chi2/NDF = \"<<Gamma_shape_9inch->GetChisquare()<<\"/\"<<Gamma_shape_9inch->GetNDF()-4<<\" = \"<<Gamma_shape_9inch->GetChisquare()/(Gamma_shape_9inch->GetNDF()-4)<<endl;"
   ]
  },
  {
   "cell_type": "code",
   "execution_count": 47,
   "id": "3d10d6f9",
   "metadata": {},
   "outputs": [
    {
     "data": {
      "image/png": "[encoded data removed]",
      "text/plain": [
       "<IPython.core.display.Image object>"
      ]
     },
     "metadata": {},
     "output_type": "display_data"
    },
    {
     "name": "stderr",
     "output_type": "stream",
     "text": [
      "Info in <TCanvas::Print>: png file /Users/cg264002/research/Redaction_These/Figures/Chap3/Neutrons/Gammas_9inch.png has been created\n"
     ]
    }
   ],
   "source": [
    "TCanvas* C10 = new TCanvas();\n",
    "C10->Draw();\n",
    "C10->SetLogy();\n",
    "\n",
    "gPad->SetLeftMargin(0.1);\n",
    "gPad->SetRightMargin(0.03);\n",
    "gPad->SetBottomMargin(0.1);\n",
    "gPad->SetTopMargin(0.02);\n",
    "\n",
    "h_SimuGamma_9inch->SetTitle(\"\");\n",
    "h_SimuGamma_9inch->Draw(\"\");\n",
    "\n",
    "C10->SaveAs(\"/Users/cg264002/research/Redaction_These/Figures/Chap3/Neutrons/Gammas_9inch.png\");"
   ]
  },
  {
   "cell_type": "markdown",
   "id": "9360cd48",
   "metadata": {},
   "source": [
    "### Muon background"
   ]
  },
  {
   "cell_type": "markdown",
   "id": "f151f8d8",
   "metadata": {},
   "source": [
    "The muon background model is made of three components: a Landau for the peak, a pol2 for the plateau region and another Landau for the queue at high energies."
   ]
  },
  {
   "cell_type": "markdown",
   "id": "551b5308",
   "metadata": {},
   "source": [
    "1- Muon Peak with a landau"
   ]
  },
  {
   "cell_type": "code",
   "execution_count": 48,
   "id": "5f85c423",
   "metadata": {},
   "outputs": [
    {
     "name": "stdout",
     "output_type": "stream",
     "text": [
      " FCN=64.4019 FROM MIGRAD    STATUS=CONVERGED     135 CALLS         136 TOTAL\n",
      "                     EDM=2.66506e-11    STRATEGY= 1      ERROR MATRIX ACCURATE \n",
      "  EXT PARAMETER                                   STEP         FIRST   \n",
      "  NO.   NAME      VALUE            ERROR          SIZE      DERIVATIVE \n",
      "   1  Amplitude_mu []   3.69913e+01   1.80996e-01   4.52611e-04   5.09081e-05\n",
      "   2  MPV [keVee]   1.07737e+03   5.43243e+00   1.05257e-02   1.83274e-06\n",
      "   3  [Sigma [keVee]]   2.28744e+02   2.30481e+00   6.08440e-06   4.40026e-03\n",
      " FCN=64.5171 FROM MIGRAD    STATUS=CONVERGED     125 CALLS         126 TOTAL\n",
      "                     EDM=1.14447e-07    STRATEGY= 1      ERROR MATRIX ACCURATE \n",
      "  EXT PARAMETER                                   STEP         FIRST   \n",
      "  NO.   NAME      VALUE            ERROR          SIZE      DERIVATIVE \n",
      "   1  Amplitude_mu []   3.68561e+01   1.61861e-01   4.26755e-04  -3.43992e-03\n",
      "   2  MPV [keVee]   1.08860e+03   2.29145e+00   8.25830e-03   3.64578e-06\n",
      "   3  [Sigma [keVee]]   2.25178e+02   1.71973e+00   5.46505e-06  -3.07321e-01\n"
     ]
    }
   ],
   "source": [
    "TF1* Muon_peak_9inch_DC = new TF1(\"Muon_peak_9inch_DC\", \"landau\", 900, 2000); //Landau in muon peak region\n",
    "Muon_peak_9inch_DC->SetParNames(\"Amplitude_mu []\", \"MPV [keVee]\", \"[Sigma [keVee]]\");\n",
    "Muon_peak_9inch_DC->SetParameters(1,1100,100);\n",
    "h_SimuMuons_9inch_DC->Fit(\"Muon_peak_9inch_DC\", \"R\");\n",
    "\n",
    "Muon_peak_9inch_DC->FixParameter(0,Muon_peak_9inch_DC->GetParameter(0));\n",
    "Muon_peak_9inch_DC->FixParameter(1,Muon_peak_9inch_DC->GetParameter(1));\n",
    "Muon_peak_9inch_DC->FixParameter(2,Muon_peak_9inch_DC->GetParameter(2));\n",
    "\n",
    "TF1* Muon_peak_9inch_VNS = new TF1(\"Muon_peak_9inch_VNS\", \"landau\", 800, 2000); //Landau in muon peak region\n",
    "Muon_peak_9inch_VNS->SetParNames(\"Amplitude_mu []\", \"MPV [keVee]\", \"[Sigma [keVee]]\");\n",
    "Muon_peak_9inch_VNS->SetParameters(1,1100,100);\n",
    "h_SimuMuons_9inch_VNS->Fit(\"Muon_peak_9inch_VNS\", \"R\");\n",
    "\n",
    "Muon_peak_9inch_VNS->FixParameter(0,Muon_peak_9inch_VNS->GetParameter(0));\n",
    "Muon_peak_9inch_VNS->FixParameter(1,Muon_peak_9inch_VNS->GetParameter(1));\n",
    "Muon_peak_9inch_VNS->FixParameter(2,Muon_peak_9inch_VNS->GetParameter(2));"
   ]
  },
  {
   "cell_type": "code",
   "execution_count": 49,
   "id": "0ced2896",
   "metadata": {},
   "outputs": [
    {
     "data": {
      "image/png": "[encoded data removed]",
      "text/plain": [
       "<IPython.core.display.Image object>"
      ]
     },
     "metadata": {},
     "output_type": "display_data"
    }
   ],
   "source": [
    "TCanvas* C11 = new TCanvas();\n",
    "C11->Draw();\n",
    "C11->SetLogy();\n",
    "h_SimuMuons_9inch_DC->SetLineColor(kBlack);\n",
    "h_SimuMuons_9inch_DC->Draw(\"\");\n",
    "h_SimuMuons_9inch_VNS->Draw(\"same\");"
   ]
  },
  {
   "cell_type": "markdown",
   "id": "da7e1b63",
   "metadata": {},
   "source": [
    "2- Muon Plateau with a pol2 between 400 and 1200 keVee"
   ]
  },
  {
   "cell_type": "code",
   "execution_count": 50,
   "id": "3e83db34",
   "metadata": {
    "scrolled": true
   },
   "outputs": [
    {
     "name": "stdout",
     "output_type": "stream",
     "text": [
      "\n",
      "****************************************\n",
      "Minimizer is Linear / Migrad\n",
      "Chi2                      =      72.2644\n",
      "NDf                       =           17\n",
      "a                         =      7.56995   +/-   0.114363    \n",
      "b                         =   -0.0213292   +/-   0.000452191 \n",
      "c                         =  2.18525e-05   +/-   4.13629e-07 \n",
      "\n",
      "****************************************\n",
      "Minimizer is Linear / Migrad\n",
      "Chi2                      =      59.1263\n",
      "NDf                       =           17\n",
      "a                         =      7.52591   +/-   0.114078    \n",
      "b                         =   -0.0212433   +/-   0.000450912 \n",
      "c                         =  2.18066e-05   +/-   4.1236e-07  \n"
     ]
    }
   ],
   "source": [
    "TF1* Muon_plateau_9inch_DC = new TF1(\"Muon_plateau_9inch_DC\", \"pol2\", 200, 900); \n",
    "Muon_plateau_9inch_DC->SetParNames(\"a\", \"b\", \"c\");\n",
    "h_SimuMuons_9inch_DC->Fit(\"Muon_plateau_9inch_DC\", \"R\");\n",
    "\n",
    "Muon_plateau_9inch_DC->FixParameter(0,Muon_plateau_9inch_DC->GetParameter(0));\n",
    "Muon_plateau_9inch_DC->FixParameter(1,Muon_plateau_9inch_DC->GetParameter(1));\n",
    "Muon_plateau_9inch_DC->FixParameter(2,Muon_plateau_9inch_DC->GetParameter(2));\n",
    "\n",
    "TF1* Muon_plateau_9inch_VNS = new TF1(\"Muon_plateau_9inch_VNS\", \"pol2\", 200, 900); \n",
    "Muon_plateau_9inch_VNS->SetParNames(\"a\", \"b\", \"c\");\n",
    "h_SimuMuons_9inch_VNS->Fit(\"Muon_plateau_9inch_VNS\", \"R\");\n",
    "\n",
    "Muon_plateau_9inch_VNS->FixParameter(0,Muon_plateau_9inch_VNS->GetParameter(0));\n",
    "Muon_plateau_9inch_VNS->FixParameter(1,Muon_plateau_9inch_VNS->GetParameter(1));\n",
    "Muon_plateau_9inch_VNS->FixParameter(2,Muon_plateau_9inch_VNS->GetParameter(2));"
   ]
  },
  {
   "cell_type": "code",
   "execution_count": 51,
   "id": "659f719b",
   "metadata": {},
   "outputs": [
    {
     "data": {
      "image/png": "[encoded data removed]",
      "text/plain": [
       "<IPython.core.display.Image object>"
      ]
     },
     "metadata": {},
     "output_type": "display_data"
    }
   ],
   "source": [
    "TCanvas* C = new TCanvas();\n",
    "C->Draw();\n",
    "C->SetLogy();\n",
    "h_SimuMuons_9inch_DC->Draw(\"\");\n",
    "h_SimuMuons_9inch_VNS->Draw(\"same\");"
   ]
  },
  {
   "cell_type": "markdown",
   "id": "1a1005d5",
   "metadata": {},
   "source": [
    "3- Function for the queue at high energies betweenn 2700 and 4400 keVee. It is the sum of two exponential functions with a gaussian in the middle for the neutron peak."
   ]
  },
  {
   "cell_type": "code",
   "execution_count": 52,
   "id": "27e151da",
   "metadata": {},
   "outputs": [
    {
     "name": "stdout",
     "output_type": "stream",
     "text": [
      " FCN=28.7412 FROM MIGRAD    STATUS=CONVERGED      43 CALLS          44 TOTAL\n",
      "                     EDM=7.25705e-07    STRATEGY= 1      ERROR MATRIX ACCURATE \n",
      "  EXT PARAMETER                                   STEP         FIRST   \n",
      "  NO.   NAME      VALUE            ERROR          SIZE      DERIVATIVE \n",
      "   1  Constant     3.62278e+00   5.53807e-02   1.64396e-05  -1.40730e-01\n",
      "   2  Slope       -1.50230e-03   2.55889e-05   7.58838e-09  -2.70068e+02\n",
      " FCN=17.397 FROM MIGRAD    STATUS=CONVERGED      51 CALLS          52 TOTAL\n",
      "                     EDM=2.72623e-07    STRATEGY= 1      ERROR MATRIX ACCURATE \n",
      "  EXT PARAMETER                                   STEP         FIRST   \n",
      "  NO.   NAME      VALUE            ERROR          SIZE      DERIVATIVE \n",
      "   1  Constant     2.34529e+00   4.53709e-01   4.79508e-05  -1.13276e-03\n",
      "   2  Slope       -1.07591e-03   1.09796e-04   1.16023e-08  -1.13961e+01\n",
      " FCN=53.2801 FROM HESSE     STATUS=OK             50 CALLS        1459 TOTAL\n",
      "                     EDM=2.50447e-06    STRATEGY= 1      ERROR MATRIX ACCURATE \n",
      "  EXT PARAMETER                                   STEP         FIRST   \n",
      "  NO.   NAME      VALUE            ERROR          SIZE      DERIVATIVE \n",
      "   1  p0           4.43899e+00   5.60398e-01   1.06838e-05  -1.74827e-02\n",
      "   2  p1          -2.31978e-03   5.17628e-04   5.01030e-09  -5.58301e+01\n",
      "   3  p2           8.36146e-02   1.35880e-02   7.50370e-07  -1.30138e-01\n",
      "   4  p3           3.01563e+03   2.48308e+01   1.50341e-04   3.85447e-03\n",
      "   5  p4           1.47381e+02   2.96997e+01   8.97028e-05  -3.18159e-03\n",
      "   6  p5           2.07980e+00   6.78791e-01   5.52328e-06  -7.95544e-02\n",
      "   7  p6          -1.02457e-03   1.47474e-04   1.96281e-09  -2.48459e+02\n"
     ]
    }
   ],
   "source": [
    "TF1* Muon_queue_9inch_DC_start = new TF1(\"Muon_queue_9inch_DC_start\", \"expo(0)\", 1800, 2700); \n",
    "Muon_queue_9inch_DC_start->SetParameter(0, -10);\n",
    "Muon_queue_9inch_DC_start->SetParameter(1, -0.003);\n",
    "h_SimuMuons_9inch_DC->Fit(\"Muon_queue_9inch_DC_start\", \"R\");\n",
    "\n",
    "TF1* Muon_queue_9inch_DC_end = new TF1(\"Muon_queue_9inch_DC_end\", \"expo(0)\", 3800, 5500); \n",
    "Muon_queue_9inch_DC_end->SetParameter(0, -10);\n",
    "Muon_queue_9inch_DC_end->SetParameter(1, -0.003);\n",
    "h_SimuMuons_9inch_DC->Fit(\"Muon_queue_9inch_DC_end\", \"R\");\n",
    "\n",
    "TF1* Muon_queue_secn_9inch_DC = new TF1(\"Muon_queue_secn_9inch_DC\", \"expo(0)+gaus(2)+expo(5)\", 1800, 5500); \n",
    "//Muon_queue_9inch->SetParNames(\"Norm\", \"slope\", \"Norm_NP\", \"mean_NP\", \"sigma_NP\");\n",
    "Muon_queue_secn_9inch_DC->SetParameter(0, Muon_queue_9inch_DC_start->GetParameter(0));\n",
    "Muon_queue_secn_9inch_DC->SetParameter(1, Muon_queue_9inch_DC_start->GetParameter(1));\n",
    "Muon_queue_secn_9inch_DC->SetParameter(2, 0.011);\n",
    "Muon_queue_secn_9inch_DC->SetParameter(3, 3500);\n",
    "Muon_queue_secn_9inch_DC->SetParameter(4, 300);\n",
    "Muon_queue_secn_9inch_DC->SetParameter(5, Muon_queue_9inch_DC_end->GetParameter(0));\n",
    "Muon_queue_secn_9inch_DC->SetParameter(6, Muon_queue_9inch_DC_end->GetParameter(1));\n",
    "\n",
    "Muon_queue_secn_9inch_DC->SetParLimits(3, 3000, 3800);\n",
    "Muon_queue_secn_9inch_DC->SetParLimits(2, 0., 1000);\n",
    "Muon_queue_secn_9inch_DC->SetParLimits(4, 100, 600);\n",
    "h_SimuMuons_9inch_DC->Fit(\"Muon_queue_secn_9inch_DC\", \"R\");\n",
    "\n",
    "Muon_queue_secn_9inch_DC->FixParameter(0, Muon_queue_secn_9inch_DC->GetParameter(0));\n",
    "Muon_queue_secn_9inch_DC->FixParameter(1, Muon_queue_secn_9inch_DC->GetParameter(1));\n",
    "Muon_queue_secn_9inch_DC->FixParameter(2, Muon_queue_secn_9inch_DC->GetParameter(2));\n",
    "Muon_queue_secn_9inch_DC->FixParameter(3, Muon_queue_secn_9inch_DC->GetParameter(3));\n",
    "Muon_queue_secn_9inch_DC->FixParameter(4, Muon_queue_secn_9inch_DC->GetParameter(4));\n",
    "Muon_queue_secn_9inch_DC->FixParameter(5, Muon_queue_secn_9inch_DC->GetParameter(5));\n",
    "Muon_queue_secn_9inch_DC->FixParameter(6, Muon_queue_secn_9inch_DC->GetParameter(6));"
   ]
  },
  {
   "cell_type": "code",
   "execution_count": 53,
   "id": "9efffb1f",
   "metadata": {},
   "outputs": [
    {
     "name": "stdout",
     "output_type": "stream",
     "text": [
      " FCN=17.2112 FROM MIGRAD    STATUS=CONVERGED      49 CALLS          50 TOTAL\n",
      "                     EDM=4.3232e-12    STRATEGY= 1      ERROR MATRIX ACCURATE \n",
      "  EXT PARAMETER                                   STEP         FIRST   \n",
      "  NO.   NAME      VALUE            ERROR          SIZE      DERIVATIVE \n",
      "   1  Constant     3.63839e+00   5.46077e-02   1.28455e-05   1.34785e-04\n",
      "   2  Slope       -1.50798e-03   2.52321e-05   5.93540e-09   4.01627e-01\n",
      " FCN=21.4401 FROM MIGRAD    STATUS=CONVERGED      47 CALLS          48 TOTAL\n",
      "                     EDM=1.6472e-09    STRATEGY= 1      ERROR MATRIX ACCURATE \n",
      "  EXT PARAMETER                                   STEP         FIRST   \n",
      "  NO.   NAME      VALUE            ERROR          SIZE      DERIVATIVE \n",
      "   1  Constant     2.04000e+00   4.61455e-01   5.30146e-05   2.34320e-03\n",
      "   2  Slope       -1.00374e-03   1.11584e-04   1.28193e-08   9.85982e+00\n",
      " FCN=74.7543 FROM HESSE     STATUS=OK             50 CALLS        1164 TOTAL\n",
      "                     EDM=1.77497e-07    STRATEGY= 1      ERROR MATRIX ACCURATE \n",
      "  EXT PARAMETER                                   STEP         FIRST   \n",
      "  NO.   NAME      VALUE            ERROR          SIZE      DERIVATIVE \n",
      "   1  p0           3.97530e+00   2.42037e-01   6.47907e-06  -3.77053e-02\n",
      "   2  p1          -1.79763e-03   2.60984e-04   2.84033e-09  -7.98627e+01\n",
      "   3  p2           6.82558e-02   1.31783e-02   1.48705e-07  -1.78126e-02\n",
      "   4  p3           3.03126e+03   4.38526e+01   3.78243e-05  -4.16572e-04\n",
      "   5  p4           2.37684e+02   4.02647e+01   9.28746e-05   1.39096e-03\n",
      "   6  p5           4.80062e-01   1.80170e+00   1.26717e-05  -1.68760e-02\n",
      "   7  p6          -7.02178e-04   3.63800e-04   3.98012e-09  -4.91574e+01\n"
     ]
    }
   ],
   "source": [
    "TF1* Muon_queue_9inch_VNS_start = new TF1(\"Muon_queue_9inch_VNS_start\", \"expo(0)\", 1800, 2700);\n",
    "Muon_queue_9inch_VNS_start->SetParameter(0, -10);\n",
    "Muon_queue_9inch_VNS_start->SetParameter(1, -0.003);\n",
    "h_SimuMuons_9inch_VNS->Fit(\"Muon_queue_9inch_VNS_start\", \"R\");\n",
    "\n",
    "TF1* Muon_queue_9inch_VNS_end = new TF1(\"Muon_queue_9inch_VNS_end\", \"expo(0)\", 3800, 5500);\n",
    "Muon_queue_9inch_VNS_end->SetParameter(0, -10);\n",
    "Muon_queue_9inch_VNS_end->SetParameter(1, -0.003);\n",
    "h_SimuMuons_9inch_VNS->Fit(\"Muon_queue_9inch_VNS_end\", \"R\");\n",
    "\n",
    "TF1* Muon_queue_secn_9inch_VNS = new TF1(\"Muon_queue_secn_9inch_VNS\", \"expo(0)+gaus(2)+expo(5)\", 1800, 5500);\n",
    "//Muon_queue_9inch->SetParNames(\"Norm\", \"slope\", \"Norm_NP\", \"mean_NP\", \"sigma_NP\");\n",
    "Muon_queue_secn_9inch_VNS->SetParameter(0, Muon_queue_9inch_VNS_start->GetParameter(0));\n",
    "Muon_queue_secn_9inch_VNS->SetParameter(1, Muon_queue_9inch_VNS_start->GetParameter(1));\n",
    "Muon_queue_secn_9inch_VNS->SetParameter(2, 0.011);\n",
    "Muon_queue_secn_9inch_VNS->SetParameter(3, 3500);\n",
    "Muon_queue_secn_9inch_VNS->SetParameter(4, 300);\n",
    "Muon_queue_secn_9inch_VNS->SetParameter(5, Muon_queue_9inch_VNS_end->GetParameter(0));\n",
    "Muon_queue_secn_9inch_VNS->SetParameter(6, Muon_queue_9inch_VNS_end->GetParameter(1));\n",
    "\n",
    "Muon_queue_secn_9inch_VNS->SetParLimits(3, 3000, 3800);\n",
    "Muon_queue_secn_9inch_VNS->SetParLimits(2, 0., 1000);\n",
    "Muon_queue_secn_9inch_VNS->SetParLimits(4, 100, 600);\n",
    "h_SimuMuons_9inch_VNS->Fit(\"Muon_queue_secn_9inch_VNS\", \"R\");\n",
    "\n",
    "Muon_queue_secn_9inch_VNS->FixParameter(0, Muon_queue_secn_9inch_VNS->GetParameter(0));\n",
    "Muon_queue_secn_9inch_VNS->FixParameter(1, Muon_queue_secn_9inch_VNS->GetParameter(1));\n",
    "Muon_queue_secn_9inch_VNS->FixParameter(2, Muon_queue_secn_9inch_VNS->GetParameter(2));\n",
    "Muon_queue_secn_9inch_VNS->FixParameter(3, Muon_queue_secn_9inch_VNS->GetParameter(3));\n",
    "Muon_queue_secn_9inch_VNS->FixParameter(4, Muon_queue_secn_9inch_VNS->GetParameter(4));\n",
    "Muon_queue_secn_9inch_VNS->FixParameter(5, Muon_queue_secn_9inch_VNS->GetParameter(5));\n",
    "Muon_queue_secn_9inch_VNS->FixParameter(6, Muon_queue_secn_9inch_VNS->GetParameter(6));"
   ]
  },
  {
   "cell_type": "code",
   "execution_count": 54,
   "id": "edd1f7be",
   "metadata": {},
   "outputs": [
    {
     "data": {
      "image/png": "[encoded data removed]",
      "text/plain": [
       "<IPython.core.display.Image object>"
      ]
     },
     "metadata": {},
     "output_type": "display_data"
    }
   ],
   "source": [
    "TCanvas* C = new TCanvas();\n",
    "C->Draw();\n",
    "C->SetLogy();\n",
    "h_SimuMuons_9inch_DC->Draw(\"\");\n",
    "Muon_queue_secn_9inch_DC->Draw(\"SAME\");\n",
    "Muon_queue_9inch_DC_end->SetLineColor(kBlue);\n",
    "Muon_queue_9inch_DC_end->Draw(\"SAME\");\n",
    "Muon_queue_9inch_DC_start->SetLineColor(kBlue);\n",
    "Muon_queue_9inch_DC_start->Draw(\"SAME\");\n",
    "h_SimuMuons_9inch_VNS->Draw(\"SAME\");\n",
    "Muon_queue_secn_9inch_VNS->Draw(\"SAME\");\n",
    "Muon_queue_9inch_VNS_end->SetLineColor(kBlue);\n",
    "Muon_queue_9inch_VNS_end->Draw(\"SAME\");\n",
    "Muon_queue_9inch_VNS_start->SetLineColor(kBlue);\n",
    "Muon_queue_9inch_VNS_start->Draw(\"SAME\");"
   ]
  },
  {
   "cell_type": "markdown",
   "id": "38ff52cf",
   "metadata": {},
   "source": [
    "The final function is the sum of those three contributions linked by two step functions (cdf) one at low energy to link the plateau with the muon peak and one at high energies to link the muon peak to the queue."
   ]
  },
  {
   "cell_type": "code",
   "execution_count": 55,
   "id": "eb52c03a",
   "metadata": {},
   "outputs": [],
   "source": [
    "Double_t Muons_9inch_DC(Double_t* x, Double_t *par){\n",
    "    Double_t par_cdf[2]= {par[3], par[4]};\n",
    "    Double_t par_cdf2[2]= {par[5], par[6]};\n",
    "    return (1-cdf(x, par_cdf))*par[0]*Muon_plateau_9inch_DC->Eval(x[0])+cdf(x, par_cdf)*(1-cdf(x, par_cdf2))*par[1]*Muon_peak_9inch_DC->Eval(x[0])+cdf(x, par_cdf2)*par[2]*Muon_queue_secn_9inch_DC->Eval(x[0]);\n",
    "}"
   ]
  },
  {
   "cell_type": "code",
   "execution_count": 56,
   "id": "58129d6b",
   "metadata": {},
   "outputs": [],
   "source": [
    "Double_t Muons_9inch_VNS(Double_t* x, Double_t *par){\n",
    "    Double_t par_cdf[2]= {par[3], par[4]};\n",
    "    Double_t par_cdf2[2]= {par[5], par[6]};\n",
    "    return (1-cdf(x, par_cdf))*par[0]*Muon_plateau_9inch_VNS->Eval(x[0])+cdf(x, par_cdf)*(1-cdf(x, par_cdf2))*par[1]*Muon_peak_9inch_VNS->Eval(x[0])+cdf(x, par_cdf2)*par[2]*Muon_queue_secn_9inch_VNS->Eval(x[0]);\n",
    "}"
   ]
  },
  {
   "cell_type": "code",
   "execution_count": 57,
   "id": "50399f95",
   "metadata": {},
   "outputs": [
    {
     "name": "stdout",
     "output_type": "stream",
     "text": [
      " FCN=165.937 FROM MIGRAD    STATUS=CONVERGED     705 CALLS         706 TOTAL\n",
      "                     EDM=1.12017e-06    STRATEGY= 1      ERROR MATRIX ACCURATE \n",
      "  EXT PARAMETER                                   STEP         FIRST   \n",
      "  NO.   NAME      VALUE            ERROR          SIZE      DERIVATIVE \n",
      "   1  Norm_plateau   9.99553e-01   5.49623e-03   3.23552e-05  -1.28261e-01\n",
      "   2  Norm_muonpeak   9.96707e-01   3.18730e-03   1.92894e-05  -3.03305e-02\n",
      "   3  Norm_muonqueue   9.97061e-01   6.13185e-03   3.82101e-05   1.64217e-01\n",
      "   4  pos cdf      8.00000e+02   3.23562e+01   2.95758e-03** at limit **\n",
      "   5  sigma cdf    1.18107e+02   1.01484e+01   2.76792e-04   1.19675e-02\n",
      "   6  pos cdf2     2.00000e+03   2.58889e+01   1.01612e-03** at limit **\n",
      "   7  sigma cdf2   3.94726e+01   3.35943e+01   1.56734e-03   1.45647e-03\n"
     ]
    }
   ],
   "source": [
    "TF1* Muon_shape_9inch_DC = new TF1(\"Muon_shape_9inch_DC\", Muons_9inch_DC, 150, 5500, 7);\n",
    "Muon_shape_9inch_DC->SetParNames(\"Norm_plateau\", \"Norm_muonpeak\", \"Norm_muonqueue\", \"pos cdf\", \"sigma cdf\", \"pos cdf2\", \"sigma cdf2\");\n",
    "\n",
    "Muon_shape_9inch_DC->SetParameter(0, 1);\n",
    "Muon_shape_9inch_DC->SetParameter(1, 1);\n",
    "Muon_shape_9inch_DC->SetParameter(2, 1);\n",
    "\n",
    "Muon_shape_9inch_DC->SetParameter(3, 1000);\n",
    "Muon_shape_9inch_DC->SetParameter(4, 400);\n",
    "Muon_shape_9inch_DC->SetParLimits(4, 0, 500);\n",
    "Muon_shape_9inch_DC->SetParLimits(3, 800, 1400);\n",
    "Muon_shape_9inch_DC->SetParameter(5, 2900);\n",
    "Muon_shape_9inch_DC->SetParLimits(5, 2000, 6000);\n",
    "Muon_shape_9inch_DC->SetParameter(6, 400);\n",
    "Muon_shape_9inch_DC->SetParLimits(6, 0, 500);\n",
    "h_SimuMuons_9inch_DC->Fit(\"Muon_shape_9inch_DC\", \"R0\");"
   ]
  },
  {
   "cell_type": "code",
   "execution_count": 58,
   "id": "bb396fb8",
   "metadata": {},
   "outputs": [
    {
     "name": "stdout",
     "output_type": "stream",
     "text": [
      " FCN=158.383 FROM MIGRAD    STATUS=CONVERGED     626 CALLS         627 TOTAL\n",
      "                     EDM=2.53402e-07    STRATEGY= 1  ERROR MATRIX UNCERTAINTY   6.4 per cent\n",
      "  EXT PARAMETER                                   STEP         FIRST   \n",
      "  NO.   NAME      VALUE            ERROR          SIZE      DERIVATIVE \n",
      "   1  Norm_plateau   1.00498e+00   5.56657e-03   1.44909e-06   3.80740e-04\n",
      "   2  Norm_muonpeak   1.00014e+00   3.31692e-03   2.72851e-06   3.25379e-02\n",
      "   3  Norm_muonqueue   9.92932e-01   6.99992e-03  -3.23444e-06  -1.08990e-02\n",
      "   4  pos cdf      8.00000e+02   6.61837e+00  -4.19950e-05** at limit **\n",
      "   5  sigma cdf    1.14323e+02   9.92729e+00  -3.79890e-05   5.10182e-03\n",
      "   6  pos cdf2     2.00000e+03   3.35474e+01   2.18118e-04** at limit **\n",
      "   7  sigma cdf2   2.41323e+02   8.94095e+01   1.22465e-04   2.25653e-03\n"
     ]
    }
   ],
   "source": [
    "TF1* Muon_shape_9inch_VNS = new TF1(\"Muon_shape_9inch_VNS\", Muons_9inch_VNS, 150, 5500, 7);\n",
    "Muon_shape_9inch_VNS->SetParNames(\"Norm_plateau\", \"Norm_muonpeak\", \"Norm_muonqueue\", \"pos cdf\", \"sigma cdf\", \"pos cdf2\", \"sigma cdf2\");\n",
    "\n",
    "Muon_shape_9inch_VNS->SetParameter(0, 1);\n",
    "Muon_shape_9inch_VNS->SetParameter(1, 1);\n",
    "Muon_shape_9inch_VNS->SetParameter(2, 1);\n",
    "\n",
    "Muon_shape_9inch_VNS->SetParameter(3, 1000);\n",
    "Muon_shape_9inch_VNS->SetParameter(4, 400);\n",
    "Muon_shape_9inch_VNS->SetParLimits(4, 0, 500);\n",
    "Muon_shape_9inch_VNS->SetParLimits(3, 800, 1400);\n",
    "Muon_shape_9inch_VNS->SetParameter(5, 2900);\n",
    "Muon_shape_9inch_VNS->SetParLimits(5, 2000, 6000);\n",
    "Muon_shape_9inch_VNS->SetParameter(6, 400);\n",
    "Muon_shape_9inch_VNS->SetParLimits(6, 0, 500);\n",
    "h_SimuMuons_9inch_VNS->Fit(\"Muon_shape_9inch_VNS\", \"R0\");"
   ]
  },
  {
   "cell_type": "code",
   "execution_count": 59,
   "id": "41018004",
   "metadata": {},
   "outputs": [
    {
     "data": {
      "image/png": "[encoded data removed]",
      "text/plain": [
       "<IPython.core.display.Image object>"
      ]
     },
     "metadata": {},
     "output_type": "display_data"
    },
    {
     "name": "stdout",
     "output_type": "stream",
     "text": [
      "Chi2/NDF = 158.383/112 = 1.41413\n"
     ]
    },
    {
     "name": "stderr",
     "output_type": "stream",
     "text": [
      "Info in <TCanvas::Print>: png file /Users/cg264002/research/Redaction_These/Figures/Chap3/Neutrons/Muons_9inch.png has been created\n"
     ]
    }
   ],
   "source": [
    "TCanvas* C11 = new TCanvas();\n",
    "C11->Draw();\n",
    "C11->SetLogy();\n",
    "gPad->SetLeftMargin(0.1);\n",
    "gPad->SetRightMargin(0.03);\n",
    "gPad->SetBottomMargin(0.1);\n",
    "gPad->SetTopMargin(0.02);\n",
    "\n",
    "h_SimuMuons_9inch_DC->SetTitle(\"\");\n",
    "h_SimuMuons_9inch_DC->Draw(\"\");\n",
    "Muon_shape_9inch_DC->Draw(\"SAME\");\n",
    "\n",
    "//h_SimuMuons_9inch_VNS->Draw(\"SAME\");\n",
    "//Muon_shape_9inch_VNS->Draw(\"SAME\");\n",
    "\n",
    "C->SaveAs(\"/Users/cg264002/research/Redaction_These/Figures/Chap3/Neutrons/Muons_9inch.png\");\n",
    "\n",
    "std::cout<<\"Chi2/NDF = \"<<Muon_shape_9inch_VNS->GetChisquare()<<\"/\"<<Muon_shape_9inch_VNS->GetNDF()-4<<\" = \"<<Muon_shape_9inch_VNS->GetChisquare()/(Muon_shape_9inch_VNS->GetNDF()-4)<<endl;"
   ]
  },
  {
   "cell_type": "markdown",
   "id": "aff0a506",
   "metadata": {},
   "source": [
    "The shapes of gammas and muons background contributions are fixed. The global background function is the sum of the two contributions with their weight as parameters."
   ]
  },
  {
   "cell_type": "code",
   "execution_count": 60,
   "id": "e7195227",
   "metadata": {},
   "outputs": [],
   "source": [
    "Gamma_shape_9inch->FixParameter(1, Gamma_shape_9inch->GetParameter(1));\n",
    "Gamma_shape_9inch->FixParameter(0, Gamma_shape_9inch->GetParameter(0));\n",
    "Muon_shape_9inch_DC->FixParameter(0, Muon_shape_9inch_DC->GetParameter(0));\n",
    "Muon_shape_9inch_DC->FixParameter(1, Muon_shape_9inch_DC->GetParameter(1));\n",
    "Muon_shape_9inch_DC->FixParameter(2, Muon_shape_9inch_DC->GetParameter(2));\n",
    "Muon_shape_9inch_DC->FixParameter(3, Muon_shape_9inch_DC->GetParameter(3));\n",
    "Muon_shape_9inch_DC->FixParameter(4, Muon_shape_9inch_DC->GetParameter(4));\n",
    "Muon_shape_9inch_DC->FixParameter(5, Muon_shape_9inch_DC->GetParameter(5));\n",
    "Muon_shape_9inch_DC->FixParameter(6, Muon_shape_9inch_DC->GetParameter(6));\n",
    "\n",
    "Muon_shape_9inch_VNS->FixParameter(0, Muon_shape_9inch_VNS->GetParameter(0));\n",
    "Muon_shape_9inch_VNS->FixParameter(1, Muon_shape_9inch_VNS->GetParameter(1));\n",
    "Muon_shape_9inch_VNS->FixParameter(2, Muon_shape_9inch_VNS->GetParameter(2));\n",
    "Muon_shape_9inch_VNS->FixParameter(3, Muon_shape_9inch_VNS->GetParameter(3));\n",
    "Muon_shape_9inch_VNS->FixParameter(4, Muon_shape_9inch_VNS->GetParameter(4));\n",
    "Muon_shape_9inch_VNS->FixParameter(5, Muon_shape_9inch_VNS->GetParameter(5));\n",
    "Muon_shape_9inch_VNS->FixParameter(6, Muon_shape_9inch_VNS->GetParameter(6));"
   ]
  },
  {
   "cell_type": "code",
   "execution_count": 61,
   "id": "9abc8fb4",
   "metadata": {},
   "outputs": [],
   "source": [
    "Double_t MuonsplusGammas_9inch_DC(Double_t* x, Double_t *par){\n",
    "    return par[0]*Muon_shape_9inch_DC->Eval(x[0])+par[1]*Gamma_shape_9inch->Eval(x[0]);\n",
    "}"
   ]
  },
  {
   "cell_type": "code",
   "execution_count": 62,
   "id": "eee66d38",
   "metadata": {},
   "outputs": [],
   "source": [
    "Double_t MuonsplusGammas_9inch_VNS(Double_t* x, Double_t *par){\n",
    "    return par[0]*Muon_shape_9inch_VNS->Eval(x[0])+par[1]*Gamma_shape_9inch->Eval(x[0]);\n",
    "}"
   ]
  },
  {
   "cell_type": "markdown",
   "id": "931097d1",
   "metadata": {},
   "source": [
    "Then, the signal is added to the background. "
   ]
  },
  {
   "cell_type": "markdown",
   "id": "e9675f60",
   "metadata": {},
   "source": [
    "### Neutron Peak"
   ]
  },
  {
   "cell_type": "markdown",
   "id": "9d8ef11b",
   "metadata": {},
   "source": [
    "Fit of the neutron peak obtained in the simulation (cross check but not used to constrain the signal model). "
   ]
  },
  {
   "cell_type": "code",
   "execution_count": 63,
   "id": "77611f41",
   "metadata": {},
   "outputs": [
    {
     "name": "stdout",
     "output_type": "stream",
     "text": [
      " FCN=452.501 FROM MIGRAD    STATUS=CONVERGED     160 CALLS         161 TOTAL\n",
      "                     EDM=9.50802e-10    STRATEGY= 1      ERROR MATRIX ACCURATE \n",
      "  EXT PARAMETER                                   STEP         FIRST   \n",
      "  NO.   NAME      VALUE            ERROR          SIZE      DERIVATIVE \n",
      "   1  Amplitude [Counts/d/keVee]   7.14518e-01   1.60279e-03   1.32121e-05  -1.05368e-02\n",
      "   2  #mu [keVee]   2.98502e+03   4.23355e-01   4.30245e-03  -8.23813e-05\n",
      "   3  #sigma [keVee]   2.21818e+02   3.37276e-01   2.73135e-03  -1.24432e-04\n"
     ]
    }
   ],
   "source": [
    "TF1* Neutron_peak_Gaus = new TF1(\"Neutron_peak_Gaus\", \"[0]*TMath::Gaus(x, [1], [2])\", 2500, 5000);\n",
    "Neutron_peak_Gaus->SetParNames(\"Amplitude [Counts/d/keVee]\", \"#mu [keVee]\", \"#sigma [keVee]\");\n",
    "Neutron_peak_Gaus->SetParameter(0, 0.1);\n",
    "Neutron_peak_Gaus->SetParameter(1, 3500);\n",
    "Neutron_peak_Gaus->SetParameter(2, 300);\n",
    "\n",
    "h_SimuNeutrons_9inch->Fit(\"Neutron_peak_Gaus\", \"R\");"
   ]
  },
  {
   "cell_type": "code",
   "execution_count": 64,
   "id": "31f6b4bc",
   "metadata": {},
   "outputs": [
    {
     "data": {
      "image/png": "[encoded data removed]",
      "text/plain": [
       "<IPython.core.display.Image object>"
      ]
     },
     "metadata": {},
     "output_type": "display_data"
    }
   ],
   "source": [
    "TCanvas* C = new TCanvas();\n",
    "C->Draw();\n",
    "C->SetLogy();\n",
    "h_SimuNeutrons_9inch->Draw(\"\");"
   ]
  },
  {
   "cell_type": "code",
   "execution_count": 65,
   "id": "f56585fe",
   "metadata": {},
   "outputs": [
    {
     "name": "stderr",
     "output_type": "stream",
     "text": [
      "Warning in <ROOT::Fit::FillData>: fit range is outside histogram range, no fit data for xaxis\n",
      "Warning in <Fit>: Fit data is empty \n"
     ]
    }
   ],
   "source": [
    "TF1* plateau_Neutron = new TF1(\"plateau_Neutron\", \"[0]*x +[1]\", 4800, 5800);\n",
    "plateau_Neutron->SetParameter(0, 1e-2);\n",
    "plateau_Neutron->SetParameter(1, 5500);\n",
    "\n",
    "h_SimuNeutrons_9inch->Fit(\"plateau_Neutron\", \"R\");\n",
    "\n",
    "plateau_Neutron->FixParameter(0, plateau_Neutron->GetParameter(0));\n",
    "plateau_Neutron->FixParameter(1, plateau_Neutron->GetParameter(1));"
   ]
  },
  {
   "cell_type": "code",
   "execution_count": 66,
   "id": "52c8b7b6",
   "metadata": {},
   "outputs": [
    {
     "data": {
      "image/png": "[encoded data removed]",
      "text/plain": [
       "<IPython.core.display.Image object>"
      ]
     },
     "metadata": {},
     "output_type": "display_data"
    }
   ],
   "source": [
    "TCanvas* C = new TCanvas();\n",
    "C->Draw();\n",
    "C->SetLogy();\n",
    "h_SimuNeutrons_9inch->Draw(\"\");"
   ]
  },
  {
   "cell_type": "code",
   "execution_count": 67,
   "id": "6b783c2a",
   "metadata": {},
   "outputs": [],
   "source": [
    "Double_t Neutron_PeakAndHighE_9inch(Double_t* x, Double_t *par){\n",
    "    Double_t par_cdf[2]= {par[4], par[5]};\n",
    "    return par[0]*TMath::Gaus(x[0], par[1], par[2])+cdf(x, par_cdf)*par[3]*plateau_Neutron->Eval(x[0]);\n",
    "}"
   ]
  },
  {
   "cell_type": "code",
   "execution_count": 68,
   "id": "bc8dfc01",
   "metadata": {},
   "outputs": [
    {
     "data": {
      "image/png": "[encoded data removed]",
      "text/plain": [
       "<IPython.core.display.Image object>"
      ]
     },
     "metadata": {},
     "output_type": "display_data"
    },
    {
     "name": "stdout",
     "output_type": "stream",
     "text": [
      " FCN=150681 FROM MIGRAD    STATUS=FAILED        181 CALLS         182 TOTAL\n",
      "                     EDM=1.84645e+07    STRATEGY= 1      ERR MATRIX NOT POS-DEF\n",
      "  EXT PARAMETER                APPROXIMATE        STEP         FIRST   \n",
      "  NO.   NAME      VALUE            ERROR          SIZE      DERIVATIVE \n",
      "   1  p0           5.22128e-01   1.29228e+00   0.00000e+00  -4.25183e+04\n",
      "   2  p1           2.80136e+03   1.00000e+00   0.00000e+00  -7.34096e+02\n",
      "   3  p2           1.54660e+02   1.29437e+00   0.00000e+00  -5.78019e+02\n",
      "   4  p3           1.86088e-07   1.29228e+00  -0.00000e+00   1.53187e+09\n",
      "   5  p4           4.00000e+03     fixed    \n",
      "   6  p5           1.00000e+02     fixed    \n"
     ]
    },
    {
     "name": "stderr",
     "output_type": "stream",
     "text": [
      "Warning in <Fit>: Abnormal termination of minimization.\n"
     ]
    }
   ],
   "source": [
    "TF1* Neutron_shape = new TF1(\"Neutron_shape\", \"Neutron_PeakAndHighE_9inch\", 1000, 4500, 6);\n",
    "Neutron_shape->SetParameter(0, Neutron_peak_Gaus->GetParameter(0));\n",
    "Neutron_shape->SetParameter(1, Neutron_peak_Gaus->GetParameter(1));\n",
    "Neutron_shape->SetParameter(2, Neutron_peak_Gaus->GetParameter(2));\n",
    "Neutron_shape->SetParameter(3, 1);\n",
    "Neutron_shape->FixParameter(4, 4000);\n",
    "Neutron_shape->FixParameter(5, 100);\n",
    "\n",
    "h_SimuNeutrons_9inch->Fit(\"Neutron_shape\", \"R\", \"\", 2000, 4500);\n",
    "\n",
    "TCanvas* C = new TCanvas();\n",
    "C->Draw();\n",
    "C->SetLogy();\n",
    "h_SimuNeutrons_9inch->Draw(\"\");\n",
    "\n",
    "Neutron_shape->FixParameter(0, Neutron_shape->GetParameter(0));\n",
    "Neutron_shape->FixParameter(3, Neutron_shape->GetParameter(3));\n",
    "Neutron_shape->FixParameter(4, Neutron_shape->GetParameter(4));\n",
    "Neutron_shape->FixParameter(5, Neutron_shape->GetParameter(5));"
   ]
  },
  {
   "cell_type": "markdown",
   "id": "14819f35",
   "metadata": {},
   "source": [
    "The signal model is the sum of the two background contributions (gammas and muons) and a gaussian. It has 5 parameters : gamma weight, muon weight, neutron weight, neutron peak position and neutron peak width. "
   ]
  },
  {
   "cell_type": "markdown",
   "id": "962fd144",
   "metadata": {},
   "source": [
    "Remark: given the contribution of neutrons at low energies and the kind of plateau before the neutron capture peak, it could be interesting to improve the model by including those parts of the neutron spectrum in the signal model function. "
   ]
  },
  {
   "cell_type": "code",
   "execution_count": 69,
   "id": "0a9879e5",
   "metadata": {},
   "outputs": [],
   "source": [
    "Double_t SignalPlusBackground_9inch_DC(Double_t* x, Double_t *par){\n",
    "    Neutron_shape->SetParameter(1, par[3]);\n",
    "    Neutron_shape->SetParameter(2, par[4]);\n",
    "    return par[0]*Muon_shape_9inch_DC->Eval(x[0])+par[1]*Gamma_shape_9inch->Eval(x[0])+par[2]*Neutron_shape->Eval(x[0]);\n",
    "}"
   ]
  },
  {
   "cell_type": "code",
   "execution_count": 70,
   "id": "cc4cbafb",
   "metadata": {},
   "outputs": [],
   "source": [
    "Double_t SignalPlusBackground_9inch_VNS(Double_t* x, Double_t *par){\n",
    "    Neutron_shape->SetParameter(1, par[3]);\n",
    "    Neutron_shape->SetParameter(2, par[4]);\n",
    "    return par[0]*Muon_shape_9inch_VNS->Eval(x[0])+par[1]*Gamma_shape_9inch->Eval(x[0])+par[2]*Neutron_shape->Eval(x[0]);\n",
    "}"
   ]
  },
  {
   "cell_type": "code",
   "execution_count": 71,
   "id": "f2eef368",
   "metadata": {},
   "outputs": [],
   "source": [
    "Double_t Gammas_9inch(Double_t* x, Double_t *par){\n",
    "    return par[0]*Gamma_shape_9inch->Eval(x[0]);\n",
    "}"
   ]
  },
  {
   "cell_type": "code",
   "execution_count": 72,
   "id": "02b14cc4",
   "metadata": {},
   "outputs": [],
   "source": [
    "Double_t Muons_9inch_DC(Double_t* x, Double_t *par){\n",
    "    return par[0]*Muon_shape_9inch_DC->Eval(x[0]);\n",
    "}"
   ]
  },
  {
   "cell_type": "code",
   "execution_count": 73,
   "id": "1f28b84f",
   "metadata": {},
   "outputs": [],
   "source": [
    "Double_t Muons_9inch_VNS(Double_t* x, Double_t *par){\n",
    "    return par[0]*Muon_shape_9inch_VNS->Eval(x[0]);\n",
    "}"
   ]
  },
  {
   "cell_type": "code",
   "execution_count": 74,
   "id": "4d4c50c7",
   "metadata": {},
   "outputs": [],
   "source": [
    "Double_t Neutrons_9inch(Double_t* x, Double_t *par){\n",
    "    Neutron_shape->SetParameter(1, par[1]);\n",
    "    Neutron_shape->SetParameter(2, par[2]);\n",
    "    return par[0]*Neutron_shape->Eval(x[0]);\n",
    "}"
   ]
  },
  {
   "cell_type": "code",
   "execution_count": 75,
   "id": "bb923669",
   "metadata": {},
   "outputs": [],
   "source": [
    "TF1* Sum_background_9inch_DC = new TF1(\"Sum_background_9inch_DC\", MuonsplusGammas_9inch_DC, Emin_fit, Emax_fit, 2);\n",
    "Sum_background_9inch_DC->SetParNames(\"Norm_muons\", \"Norm_gammas\");\n",
    "\n",
    "TF1* Sum_background_9inch_VNS = new TF1(\"Sum_background_9inch_VNS\", MuonsplusGammas_9inch_VNS, Emin_fit, Emax_fit, 2);\n",
    "Sum_background_9inch_VNS->SetParNames(\"Norm_muons\", \"Norm_gammas\");"
   ]
  },
  {
   "cell_type": "code",
   "execution_count": 76,
   "id": "4f683d4f",
   "metadata": {},
   "outputs": [],
   "source": [
    "TF1* Muon_background_9inch_DC = new TF1(\"Muon_background_9inch_DC\", Muons_9inch_DC, Emin_fit, Emax_fit, 1);\n",
    "Muon_background_9inch_DC->SetParNames(\"Norm_muons\");\n",
    "\n",
    "TF1* Muon_background_9inch_VNS = new TF1(\"Muon_background_9inch_VNS\", Muons_9inch_VNS, Emin_fit, Emax_fit, 1);\n",
    "Muon_background_9inch_VNS->SetParNames(\"Norm_muons\");"
   ]
  },
  {
   "cell_type": "code",
   "execution_count": 77,
   "id": "29d5a2ce",
   "metadata": {},
   "outputs": [],
   "source": [
    "TF1* Gamma_background_9inch = new TF1(\"Gamma_background_9inch\", Gammas_9inch, Emin_fit, Emax_fit, 1);\n",
    "Gamma_background_9inch->SetParNames(\"Norm_gammas\");"
   ]
  },
  {
   "cell_type": "code",
   "execution_count": 78,
   "id": "16a867ee",
   "metadata": {},
   "outputs": [],
   "source": [
    "TF1* Neutron_signal_9inch = new TF1(\"Neutron_signal_9inch\", Neutrons_9inch, Emin_fit, Emax_fit, 3);\n",
    "Gamma_background_9inch->SetParNames(\"Norm_Neutrons\");"
   ]
  },
  {
   "cell_type": "code",
   "execution_count": 79,
   "id": "ba9aefc4",
   "metadata": {},
   "outputs": [],
   "source": [
    "TF1* SignalandBackground_9inch_DC = new TF1(\"SignalandBackground_9inch_DC\", SignalPlusBackground_9inch_DC, Emin_fit, Emax_fit, 5);\n",
    "SignalandBackground_9inch_DC->SetParNames(\"Norm_muons\", \"Norm_gammas\", \"Norm_Neutr\", \"Mean_gauss\", \"Sigma_gauss\");\n",
    "\n",
    "TF1* SignalandBackground_9inch_VNS = new TF1(\"SignalandBackground_9inch_VNS\", SignalPlusBackground_9inch_VNS, Emin_fit, Emax_fit, 5);\n",
    "SignalandBackground_9inch_VNS->SetParNames(\"Norm_muons\", \"Norm_gammas\", \"Norm_Neutr\", \"Mean_gauss\", \"Sigma_gauss\");"
   ]
  },
  {
   "cell_type": "markdown",
   "id": "6d0510ed",
   "metadata": {},
   "source": [
    "## Fit"
   ]
  },
  {
   "cell_type": "markdown",
   "id": "e864f906",
   "metadata": {},
   "source": [
    "Fitting procedure : the shapes of background contributions have been constrained by the fit of the simulations before. The weight of each contribution is fitted as well as the neutron peak (in shape and norm). <br>  <br> \n",
    "The number of events in the neutron peak are calculated as follow: <br>\n",
    "<b>N_ev_tot</b> = The total number of events in the histogram in the peak region [2500, 4500 keVee]. The uncertainty is statistical only. <br>\n",
    "<b>N_ev_bckg</b> = The integral of the background from fit result in the peak region. The uncertainty is obtained from the fit parameters errors on muon and gamma normalization.  <br>\n",
    "<b>N_ev_in_neutron_peak</b> = N_ev_tot-N_ev_bckg with the error propagation from the two previous errors quoted."
   ]
  },
  {
   "cell_type": "markdown",
   "id": "54b16e7b",
   "metadata": {},
   "source": [
    "### DCHut\n",
    "Fit of the data at surface."
   ]
  },
  {
   "cell_type": "code",
   "execution_count": 80,
   "id": "c3389ed6",
   "metadata": {},
   "outputs": [
    {
     "name": "stdout",
     "output_type": "stream",
     "text": [
      " FCN=251.393 FROM MIGRAD    STATUS=CONVERGED     157 CALLS         158 TOTAL\n",
      "                     EDM=4.04977e-08    STRATEGY= 1      ERROR MATRIX ACCURATE \n",
      "  EXT PARAMETER                                   STEP         FIRST   \n",
      "  NO.   NAME      VALUE            ERROR          SIZE      DERIVATIVE \n",
      "   1  Norm_muons   1.73685e-01   1.26792e-03   7.44158e-06   2.69826e-01\n",
      "   2  Norm_gammas   7.95576e-01   1.12535e-02   6.84847e-05   1.32282e-02\n",
      "   3  Norm_Neutr   4.20253e-01   9.81751e-03   5.84291e-05   1.11508e-02\n",
      "   4  Mean_gauss   3.06555e+03   5.87735e+00   1.28060e-04   3.06252e-03\n",
      "   5  Sigma_gauss   2.64129e+02   5.82804e+00   3.28676e-02   3.83293e-05\n",
      "\n",
      "Chi2/ndf = 251.393/105 = 2.39422\n",
      "\n",
      "Total N_ev in peak region = 253.492 ev/d +- 2.72085 ev/d\n",
      "N_ev in neutron peak from fit = 142.821 ev/d +- 3.33645 ev/d (error from normalization error only!)\n",
      "N_ev in background = 104.538 ev/d +- 1.13402 ev/d\n",
      "N_ev in neutron peak from data - bckg = 148.954 ev/d +- 2.94772 ev/d\n"
     ]
    }
   ],
   "source": [
    "SignalandBackground_9inch_DC->SetParameter(3, 3000);\n",
    "SignalandBackground_9inch_DC->SetParLimits(3, 2800, 3500);\n",
    "SignalandBackground_9inch_DC->SetParameter(2, 1);\n",
    "\n",
    "if (SignalandBackground_9inch_DC->GetParameter(4)==0) SignalandBackground_9inch_DC->SetParameter(4, Resol_NP);\n",
    "\n",
    "\n",
    "TFitResultPtr r = hCal_DC_9inch->Fit(SignalandBackground_9inch_DC, \"S0\", \"\", 600, 6000);\n",
    "\n",
    "\n",
    "TMatrixD CovMat_DC = r->GetCovarianceMatrix();\n",
    "\n",
    "//CovMat_DC.Print();\n",
    "\n",
    "Double_t err_norm_NP_DC = sqrt(CovMat_DC(2,2));\n",
    "Double_t norm_NP_DC = SignalandBackground_9inch_DC->GetParameter(2);\n",
    "\n",
    "Double_t err_norm_Bkg_DC = sqrt(CovMat_DC(0,0)+CovMat_DC(1,1)+2*CovMat_DC(0,1));\n",
    "Double_t norm_Bckg_DC = SignalandBackground_9inch_DC->GetParameter(0)+SignalandBackground_9inch_DC->GetParameter(1);\n",
    "\n",
    "Double_t Norm_mu_9_DC = SignalandBackground_9inch_DC->GetParameter(0);\n",
    "Double_t err_Norm_mu_9_DC = SignalandBackground_9inch_DC->GetParError(0);\n",
    "\n",
    "Sum_background_9inch_DC->SetParameter(0, SignalandBackground_9inch_DC->GetParameter(0));\n",
    "Sum_background_9inch_DC->SetParameter(1, SignalandBackground_9inch_DC->GetParameter(1));\n",
    "\n",
    "Muon_background_9inch_DC->SetParameter(0, SignalandBackground_9inch_DC->GetParameter(0));\n",
    "Gamma_background_9inch->SetParameter(0, SignalandBackground_9inch_DC->GetParameter(1));\n",
    "\n",
    "Neutron_signal_9inch->SetParameter(0, SignalandBackground_9inch_DC->GetParameter(2));\n",
    "Neutron_signal_9inch->SetParameter(1, SignalandBackground_9inch_DC->GetParameter(3));\n",
    "Neutron_signal_9inch->SetParameter(2, SignalandBackground_9inch_DC->GetParameter(4));\n",
    "\n",
    "double Emin=2500;\n",
    "double Emax = 3900;\n",
    "\n",
    "Double_t N_ev_tot_DC = SignalandBackground_9inch_DC->Integral(Emin, Emax);\n",
    "Double_t N_ev_NP_DC = Neutron_signal_9inch->Integral(Emin, Emax);\n",
    "Double_t err_N_ev_NP_DC = (err_norm_NP_DC/norm_NP_DC)*Neutron_signal_9inch->Integral(Emin, Emax);\n",
    "Double_t N_ev_BKG_DC = Sum_background_9inch_DC->Integral(Emin, Emax);\n",
    "Double_t err_N_ev_BKG_DC = (err_norm_Bkg_DC/norm_Bckg_DC)*Sum_background_9inch_DC->Integral(Emin, Emax);\n",
    "\n",
    "Double_t err_N_ev_data_DC;\n",
    "Double_t N_ev_data_DC = hCal_DC_9inch->IntegralAndError(hCal_DC_9inch->FindBin(Emin), hCal_DC_9inch->FindBin(Emax), err_N_ev_data_DC, \"width\");\n",
    "\n",
    "Double_t err_N_ev_data_NP_DC = sqrt(err_N_ev_data_DC*err_N_ev_data_DC + err_N_ev_BKG_DC*err_N_ev_BKG_DC);\n",
    "Double_t N_ev_data_NP_DC = N_ev_data_DC-N_ev_BKG_DC;\n",
    "\n",
    "cout<<\"\\nChi2/ndf = \"<<SignalandBackground_9inch_DC->GetChisquare()<<\"/\"<<SignalandBackground_9inch_DC->GetNDF()<<\" = \"<<SignalandBackground_9inch_DC->GetChisquare()/SignalandBackground_9inch_DC->GetNDF()<<endl;\n",
    "cout<<\"\\nTotal N_ev in peak region = \"<<N_ev_data_DC<<\" ev/d +- \"<<err_N_ev_data_DC<<\" ev/d\"<<endl;\n",
    "cout<<\"N_ev in neutron peak from fit = \"<<N_ev_NP_DC<<\" ev/d +- \"<<err_N_ev_NP_DC<<\" ev/d (error from normalization error only!)\"<<endl;\n",
    "cout<<\"N_ev in background = \"<<N_ev_BKG_DC<<\" ev/d +- \"<<err_N_ev_BKG_DC<<\" ev/d\"<<endl;\n",
    "cout<<\"N_ev in neutron peak from data - bckg = \"<<N_ev_data_NP_DC<<\" ev/d +- \"<<err_N_ev_data_NP_DC<<\" ev/d\"<<endl;\n",
    "\n",
    "SignalandBackground_9inch_VNS->FixParameter(4, SignalandBackground_9inch_DC->GetParameter(4)); //Fix the sigma value of the neutron peak"
   ]
  },
  {
   "cell_type": "code",
   "execution_count": 81,
   "id": "8897049e",
   "metadata": {},
   "outputs": [
    {
     "data": {
      "image/png": "[encoded data removed]",
      "text/plain": [
       "<IPython.core.display.Image object>"
      ]
     },
     "metadata": {},
     "output_type": "display_data"
    },
    {
     "name": "stderr",
     "output_type": "stream",
     "text": [
      "Info in <TCanvas::Print>: pdf file Figs/Finals/Fit_DC_9inch.pdf has been created\n"
     ]
    }
   ],
   "source": [
    "TCanvas* C = new TCanvas(\"cDC_9inch\", \"cDC_9inch\", 800, 700);\n",
    "C->Draw();\n",
    "TPad *p0 = new TPad(\"p0\",\"p0\",0.02,0.375,0.795,1.);\n",
    "p0->Draw();\n",
    "p0->cd();\n",
    "p0->SetLeftMargin(0.1);\n",
    "p0->SetRightMargin(0.03);\n",
    "p0->SetBottomMargin(0.1);\n",
    "p0->SetTopMargin(0.02);\n",
    "\n",
    "p0->SetLogy();\n",
    "hCal_DC_9inch->Draw(\"\");\n",
    "hCal_DC_9inch->GetXaxis()->SetTitleOffset(1.1);\n",
    "hCal_DC_9inch->GetYaxis()->SetTitleOffset(1.2);\n",
    "hCal_DC_9inch->SetTitle(0);\n",
    "SignalandBackground_9inch_DC->SetLineColor(kBlack);\n",
    "hCal_DC_9inch->GetYaxis()->SetRangeUser(1e-4, 10);\n",
    "Sum_background_9inch_DC->SetLineColor(kBlue);\n",
    "Sum_background_9inch_DC->Draw(\"SAME\");\n",
    "Muon_background_9inch_DC->SetLineColor(kOrange);\n",
    "Gamma_background_9inch->SetLineColor(kRed);\n",
    "Muon_background_9inch_DC->Draw(\"SAME\");\n",
    "Gamma_background_9inch->Draw(\"SAME\");\n",
    "Gamma_background_9inch->SetLineStyle(6);\n",
    "Sum_background_9inch_DC->Draw(\"SAME\");\n",
    "SignalandBackground_9inch_DC->Draw(\"SAME\");\n",
    "Neutron_signal_9inch->SetLineColor(kMagenta+1);\n",
    "Neutron_signal_9inch->SetLineStyle(2);\n",
    "Neutron_signal_9inch->Draw(\"SAME\");\n",
    "Sum_background_9inch_DC->SetLineStyle(4);\n",
    "Sum_background_9inch_DC->SetLineColor(kCyan+2);\n",
    "Sum_background_9inch_DC->Draw(\"SAME\");\n",
    "\n",
    "TLegend* leg0 = new TLegend(0.7, 0.75, 0.95, 0.95);\n",
    "leg0->AddEntry(Sum_background_9inch_DC, \"Background\", \"l\");\n",
    "leg0->AddEntry(SignalandBackground_9inch_DC, \"Signal and Bckg\", \"l\");\n",
    "leg0->AddEntry(Neutron_signal_9inch, \"Neutron Signal\", \"l\");\n",
    "leg0->AddEntry(Muon_background_9inch_DC, \"Muon Bckg\", \"l\");\n",
    "leg0->AddEntry(Gamma_background_9inch, \"Gamma Bckg\",\"l\");\n",
    "leg0->Draw(\"SAME\");\n",
    "leg0->SetLineWidth(0);\n",
    "\n",
    "//TCanvas* C2 = new TCanvas(\"cRes_DC_9inch\", \"cRes_DC_9inch\", 1.175*C->GetWw(), 0.6*C->GetWh());\n",
    "//C2->Draw();\n",
    "C->cd();\n",
    "TPad *p1 = new TPad(\"p1\",\"p1\",0.,0.01,0.795,0.375);\n",
    "p1->Draw();\n",
    "p1->cd();\n",
    "p1->SetLeftMargin(0.12);\n",
    "p1->SetRightMargin(0.03);\n",
    "p1->SetBottomMargin(0.2);\n",
    "p1->SetTopMargin(0.04);\n",
    "\n",
    "histosRes_DC_9inch = Residuals_vec(hCal_DC_9inch, SignalandBackground_9inch_DC, 600, 6000, true);\n",
    "hRes_DC_9inch=histosRes_DC_9inch[0];\n",
    "hRes_DC_9inch->GetYaxis()->SetTitle(\"Residuals [%]\");\n",
    "hRes_DC_9inch->GetYaxis()->SetTitleOffset(0.65);\n",
    "hRes_DC_9inch->GetYaxis()->SetTitleSize(1.8*hCal_DC_9inch->GetYaxis()->GetTitleSize());\n",
    "hRes_DC_9inch->GetXaxis()->SetTitleSize(1.8*hCal_DC_9inch->GetXaxis()->GetTitleSize());\n",
    "hRes_DC_9inch->GetYaxis()->SetLabelSize(1.8*hCal_DC_9inch->GetYaxis()->GetLabelSize());\n",
    "hRes_DC_9inch->GetXaxis()->SetLabelSize(1.8*hCal_DC_9inch->GetXaxis()->GetLabelSize());\n",
    "hRes_DC_9inch->Draw(\"\");\n",
    "\n",
    "h_10pc = (TH1D*) hRes_DC_9inch->Clone();\n",
    "for (int i =1; i<=h_10pc->GetNbinsX(); i++){\n",
    "    h_10pc->SetBinContent(i, 0);\n",
    "    h_10pc->SetBinError(i, 10);\n",
    "}\n",
    "h_10pc->SetLineColorAlpha(kOrange+1, 0.2);\n",
    "h_10pc->SetMarkerColorAlpha(kOrange+1, 0.2);\n",
    "h_10pc->SetFillColorAlpha(kOrange+1, 0.2);\n",
    "h_10pc->Draw(\"E3SAME\");\n",
    "\n",
    "TLegend* leg = new TLegend(0.16, 0.25, 0.3, 0.35);\n",
    "leg->AddEntry(h_10pc, \"#pm 10%\", \"f\");\n",
    "leg->Draw(\"SAME\");\n",
    "leg->SetLineWidth(0);\n",
    "\n",
    "\n",
    "C->cd();\n",
    "TPad *p2 = new TPad(\"p2\",\"p2\",0.795,0.01,1.,0.375);\n",
    "p2->Draw();\n",
    "p2->cd();\n",
    "p2->SetLeftMargin(0.15);\n",
    "p2->SetBottomMargin(0.2);\n",
    "p2->SetTopMargin(0.04);\n",
    "\n",
    "hRedRes_DC_9inch=histosRes_DC_9inch[1];\n",
    "hRedRes_DC_9inch->Draw(\"\");\n",
    "hRedRes_DC_9inch->GetXaxis()->SetTitle(\"Residuals [#sigma]\");\n",
    "hRedRes_DC_9inch->GetYaxis()->SetTitleSize(3.*hCal_DC_9inch->GetYaxis()->GetTitleSize());\n",
    "hRedRes_DC_9inch->GetXaxis()->SetTitleSize(2.7*hCal_DC_9inch->GetXaxis()->GetTitleSize());\n",
    "hRedRes_DC_9inch->GetXaxis()->SetTitleOffset(0.7);\n",
    "hRedRes_DC_9inch->GetYaxis()->SetLabelSize(2.7*hCal_DC_9inch->GetYaxis()->GetLabelSize());\n",
    "hRedRes_DC_9inch->GetXaxis()->SetLabelSize(2.7*hCal_DC_9inch->GetXaxis()->GetLabelSize());\n",
    "hRedRes_DC_9inch->GetXaxis()->SetNdivisions(5);\n",
    "\n",
    "C->SaveAs(\"Figs/Finals/Fit_DC_9inch.pdf\");"
   ]
  },
  {
   "cell_type": "raw",
   "id": "76de457b",
   "metadata": {},
   "source": [
    "TCanvas* C11 = new TCanvas();\n",
    "C11->Draw();\n",
    "C11->SetLogy();\n",
    "hCal_DC_9inch->DrawClone(\"\");\n",
    "//h_SimuMuons_9inch->Scale(hCal_DC_9inch->GetBinContent(hCal_DC_9inch->FindBin(2000))/h_SimuMuons_9inch->GetBinContent(h_SimuMuons_9inch->FindBin(2000)));\n",
    "h_SimuMuons_9inch->Draw(\"same\");\n",
    "\n",
    "TLegend * leg = new TLegend(0.89, 0.89);\n",
    "leg->AddEntry(hCal_DC_9inch, \"Data\");\n",
    "leg->AddEntry(h_SimuMuons_9inch, \"Simu (scaled)\");\n",
    "leg->Draw(\"SAME\");\n",
    "leg->SetLineWidth(0);"
   ]
  },
  {
   "cell_type": "markdown",
   "id": "1c8d0587",
   "metadata": {},
   "source": [
    "Good agreement in shape of the fit, but the muon peak seems to not be exactly at the same position as in the simulation... (quenching?, not good calibration?) "
   ]
  },
  {
   "cell_type": "markdown",
   "id": "8305b6bf",
   "metadata": {},
   "source": [
    "### VNS\n",
    "Fit of the data in the VNS. <br>\n",
    "For the VNS, the width of the neutron peak is fixed."
   ]
  },
  {
   "cell_type": "code",
   "execution_count": 82,
   "id": "62e13a13",
   "metadata": {},
   "outputs": [
    {
     "name": "stdout",
     "output_type": "stream",
     "text": [
      " FCN=170.268 FROM MIGRAD    STATUS=CONVERGED     152 CALLS         153 TOTAL\n",
      "                     EDM=9.20828e-07    STRATEGY= 1      ERROR MATRIX ACCURATE \n",
      "  EXT PARAMETER                                   STEP         FIRST   \n",
      "  NO.   NAME      VALUE            ERROR          SIZE      DERIVATIVE \n",
      "   1  Norm_muons   7.97680e-02   8.84479e-04   3.90419e-06   1.56009e+00\n",
      "   2  Norm_gammas   9.92156e-01   1.20802e-02   5.56362e-05   8.27246e-02\n",
      "   3  Norm_Neutr   2.73881e-02   3.11649e-03   1.79884e-05   5.95326e-03\n",
      "   4  Mean_gauss   3.04150e+03   3.59354e+01   6.70517e-04  -9.19080e-03\n",
      "   5  Sigma_gauss   2.64129e+02     fixed    \n",
      " FCN=170.268 FROM MIGRAD    STATUS=CONVERGED      49 CALLS          50 TOTAL\n",
      "                     EDM=7.74626e-08    STRATEGY= 1      ERROR MATRIX ACCURATE \n",
      "  EXT PARAMETER                                   STEP         FIRST   \n",
      "  NO.   NAME      VALUE            ERROR          SIZE      DERIVATIVE \n",
      "   1  Norm_muons   7.97678e-02   8.84479e-04   3.90419e-06  -1.31299e-01\n",
      "   2  Norm_gammas   9.92153e-01   1.20802e-02   5.56362e-05  -2.94149e-02\n",
      "   3  Norm_Neutr   2.73881e-02   3.11650e-03   1.79855e-05  -1.15326e-02\n",
      "   4  Mean_gauss   3.04151e+03   3.59355e+01   6.70460e-04  -2.58090e-03\n",
      "   5  Sigma_gauss   2.64129e+02     fixed    \n",
      "\n",
      "Chi2/ndf = 170.268/103 = 1.65309\n",
      "\n",
      "Total N_ev in peak region = 57.85 ev/d +- 1.11668 ev/d\n",
      "N_ev in neutron peak from fit = 9.27149 ev/d +- 1.055 ev/d (error from normalization error only!)\n",
      "N_ev in background = 48.5785 ev/d +- 0.520481 ev/d\n",
      "N_ev in neutron peak from data - bckg = 11.3535 ev/d +- 1.23202 ev/d\n"
     ]
    }
   ],
   "source": [
    "SignalandBackground_9inch_VNS->SetParameter(3, 3000);\n",
    "SignalandBackground_9inch_VNS->SetParLimits(3, 2800, 3500);\n",
    "SignalandBackground_9inch_VNS->SetParameter(2, 1);\n",
    "\n",
    "TFitResultPtr r_9_VNS = hCal_VNS_9inch->Fit(SignalandBackground_9inch_VNS, \"SR0\", \"\", Emin_fit, Emax_fit);\n",
    "r_9_VNS = hCal_VNS_9inch->Fit(SignalandBackground_9inch_VNS, \"SR0\", \"\", Emin_fit, Emax_fit);\n",
    "\n",
    "TMatrixD CovMat_VNS = r_9_VNS->GetCovarianceMatrix();\n",
    "\n",
    "//CovMat_VNS.Print();\n",
    "\n",
    "Double_t err_norm_NP_VNS = sqrt(CovMat_VNS(2,2));\n",
    "Double_t norm_NP_VNS = SignalandBackground_9inch_VNS->GetParameter(2);\n",
    "\n",
    "Double_t err_norm_Bkg_VNS = sqrt(CovMat_VNS(0,0)+CovMat_VNS(1,1)+2*CovMat_VNS(0,1));\n",
    "Double_t norm_Bckg_VNS = SignalandBackground_9inch_VNS->GetParameter(0)+SignalandBackground_9inch_VNS->GetParameter(1);\n",
    "\n",
    "Double_t Norm_mu_9_VNS = SignalandBackground_9inch_VNS->GetParameter(0);\n",
    "Double_t err_Norm_mu_9_VNS = SignalandBackground_9inch_VNS->GetParError(0);\n",
    "\n",
    "Sum_background_9inch_VNS->SetParameter(0, SignalandBackground_9inch_VNS->GetParameter(0));\n",
    "Sum_background_9inch_VNS->SetParameter(1, SignalandBackground_9inch_VNS->GetParameter(1));\n",
    "\n",
    "Muon_background_9inch_VNS->SetParameter(0, SignalandBackground_9inch_VNS->GetParameter(0));\n",
    "Gamma_background_9inch->SetParameter(0, SignalandBackground_9inch_VNS->GetParameter(1));\n",
    "\n",
    "Neutron_signal_9inch->SetParameter(0, SignalandBackground_9inch_VNS->GetParameter(2));\n",
    "Neutron_signal_9inch->SetParameter(1, SignalandBackground_9inch_VNS->GetParameter(3));\n",
    "Neutron_signal_9inch->SetParameter(2, SignalandBackground_9inch_VNS->GetParameter(4));\n",
    "\n",
    "\n",
    "Double_t N_ev_tot_VNS = SignalandBackground_9inch_VNS->Integral(Emin, Emax);\n",
    "Double_t N_ev_NP_VNS = Neutron_signal_9inch->Integral(Emin, Emax);\n",
    "Double_t err_N_ev_NP_VNS = (err_norm_NP_VNS/norm_NP_VNS)*Neutron_signal_9inch->Integral(Emin, Emax);\n",
    "Double_t N_ev_BKG_VNS = Sum_background_9inch_VNS->Integral(Emin, Emax);\n",
    "Double_t err_N_ev_BKG_VNS = (err_norm_Bkg_VNS/norm_Bckg_VNS)*Sum_background_9inch_VNS->Integral(Emin, Emax);\n",
    "\n",
    "Double_t err_N_ev_data_VNS;\n",
    "Double_t N_ev_data_VNS = hCal_VNS_9inch->IntegralAndError(hCal_VNS_9inch->FindBin(Emin), hCal_VNS_9inch->FindBin(Emax), err_N_ev_data_VNS, \"width\");\n",
    "\n",
    "Double_t err_N_ev_data_NP_VNS = sqrt(err_N_ev_data_VNS*err_N_ev_data_VNS + err_N_ev_BKG_VNS*err_N_ev_BKG_VNS);\n",
    "Double_t N_ev_data_NP_VNS = N_ev_data_VNS-N_ev_BKG_VNS;\n",
    "\n",
    "cout<<\"\\nChi2/ndf = \"<<SignalandBackground_9inch_VNS->GetChisquare()<<\"/\"<<SignalandBackground_9inch_VNS->GetNDF()<<\" = \"<<SignalandBackground_9inch_VNS->GetChisquare()/SignalandBackground_9inch_VNS->GetNDF()<<endl;\n",
    "cout<<\"\\nTotal N_ev in peak region = \"<<N_ev_tot_VNS<<\" ev/d +- \"<<err_N_ev_data_VNS<<\" ev/d\"<<endl;\n",
    "cout<<\"N_ev in neutron peak from fit = \"<<N_ev_NP_VNS<<\" ev/d +- \"<<err_N_ev_NP_VNS<<\" ev/d (error from normalization error only!)\"<<endl;\n",
    "cout<<\"N_ev in background = \"<<N_ev_BKG_VNS<<\" ev/d +- \"<<err_N_ev_BKG_VNS<<\" ev/d\"<<endl;\n",
    "cout<<\"N_ev in neutron peak from data - bckg = \"<<N_ev_data_NP_VNS<<\" ev/d +- \"<<err_N_ev_data_NP_VNS<<\" ev/d\"<<endl;"
   ]
  },
  {
   "cell_type": "code",
   "execution_count": 83,
   "id": "f03b4546",
   "metadata": {},
   "outputs": [
    {
     "data": {
      "image/png": "[encoded data removed]",
      "text/plain": [
       "<IPython.core.display.Image object>"
      ]
     },
     "metadata": {},
     "output_type": "display_data"
    },
    {
     "name": "stderr",
     "output_type": "stream",
     "text": [
      "Warning in <TFile::Append>: Replacing existing TH1: Reduced_res_ (Potential memory leak).\n",
      "Info in <TCanvas::Print>: pdf file Figs/Finals/Fit_VNS_9inch.pdf has been created\n"
     ]
    }
   ],
   "source": [
    "TCanvas* C = new TCanvas(\"cVNS_9inch\", \"cVNS_9inch\", 800, 700);\n",
    "C->Draw();\n",
    "TPad *p0 = new TPad(\"p0\",\"p0\",0.02,0.375,0.795,1.);\n",
    "p0->Draw();\n",
    "p0->cd();\n",
    "p0->SetLeftMargin(0.1);\n",
    "p0->SetRightMargin(0.03);\n",
    "p0->SetBottomMargin(0.1);\n",
    "p0->SetTopMargin(0.02);\n",
    "\n",
    "p0->SetLogy();\n",
    "hCal_VNS_9inch->Draw(\"\");\n",
    "hCal_VNS_9inch->GetXaxis()->SetTitleOffset(1.1);\n",
    "hCal_VNS_9inch->GetYaxis()->SetTitleOffset(1.2);\n",
    "hCal_VNS_9inch->SetTitle(0);\n",
    "hCal_VNS_9inch->GetYaxis()->SetRangeUser(1e-4, 10);\n",
    "SignalandBackground_9inch_VNS->SetLineColor(kBlack);\n",
    "Sum_background_9inch_VNS->SetLineColor(kBlue);\n",
    "Sum_background_9inch_VNS->Draw(\"SAME\");\n",
    "Muon_background_9inch_VNS->SetLineColor(kOrange);\n",
    "Gamma_background_9inch->SetLineColor(kRed);\n",
    "Muon_background_9inch_VNS->Draw(\"SAME\");\n",
    "Gamma_background_9inch->Draw(\"SAME\");\n",
    "Gamma_background_9inch->SetLineStyle(6);\n",
    "Sum_background_9inch_VNS->Draw(\"SAME\");\n",
    "SignalandBackground_9inch_VNS->Draw(\"SAME\");\n",
    "Neutron_signal_9inch->SetLineColor(kMagenta+1);\n",
    "Neutron_signal_9inch->SetLineStyle(2);\n",
    "Neutron_signal_9inch->Draw(\"SAME\");\n",
    "Sum_background_9inch_VNS->SetLineStyle(4);\n",
    "Sum_background_9inch_VNS->SetLineColor(kCyan+2);\n",
    "Sum_background_9inch_VNS->Draw(\"SAME\");\n",
    "\n",
    "TLegend* leg0 = new TLegend(0.7, 0.75, 0.95, 0.95);\n",
    "leg0->AddEntry(Sum_background_9inch_VNS, \"Background\", \"l\");\n",
    "leg0->AddEntry(SignalandBackground_9inch_VNS, \"Signal and Bckg\", \"l\");\n",
    "leg0->AddEntry(Neutron_signal_9inch, \"Neutron Signal\", \"l\");\n",
    "leg0->AddEntry(Muon_background_9inch_VNS, \"Muon Bckg\", \"l\");\n",
    "leg0->AddEntry(Gamma_background_9inch, \"Gamma Bckg\", \"l\");\n",
    "leg0->Draw(\"SAME\");\n",
    "leg0->SetLineWidth(0);\n",
    "\n",
    "C->cd();\n",
    "TPad *p1 = new TPad(\"p1\",\"p1\",0.,0.02,0.795,0.375);\n",
    "p1->Draw();\n",
    "p1->cd();\n",
    "p1->SetLeftMargin(0.12);\n",
    "p1->SetRightMargin(0.03);\n",
    "p1->SetBottomMargin(0.2);\n",
    "p1->SetTopMargin(0.04);\n",
    "\n",
    "histosRes_VNS_9inch = Residuals_vec(hCal_VNS_9inch, SignalandBackground_9inch_VNS, Emin_fit, Emax_fit, true);\n",
    "hRes_VNS_9inch=histosRes_VNS_9inch[0];\n",
    "hRes_VNS_9inch->GetYaxis()->SetTitle(\"Residuals [%]\");\n",
    "hRes_VNS_9inch->GetYaxis()->SetTitleOffset(0.65);\n",
    "hRes_VNS_9inch->GetYaxis()->SetTitleSize(1.8*hCal_VNS_9inch->GetYaxis()->GetTitleSize());\n",
    "hRes_VNS_9inch->GetXaxis()->SetTitleSize(1.8*hCal_VNS_9inch->GetXaxis()->GetTitleSize());\n",
    "hRes_VNS_9inch->GetYaxis()->SetLabelSize(1.8*hCal_VNS_9inch->GetYaxis()->GetLabelSize());\n",
    "hRes_VNS_9inch->GetXaxis()->SetLabelSize(1.8*hCal_VNS_9inch->GetXaxis()->GetLabelSize());\n",
    "hRes_VNS_9inch->Draw(\"\");\n",
    "\n",
    "h_10pc->Draw(\"E3SAME\");\n",
    "\n",
    "TLegend* leg = new TLegend(0.16, 0.25, 0.3, 0.35);\n",
    "leg->AddEntry(h_10pc, \"#pm 10%\", \"f\");\n",
    "leg->Draw(\"SAME\");\n",
    "leg->SetLineWidth(0);\n",
    "\n",
    "\n",
    "C->cd();\n",
    "TPad *p2 = new TPad(\"p2\",\"p2\",0.795,0.02,1.,0.375);\n",
    "p2->Draw();\n",
    "p2->cd();\n",
    "p2->SetLeftMargin(0.15);\n",
    "p2->SetBottomMargin(0.2);\n",
    "p2->SetTopMargin(0.04);\n",
    "\n",
    "hRedRes_VNS_9inch=histosRes_VNS_9inch[1];\n",
    "hRedRes_VNS_9inch->Draw(\"\");\n",
    "hRedRes_VNS_9inch->GetXaxis()->SetTitle(\"Residuals [#sigma]\");\n",
    "hRedRes_VNS_9inch->GetYaxis()->SetTitleSize(3.*hCal_VNS_9inch->GetYaxis()->GetTitleSize());\n",
    "hRedRes_VNS_9inch->GetXaxis()->SetTitleSize(2.7*hCal_VNS_9inch->GetXaxis()->GetTitleSize());\n",
    "hRedRes_VNS_9inch->GetXaxis()->SetTitleOffset(0.7);\n",
    "hRedRes_VNS_9inch->GetYaxis()->SetLabelSize(2.7*hCal_VNS_9inch->GetYaxis()->GetLabelSize());\n",
    "hRedRes_VNS_9inch->GetXaxis()->SetLabelSize(2.7*hCal_VNS_9inch->GetXaxis()->GetLabelSize());\n",
    "hRedRes_VNS_9inch->GetXaxis()->SetNdivisions(5);\n",
    "\n",
    "C->SaveAs(\"Figs/Finals/Fit_VNS_9inch.pdf\");"
   ]
  },
  {
   "cell_type": "markdown",
   "id": "8586d025",
   "metadata": {},
   "source": [
    "# Analysis of the 8 inches sphere"
   ]
  },
  {
   "cell_type": "markdown",
   "id": "f8d33cac",
   "metadata": {},
   "source": [
    "An analogous procedure is applied to the 8 inches sphere data"
   ]
  },
  {
   "cell_type": "markdown",
   "id": "805dc53a",
   "metadata": {},
   "source": [
    "## Calibration"
   ]
  },
  {
   "cell_type": "markdown",
   "id": "a9a65351",
   "metadata": {},
   "source": [
    "The neutron capture peak positions with the 8 inches and the 9 inches sphere was noticed to not be exactly the same. So another calibration factor is defined for the 8 inches data. "
   ]
  },
  {
   "cell_type": "code",
   "execution_count": 84,
   "id": "59091205",
   "metadata": {},
   "outputs": [
    {
     "name": "stdout",
     "output_type": "stream",
     "text": [
      "\n",
      "*******************************************************\n",
      "Measures@TUM/03-14_Cf252_LMU_BS-A-08_2h.dat\n"
     ]
    }
   ],
   "source": [
    "TH1D* h_Cal_8inch = Put_data_in_histo(\"Measures@TUM/03-14_Cf252_LMU_BS-A-08_2h.dat\", 2*24*3600., \"8inch with Cf252 n source\");\n",
    "h_Cal_8inch->Rebin(4);\n",
    "h_Cal_8inch->Scale(1/4.);"
   ]
  },
  {
   "cell_type": "markdown",
   "id": "42d35564",
   "metadata": {},
   "source": [
    "h_Cal_8inch->Fit(\"Neutron_peak_MCA\", \"R\");\n",
    "\n",
    "Double_t Cal_factor_8inch = 3500./(Neutron_peak_Gaus_MCA->GetParameter(1)); //Neutron peak assumed to be at 3500keVee\n",
    "Double_t err_Cal_factor_8inch = (Neutron_peak_Gaus_MCA->GetParError(1))/(Neutron_peak_Gaus_MCA->GetParameter(1))*Cal_factor_8inch; //Neutron peak assumed to be at 3500keVee\n",
    "\n",
    "cout<<\"\\nCalibration for the 9inch sphere = \"<<Cal_factor<<\" +- \"<< err_Cal_factor<<\" keV/MCA\"<<endl;\n",
    "cout<<\"Calibration for the 8inch sphere = \"<<Cal_factor_8inch<<\" +- \"<< err_Cal_factor_8inch<<\" keV/MCA\"<<endl;"
   ]
  },
  {
   "cell_type": "markdown",
   "id": "98c59b9d",
   "metadata": {},
   "source": [
    "The calibration factors seems not so differents, but are still not compatible => Check if it is expected from simulation?"
   ]
  },
  {
   "cell_type": "markdown",
   "id": "0f7e1acf",
   "metadata": {},
   "source": [
    "TCanvas* C8 = new TCanvas();\n",
    "C8->Draw();\n",
    "C8->SetLogy();\n",
    "h_Cal_8inch->Draw();"
   ]
  },
  {
   "cell_type": "markdown",
   "id": "55219209",
   "metadata": {},
   "source": [
    "## Simulation and background model"
   ]
  },
  {
   "cell_type": "markdown",
   "id": "68d39515",
   "metadata": {},
   "source": [
    "### Gammas Background"
   ]
  },
  {
   "cell_type": "code",
   "execution_count": 85,
   "id": "67f3fb1a",
   "metadata": {},
   "outputs": [
    {
     "name": "stdout",
     "output_type": "stream",
     "text": [
      "  Primary Entries:         1790299\n",
      "  Secondary Entries:       1806637\n",
      "  Generated primaries:  12000000000\n",
      "  Equivalent time:      2272727 s (26.305 d)\n",
      " Nb of primary analysed: 1790299\n",
      " Nb of events quenched : 0\n"
     ]
    }
   ],
   "source": [
    "TH1D* h_SimuGamma_8inch = Put_simu_in_histo(\"Simulations/Env_Gammas/BS_D08/Analyzer_T_run01-06.root\", \"8 inches environmental gammas\", nbins, hEmin, hEmax, 1.20e10, 3.3, QF_neutrons, MVthr_DC, true, Resol);"
   ]
  },
  {
   "cell_type": "markdown",
   "id": "ad1700fd",
   "metadata": {},
   "source": [
    "Gamma background with the two exponentials"
   ]
  },
  {
   "cell_type": "code",
   "execution_count": 86,
   "id": "7f6455e3",
   "metadata": {},
   "outputs": [
    {
     "name": "stdout",
     "output_type": "stream",
     "text": [
      " FCN=111.347 FROM MIGRAD    STATUS=CONVERGED     462 CALLS         463 TOTAL\n",
      "                     EDM=6.6517e-07    STRATEGY= 1      ERROR MATRIX ACCURATE \n",
      "  EXT PARAMETER                                   STEP         FIRST   \n",
      "  NO.   NAME      VALUE            ERROR          SIZE      DERIVATIVE \n",
      "   1  Norm_expo1   1.35485e+00   9.20892e-03   4.64873e-05  -7.07181e-02\n",
      "   2  Norm_expo2   1.22157e+00   2.46276e-02   9.73441e-05  -2.76005e-02\n",
      "   3  pos cdf      1.11942e+03   6.47716e+01   3.70240e-04   9.11506e-03\n",
      "   4  sigma cdf    6.03616e+01   4.80557e+01   2.01982e-03  -2.46888e-04\n"
     ]
    }
   ],
   "source": [
    "TF1* Gamma_shape_8inch = new TF1(\"Gamma_shape_8inch\", Gammas, 500, 4000, 4);\n",
    "Gamma_shape_8inch->SetParNames(\"Norm_expo1\", \"Norm_expo2\", \"pos cdf\", \"sigma cdf\");\n",
    "Gamma_shape_8inch->SetParameter(2, 1200);\n",
    "Gamma_shape_8inch->SetParLimits(2, 500, 1500);\n",
    "Gamma_shape_8inch->SetParameter(3, 200);\n",
    "Gamma_shape_8inch->SetParLimits(3, 50, 500);\n",
    "h_SimuGamma_8inch->Fit(\"Gamma_shape_8inch\", \"\", \"\", 500, 4000);\n",
    "\n",
    "Gamma_shape_8inch->FixParameter(0, Gamma_shape_8inch->GetParameter(0));\n",
    "Gamma_shape_8inch->FixParameter(1, Gamma_shape_8inch->GetParameter(1));\n",
    "Gamma_shape_8inch->FixParameter(2, Gamma_shape_8inch->GetParameter(2));\n",
    "Gamma_shape_8inch->FixParameter(3, Gamma_shape_8inch->GetParameter(3));"
   ]
  },
  {
   "cell_type": "code",
   "execution_count": 87,
   "id": "47d38830",
   "metadata": {},
   "outputs": [
    {
     "data": {
      "image/png": "[encoded data removed]",
      "text/plain": [
       "<IPython.core.display.Image object>"
      ]
     },
     "metadata": {},
     "output_type": "display_data"
    },
    {
     "name": "stderr",
     "output_type": "stream",
     "text": [
      "Info in <TCanvas::Print>: png file /Users/cg264002/research/Redaction_These/Figures/Chap3/Neutrons/Gammas_8inch.png has been created\n"
     ]
    }
   ],
   "source": [
    "TCanvas* C = new TCanvas();\n",
    "C->Draw();\n",
    "C->SetLogy();\n",
    "gPad->SetLeftMargin(0.1);\n",
    "gPad->SetRightMargin(0.03);\n",
    "gPad->SetBottomMargin(0.1);\n",
    "gPad->SetTopMargin(0.02);\n",
    "h_SimuGamma_8inch->Draw();\n",
    "h_SimuGamma_8inch->SetTitle(\"\");\n",
    "C->SaveAs(\"/Users/cg264002/research/Redaction_These/Figures/Chap3/Neutrons/Gammas_8inch.png\");"
   ]
  },
  {
   "cell_type": "markdown",
   "id": "7bc2308a",
   "metadata": {},
   "source": [
    "### Muons background"
   ]
  },
  {
   "cell_type": "code",
   "execution_count": 88,
   "id": "11f515f5",
   "metadata": {},
   "outputs": [
    {
     "name": "stdout",
     "output_type": "stream",
     "text": [
      "  Primary Entries:          502660\n",
      "  Secondary Entries:        567025\n",
      "  Generated primaries:  80000000\n",
      "  Equivalent time:      2631579 s (30.458 d)\n",
      " Nb of primary analysed: 502660\n",
      " Nb of events quenched : 13\n"
     ]
    }
   ],
   "source": [
    "TH1D* h_SimuMuons_8inch_DC = Put_simu_in_histo(\"Simulations/Atm_Muons/BS_D08/Analyzer_T_run01-12.root\", \"8 inches atmospheric muons DC\", nbins, hEmin, hEmax, 8e7, 0.019, QF_neutrons, MVthr_DC, true, Resol);"
   ]
  },
  {
   "cell_type": "code",
   "execution_count": 89,
   "id": "4ceee045",
   "metadata": {},
   "outputs": [
    {
     "name": "stdout",
     "output_type": "stream",
     "text": [
      "  Primary Entries:          502660\n",
      "  Secondary Entries:        567025\n",
      "  Generated primaries:  80000000\n",
      "  Equivalent time:      2631579 s (30.458 d)\n",
      " Nb of primary analysed: 502660\n",
      " Nb of events quenched : 13\n"
     ]
    }
   ],
   "source": [
    "TH1D* h_SimuMuons_8inch_VNS = Put_simu_in_histo(\"Simulations/Atm_Muons/BS_D08/Analyzer_T_run01-12.root\", \"8 inches atmospheric muons VNS\",nbins, hEmin, hEmax, 8e7, 0.019, QF_neutrons, MVthr_VNS, true, Resol);"
   ]
  },
  {
   "cell_type": "code",
   "execution_count": 90,
   "id": "c16526a3",
   "metadata": {},
   "outputs": [
    {
     "data": {
      "image/png": "[encoded data removed]",
      "text/plain": [
       "<IPython.core.display.Image object>"
      ]
     },
     "metadata": {},
     "output_type": "display_data"
    }
   ],
   "source": [
    "TCanvas *C = new TCanvas();\n",
    "C->Draw();\n",
    "h_SimuMuons_8inch_DC->SetLineColor(kBlue);\n",
    "h_SimuMuons_8inch_VNS->SetLineColor(kRed);\n",
    "h_SimuMuons_8inch_DC->Draw(\"HIST\");\n",
    "h_SimuMuons_8inch_VNS->Draw(\"HIST SAME\");"
   ]
  },
  {
   "cell_type": "markdown",
   "id": "3320af89",
   "metadata": {},
   "source": [
    "Muon Background: 1- Muons Peak"
   ]
  },
  {
   "cell_type": "code",
   "execution_count": 91,
   "id": "caaa40fa",
   "metadata": {},
   "outputs": [
    {
     "name": "stdout",
     "output_type": "stream",
     "text": [
      " FCN=112.85 FROM MIGRAD    STATUS=CONVERGED     126 CALLS         127 TOTAL\n",
      "                     EDM=8.65043e-08    STRATEGY= 1      ERROR MATRIX ACCURATE \n",
      "  EXT PARAMETER                                   STEP         FIRST   \n",
      "  NO.   NAME      VALUE            ERROR          SIZE      DERIVATIVE \n",
      "   1  Amplitude_mu []   3.12663e+01   1.24031e-01   4.32663e-04   3.45875e-03\n",
      "   2  MPV [keVee]   1.06174e+03   2.67274e+00   1.11583e-02   1.34930e-04\n",
      "   3  [Sigma [keVee]]   2.35366e+02   1.81071e+00   6.95053e-06   7.92292e-02\n"
     ]
    }
   ],
   "source": [
    "TF1* Muon_peak_8inch_DC = new TF1(\"Muon_peak_8inch_DC\", \"landau\", 800, 2000); //Landau in muon peak region\n",
    "Muon_peak_8inch_DC->SetParNames(\"Amplitude_mu []\", \"MPV [keVee]\", \"[Sigma [keVee]]\");\n",
    "Muon_peak_8inch_DC->SetParameters(1,1200,100);\n",
    "h_SimuMuons_8inch_DC->Fit(\"Muon_peak_8inch_DC\", \"R\");\n",
    "\n",
    "Muon_peak_8inch_DC->FixParameter(0,Muon_peak_8inch_DC->GetParameter(0));\n",
    "Muon_peak_8inch_DC->FixParameter(1,Muon_peak_8inch_DC->GetParameter(1));\n",
    "Muon_peak_8inch_DC->FixParameter(2,Muon_peak_8inch_DC->GetParameter(2));"
   ]
  },
  {
   "cell_type": "code",
   "execution_count": 92,
   "id": "79307904",
   "metadata": {},
   "outputs": [
    {
     "name": "stdout",
     "output_type": "stream",
     "text": [
      " FCN=113.001 FROM MIGRAD    STATUS=CONVERGED     134 CALLS         135 TOTAL\n",
      "                     EDM=3.77068e-12    STRATEGY= 1      ERROR MATRIX ACCURATE \n",
      "  EXT PARAMETER                                   STEP         FIRST   \n",
      "  NO.   NAME      VALUE            ERROR          SIZE      DERIVATIVE \n",
      "   1  Amplitude_mu []   3.12549e+01   1.23814e-01   4.33002e-04  -1.18962e-06\n",
      "   2  MPV [keVee]   1.06350e+03   2.62567e+00   1.10861e-02  -6.41395e-07\n",
      "   3  [Sigma [keVee]]   2.34433e+02   1.78243e+00   6.91558e-06  -1.42551e-03\n"
     ]
    }
   ],
   "source": [
    "TF1* Muon_peak_8inch_VNS = new TF1(\"Muon_peak_8inch_VNS\", \"landau\", 800, 2000); //Landau in muon peak region\n",
    "Muon_peak_8inch_VNS->SetParNames(\"Amplitude_mu []\", \"MPV [keVee]\", \"[Sigma [keVee]]\");\n",
    "Muon_peak_8inch_VNS->SetParameters(1,1200,100);\n",
    "h_SimuMuons_8inch_VNS->Fit(\"Muon_peak_8inch_VNS\", \"R\");\n",
    "\n",
    "Muon_peak_8inch_VNS->FixParameter(0,Muon_peak_8inch_VNS->GetParameter(0));\n",
    "Muon_peak_8inch_VNS->FixParameter(1,Muon_peak_8inch_VNS->GetParameter(1));\n",
    "Muon_peak_8inch_VNS->FixParameter(2,Muon_peak_8inch_VNS->GetParameter(2));"
   ]
  },
  {
   "cell_type": "code",
   "execution_count": 93,
   "id": "e35b312b",
   "metadata": {},
   "outputs": [
    {
     "data": {
      "image/png": "[encoded data removed]",
      "text/plain": [
       "<IPython.core.display.Image object>"
      ]
     },
     "metadata": {},
     "output_type": "display_data"
    }
   ],
   "source": [
    "TCanvas* C = new TCanvas();\n",
    "C->Draw();\n",
    "C->SetLogy();\n",
    "h_SimuMuons_8inch_DC->Draw();\n",
    "h_SimuMuons_8inch_VNS->Draw(\"Same\");"
   ]
  },
  {
   "cell_type": "markdown",
   "id": "231f2df4",
   "metadata": {},
   "source": [
    "2- Muon Plateau"
   ]
  },
  {
   "cell_type": "code",
   "execution_count": 94,
   "id": "b875ffd3",
   "metadata": {},
   "outputs": [
    {
     "name": "stdout",
     "output_type": "stream",
     "text": [
      " FCN=70.9198 FROM HESSE     STATUS=NOT POSDEF     31 CALLS        1021 TOTAL\n",
      "                     EDM=1.70926e-07    STRATEGY= 1      ERR MATRIX NOT POS-DEF\n",
      "  EXT PARAMETER                APPROXIMATE        STEP         FIRST   \n",
      "  NO.   NAME      VALUE            ERROR          SIZE      DERIVATIVE \n",
      "   1  a            1.19810e+00   3.87488e-02   2.99626e-06   7.04658e-02\n",
      "   2  b           -8.65382e-06   8.14399e-05   5.50761e-09   1.67240e+01\n",
      "   3  c            2.03784e+00   1.28131e-01   9.88488e-06   2.13085e-02\n",
      "   4  d           -1.56266e-02   2.68457e-04   1.81598e-08   5.15745e+00\n",
      "   5  e            1.71189e-05   2.81850e-07   2.98911e-11   3.63800e+02\n"
     ]
    }
   ],
   "source": [
    "TF1* Muon_plateau_8inch_DC = new TF1(\"Muon_plateau_8inch_DC\", \"expo+pol2(2)\", 300,800); \n",
    "Muon_plateau_8inch_DC->SetParNames(\"a\", \"b\", \"c\", \"d\", \"e\");\n",
    "h_SimuMuons_8inch_DC->Fit(\"Muon_plateau_8inch_DC\", \"R\");"
   ]
  },
  {
   "cell_type": "code",
   "execution_count": 95,
   "id": "460cb2fe",
   "metadata": {},
   "outputs": [
    {
     "name": "stdout",
     "output_type": "stream",
     "text": [
      " FCN=71.8379 FROM HESSE     STATUS=NOT POSDEF     31 CALLS         868 TOTAL\n",
      "                     EDM=9.93978e-07    STRATEGY= 1      ERR MATRIX NOT POS-DEF\n",
      "  EXT PARAMETER                APPROXIMATE        STEP         FIRST   \n",
      "  NO.   NAME      VALUE            ERROR          SIZE      DERIVATIVE \n",
      "   1  a            9.42932e-01   4.77430e-02   3.73038e-06   2.68578e-01\n",
      "   2  b           -1.13750e-05   9.37044e-05   6.47112e-09   1.74777e+02\n",
      "   3  c            3.50192e+00   1.22240e-01   9.49966e-06   1.05386e-01\n",
      "   4  d           -1.86579e-02   2.38949e-04   1.64566e-08   6.88473e+01\n",
      "   5  e            2.01289e-05   2.23006e-07   2.49004e-11   4.72109e+04\n"
     ]
    }
   ],
   "source": [
    "TF1* Muon_plateau_8inch_VNS = new TF1(\"Muon_plateau_8inch_VNS\", \"expo+pol2(2)\", 300,900); \n",
    "Muon_plateau_8inch_VNS->SetParNames(\"a\", \"b\", \"c\", \"d\", \"e\");\n",
    "h_SimuMuons_8inch_VNS->Fit(\"Muon_plateau_8inch_VNS\", \"R\");"
   ]
  },
  {
   "cell_type": "code",
   "execution_count": 96,
   "id": "04bbf578",
   "metadata": {},
   "outputs": [
    {
     "data": {
      "image/png": "[encoded data removed]",
      "text/plain": [
       "<IPython.core.display.Image object>"
      ]
     },
     "metadata": {},
     "output_type": "display_data"
    }
   ],
   "source": [
    "TCanvas* C = new TCanvas();\n",
    "C->Draw();\n",
    "C->SetLogy();\n",
    "h_SimuMuons_8inch_DC->Draw();\n",
    "h_SimuMuons_8inch_VNS->Draw(\"Same\");"
   ]
  },
  {
   "cell_type": "markdown",
   "id": "f0995ffa",
   "metadata": {},
   "source": [
    "3- Muon queue"
   ]
  },
  {
   "cell_type": "code",
   "execution_count": 97,
   "id": "65189417",
   "metadata": {},
   "outputs": [
    {
     "name": "stdout",
     "output_type": "stream",
     "text": [
      " FCN=215.844 FROM MIGRAD    STATUS=CONVERGED      52 CALLS          53 TOTAL\n",
      "                     EDM=9.27688e-08    STRATEGY= 1      ERROR MATRIX ACCURATE \n",
      "  EXT PARAMETER                                   STEP         FIRST   \n",
      "  NO.   NAME      VALUE            ERROR          SIZE      DERIVATIVE \n",
      "   1  Constant     3.22333e+00   2.45940e-02   3.46473e-05   6.20815e-02\n",
      "   2  Slope       -1.38881e-03   9.98965e-06   1.40731e-08   1.80901e+02\n",
      " FCN=11.9736 FROM MIGRAD    STATUS=CONVERGED      55 CALLS          56 TOTAL\n",
      "                     EDM=3.45653e-10    STRATEGY= 1      ERROR MATRIX ACCURATE \n",
      "  EXT PARAMETER                                   STEP         FIRST   \n",
      "  NO.   NAME      VALUE            ERROR          SIZE      DERIVATIVE \n",
      "   1  Constant     1.82594e+00   8.20671e-01   4.71395e-05   3.04804e-04\n",
      "   2  Slope       -1.00375e-03   1.92533e-04   1.10592e-08   1.16873e+00\n",
      " FCN=67.9034 FROM MIGRAD    STATUS=CONVERGED     422 CALLS         423 TOTAL\n",
      "                     EDM=1.14129e-06    STRATEGY= 1      ERROR MATRIX ACCURATE \n",
      "  EXT PARAMETER                                   STEP         FIRST   \n",
      "  NO.   NAME      VALUE            ERROR          SIZE      DERIVATIVE \n",
      "   1  p0           5.27020e+00   6.86740e-01   7.26034e-05  -3.34494e-02\n",
      "   2  p1          -2.93388e-03   4.65266e-04   3.54689e-08  -7.30296e+01\n",
      "   3  p2           2.23694e+00   2.49789e-01   2.45425e-05  -1.80196e-01\n",
      "   4  p3          -1.09594e-03   6.07215e-05   8.91047e-09  -5.67044e+02\n"
     ]
    }
   ],
   "source": [
    "TF1* Muon_queue_8inch_DC_start = new TF1(\"Muon_queue_8inch_DC_start\", \"expo(0)\", 1800, 4000); \n",
    "Muon_queue_8inch_DC_start->SetParameter(0, -10);\n",
    "Muon_queue_8inch_DC_start->SetParameter(1, -0.003);\n",
    "h_SimuMuons_8inch_DC->Fit(\"Muon_queue_8inch_DC_start\", \"R\");\n",
    "\n",
    "TF1* Muon_queue_8inch_DC_end = new TF1(\"Muon_queue_8inch_end_DC\", \"expo(0)\", 4000, 5500); \n",
    "Muon_queue_8inch_DC_end->SetParameter(0, -10);\n",
    "Muon_queue_8inch_DC_end->SetParameter(1, -0.003);\n",
    "h_SimuMuons_8inch_DC->Fit(\"Muon_queue_8inch_end_DC\", \"R\");\n",
    "\n",
    "TF1* Muon_queue_8inch_DC = new TF1(\"Muon_queue_8inch_DC\", \"expo(0)+expo(2)\", 1800, 5500); \n",
    "//Muon_queue_9inch->SetParNames(\"Norm\", \"slope\", \"Norm_NP\", \"mean_NP\", \"sigma_NP\");\n",
    "Muon_queue_8inch_DC->SetParameter(0, Muon_queue_8inch_DC_start->GetParameter(0));\n",
    "Muon_queue_8inch_DC->SetParameter(1, Muon_queue_8inch_DC_start->GetParameter(1));\n",
    "Muon_queue_8inch_DC->SetParameter(2, Muon_queue_8inch_DC_end->GetParameter(0));\n",
    "Muon_queue_8inch_DC->SetParameter(3, Muon_queue_8inch_DC_end->GetParameter(1));\n",
    "\n",
    "h_SimuMuons_8inch_DC->Fit(\"Muon_queue_8inch_DC\", \"R\");\n",
    "\n",
    "Muon_queue_8inch_DC->FixParameter(0, Muon_queue_8inch_DC->GetParameter(0));\n",
    "Muon_queue_8inch_DC->FixParameter(1, Muon_queue_8inch_DC->GetParameter(1));\n",
    "Muon_queue_8inch_DC->FixParameter(2, Muon_queue_8inch_DC->GetParameter(2));\n",
    "Muon_queue_8inch_DC->FixParameter(3, Muon_queue_8inch_DC->GetParameter(3));"
   ]
  },
  {
   "cell_type": "code",
   "execution_count": 98,
   "id": "eecdde9a",
   "metadata": {},
   "outputs": [
    {
     "name": "stdout",
     "output_type": "stream",
     "text": [
      " FCN=144.044 FROM MIGRAD    STATUS=CONVERGED      53 CALLS          54 TOTAL\n",
      "                     EDM=6.23857e-07    STRATEGY= 1      ERROR MATRIX ACCURATE \n",
      "  EXT PARAMETER                                   STEP         FIRST   \n",
      "  NO.   NAME      VALUE            ERROR          SIZE      DERIVATIVE \n",
      "   1  Constant     3.25325e+00   2.42441e-02   2.83214e-05  -2.29005e-01\n",
      "   2  Slope       -1.40085e-03   9.85538e-06   1.15129e-08  -5.34261e+02\n",
      " FCN=26.8786 FROM MIGRAD    STATUS=CONVERGED      53 CALLS          54 TOTAL\n",
      "                     EDM=4.87773e-08    STRATEGY= 1      ERROR MATRIX ACCURATE \n",
      "  EXT PARAMETER                                   STEP         FIRST   \n",
      "  NO.   NAME      VALUE            ERROR          SIZE      DERIVATIVE \n",
      "   1  Constant     1.16440e+00   8.74962e-01   6.69442e-05   5.04648e-03\n",
      "   2  Slope       -8.33801e-04   2.05084e-04   1.56910e-08   2.01382e+01\n",
      " FCN=73.1438 FROM HESSE     STATUS=OK             23 CALLS         289 TOTAL\n",
      "                     EDM=7.43433e-08    STRATEGY= 1      ERROR MATRIX ACCURATE \n",
      "  EXT PARAMETER                                   STEP         FIRST   \n",
      "  NO.   NAME      VALUE            ERROR          SIZE      DERIVATIVE \n",
      "   1  p0           4.03706e+00   2.21027e-01   6.70302e-06   2.20587e-03\n",
      "   2  p1          -1.96308e-03   2.08795e-04   3.00065e-09   1.25968e+01\n",
      "   3  p2           8.84638e-01   7.94717e-01   8.67840e-06   1.81405e-02\n",
      "   4  p3          -8.04450e-04   1.64158e-04   2.83423e-09   7.54880e+01\n"
     ]
    }
   ],
   "source": [
    "TF1* Muon_queue_8inch_VNS_start = new TF1(\"Muon_queue_8inch_VNS_start\", \"expo(0)\", 1800, 4000); \n",
    "Muon_queue_8inch_VNS_start->SetParameter(0, -10);\n",
    "Muon_queue_8inch_VNS_start->SetParameter(1, -0.003);\n",
    "h_SimuMuons_8inch_VNS->Fit(\"Muon_queue_8inch_VNS_start\", \"R\");\n",
    "\n",
    "TF1* Muon_queue_8inch_VNS_end = new TF1(\"Muon_queue_8inch_end_VNS\", \"expo(0)\", 4000, 5500); \n",
    "Muon_queue_8inch_VNS_end->SetParameter(0, -10);\n",
    "Muon_queue_8inch_VNS_end->SetParameter(1, -0.003);\n",
    "h_SimuMuons_8inch_VNS->Fit(\"Muon_queue_8inch_end_VNS\", \"R\");\n",
    "\n",
    "TF1* Muon_queue_8inch_VNS = new TF1(\"Muon_queue_8inch_VNS\", \"expo(0)+expo(2)\", 1800, 5500); \n",
    "//Muon_queue_9inch->SetParNames(\"Norm\", \"slope\", \"Norm_NP\", \"mean_NP\", \"sigma_NP\");\n",
    "Muon_queue_8inch_VNS->SetParameter(0, Muon_queue_8inch_VNS_start->GetParameter(0));\n",
    "Muon_queue_8inch_VNS->SetParameter(1, Muon_queue_8inch_VNS_start->GetParameter(1));\n",
    "Muon_queue_8inch_VNS->SetParameter(2, Muon_queue_8inch_VNS_end->GetParameter(0));\n",
    "Muon_queue_8inch_VNS->SetParameter(3, Muon_queue_8inch_VNS_end->GetParameter(1));\n",
    "\n",
    "h_SimuMuons_8inch_VNS->Fit(\"Muon_queue_8inch_VNS\", \"R\");\n",
    "\n",
    "Muon_queue_8inch_VNS->FixParameter(0, Muon_queue_8inch_VNS->GetParameter(0));\n",
    "Muon_queue_8inch_VNS->FixParameter(1, Muon_queue_8inch_VNS->GetParameter(1));\n",
    "Muon_queue_8inch_VNS->FixParameter(2, Muon_queue_8inch_VNS->GetParameter(2));\n",
    "Muon_queue_8inch_VNS->FixParameter(3, Muon_queue_8inch_VNS->GetParameter(3));"
   ]
  },
  {
   "cell_type": "code",
   "execution_count": 99,
   "id": "f23861d8",
   "metadata": {},
   "outputs": [
    {
     "data": {
      "image/png": "[encoded data removed]",
      "text/plain": [
       "<IPython.core.display.Image object>"
      ]
     },
     "metadata": {},
     "output_type": "display_data"
    }
   ],
   "source": [
    "TCanvas* C = new TCanvas();\n",
    "C->Draw();\n",
    "C->SetLogy();\n",
    "h_SimuMuons_8inch_DC->Draw(\"\");\n",
    "Muon_queue_8inch_DC_end->SetLineColor(kBlue);\n",
    "//Muon_queue_8inch_DC_end->Draw(\"SAME\");\n",
    "Muon_queue_8inch_DC_start->SetLineColor(kBlue);\n",
    "//Muon_queue_8inch_DC_start->Draw(\"SAME\");\n",
    "Muon_queue_8inch_DC->Draw(\"SAME\");\n",
    "h_SimuMuons_8inch_VNS->Draw(\"Same\");\n",
    "Muon_queue_8inch_VNS_end->SetLineColor(kBlue);\n",
    "//Muon_queue_8inch_VNS_end->Draw(\"SAME\");\n",
    "Muon_queue_8inch_VNS_start->SetLineColor(kBlue);\n",
    "//Muon_queue_8inch_VNS_start->Draw(\"SAME\");\n",
    "Muon_queue_8inch_VNS->Draw(\"SAME\");"
   ]
  },
  {
   "cell_type": "markdown",
   "id": "ee800126",
   "metadata": {},
   "source": [
    "Total muon function"
   ]
  },
  {
   "cell_type": "code",
   "execution_count": 100,
   "id": "c206516b",
   "metadata": {},
   "outputs": [],
   "source": [
    "Double_t Muons_8inch_DC(Double_t* x, Double_t *par){\n",
    "    Double_t par_cdf[2]= {par[3], par[4]};\n",
    "    Double_t par_cdf2[2]= {par[5], par[6]};\n",
    "    return (1-cdf(x, par_cdf))*par[0]*Muon_plateau_8inch_DC->Eval(x[0])+cdf(x, par_cdf)*(1-cdf(x, par_cdf2))*par[1]*Muon_peak_8inch_DC->Eval(x[0])+cdf(x, par_cdf2)*par[2]*Muon_queue_8inch_DC->Eval(x[0]);\n",
    "}"
   ]
  },
  {
   "cell_type": "code",
   "execution_count": 101,
   "id": "04b62e3a",
   "metadata": {},
   "outputs": [],
   "source": [
    "Double_t Muons_8inch_VNS(Double_t* x, Double_t *par){\n",
    "    Double_t par_cdf[2]= {par[3], par[4]};\n",
    "    Double_t par_cdf2[2]= {par[5], par[6]};\n",
    "    return (1-cdf(x, par_cdf))*par[0]*Muon_plateau_8inch_VNS->Eval(x[0])+cdf(x, par_cdf)*(1-cdf(x, par_cdf2))*par[1]*Muon_peak_8inch_VNS->Eval(x[0])+cdf(x, par_cdf2)*par[2]*Muon_queue_8inch_VNS->Eval(x[0]);\n",
    "}"
   ]
  },
  {
   "cell_type": "code",
   "execution_count": 102,
   "id": "46008e31",
   "metadata": {},
   "outputs": [
    {
     "name": "stdout",
     "output_type": "stream",
     "text": [
      " FCN=439.613 FROM MIGRAD    STATUS=CONVERGED     352 CALLS         353 TOTAL\n",
      "                     EDM=3.31902e-08    STRATEGY= 1  ERROR MATRIX UNCERTAINTY   2.7 per cent\n",
      "  EXT PARAMETER                                   STEP         FIRST   \n",
      "  NO.   NAME      VALUE            ERROR          SIZE      DERIVATIVE \n",
      "   1  Norm_plateau   8.16271e-01   1.55449e-02   1.41195e-06   2.91258e-02\n",
      "   2  Norm_muonpeak   1.01363e+00   3.97531e-03  -2.11836e-06   6.01344e-03\n",
      "   3  Norm_muonplateau   5.52485e-01   1.78254e-02   1.68507e-05   9.11114e-03\n",
      "   4  pos cdf      8.00000e+02   7.39574e-01   3.23069e-05** at limit **\n",
      "   5  sigma cdf    8.63646e+01   9.31932e+00  -3.43649e-03   1.46908e-05\n",
      "   6  pos cdf2     3.20000e+03   9.24420e+00   1.03673e-05** at limit **\n",
      "   7  sigma cdf2   1.17162e+03   2.07123e+01  -1.19035e-02   1.84828e-05\n"
     ]
    }
   ],
   "source": [
    "TF1* Muon_shape_8inch_DC = new TF1(\"Muon_shape_8inch_DC\", Muons_8inch_DC, 200, 5500, 7);\n",
    "Muon_shape_8inch_DC->SetParNames(\"Norm_plateau\", \"Norm_muonpeak\", \"Norm_muonplateau\",\"pos cdf\", \"sigma cdf\", \"pos cdf2\", \"sigma cdf2\");\n",
    "Muon_shape_8inch_DC->SetParameter(0, 1);\n",
    "Muon_shape_8inch_DC->SetParameter(1, 1);\n",
    "Muon_shape_8inch_DC->SetParameter(2, 1);\n",
    "Muon_shape_8inch_DC->SetParameter(3, 900);\n",
    "Muon_shape_8inch_DC->SetParameter(4, 100);\n",
    "Muon_shape_8inch_DC->SetParameter(5, 3250);\n",
    "Muon_shape_8inch_DC->SetParameter(6, 100);\n",
    "Muon_shape_8inch_DC->SetParLimits(3, 800, 1200);\n",
    "Muon_shape_8inch_DC->SetParLimits(5, 3200, 3400);\n",
    "h_SimuMuons_8inch_DC->Fit(\"Muon_shape_8inch_DC\", \"R\");"
   ]
  },
  {
   "cell_type": "code",
   "execution_count": 103,
   "id": "612dc212",
   "metadata": {},
   "outputs": [
    {
     "name": "stdout",
     "output_type": "stream",
     "text": [
      " FCN=497.282 FROM MIGRAD    STATUS=CONVERGED     335 CALLS         336 TOTAL\n",
      "                     EDM=1.8611e-08    STRATEGY= 1  ERROR MATRIX UNCERTAINTY   2.0 per cent\n",
      "  EXT PARAMETER                                   STEP         FIRST   \n",
      "  NO.   NAME      VALUE            ERROR          SIZE      DERIVATIVE \n",
      "   1  Norm_plateau   7.67308e-01   1.78511e-02  -1.98708e-06  -2.48760e-02\n",
      "   2  Norm_muonpeak   1.04237e+00   5.87313e-03  -3.66445e-06   3.07279e-03\n",
      "   3  Norm_muonplateau   5.30247e-01   1.92729e-02   2.10333e-06  -1.55232e-02\n",
      "   4  pos cdf      8.00000e+02   1.03990e+00  -2.28906e-05** at limit **\n",
      "   5  sigma cdf    1.07654e+02   9.18298e+00  -8.50296e-03   8.68131e-07\n",
      "   6  pos cdf2     3.20000e+03   4.58459e+00  -3.36344e-04** at limit **\n",
      "   7  sigma cdf2   1.43889e+03   3.58939e+01  -4.66906e-03  -1.55065e-05\n"
     ]
    }
   ],
   "source": [
    "TF1* Muon_shape_8inch_VNS = new TF1(\"Muon_shape_8inch_VNS\", Muons_8inch_VNS, 200, 5500, 7);\n",
    "Muon_shape_8inch_VNS->SetParNames(\"Norm_plateau\", \"Norm_muonpeak\", \"Norm_muonplateau\",\"pos cdf\", \"sigma cdf\", \"pos cdf2\", \"sigma cdf2\");\n",
    "Muon_shape_8inch_VNS->SetParameter(0, 1);\n",
    "Muon_shape_8inch_VNS->SetParameter(1, 1);\n",
    "Muon_shape_8inch_VNS->SetParameter(2, 1);\n",
    "Muon_shape_8inch_VNS->SetParameter(3, 900);\n",
    "Muon_shape_8inch_VNS->SetParameter(4, 100);\n",
    "Muon_shape_8inch_VNS->SetParameter(5, 3250);\n",
    "Muon_shape_8inch_VNS->SetParameter(6, 100);\n",
    "Muon_shape_8inch_VNS->SetParLimits(3, 800, 1200);\n",
    "Muon_shape_8inch_VNS->SetParLimits(5, 3200, 3400);\n",
    "h_SimuMuons_8inch_VNS->Fit(\"Muon_shape_8inch_VNS\", \"R\");"
   ]
  },
  {
   "cell_type": "code",
   "execution_count": 104,
   "id": "29e1b0e6",
   "metadata": {},
   "outputs": [
    {
     "data": {
      "image/png": "[encoded data removed]",
      "text/plain": [
       "<IPython.core.display.Image object>"
      ]
     },
     "metadata": {},
     "output_type": "display_data"
    },
    {
     "name": "stderr",
     "output_type": "stream",
     "text": [
      "Info in <TCanvas::Print>: png file /Users/cg264002/research/Redaction_These/Figures/Chap3/Neutrons/Muons_8inch.png has been created\n"
     ]
    }
   ],
   "source": [
    "TCanvas* C = new TCanvas();\n",
    "C->Draw();\n",
    "C->SetLogy();\n",
    "gPad->SetLeftMargin(0.1);\n",
    "gPad->SetRightMargin(0.03);\n",
    "gPad->SetBottomMargin(0.1);\n",
    "gPad->SetTopMargin(0.02);\n",
    "\n",
    "h_SimuMuons_8inch_DC->Draw();\n",
    "h_SimuMuons_8inch_DC->SetTitle(\"\");\n",
    "//h_SimuMuons_8inch_VNS->Draw(\"Same\");\n",
    "C->SaveAs(\"/Users/cg264002/research/Redaction_These/Figures/Chap3/Neutrons/Muons_8inch.png\");"
   ]
  },
  {
   "cell_type": "code",
   "execution_count": 105,
   "id": "74aea64c",
   "metadata": {},
   "outputs": [],
   "source": [
    "Muon_shape_8inch_DC->FixParameter(0, 1);\n",
    "Muon_shape_8inch_DC->FixParameter(0, Muon_shape_8inch_DC->GetParameter(0));\n",
    "Muon_shape_8inch_DC->FixParameter(1, Muon_shape_8inch_DC->GetParameter(1));\n",
    "Muon_shape_8inch_DC->FixParameter(2, Muon_shape_8inch_DC->GetParameter(2));\n",
    "Muon_shape_8inch_DC->FixParameter(3, Muon_shape_8inch_DC->GetParameter(3));\n",
    "\n",
    "Muon_shape_8inch_VNS->FixParameter(0, 1);\n",
    "Muon_shape_8inch_VNS->FixParameter(0, Muon_shape_8inch_VNS->GetParameter(0));\n",
    "Muon_shape_8inch_VNS->FixParameter(1, Muon_shape_8inch_VNS->GetParameter(1));\n",
    "Muon_shape_8inch_VNS->FixParameter(2, Muon_shape_8inch_VNS->GetParameter(2));\n",
    "Muon_shape_8inch_VNS->FixParameter(3, Muon_shape_8inch_VNS->GetParameter(3));"
   ]
  },
  {
   "cell_type": "markdown",
   "id": "a62b1fd4",
   "metadata": {},
   "source": [
    "### Model background and signal"
   ]
  },
  {
   "cell_type": "markdown",
   "id": "3ec814a8",
   "metadata": {},
   "source": [
    "Background: Gammas + Muons with parameters their respective weights. <br>\n",
    "Signal: Gammas + Muons + Gaussian"
   ]
  },
  {
   "cell_type": "code",
   "execution_count": 106,
   "id": "d7747356",
   "metadata": {},
   "outputs": [],
   "source": [
    "Double_t MuonsplusGammas_8inch_DC(Double_t* x, Double_t *par){\n",
    "    return par[0]*Muon_shape_8inch_DC->Eval(x[0])+par[1]*Gamma_shape_8inch->Eval(x[0]);\n",
    "}"
   ]
  },
  {
   "cell_type": "code",
   "execution_count": 107,
   "id": "e822cd2c",
   "metadata": {},
   "outputs": [],
   "source": [
    "Double_t MuonsplusGammas_8inch_VNS(Double_t* x, Double_t *par){\n",
    "    return par[0]*Muon_shape_8inch_VNS->Eval(x[0])+par[1]*Gamma_shape_8inch->Eval(x[0]);\n",
    "}"
   ]
  },
  {
   "cell_type": "code",
   "execution_count": 108,
   "id": "08c16da2",
   "metadata": {},
   "outputs": [],
   "source": [
    "Double_t Muons_8inch_DC(Double_t* x, Double_t *par){\n",
    "    return par[0]*Muon_shape_8inch_DC->Eval(x[0]);\n",
    "}"
   ]
  },
  {
   "cell_type": "code",
   "execution_count": 109,
   "id": "193da894",
   "metadata": {},
   "outputs": [],
   "source": [
    "Double_t Muons_8inch_VNS(Double_t* x, Double_t *par){\n",
    "    return par[0]*Muon_shape_8inch_VNS->Eval(x[0]);\n",
    "}"
   ]
  },
  {
   "cell_type": "code",
   "execution_count": 110,
   "id": "fc194e18",
   "metadata": {},
   "outputs": [],
   "source": [
    "Double_t Gammas_8inch(Double_t* x, Double_t *par){\n",
    "    return par[0]*Gamma_shape_8inch->Eval(x[0]);\n",
    "}"
   ]
  },
  {
   "cell_type": "code",
   "execution_count": 111,
   "id": "5df05fab",
   "metadata": {},
   "outputs": [],
   "source": [
    "Double_t SignalPlusBackground_8inch_DC(Double_t* x, Double_t *par){\n",
    "    return par[0]*Muon_shape_8inch_DC->Eval(x[0])+par[1]*Gamma_shape_8inch->Eval(x[0])+par[2]*TMath::Gaus(x[0], par[3], par[4]);\n",
    "}"
   ]
  },
  {
   "cell_type": "code",
   "execution_count": 112,
   "id": "71772451",
   "metadata": {},
   "outputs": [],
   "source": [
    "Double_t SignalPlusBackground_8inch_VNS(Double_t* x, Double_t *par){\n",
    "    return par[0]*Muon_shape_8inch_VNS->Eval(x[0])+par[1]*Gamma_shape_8inch->Eval(x[0])+par[2]*TMath::Gaus(x[0], par[3], par[4]);\n",
    "}"
   ]
  },
  {
   "cell_type": "code",
   "execution_count": 113,
   "id": "48670432",
   "metadata": {},
   "outputs": [],
   "source": [
    "Double_t Neutrons_8inch(Double_t* x, Double_t *par){\n",
    "    Neutron_peak_Gaus->SetParameter(0, par[0]);\n",
    "    Neutron_peak_Gaus->SetParameter(1, par[1]);\n",
    "    Neutron_peak_Gaus->SetParameter(2, par[2]);\n",
    "    return Neutron_peak_Gaus->Eval(x[0]);\n",
    "}"
   ]
  },
  {
   "cell_type": "code",
   "execution_count": 114,
   "id": "2919d6cd",
   "metadata": {},
   "outputs": [],
   "source": [
    "TF1* Sum_background_8inch_DC = new TF1(\"Sum_background_8inch_DC\", MuonsplusGammas_8inch_DC, Emin_fit, Emax_fit, 2);\n",
    "Sum_background_8inch_DC->SetParNames(\"Norm_muons\", \"Norm_gammas\");\n",
    "\n",
    "TF1* Sum_background_8inch_VNS = new TF1(\"Sum_background_8inch_VNS\", MuonsplusGammas_8inch_VNS, Emin_fit, Emax_fit, 2);\n",
    "Sum_background_8inch_VNS->SetParNames(\"Norm_muons\", \"Norm_gammas\");"
   ]
  },
  {
   "cell_type": "code",
   "execution_count": 115,
   "id": "8b91f0ee",
   "metadata": {},
   "outputs": [],
   "source": [
    "TF1* Muon_background_8inch_DC = new TF1(\"Muon_background_8inch_DC\", Muons_8inch_DC, Emin_fit, Emax_fit, 1);\n",
    "Muon_background_8inch_DC->SetParNames(\"Norm_muons\");\n",
    "\n",
    "TF1* Muon_background_8inch_VNS = new TF1(\"Muon_background_8inch_VNS\", Muons_8inch_VNS, Emin_fit, Emax_fit, 1);\n",
    "Muon_background_8inch_VNS->SetParNames(\"Norm_muons\");"
   ]
  },
  {
   "cell_type": "code",
   "execution_count": 116,
   "id": "61de2b79",
   "metadata": {},
   "outputs": [],
   "source": [
    "TF1* Gamma_background_8inch = new TF1(\"Gamma_background_8inch\", Gammas_8inch, Emin_fit, Emax_fit, 1);\n",
    "Gamma_background_8inch->SetParNames(\"Norm_gammas\");"
   ]
  },
  {
   "cell_type": "code",
   "execution_count": 117,
   "id": "9bb8050b",
   "metadata": {},
   "outputs": [],
   "source": [
    "TF1* SignalandBackground_8inch_DC = new TF1(\"SignalandBackground_8inch_DC\", SignalPlusBackground_8inch_DC, Emin_fit, Emax_fit, 5);\n",
    "SignalandBackground_8inch_DC->SetParNames(\"Norm_muons\", \"Norm_gammas\", \"Norm_Neutr\", \"Mean_gauss\", \"Sigma_gauss\");\n",
    "\n",
    "TF1* SignalandBackground_8inch_VNS = new TF1(\"SignalandBackground_8inch_VNS\", SignalPlusBackground_8inch_VNS, Emin_fit, Emax_fit, 5);\n",
    "SignalandBackground_8inch_VNS->SetParNames(\"Norm_muons\", \"Norm_gammas\", \"Norm_Neutr\", \"Mean_gauss\", \"Sigma_gauss\");"
   ]
  },
  {
   "cell_type": "code",
   "execution_count": 118,
   "id": "cf7c67cf",
   "metadata": {},
   "outputs": [],
   "source": [
    "TF1* Neutrons_8inch_DC = new TF1(\"Neutrons_8inch_DC\", Neutrons_8inch, Emin_fit, Emax_fit, 3);\n",
    "Neutrons_8inch_DC->SetParNames(\"Norm_Neutr\", \"Mean_gauss\", \"Sigma_gauss\");\n",
    "\n",
    "TF1* Neutrons_8inch_VNS = new TF1(\"Neutrons_8inch_VNS\", Neutrons_8inch, Emin_fit, Emax_fit, 3);\n",
    "Neutrons_8inch_VNS->SetParNames(\"Norm_Neutr\", \"Mean_gauss\", \"Sigma_gauss\");"
   ]
  },
  {
   "cell_type": "markdown",
   "id": "6bf7db5b",
   "metadata": {},
   "source": [
    "## Fit"
   ]
  },
  {
   "cell_type": "markdown",
   "id": "1b851e9f",
   "metadata": {},
   "source": [
    "### DCHut"
   ]
  },
  {
   "cell_type": "code",
   "execution_count": 119,
   "id": "a64cbd4f",
   "metadata": {},
   "outputs": [
    {
     "name": "stdout",
     "output_type": "stream",
     "text": [
      "\n",
      "*******************************************************\n",
      "Measures@DCHut/2022-09-14_BS-A-06_RT_1733984.75_LV_1733461.01.dat\n"
     ]
    }
   ],
   "source": [
    "TH1D* h_DC_8inch = Put_data_in_histo(\"Measures@DCHut/2022-09-14_BS-A-06_RT_1733984.75_LV_1733461.01.dat\", 1733984, \"8inch at DChut\");\n",
    "h_DC_8inch->Rebin(4);\n",
    "h_DC_8inch->Scale(1/4.);"
   ]
  },
  {
   "cell_type": "code",
   "execution_count": 120,
   "id": "33e4ab89",
   "metadata": {},
   "outputs": [],
   "source": [
    "TH1D* hCal_DC_8inch = Calibrate_histo(h_DC_8inch, Gain, Form(\"%s_keVee\", h_DC_8inch->GetTitle()), Offset);"
   ]
  },
  {
   "cell_type": "code",
   "execution_count": 121,
   "id": "d515fa88",
   "metadata": {},
   "outputs": [
    {
     "name": "stdout",
     "output_type": "stream",
     "text": [
      " FCN=232.027 FROM MIGRAD    STATUS=CONVERGED     175 CALLS         176 TOTAL\n",
      "                     EDM=2.67033e-08    STRATEGY= 1  ERROR MATRIX UNCERTAINTY   1.5 per cent\n",
      "  EXT PARAMETER                                   STEP         FIRST   \n",
      "  NO.   NAME      VALUE            ERROR          SIZE      DERIVATIVE \n",
      "   1  Norm_muons   2.03989e-01   2.21948e-03  -2.90186e-06  -3.82126e-02\n",
      "   2  Norm_gammas   8.82925e-01   1.80623e-02   1.92748e-05  -1.11443e-02\n",
      "   3  Norm_Neutr   1.71571e-01   6.52919e-03  -1.18266e-05   4.14633e-03\n",
      "   4  Mean_gauss   3.07734e+03   8.26449e+00  -2.78887e-05  -1.02077e-02\n",
      "   5  Sigma_gauss   2.23200e+02   8.14142e+00   7.82264e-03   1.24941e-05\n",
      "\n",
      "Chi2/ndf = 232.027/102 = 2.27478\n",
      "\n",
      "Total N_ev in peak region = 205.488 ev/d +- 3.19984 ev/d\n",
      "N_ev in neutron peak from fit = 95.5141 ev/d +- 3.63483 ev/d (error from normalization error only!)\n",
      "N_ev in background = 102.675 ev/d +- 1.56569 ev/d\n",
      "N_ev in neutron peak from data - bckg = 102.813 ev/d +- 3.56235 ev/d\n"
     ]
    }
   ],
   "source": [
    "SignalandBackground_8inch_DC->SetParameter(3, 3000);\n",
    "SignalandBackground_8inch_DC->SetParLimits(3, 2800, 3500);\n",
    "SignalandBackground_8inch_DC->SetParameter(2, 1);\n",
    "SignalandBackground_8inch_DC->SetParameter(4, Resol_NP);\n",
    "\n",
    "TFitResultPtr r_8_DC = hCal_DC_8inch->Fit(SignalandBackground_8inch_DC, \"SR0\", \"\", Emin_fit, Emax_fit);\n",
    "\n",
    "TMatrixD CovMat_8_DC = r_8_DC->GetCovarianceMatrix();\n",
    "\n",
    "//CovMat_8_DC.Print();\n",
    "\n",
    "Double_t err_norm_NP_8_DC = sqrt(CovMat_8_DC(2,2));\n",
    "Double_t norm_NP_8_DC = SignalandBackground_8inch_DC->GetParameter(2);\n",
    "\n",
    "Double_t err_norm_Bkg_8_DC = sqrt(CovMat_8_DC(0,0)+CovMat_8_DC(1,1)+2*CovMat_8_DC(0,1));\n",
    "Double_t norm_Bckg_8_DC = SignalandBackground_8inch_DC->GetParameter(0)+SignalandBackground_8inch_DC->GetParameter(1);\n",
    "\n",
    "Double_t Norm_mu_8_DC = SignalandBackground_8inch_DC->GetParameter(0);\n",
    "Double_t err_Norm_mu_8_DC = SignalandBackground_8inch_DC->GetParError(0);\n",
    "\n",
    "Sum_background_8inch_DC->SetParameter(0, SignalandBackground_8inch_DC->GetParameter(0));\n",
    "Sum_background_8inch_DC->SetParameter(1, SignalandBackground_8inch_DC->GetParameter(1));\n",
    "\n",
    "Muon_background_8inch_DC->SetParameter(0, SignalandBackground_8inch_DC->GetParameter(0));\n",
    "Gamma_background_8inch->SetParameter(0, SignalandBackground_8inch_DC->GetParameter(1));\n",
    "\n",
    "Neutrons_8inch_DC->SetParameter(0, SignalandBackground_8inch_DC->GetParameter(2));\n",
    "Neutrons_8inch_DC->SetParameter(1, SignalandBackground_8inch_DC->GetParameter(3));\n",
    "Neutrons_8inch_DC->SetParameter(2, SignalandBackground_8inch_DC->GetParameter(4));\n",
    "\n",
    "Double_t N_ev_tot_8_DC = SignalandBackground_8inch_DC->Integral(Emin, Emax);\n",
    "Double_t N_ev_NP_8_DC = Neutrons_8inch_DC->Integral(Emin, Emax);\n",
    "Double_t err_N_ev_NP_8_DC = (err_norm_NP_8_DC/norm_NP_8_DC)*Neutrons_8inch_DC->Integral(Emin, Emax);\n",
    "Double_t N_ev_BKG_8_DC = Sum_background_8inch_DC->Integral(Emin, Emax);\n",
    "Double_t err_N_ev_BKG_8_DC = (err_norm_Bkg_8_DC/norm_Bckg_8_DC)*Sum_background_8inch_DC->Integral(Emin, Emax);\n",
    "\n",
    "Double_t err_N_ev_data_8_DC;\n",
    "Double_t N_ev_data_8_DC = hCal_DC_8inch->IntegralAndError(hCal_DC_8inch->FindBin(Emin), hCal_DC_8inch->FindBin(Emax), err_N_ev_data_8_DC, \"width\");\n",
    "\n",
    "Double_t err_N_ev_data_NP_8_DC = sqrt(err_N_ev_data_8_DC*err_N_ev_data_8_DC + err_N_ev_BKG_8_DC*err_N_ev_BKG_8_DC);\n",
    "Double_t N_ev_data_NP_8_DC = N_ev_data_8_DC-N_ev_BKG_8_DC;\n",
    "\n",
    "cout<<\"\\nChi2/ndf = \"<<SignalandBackground_8inch_DC->GetChisquare()<<\"/\"<<SignalandBackground_8inch_DC->GetNDF()<<\" = \"<<SignalandBackground_8inch_DC->GetChisquare()/SignalandBackground_8inch_DC->GetNDF()<<endl;\n",
    "cout<<\"\\nTotal N_ev in peak region = \"<<N_ev_data_8_DC<<\" ev/d +- \"<<err_N_ev_data_8_DC<<\" ev/d\"<<endl;\n",
    "cout<<\"N_ev in neutron peak from fit = \"<<N_ev_NP_8_DC<<\" ev/d +- \"<<err_N_ev_NP_8_DC<<\" ev/d (error from normalization error only!)\"<<endl;\n",
    "cout<<\"N_ev in background = \"<<N_ev_BKG_8_DC<<\" ev/d +- \"<<err_N_ev_BKG_8_DC<<\" ev/d\"<<endl;\n",
    "cout<<\"N_ev in neutron peak from data - bckg = \"<<N_ev_data_NP_8_DC<<\" ev/d +- \"<<err_N_ev_data_NP_8_DC<<\" ev/d\"<<endl;\n",
    "\n",
    "SignalandBackground_8inch_VNS->FixParameter(4, SignalandBackground_8inch_DC->GetParameter(4)); //Fix the sigma value of the neutron peak"
   ]
  },
  {
   "cell_type": "code",
   "execution_count": 122,
   "id": "9ef586f3",
   "metadata": {},
   "outputs": [
    {
     "data": {
      "image/png": "[encoded data removed]",
      "text/plain": [
       "<IPython.core.display.Image object>"
      ]
     },
     "metadata": {},
     "output_type": "display_data"
    },
    {
     "name": "stderr",
     "output_type": "stream",
     "text": [
      "Info in <TCanvas::Print>: pdf file Figs/Finals/Fit_DC_8inch.pdf has been created\n"
     ]
    }
   ],
   "source": [
    "TCanvas* C = new TCanvas(\"cDC_8inch\", \"cDC_8inch\", 800, 700);\n",
    "C->Draw();\n",
    "TPad *p0 = new TPad(\"p0\",\"p0\",0.02,0.375,0.795,1.);\n",
    "p0->Draw();\n",
    "p0->cd();\n",
    "p0->SetLeftMargin(0.1);\n",
    "p0->SetRightMargin(0.03);\n",
    "p0->SetBottomMargin(0.1);\n",
    "p0->SetTopMargin(0.02);\n",
    "\n",
    "p0->SetLogy();\n",
    "hCal_DC_8inch->Draw(\"\");\n",
    "hCal_DC_8inch->GetXaxis()->SetTitleOffset(1.1);\n",
    "hCal_DC_8inch->GetYaxis()->SetTitleOffset(1.2);\n",
    "hCal_DC_8inch->SetTitle(0);\n",
    "hCal_DC_8inch->GetYaxis()->SetRangeUser(1e-4, 10);\n",
    "SignalandBackground_8inch_DC->SetLineColor(kBlack);\n",
    "Sum_background_8inch_DC->SetLineColor(kBlue);\n",
    "Sum_background_8inch_DC->Draw(\"SAME\");\n",
    "Muon_background_8inch_DC->SetLineColor(kOrange);\n",
    "Gamma_background_8inch->SetLineColor(kRed);\n",
    "Muon_background_8inch_DC->Draw(\"SAME\");\n",
    "Gamma_background_8inch->Draw(\"SAME\");\n",
    "Gamma_background_8inch->SetLineStyle(6);\n",
    "Sum_background_8inch_DC->Draw(\"SAME\");\n",
    "SignalandBackground_8inch_DC->Draw(\"SAME\");\n",
    "Neutrons_8inch_DC->SetLineColor(kMagenta+1);\n",
    "Neutrons_8inch_DC->SetLineStyle(2);\n",
    "Neutrons_8inch_DC->Draw(\"SAME\");\n",
    "Sum_background_8inch_DC->SetLineStyle(4);\n",
    "Sum_background_8inch_DC->SetLineColor(kCyan+2);\n",
    "Sum_background_8inch_DC->Draw(\"SAME\");\n",
    "\n",
    "TLegend* leg0 = new TLegend(0.7, 0.75, 0.95, 0.95);\n",
    "leg0->AddEntry(Sum_background_8inch_DC, \"Background\", \"l\");\n",
    "leg0->AddEntry(SignalandBackground_8inch_DC, \"Signal and Bckg\", \"l\");\n",
    "leg0->AddEntry(Muon_background_8inch_DC, \"Muon Bckg\", \"l\");\n",
    "leg0->AddEntry(Gamma_background_8inch, \"Gamma Bckg\", \"l\");\n",
    "leg0->AddEntry(Neutrons_8inch_DC, \"Neutron Signal\", \"l\");\n",
    "leg0->Draw(\"SAME\");\n",
    "\n",
    "leg0->SetLineWidth(0);\n",
    "\n",
    "\n",
    "C->cd();\n",
    "TPad *p1 = new TPad(\"p1\",\"p1\",0.,0.02,0.795,0.375);\n",
    "p1->Draw();\n",
    "p1->cd();\n",
    "p1->SetLeftMargin(0.12);\n",
    "p1->SetRightMargin(0.03);\n",
    "p1->SetBottomMargin(0.2);\n",
    "p1->SetTopMargin(0.04);\n",
    "\n",
    "histosRes_DC_8inch = Residuals_vec(hCal_DC_8inch, SignalandBackground_8inch_DC, Emin_fit, Emax_fit, true);\n",
    "hRes_DC_8inch=histosRes_DC_8inch[0];\n",
    "hRes_DC_8inch->GetYaxis()->SetTitle(\"Residuals [%]\");\n",
    "hRes_DC_8inch->GetYaxis()->SetTitleOffset(0.65);\n",
    "hRes_DC_8inch->GetYaxis()->SetTitleSize(1.8*hCal_DC_8inch->GetYaxis()->GetTitleSize());\n",
    "hRes_DC_8inch->GetXaxis()->SetTitleSize(1.8*hCal_DC_8inch->GetXaxis()->GetTitleSize());\n",
    "hRes_DC_8inch->GetYaxis()->SetLabelSize(1.8*hCal_DC_8inch->GetYaxis()->GetLabelSize());\n",
    "hRes_DC_8inch->GetXaxis()->SetLabelSize(1.8*hCal_DC_8inch->GetXaxis()->GetLabelSize());\n",
    "hRes_DC_8inch->Draw(\"\");\n",
    "\n",
    "h_10pc->Draw(\"E3SAME\");\n",
    "\n",
    "TLegend* leg = new TLegend(0.16, 0.25, 0.3, 0.35);\n",
    "leg->AddEntry(h_10pc, \"#pm 10%\", \"f\");\n",
    "leg->Draw(\"SAME\");\n",
    "leg->SetLineWidth(0);\n",
    "\n",
    "\n",
    "C->cd();\n",
    "TPad *p2 = new TPad(\"p2\",\"p2\",0.795,0.02,1.,0.375);\n",
    "p2->Draw();\n",
    "p2->cd();\n",
    "p2->SetLeftMargin(0.15);\n",
    "p2->SetBottomMargin(0.2);\n",
    "p2->SetTopMargin(0.04);\n",
    "\n",
    "hRedRes_DC_8inch=histosRes_DC_8inch[1];\n",
    "hRedRes_DC_8inch->Draw(\"\");\n",
    "hRedRes_DC_8inch->GetXaxis()->SetTitle(\"Residuals [#sigma]\");\n",
    "hRedRes_DC_8inch->GetYaxis()->SetTitleSize(3.*hCal_DC_8inch->GetYaxis()->GetTitleSize());\n",
    "hRedRes_DC_8inch->GetXaxis()->SetTitleSize(2.7*hCal_DC_8inch->GetXaxis()->GetTitleSize());\n",
    "hRedRes_DC_8inch->GetXaxis()->SetTitleOffset(0.7);\n",
    "hRedRes_DC_8inch->GetYaxis()->SetLabelSize(2.7*hCal_DC_8inch->GetYaxis()->GetLabelSize());\n",
    "hRedRes_DC_8inch->GetXaxis()->SetLabelSize(2.7*hCal_DC_8inch->GetXaxis()->GetLabelSize());\n",
    "hRedRes_DC_8inch->GetXaxis()->SetNdivisions(5);\n",
    "\n",
    "C->SaveAs(\"Figs/Finals/Fit_DC_8inch.pdf\");"
   ]
  },
  {
   "cell_type": "markdown",
   "id": "6067d2b6",
   "metadata": {},
   "source": [
    "The low energy part is less well fitted: the gamma background chosen is limited + neutron contribution? At high energy, the background seems a bit underestimated: problem of model or only stat. effect ?"
   ]
  },
  {
   "cell_type": "markdown",
   "id": "a1d5b377",
   "metadata": {},
   "source": [
    "### VNS"
   ]
  },
  {
   "cell_type": "code",
   "execution_count": 123,
   "id": "457aa0cb",
   "metadata": {},
   "outputs": [
    {
     "name": "stdout",
     "output_type": "stream",
     "text": [
      "\n",
      "*******************************************************\n",
      "Measures@VNS/2022-05-10_BS-A-06_RT_1133460.81_LV_1133048.44.dat\n",
      "\n",
      "*******************************************************\n",
      "Measures@VNS/2022-05-25_BS-A-06_RT_1268564.89_LV_1268171.79.dat\n",
      "\n",
      "*******************************************************\n",
      "Measures@VNS/2022-06-23_BS-A-06_RT_1374109.40_LV_1373731.67.dat\n",
      "\n",
      "*******************************************************\n",
      "Measures@VNS/2022-07-27_BS-A-06_RT_674093.29_LV_673979.29.dat\n"
     ]
    }
   ],
   "source": [
    "TH1D* h_VNS_8inch_1 = Put_data_in_histo(\"Measures@VNS/2022-05-10_BS-A-06_RT_1133460.81_LV_1133048.44.dat\", 1133460.81, \"8inch at VNS - 1\");\n",
    "h_VNS_8inch_1->Rebin(4);\n",
    "h_VNS_8inch_1->Scale(1/4.);\n",
    "\n",
    "TH1D* h_VNS_8inch_2 = Put_data_in_histo(\"Measures@VNS/2022-05-25_BS-A-06_RT_1268564.89_LV_1268171.79.dat\", 1268564.89, \"8inch at VNS - 2\");\n",
    "h_VNS_8inch_2->Rebin(4);\n",
    "h_VNS_8inch_2->Scale(1/4.);\n",
    "\n",
    "TH1D* h_VNS_8inch_3 = Put_data_in_histo(\"Measures@VNS/2022-06-23_BS-A-06_RT_1374109.40_LV_1373731.67.dat\", 1374109.40, \"8inch at VNS - 3\");\n",
    "h_VNS_8inch_3->Rebin(4);\n",
    "h_VNS_8inch_3->Scale(1/4.);\n",
    "\n",
    "TH1D* h_VNS_8inch_4 = Put_data_in_histo(\"Measures@VNS/2022-07-27_BS-A-06_RT_674093.29_LV_673979.29.dat\", 674093.29, \"8inch at VNS - 4\");\n",
    "h_VNS_8inch_4->Rebin(4);\n",
    "h_VNS_8inch_4->Scale(1/4.);"
   ]
  },
  {
   "cell_type": "code",
   "execution_count": 124,
   "id": "8734507f",
   "metadata": {},
   "outputs": [],
   "source": [
    "TH1D* h_VNS_8inch_sum = (TH1D*) h_VNS_8inch_1->Clone();\n",
    "h_VNS_8inch_sum->Add(h_VNS_8inch_sum, h_VNS_8inch_2, 1/4., 1/4.); \n",
    "h_VNS_8inch_sum->Add(h_VNS_8inch_sum, h_VNS_8inch_3, 1, 1/4.);\n",
    "h_VNS_8inch_sum->Add(h_VNS_8inch_sum, h_VNS_8inch_4, 1, 1/4.);\n",
    "h_VNS_8inch_sum->SetTitle(\"8inch at VNS - sum\");"
   ]
  },
  {
   "cell_type": "code",
   "execution_count": 125,
   "id": "c26d52d2",
   "metadata": {},
   "outputs": [],
   "source": [
    "TH1D* hCal_VNS_8inch = Calibrate_histo(h_VNS_8inch_sum, Gain, Form(\"%s_keVee\", h_VNS_8inch_sum->GetTitle()), Offset);"
   ]
  },
  {
   "cell_type": "code",
   "execution_count": 126,
   "id": "12dfb930",
   "metadata": {},
   "outputs": [
    {
     "data": {
      "image/png": "[encoded data removed]",
      "text/plain": [
       "<IPython.core.display.Image object>"
      ]
     },
     "metadata": {},
     "output_type": "display_data"
    }
   ],
   "source": [
    "TCanvas* C = new TCanvas();\n",
    "C->Draw();\n",
    "C->SetLogy();\n",
    "hCal_VNS_8inch->Draw();\n",
    "hCal_VNS_9inch->Draw(\"SAME\");"
   ]
  },
  {
   "cell_type": "code",
   "execution_count": 127,
   "id": "3f21e640",
   "metadata": {},
   "outputs": [
    {
     "name": "stdout",
     "output_type": "stream",
     "text": [
      " FCN=297.691 FROM MIGRAD    STATUS=CONVERGED     210 CALLS         211 TOTAL\n",
      "                     EDM=3.49121e-09    STRATEGY= 1      ERROR MATRIX ACCURATE \n",
      "  EXT PARAMETER                                   STEP         FIRST   \n",
      "  NO.   NAME      VALUE            ERROR          SIZE      DERIVATIVE \n",
      "   1  Norm_muons   1.10697e-01   1.06416e-03   6.75212e-06   1.02190e-01\n",
      "   2  Norm_gammas   1.15086e+00   1.05864e-02   6.71724e-05   7.68553e-03\n",
      "   3  Norm_Neutr   6.49480e-14   1.30092e-03   1.92644e-04** at limit **\n",
      "   4  Mean_gauss   2.80417e+03   5.22569e+02   5.00000e-01   6.02540e-11\n",
      "   5  Sigma_gauss   2.23200e+02     fixed    \n",
      " FCN=289.202 FROM MIGRAD    STATUS=CONVERGED     128 CALLS         129 TOTAL\n",
      "                     EDM=1.18798e-07    STRATEGY= 1      ERROR MATRIX ACCURATE \n",
      "  EXT PARAMETER                                   STEP         FIRST   \n",
      "  NO.   NAME      VALUE            ERROR          SIZE      DERIVATIVE \n",
      "   1  Norm_muons   1.09587e-01   1.13138e-03   6.65548e-06  -3.39417e-01\n",
      "   2  Norm_gammas   1.15797e+00   1.08687e-02   6.62110e-05  -1.75723e-02\n",
      "   3  Norm_Neutr   4.57645e-03   1.58341e-03   5.75412e-05  -6.54341e-02\n",
      "   4  Mean_gauss   3.14023e+03   6.30368e+01   1.49530e-03   1.45441e-04\n",
      "   5  Sigma_gauss   2.23200e+02     fixed    \n",
      "\n",
      "Chi2/ndf = 289.202/103 = 2.80778\n",
      "\n",
      "Total N_ev in peak region = 59.0773 ev/d +- 1.12157 ev/d\n",
      "N_ev in neutron peak from fit = 2.55429 ev/d +- 0.883768 ev/d (error from normalization error only!)\n",
      "N_ev in background = 56.4351 ev/d +- 0.45112 ev/d\n",
      "N_ev in neutron peak from data - bckg = 2.64217 ev/d +- 1.20889 ev/d\n"
     ]
    }
   ],
   "source": [
    "SignalandBackground_8inch_VNS->SetParameter(3, 3000);\n",
    "SignalandBackground_8inch_VNS->SetParLimits(3, 2800, 3500);\n",
    "SignalandBackground_8inch_VNS->SetParameter(2, 1);\n",
    "SignalandBackground_8inch_VNS->SetParLimits(2, 0, 10);\n",
    "\n",
    "TFitResultPtr r_8_VNS = hCal_VNS_8inch->Fit(SignalandBackground_8inch_VNS, \"SR0\", \"\", Emin_fit, Emax_fit);\n",
    "r_8_VNS = hCal_VNS_8inch->Fit(SignalandBackground_8inch_VNS, \"SR0\", \"\", Emin_fit, Emax_fit);\n",
    "\n",
    "TMatrixD CovMat_8_VNS = r_8_VNS->GetCovarianceMatrix();\n",
    "\n",
    "//CovMat_8_VNS.Print();\n",
    "\n",
    "Double_t err_norm_NP_8_VNS = sqrt(CovMat_8_VNS(2,2));\n",
    "Double_t norm_NP_8_VNS = SignalandBackground_8inch_VNS->GetParameter(2);\n",
    "\n",
    "Double_t err_norm_Bkg_8_VNS = sqrt(CovMat_8_VNS(0,0)+CovMat_8_VNS(1,1)+2*CovMat_8_VNS(0,1));\n",
    "Double_t norm_Bckg_8_VNS = SignalandBackground_8inch_VNS->GetParameter(0)+SignalandBackground_8inch_VNS->GetParameter(1);\n",
    "\n",
    "Double_t Norm_mu_8_VNS = SignalandBackground_8inch_VNS->GetParameter(0);\n",
    "Double_t err_Norm_mu_8_VNS = SignalandBackground_8inch_VNS->GetParError(0);\n",
    "\n",
    "Sum_background_8inch_VNS->SetParameter(0, Norm_mu_8_VNS);\n",
    "Sum_background_8inch_VNS->SetParameter(1, SignalandBackground_8inch_VNS->GetParameter(1));\n",
    "\n",
    "Muon_background_8inch_VNS->SetParameter(0, SignalandBackground_8inch_VNS->GetParameter(0));\n",
    "Gamma_background_8inch->SetParameter(0, SignalandBackground_8inch_VNS->GetParameter(1));\n",
    "\n",
    "Neutrons_8inch_VNS->SetParameter(0, SignalandBackground_8inch_VNS->GetParameter(2));\n",
    "Neutrons_8inch_VNS->SetParameter(1, SignalandBackground_8inch_VNS->GetParameter(3));\n",
    "Neutrons_8inch_VNS->SetParameter(2, SignalandBackground_8inch_VNS->GetParameter(4));\n",
    "\n",
    "Double_t N_ev_tot_8_VNS = SignalandBackground_8inch_VNS->Integral(Emin, Emax);\n",
    "Double_t N_ev_NP_8_VNS = Neutrons_8inch_VNS->Integral(Emin, Emax);\n",
    "Double_t err_N_ev_NP_8_VNS = (err_norm_NP_8_VNS/norm_NP_8_VNS)*Neutrons_8inch_VNS->Integral(Emin, Emax);\n",
    "Double_t N_ev_BKG_8_VNS = Sum_background_8inch_VNS->Integral(Emin, Emax);\n",
    "Double_t err_N_ev_BKG_8_VNS = (err_norm_Bkg_8_VNS/norm_Bckg_8_VNS)*Sum_background_8inch_VNS->Integral(Emin, Emax);\n",
    "\n",
    "Double_t err_N_ev_data_8_VNS;\n",
    "Double_t N_ev_data_8_VNS = hCal_VNS_8inch->IntegralAndError(hCal_VNS_8inch->FindBin(Emin), hCal_VNS_8inch->FindBin(Emax), err_N_ev_data_8_VNS, \"width\");\n",
    "\n",
    "Double_t err_N_ev_data_NP_8_VNS = sqrt(err_N_ev_data_8_VNS*err_N_ev_data_8_VNS + err_N_ev_BKG_8_VNS*err_N_ev_BKG_8_VNS);\n",
    "Double_t N_ev_data_NP_8_VNS = N_ev_data_8_VNS-N_ev_BKG_8_VNS;\n",
    "\n",
    "cout<<\"\\nChi2/ndf = \"<<SignalandBackground_8inch_VNS->GetChisquare()<<\"/\"<<SignalandBackground_8inch_VNS->GetNDF()<<\" = \"<<SignalandBackground_8inch_VNS->GetChisquare()/SignalandBackground_8inch_VNS->GetNDF()<<endl;\n",
    "cout<<\"\\nTotal N_ev in peak region = \"<<N_ev_data_8_VNS<<\" ev/d +- \"<<err_N_ev_data_8_VNS<<\" ev/d\"<<endl;\n",
    "cout<<\"N_ev in neutron peak from fit = \"<<N_ev_NP_8_VNS<<\" ev/d +- \"<<err_N_ev_NP_8_VNS<<\" ev/d (error from normalization error only!)\"<<endl;\n",
    "cout<<\"N_ev in background = \"<<N_ev_BKG_8_VNS<<\" ev/d +- \"<<err_N_ev_BKG_8_VNS<<\" ev/d\"<<endl;\n",
    "cout<<\"N_ev in neutron peak from data - bckg = \"<<N_ev_data_NP_8_VNS<<\" ev/d +- \"<<err_N_ev_data_NP_8_VNS<<\" ev/d\"<<endl;"
   ]
  },
  {
   "cell_type": "code",
   "execution_count": 128,
   "id": "488c5a4f",
   "metadata": {},
   "outputs": [
    {
     "data": {
      "image/png": "[encoded data removed]",
      "text/plain": [
       "<IPython.core.display.Image object>"
      ]
     },
     "metadata": {},
     "output_type": "display_data"
    },
    {
     "name": "stderr",
     "output_type": "stream",
     "text": [
      "Warning in <TFile::Append>: Replacing existing TH1: Reduced_res_ (Potential memory leak).\n",
      "Info in <TCanvas::Print>: pdf file Figs/Finals/Fit_VNS_8inch.pdf has been created\n"
     ]
    }
   ],
   "source": [
    "TCanvas* C = new TCanvas(\"cVNS_8inch\", \"cVNS_8inch\", 800, 700);\n",
    "C->Draw();\n",
    "TPad *p0 = new TPad(\"p0\",\"p0\",0.02,0.375,0.795,1.);\n",
    "p0->Draw();\n",
    "p0->cd();\n",
    "p0->SetLeftMargin(0.1);\n",
    "p0->SetRightMargin(0.03);\n",
    "p0->SetBottomMargin(0.1);\n",
    "p0->SetTopMargin(0.02);\n",
    "\n",
    "p0->SetLogy();\n",
    "hCal_VNS_8inch->Draw(\"\");\n",
    "hCal_VNS_8inch->GetXaxis()->SetTitleOffset(1.1);\n",
    "hCal_VNS_8inch->GetXaxis()->SetTitleOffset(1.2);\n",
    "hCal_VNS_8inch->SetTitle(0);\n",
    "hCal_VNS_8inch->GetYaxis()->SetRangeUser(1e-5, 10);\n",
    "SignalandBackground_8inch_VNS->SetLineColor(kBlack);\n",
    "Sum_background_8inch_VNS->SetLineColor(kBlue);\n",
    "Sum_background_8inch_VNS->Draw(\"SAME\");\n",
    "Muon_background_8inch_VNS->SetLineColor(kOrange);\n",
    "Gamma_background_8inch->SetLineColor(kRed);\n",
    "Muon_background_8inch_VNS->Draw(\"SAME\");\n",
    "Gamma_background_8inch->Draw(\"SAME\");\n",
    "Gamma_background_8inch->SetLineStyle(6);\n",
    "Sum_background_8inch_VNS->Draw(\"SAME\");\n",
    "SignalandBackground_8inch_VNS->Draw(\"SAME\");\n",
    "Neutrons_8inch_VNS->SetLineColor(kMagenta+1);\n",
    "Neutrons_8inch_VNS->SetLineStyle(2);\n",
    "Neutrons_8inch_VNS->Draw(\"SAME\");\n",
    "Sum_background_8inch_VNS->SetLineStyle(4);\n",
    "Sum_background_8inch_VNS->SetLineColor(kCyan+2);\n",
    "Sum_background_8inch_VNS->Draw(\"SAME\");\n",
    "\n",
    "TLegend* leg0 = new TLegend(0.7, 0.75, 0.95, 0.95);\n",
    "leg0->AddEntry(Sum_background_8inch_VNS, \"Background\", \"l\");\n",
    "leg0->AddEntry(SignalandBackground_8inch_VNS, \"Signal and Bckg\", \"l\");\n",
    "leg0->AddEntry(Muon_background_8inch_VNS, \"Muon Bckg\", \"l\");\n",
    "leg0->AddEntry(Gamma_background_8inch, \"Gamma Bckg\", \"l\");\n",
    "leg0->AddEntry(Neutrons_8inch_VNS, \"Neutron Signal\", \"l\");\n",
    "leg0->SetLineWidth(0);\n",
    "leg0->Draw(\"SAME\");\n",
    "\n",
    "C->cd();\n",
    "TPad *p1 = new TPad(\"p1\",\"p1\",0.,0.02,0.795,0.375);\n",
    "p1->Draw();\n",
    "p1->cd();\n",
    "p1->SetLeftMargin(0.12);\n",
    "p1->SetRightMargin(0.03);\n",
    "p1->SetBottomMargin(0.2);\n",
    "p1->SetTopMargin(0.04);\n",
    "\n",
    "histosRes_VNS_8inch = Residuals_vec(hCal_VNS_8inch, SignalandBackground_8inch_VNS, Emin_fit, Emax_fit, true);\n",
    "hRes_VNS_8inch=histosRes_VNS_8inch[0];\n",
    "hRes_VNS_8inch->GetYaxis()->SetTitle(\"Residuals [%]\");\n",
    "hRes_VNS_8inch->GetYaxis()->SetTitleOffset(0.65);\n",
    "hRes_VNS_8inch->GetYaxis()->SetTitleSize(1.8*hCal_VNS_8inch->GetYaxis()->GetTitleSize());\n",
    "hRes_VNS_8inch->GetXaxis()->SetTitleSize(1.8*hCal_VNS_8inch->GetXaxis()->GetTitleSize());\n",
    "hRes_VNS_8inch->GetYaxis()->SetLabelSize(1.8*hCal_VNS_8inch->GetYaxis()->GetLabelSize());\n",
    "hRes_VNS_8inch->GetXaxis()->SetLabelSize(1.8*hCal_VNS_8inch->GetXaxis()->GetLabelSize());\n",
    "hRes_VNS_8inch->Draw(\"\");\n",
    "\n",
    "h_10pc->Draw(\"E3SAME\");\n",
    "\n",
    "\n",
    "TLegend* leg = new TLegend(0.16, 0.25, 0.3, 0.35);\n",
    "leg->AddEntry(h_10pc, \"#pm 10%\", \"f\");\n",
    "leg->Draw(\"SAME\");\n",
    "leg->SetLineWidth(0);\n",
    "\n",
    "\n",
    "C->cd();\n",
    "TPad *p2 = new TPad(\"p2\",\"p2\",0.795,0.02,1.,0.375);\n",
    "p2->Draw();\n",
    "p2->cd();\n",
    "p2->SetLeftMargin(0.15);\n",
    "p2->SetBottomMargin(0.2);\n",
    "p2->SetTopMargin(0.04);\n",
    "\n",
    "hRedRes_VNS_8inch=histosRes_VNS_8inch[1];\n",
    "hRedRes_VNS_8inch->Draw(\"\");\n",
    "hRedRes_VNS_8inch->GetXaxis()->SetTitle(\"Residuals [#sigma]\");\n",
    "hRedRes_VNS_8inch->GetYaxis()->SetTitleSize(3.*hCal_VNS_8inch->GetYaxis()->GetTitleSize());\n",
    "hRedRes_VNS_8inch->GetXaxis()->SetTitleSize(2.7*hCal_VNS_8inch->GetXaxis()->GetTitleSize());\n",
    "hRedRes_VNS_8inch->GetXaxis()->SetTitleOffset(0.7);\n",
    "hRedRes_VNS_8inch->GetYaxis()->SetLabelSize(2.7*hCal_VNS_8inch->GetYaxis()->GetLabelSize());\n",
    "hRedRes_VNS_8inch->GetXaxis()->SetLabelSize(2.7*hCal_VNS_8inch->GetXaxis()->GetLabelSize());\n",
    "hRedRes_VNS_8inch->GetXaxis()->SetNdivisions(5);\n",
    "\n",
    "C->SaveAs(\"Figs/Finals/Fit_VNS_8inch.pdf\");"
   ]
  },
  {
   "cell_type": "markdown",
   "id": "80998bf6-cac1-4838-9f04-7cf462aa7703",
   "metadata": {},
   "source": [
    "# Plot muon and gamma functions"
   ]
  },
  {
   "cell_type": "code",
   "execution_count": 129,
   "id": "1a9dc3e0-0a0d-40e7-8bd8-b5986c79fa3d",
   "metadata": {},
   "outputs": [
    {
     "data": {
      "image/png": "[encoded data removed]",
      "text/plain": [
       "<IPython.core.display.Image object>"
      ]
     },
     "metadata": {},
     "output_type": "display_data"
    },
    {
     "name": "stderr",
     "output_type": "stream",
     "text": [
      "Info in <TCanvas::Print>: png file /Users/cg264002/research/Redaction_These/Figures/Chap3/Neutrons/ModelSpectra_BS.png has been created\n"
     ]
    }
   ],
   "source": [
    "TCanvas* C = new TCanvas();\n",
    "C->Draw();\n",
    "gPad->SetLeftMargin(0.1);\n",
    "gPad->SetRightMargin(0.03);\n",
    "gPad->SetBottomMargin(0.1);\n",
    "gPad->SetTopMargin(0.02);\n",
    "gPad->SetLogy();\n",
    "\n",
    "Muon_shape_8inch_VNS->SetTitle(\"\");\n",
    "Muon_shape_9inch_VNS->SetLineColor(kBlack);\n",
    "Muon_shape_8inch_VNS->SetLineColor(kRed);\n",
    "Muon_shape_8inch_VNS->SetLineStyle(1);\n",
    "Muon_shape_8inch_VNS->GetXaxis()->SetRangeUser(400, 4500);\n",
    "Muon_shape_8inch_VNS->GetYaxis()->SetRangeUser(0.01, 10);\n",
    "\n",
    "Muon_shape_8inch_VNS->Draw(\"L\");\n",
    "Muon_shape_9inch_VNS->Draw(\"L SAME\");\n",
    "Muon_shape_9inch_VNS->SetLineStyle(1);\n",
    "\n",
    "Gamma_shape_8inch->SetTitle(\"\");\n",
    "Gamma_shape_9inch->SetLineColor(kBlack);\n",
    "Gamma_shape_8inch->SetLineColor(kRed);\n",
    "Gamma_shape_8inch->SetLineStyle(2);\n",
    "\n",
    "Gamma_shape_8inch->Draw(\"RL SAME\");\n",
    "Gamma_shape_9inch->Draw(\"RL SAME\");\n",
    "Gamma_shape_9inch->SetLineStyle(2);\n",
    "\n",
    "Muon_shape_8inch_VNS->GetYaxis()->SetTitle(\"Counts d^{-1} keVee^{-1}\");\n",
    "Muon_shape_8inch_VNS->GetXaxis()->SetTitle(\"Calibrated energy [keVee]\");\n",
    "\n",
    "TLegend* leg0 = new TLegend(0.8, 0.6, 0.97, 0.97);\n",
    "leg0->SetTextSize(0.05);\n",
    "leg0->AddEntry(Gamma_shape_8inch, \"S_{#gamma}^{BS-A-06}\", \"l\");\n",
    "leg0->AddEntry(Gamma_shape_9inch, \"S_{#gamma}^{BS-EXT}\", \"l\");\n",
    "leg0->AddEntry(Muon_shape_8inch_VNS, \"S_{#mu}^{BS-A-06}\", \"l\");\n",
    "leg0->AddEntry(Muon_shape_9inch_VNS, \"S_{#mu}^{BS-EXT}\", \"l\");\n",
    "leg0->SetLineWidth(0);\n",
    "leg0->Draw(\"SAME\");\n",
    "\n",
    "C->SaveAs(\"/Users/cg264002/research/Redaction_These/Figures/Chap3/Neutrons/ModelSpectra_BS.png\");"
   ]
  },
  {
   "cell_type": "code",
   "execution_count": 130,
   "id": "df82bffa-5417-4361-920b-f06dd9623515",
   "metadata": {},
   "outputs": [
    {
     "data": {
      "image/png": "[encoded data removed]",
      "text/plain": [
       "<IPython.core.display.Image object>"
      ]
     },
     "metadata": {},
     "output_type": "display_data"
    }
   ],
   "source": [
    "TCanvas* C = new TCanvas();\n",
    "C->Draw();\n",
    "gPad->SetLeftMargin(0.1);\n",
    "gPad->SetRightMargin(0.03);\n",
    "gPad->SetBottomMargin(0.1);\n",
    "gPad->SetTopMargin(0.02);\n",
    "gPad->SetLogy();\n",
    "\n",
    "\n",
    "Muon_shape_8inch_VNS->GetYaxis()->SetTitle(\"Arbitrary scale []\");\n",
    "Muon_shape_8inch_VNS->GetXaxis()->SetTitle(\"Calibrated energy [keVee]\");"
   ]
  },
  {
   "cell_type": "raw",
   "id": "f31227a3",
   "metadata": {},
   "source": [
    "## Systematics estimate calculation"
   ]
  },
  {
   "cell_type": "raw",
   "id": "169ffb29",
   "metadata": {},
   "source": [
    "Same procedure as presented in the 9 inch part."
   ]
  },
  {
   "cell_type": "raw",
   "id": "048906cb",
   "metadata": {},
   "source": [
    "int NDraw = 500;\n",
    "vector<Double_t> N_ev_data_8_NP_VNS;\n",
    "vector<Double_t> N_ev_data_8_NP_DC;\n",
    "\n",
    "Double_t N_ev_bck, N_ev_data, N_ev_data_NP;\n",
    "\n",
    "for (int i=0; i<NDraw; i++){\n",
    "    \n",
    "    //Surface\n",
    "    SignalandBackground_8inch->SetParameter(3, 3500);\n",
    "    SignalandBackground_8inch->SetParLimits(3, 3300, 3700);\n",
    "    SignalandBackground_8inch->SetParameter(2, 1);\n",
    "    \n",
    "    TH1D* new_histo_DC = Ramdom_new_spectrum(hCal_DC_8inch, 1e7, Form(\"Random_DC_8inch_%d\", i));\n",
    "    new_histo_DC->Fit(SignalandBackground_8inch, \"QSR\", \"\", 400, 5000);\n",
    "    \n",
    "    Sum_background_8inch->SetParameter(0, SignalandBackground_8inch->GetParameter(0));\n",
    "    Sum_background_8inch->SetParameter(1, SignalandBackground_8inch->GetParameter(1));\n",
    "    \n",
    "    N_ev_bck = Sum_background_8inch->Integral(2500, 4500);\n",
    "    N_ev_data = new_histo_DC->Integral(new_histo_DC->FindBin(2500), new_histo_DC->FindBin(4500), \"width\");\n",
    "    \n",
    "    N_ev_data_8_NP_DC.push_back(N_ev_data-N_ev_bck);\n",
    "    \n",
    "    new_histo_DC->Delete();\n",
    "    \n",
    "    //VNS\n",
    "    TH1D* new_histo_VNS = Ramdom_new_spectrum(hCal_VNS_8inch, 1e7, Form(\"Random_VNS_9inch_%d\", i));\n",
    "    SignalandBackground_8inch->FixParameter(4, SignalandBackground_8inch->GetParameter(4)); //Fix the sigma value of the neutron peak\n",
    "    new_histo_VNS->Fit(SignalandBackground_8inch, \"QSR\", \"\", 400, 5000);\n",
    "    \n",
    "    Sum_background_8inch->SetParameter(0, SignalandBackground_8inch->GetParameter(0));\n",
    "    Sum_background_8inch->SetParameter(1, SignalandBackground_8inch->GetParameter(1));\n",
    "    \n",
    "    N_ev_bck = Sum_background_8inch->Integral(2500, 4500);\n",
    "    N_ev_data = new_histo_VNS->Integral(new_histo_VNS->FindBin(2500), new_histo_VNS->FindBin(4500), \"width\");\n",
    "    \n",
    "    N_ev_data_8_NP_VNS.push_back(N_ev_data-N_ev_bck);\n",
    "    \n",
    "    new_histo_VNS->Delete();\n",
    "}"
   ]
  },
  {
   "cell_type": "raw",
   "id": "ef569797",
   "metadata": {},
   "source": [
    "cout<<\"------------------------------ VNS -------------------------------\"<<endl;\n",
    "err_Syst_N_ev_data_NP_8_VNS = Sigma(N_ev_data_8_NP_VNS);\n",
    "cout<<\" 8inch: \"<< N_ev_data_NP_8_VNS << \" +- \" << err_N_ev_data_NP_8_VNS<<\" (stat.) \"<< err_Syst_N_ev_data_NP_8_VNS<<\" (syst.) ev/d\"<<endl;\n",
    "\n",
    "cout<<\"\\n------------------------ Surface (DCHut) -----------------------\"<<endl;\n",
    "err_Syst_N_ev_data_NP_8_DC = Sigma(N_ev_data_8_NP_DC);\n",
    "cout<<\" 8inch: \"<< N_ev_data_NP_8_DC << \" +- \" << err_N_ev_data_NP_8_DC<<\" (stat.) \"<< err_Syst_N_ev_data_NP_8_DC<<\" (syst.) ev/d\"<<endl;"
   ]
  },
  {
   "cell_type": "markdown",
   "id": "e30d13b3",
   "metadata": {},
   "source": [
    "# Attenuation from VNS\n"
   ]
  },
  {
   "cell_type": "markdown",
   "id": "7d7464a6",
   "metadata": {},
   "source": [
    "The >10 MeV neutron contribution is expected to be extracted from the difference between the number of events with the 9inch and the 8inch spheres. "
   ]
  },
  {
   "cell_type": "markdown",
   "id": "ba13aade",
   "metadata": {},
   "source": [
    "## First \"naive\" calculation of the attenuation"
   ]
  },
  {
   "cell_type": "code",
   "execution_count": 131,
   "id": "7871f477",
   "metadata": {},
   "outputs": [
    {
     "name": "stdout",
     "output_type": "stream",
     "text": [
      "------------------------------ VNS -------------------------------\n",
      " 9inch: 9.27149 +- 1.055 (stat.) \n",
      " 8inch: 2.55429 +- 0.883768 (stat.) \n",
      "\n",
      "------------------------ Surface (DCHut) -----------------------\n",
      " 9inch: 142.821 +- 3.33645 (stat.) \n",
      " 8inch: 95.5141 +- 3.63483 (stat.) \n"
     ]
    }
   ],
   "source": [
    "cout<<\"------------------------------ VNS -------------------------------\"<<endl;\n",
    "cout<<\" 9inch: \"<< N_ev_NP_VNS << \" +- \" << err_N_ev_NP_VNS<<\" (stat.) \"<<endl;\n",
    "cout<<\" 8inch: \"<< N_ev_NP_8_VNS << \" +- \" << err_N_ev_NP_8_VNS<<\" (stat.) \"<<endl;\n",
    "\n",
    "cout<<\"\\n------------------------ Surface (DCHut) -----------------------\"<<endl;\n",
    "cout<<\" 9inch: \"<< N_ev_NP_DC << \" +- \" << err_N_ev_NP_DC<<\" (stat.) \"<<endl;\n",
    "cout<<\" 8inch: \"<< N_ev_NP_8_DC << \" +- \" << err_N_ev_NP_8_DC<<\" (stat.) \"<<endl;"
   ]
  },
  {
   "cell_type": "code",
   "execution_count": 132,
   "id": "6f697ff4",
   "metadata": {},
   "outputs": [
    {
     "name": "stdout",
     "output_type": "stream",
     "text": [
      ">10MeV Neutron contribution\n",
      "----------------------------\n",
      "Surface: 45.03 +- 4.28514 (stat.) +- 3.23025 (syst. ) ev/d\n",
      "VNS: 5.68 +- 1.42025 (stat.) +- 1.25399 (syst. ) ev/d\n"
     ]
    }
   ],
   "source": [
    "//FastNeutrons_Surface = N_ev_NP_DC-N_ev_NP_8_DC;\n",
    "//err_FastNeutrons_Surface = sqrt(err_N_ev_NP_DC*err_N_ev_NP_DC+err_N_ev_NP_8_DC*err_N_ev_NP_8_DC);\n",
    "\n",
    "//FastNeutrons_VNS = N_ev_NP_VNS-N_ev_NP_8_VNS;\n",
    "//err_FastNeutrons_VNS = sqrt(err_N_ev_NP_VNS*err_N_ev_NP_VNS+err_N_ev_NP_8_VNS*err_N_ev_NP_8_VNS);\n",
    "\n",
    "mean_Surface = 143.65-98.62;\n",
    "mean_VNS = 8.76-3.08;\n",
    "\n",
    "mean_err_stat_Surface = sqrt(3.32*3.32+3.67+3.67);\n",
    "mean_err_stat_VNS = sqrt(1.07*1.07+0.89*0.98);\n",
    "\n",
    "errSyst_FastNeutrons_Surface = sqrt(0.67*0.67+3.16*3.16);\n",
    "errSyst_FastNeutrons_VNS = sqrt(0.67*0.67+1.06*1.06);\n",
    "\n",
    "cout<< \">10MeV Neutron contribution\"<<endl;\n",
    "cout<< \"----------------------------\"<<endl;\n",
    "cout<<\"Surface: \"<<mean_Surface<<\" +- \"<<mean_err_stat_Surface<<\" (stat.)\" <<\" +- \"<< errSyst_FastNeutrons_Surface <<\" (syst. ) ev/d\"<<endl;\n",
    "cout<<\"VNS: \"<<mean_VNS<<\" +- \"<<mean_err_stat_VNS<<\" (stat.)\"<< \" +- \" <<errSyst_FastNeutrons_VNS <<\" (syst. ) ev/d\"<<endl;\n"
   ]
  },
  {
   "cell_type": "code",
   "execution_count": 133,
   "id": "e135bd3a",
   "metadata": {},
   "outputs": [
    {
     "name": "stdout",
     "output_type": "stream",
     "text": [
      "Ratio = 7.92782 +- 0.377246 (stat. only)\n"
     ]
    }
   ],
   "source": [
    "Ratio = mean_Surface/mean_VNS;\n",
    "err_Ratio = Ratio*sqrt((mean_err_stat_VNS/mean_VNS)*(mean_err_stat_Surface/mean_Surface)*(mean_err_stat_Surface/mean_Surface));\n",
    "\n",
    "cout<<\"Ratio = \"<<Ratio<<\" +- \"<<err_Ratio<< \" (stat. only)\" << endl; "
   ]
  },
  {
   "cell_type": "markdown",
   "id": "b4f1981c",
   "metadata": {},
   "source": [
    "<b>Aside</b>: Let's check the consistency of the attenuation observed for muons"
   ]
  },
  {
   "cell_type": "code",
   "execution_count": 134,
   "id": "7afdc241",
   "metadata": {},
   "outputs": [
    {
     "name": "stdout",
     "output_type": "stream",
     "text": [
      "Muons attenuation in 8inch = 1.86143 +- 0.0279195\n",
      "Muons attenuation in 9inch = 2.17739 +- 0.0289059\n"
     ]
    }
   ],
   "source": [
    "cout<<\"Muons attenuation in 8inch = \"<<Norm_mu_8_DC/Norm_mu_8_VNS<<\" +- \"<<(Norm_mu_8_DC/Norm_mu_8_VNS)*sqrt((err_Norm_mu_8_DC/Norm_mu_8_DC)*(err_Norm_mu_8_DC/Norm_mu_8_DC)+(err_Norm_mu_8_VNS/Norm_mu_8_VNS)*(err_Norm_mu_8_VNS/Norm_mu_8_VNS))<<endl;\n",
    "cout<<\"Muons attenuation in 9inch = \"<<Norm_mu_9_DC/Norm_mu_9_VNS<<\" +- \"<<(Norm_mu_9_DC/Norm_mu_9_VNS)*sqrt((err_Norm_mu_9_DC/Norm_mu_9_DC)*(err_Norm_mu_9_DC/Norm_mu_9_DC)+(err_Norm_mu_9_VNS/Norm_mu_9_VNS)*(err_Norm_mu_9_VNS/Norm_mu_9_VNS))<<endl;"
   ]
  },
  {
   "cell_type": "markdown",
   "id": "03d87e5d",
   "metadata": {},
   "source": [
    "The attenuation value is close to the one expected (1.4) but they are not compatible with each other at 1 sigma. This can be due to simplificity of the neutron contribution in the DC data? Gamma/Muon backgrounds not correctly modelled? "
   ]
  },
  {
   "cell_type": "markdown",
   "id": "57bc1a99",
   "metadata": {},
   "source": [
    "## Estimate of the attenuation from a Toy MonteCarlo"
   ]
  },
  {
   "cell_type": "markdown",
   "id": "9c8fa51d",
   "metadata": {},
   "source": [
    "### Considering stat. errors only"
   ]
  },
  {
   "cell_type": "code",
   "execution_count": 135,
   "id": "712e98fd",
   "metadata": {},
   "outputs": [],
   "source": [
    "TF1* Gaus_ev_DC = new TF1(\"Gauss_ev_DC\", \"TMath::Gaus(x, [0], [1], true)\", 0, mean_Surface+5*mean_err_stat_Surface);\n",
    "Gaus_ev_DC->FixParameter(0, mean_Surface);\n",
    "Gaus_ev_DC->FixParameter(1, mean_err_stat_Surface);\n",
    "\n",
    "TF1* Gaus_ev_VNS = new TF1(\"Gauss_ev_VNS\", \"TMath::Gaus(x, [0], [1], true)\", 0, mean_VNS+5*mean_err_stat_VNS);\n",
    "Gaus_ev_VNS->FixParameter(0, mean_VNS);\n",
    "Gaus_ev_VNS->FixParameter(1, mean_err_stat_VNS);\n",
    "\n",
    "TF1* Gaus_ev_DC_syst = new TF1(\"Gaus_ev_DC_syst\", \"TMath::Gaus(x, [0], [1], true)\", 0, mean_Surface+5*errSyst_FastNeutrons_Surface);\n",
    "Gaus_ev_DC_syst->FixParameter(0, mean_Surface);\n",
    "Gaus_ev_DC_syst->FixParameter(1, errSyst_FastNeutrons_Surface);\n",
    "\n",
    "TF1* Gaus_ev_VNS_syst = new TF1(\"Gaus_ev_VNS_syst\", \"TMath::Gaus(x, [0], [1], true)\", 0, mean_VNS+5*errSyst_FastNeutrons_VNS);\n",
    "Gaus_ev_VNS_syst->FixParameter(0, mean_VNS);\n",
    "Gaus_ev_VNS_syst->FixParameter(1, errSyst_FastNeutrons_VNS);\n",
    "\n",
    "TF1* NumEv = new TF1(\"NumEv\", \"TMath::Gaus(x, [0], [1], true)\", 0, 117.7+5*3.5);\n",
    "NumEv->FixParameter(0, 117.7);\n",
    "NumEv->FixParameter(1, 3.5);"
   ]
  },
  {
   "cell_type": "code",
   "execution_count": 136,
   "id": "411fa004",
   "metadata": {},
   "outputs": [],
   "source": [
    "TH1D* hRatio = new TH1D(\"Attenuation factor from Toy MC\", \"Attenuation factor from Toy MC\", 10000, 0, 500);\n",
    "Double_t Ev_out, Ev_VNS;   \n",
    "for (int i=0; i<100000; i++){\n",
    "    Ev_out = Gaus_ev_DC->GetRandom();\n",
    "    Ev_VNS = Gaus_ev_VNS->GetRandom();\n",
    "    if ((Ev_VNS>0)&&(Ev_out>0)) {hRatio->Fill(Ev_out/Ev_VNS);}\n",
    "}\n",
    "\n",
    "hRatio->GetXaxis()->SetRangeUser(0, 40);\n",
    "hRatio->GetXaxis()->SetTitle(\"R^{Surface}/R_{VNS}\");\n",
    "hRatio->GetYaxis()->SetTitle(\"Probability\");\n",
    "hRatio->Scale(1./hRatio->Integral());"
   ]
  },
  {
   "cell_type": "code",
   "execution_count": 137,
   "id": "bcb85361",
   "metadata": {},
   "outputs": [],
   "source": [
    "TH1D* hRatio_syststat = new TH1D(\"Attenuation factor from Toy MC syst stat\", \"Attenuation factor from Toy MC syst stat\", 10000, 0, 500);\n",
    "TH1D* hNewNumEv = new TH1D(\"hNewNumEv\", \"hNewNumEv\", 1000, 0, 300);\n",
    "Double_t Ev_out_1, Ev_VNS_1, Ev_out, Ev_VNS, NumEv_i;   \n",
    "for (int i=0; i<100; i++){\n",
    "    Ev_out_1 = Gaus_ev_DC_syst->GetRandom();\n",
    "    Gaus_ev_DC->SetParameter(0, Ev_out_1);\n",
    "    Ev_out = Gaus_ev_DC->GetRandom();\n",
    "    \n",
    "    Ev_VNS_1 = Gaus_ev_VNS_syst->GetRandom();\n",
    "    Gaus_ev_VNS->SetParameter(0, Ev_VNS_1);\n",
    "    Ev_VNS = Gaus_ev_VNS->GetRandom();\n",
    "    \n",
    "    NumEv_i = NumEv->GetRandom();\n",
    "    if ((Ev_VNS>0)&&(Ev_out>0)) {hRatio_syststat->Fill(Ev_out/Ev_VNS);}\n",
    "    if ((Ev_VNS>0)&&(Ev_out>0)) {hNewNumEv->Fill(NumEv_i/(Ev_out/Ev_VNS));}\n",
    "}\n",
    "\n",
    "hRatio_syststat->SetLineColor(kRed);\n",
    "hRatio_syststat->GetXaxis()->SetRangeUser(0, 100);\n",
    "hRatio_syststat->GetXaxis()->SetTitle(\"R^{Surface}/R_{VNS}\");\n",
    "hRatio_syststat->GetYaxis()->SetTitle(\"Probability\");\n",
    "hRatio_syststat->Scale(1./hRatio_syststat->Integral());"
   ]
  },
  {
   "cell_type": "code",
   "execution_count": 138,
   "id": "29ea1e6d",
   "metadata": {},
   "outputs": [
    {
     "data": {
      "image/png": "[encoded data removed]",
      "text/plain": [
       "<IPython.core.display.Image object>"
      ]
     },
     "metadata": {},
     "output_type": "display_data"
    }
   ],
   "source": [
    "TCanvas* C = new TCanvas();\n",
    "C->Draw();\n",
    "C->SetLogy();\n",
    "hRatio->Draw(\"\");\n",
    "hRatio->GetYaxis()->SetRangeUser(1e-5, 2e-2);\n",
    "hRatio_syststat->Draw(\"SAME\");\n",
    "\n",
    "TLegend* leg = new TLegend(0.55, 0.75, 0.89, 0.89);\n",
    "leg->AddEntry(hRatio, \"Stat. errors only\");\n",
    "leg->AddEntry(hRatio_syststat, \"Syst and stat. errors\");\n",
    "leg->Draw(\"SAME\");\n",
    "leg->SetLineWidth(0);"
   ]
  },
  {
   "cell_type": "code",
   "execution_count": null,
   "id": "218eb6f5",
   "metadata": {},
   "outputs": [],
   "source": []
  },
  {
   "cell_type": "code",
   "execution_count": 139,
   "id": "37087408",
   "metadata": {},
   "outputs": [
    {
     "data": {
      "image/png": "[encoded data removed]",
      "text/plain": [
       "<IPython.core.display.Image object>"
      ]
     },
     "metadata": {},
     "output_type": "display_data"
    },
    {
     "name": "stdout",
     "output_type": "stream",
     "text": [
      " FCN=0.474335 FROM MIGRAD    STATUS=CONVERGED     205 CALLS         206 TOTAL\n",
      "                     EDM=1.59516e-06    STRATEGY= 1      ERROR MATRIX ACCURATE \n",
      "  EXT PARAMETER                                   STEP         FIRST   \n",
      "  NO.   NAME      VALUE            ERROR          SIZE      DERIVATIVE \n",
      "   1  Constant     1.05678e+00   5.00428e-01   1.70491e-04  -2.58099e-03\n",
      "   2  Mean         1.77058e+01   1.23722e+02   4.11168e-02  -1.17197e-05\n",
      "   3  Sigma        4.55059e+01   2.60989e+01   2.12077e-02   4.40917e-05\n"
     ]
    }
   ],
   "source": [
    "TCanvas* C = new TCanvas();\n",
    "C->Draw();\n",
    "C->SetLogy();\n",
    "hNewNumEv->Draw(\"\");\n",
    "\n",
    "hNewNumEv->Fit(\"gaus\", \"\", \"\", 20, 50);"
   ]
  },
  {
   "cell_type": "code",
   "execution_count": 140,
   "id": "5d160d0d",
   "metadata": {},
   "outputs": [
    {
     "name": "stdout",
     "output_type": "stream",
     "text": [
      "Attenuation factor > 5.4 at 95.0074 % confidence level\n"
     ]
    }
   ],
   "source": [
    "Double_t Rmin=0;\n",
    "Double_t Pas=0.02;\n",
    "Double_t int_below_min=0;\n",
    "while (int_below_min<0.05){\n",
    "    Rmin+= Pas;\n",
    "    int_below_min = hRatio->Integral(0, hRatio->FindBin(Rmin));\n",
    "}\n",
    "Rmin -= Pas;\n",
    "int_below_min = hRatio->Integral(0, hRatio->FindBin(Rmin));\n",
    "\n",
    "cout<<\"Attenuation factor > \"<< Rmin<<\" at \"<<(1-int_below_min)*100 << \" % confidence level\"<<endl;"
   ]
  },
  {
   "cell_type": "code",
   "execution_count": 141,
   "id": "abbceab9",
   "metadata": {},
   "outputs": [
    {
     "name": "stdout",
     "output_type": "stream",
     "text": [
      "Attenuation factor > 4.84 at 96 % confidence level\n"
     ]
    }
   ],
   "source": [
    "Double_t Rmin=0;\n",
    "Double_t Pas=0.02;\n",
    "Double_t int_below_min=0;\n",
    "while (int_below_min<0.05){\n",
    "    Rmin+= Pas;\n",
    "    int_below_min = hRatio_syststat->Integral(0, hRatio_syststat->FindBin(Rmin));\n",
    "}\n",
    "Rmin -= Pas;\n",
    "int_below_min = hRatio_syststat->Integral(0, hRatio_syststat->FindBin(Rmin));\n",
    "\n",
    "cout<<\"Attenuation factor > \"<< Rmin<<\" at \"<<(1-int_below_min)*100 << \" % confidence level\"<<endl;"
   ]
  },
  {
   "cell_type": "code",
   "execution_count": 142,
   "id": "e13f1a76",
   "metadata": {},
   "outputs": [
    {
     "name": "stdout",
     "output_type": "stream",
     "text": [
      "0.0109079\n",
      "MPV = 7.475 + 1.95 - 1.85 with a probability of 66.1006 %\n"
     ]
    }
   ],
   "source": [
    "MPV = hRatio->GetBinCenter(hRatio->GetMaximumBin());\n",
    "\n",
    "Double_t maximum = hRatio->GetBinContent(hRatio->GetMaximumBin());\n",
    "cout<<maximum<<endl;\n",
    "Double_t y_value=0;\n",
    "Double_t indexRmin, indexRmax;\n",
    "Double_t Pas=0.00001;\n",
    "Double_t int_between_min_max=0;\n",
    "while (int_between_min_max<0.65){\n",
    "    y_value += Pas;\n",
    "    indexRmin = hRatio->FindFirstBinAbove (maximum-y_value, 1);\n",
    "    indexRmax = hRatio->FindLastBinAbove (maximum-y_value, 1);\n",
    "    int_between_min_max = hRatio->Integral(indexRmin, indexRmax);\n",
    "}\n",
    "\n",
    "cout<<\"MPV = \"<< MPV <<\" + \"<<hRatio->GetBinCenter(indexRmax)-MPV<<\" - \"<<MPV-hRatio->GetBinCenter(indexRmin) << \" with a probability of \"<<int_between_min_max*100<<\" %\" <<endl;"
   ]
  },
  {
   "cell_type": "code",
   "execution_count": 143,
   "id": "604007b8",
   "metadata": {},
   "outputs": [
    {
     "name": "stdout",
     "output_type": "stream",
     "text": [
      "0.03\n",
      "MPV = 6.425 + 5.1 - 1.35 with a probability of 83 %\n"
     ]
    }
   ],
   "source": [
    "MPV = hRatio_syststat->GetBinCenter(hRatio_syststat->GetMaximumBin());\n",
    "\n",
    "Double_t maximum = hRatio_syststat->GetBinContent(hRatio_syststat->GetMaximumBin());\n",
    "cout<<maximum<<endl;\n",
    "Double_t y_value=0;\n",
    "Double_t indexRmin, indexRmax;\n",
    "Double_t Pas=0.00001;\n",
    "Double_t int_between_min_max=0;\n",
    "while (int_between_min_max<0.65){\n",
    "    y_value += Pas;\n",
    "    indexRmin = hRatio_syststat->FindFirstBinAbove (maximum-y_value, 1);\n",
    "    indexRmax = hRatio_syststat->FindLastBinAbove (maximum-y_value, 1);\n",
    "    int_between_min_max = hRatio_syststat->Integral(indexRmin, indexRmax);\n",
    "}\n",
    "\n",
    "cout<<\"MPV = \"<< MPV <<\" + \"<<hRatio_syststat->GetBinCenter(indexRmax)-MPV<<\" - \"<<MPV-hRatio_syststat->GetBinCenter(indexRmin) << \" with a probability of \"<<int_between_min_max*100<<\" %\" <<endl;"
   ]
  },
  {
   "cell_type": "raw",
   "id": "df75452f",
   "metadata": {},
   "source": [
    "### With syst. errors"
   ]
  },
  {
   "cell_type": "raw",
   "id": "d23eecad",
   "metadata": {},
   "source": [
    "errSyst_FastNeutrons_Surface = sqrt(err_Syst_N_ev_data_NP_8_DC*err_Syst_N_ev_data_NP_8_DC+err_Syst_N_ev_data_NP_9_DC*err_Syst_N_ev_data_NP_9_DC);\n",
    "errSyst_FastNeutrons_VNS = sqrt(err_Syst_N_ev_data_NP_8_VNS*err_Syst_N_ev_data_NP_8_VNS+err_Syst_N_ev_data_NP_9_VNS*err_Syst_N_ev_data_NP_9_VNS);\n",
    "\n",
    "cout<< \">10MeV Neutron contribution\"<<endl;\n",
    "cout<< \"----------------------------\"<<endl;\n",
    "cout<<\"Surface: \"<<FastNeutrons_Surface<<\" +- \"<<err_FastNeutrons_Surface+errSyst_FastNeutrons_Surface<<\" (stat. and syst. from fit) ev/d\"<<endl;\n",
    "cout<<\"VNS: \"<<FastNeutrons_VNS<<\" +- \"<<err_FastNeutrons_VNS+errSyst_FastNeutrons_VNS<<\" (stat. and syst. from fit) ev/d\"<<endl;"
   ]
  },
  {
   "cell_type": "raw",
   "id": "4660a7f4",
   "metadata": {},
   "source": [
    "TF1* Gaus_ev_DC_wth_syst = new TF1(\"Gaus_ev_DC_wth_syst\", \"TMath::Gaus(x, [0], [1], true)\", 0, FastNeutrons_Surface+5*(err_FastNeutrons_Surface+errSyst_FastNeutrons_Surface));\n",
    "Gaus_ev_DC_wth_syst->FixParameter(0, FastNeutrons_Surface);\n",
    "Gaus_ev_DC_wth_syst->FixParameter(1, err_FastNeutrons_Surface+errSyst_FastNeutrons_Surface);\n",
    "\n",
    "TF1* Gaus_ev_VNS_wth_syst = new TF1(\"Gaus_ev_VNS_wth_syst\", \"TMath::Gaus(x, [0], [1], true)\", 0, FastNeutrons_VNS+5*(err_FastNeutrons_VNS+errSyst_FastNeutrons_VNS));\n",
    "Gaus_ev_VNS_wth_syst->FixParameter(0, FastNeutrons_VNS);\n",
    "Gaus_ev_VNS_wth_syst->FixParameter(1, err_FastNeutrons_VNS+errSyst_FastNeutrons_VNS);"
   ]
  },
  {
   "cell_type": "raw",
   "id": "5c03a2d6",
   "metadata": {},
   "source": [
    "TH1D* hRatio_withStat = new TH1D(\"Attenuation factor from Toy MC 2\", \"Attenuation factor from Toy MC 2\", 10000, 0, 500);\n",
    "Double_t Ev_out, Ev_VNS;   \n",
    "for (int i=0; i<50000; i++){\n",
    "    Ev_out = Gaus_ev_DC_wth_syst->GetRandom();\n",
    "    Ev_VNS = Gaus_ev_VNS_wth_syst->GetRandom();\n",
    "    if ((Ev_VNS>0)&&(Ev_out>0)) {hRatio_withStat->Fill(Ev_out/Ev_VNS);}\n",
    "}\n",
    "\n",
    "hRatio_withStat->GetXaxis()->SetRangeUser(0, 20);\n",
    "hRatio_withStat->GetXaxis()->SetTitle(\"R^{Out}/R_{VNS}\");\n",
    "hRatio_withStat->GetYaxis()->SetTitle(\"Probability\");\n",
    "hRatio_withStat->Scale(1./hRatio_withStat->Integral());"
   ]
  },
  {
   "cell_type": "raw",
   "id": "c278ca99",
   "metadata": {},
   "source": [
    "TCanvas* C = new TCanvas();\n",
    "C->Draw();\n",
    "C->SetLogy();\n",
    "hRatio_withStat->Draw(\"\");"
   ]
  },
  {
   "cell_type": "raw",
   "id": "600e8e5b",
   "metadata": {},
   "source": [
    "Double_t Rmin=0;\n",
    "Double_t int_above_min=1;\n",
    "while (int_above_min>0.95){\n",
    "    Rmin+= 0.02;\n",
    "    int_above_min = hRatio_withStat->Integral()-hRatio_withStat->Integral(0, hRatio_withStat->FindBin(Rmin));\n",
    "}\n",
    "\n",
    "cout<<\"Attenuation factor > \"<< Rmin<<\" at \"<<int_above_min*100 << \" % confidence level\"<<endl;"
   ]
  },
  {
   "cell_type": "markdown",
   "id": "2919495e",
   "metadata": {},
   "source": [
    "### With previous fits (linear and exponential)"
   ]
  },
  {
   "cell_type": "markdown",
   "id": "c83ff9e7",
   "metadata": {},
   "source": [
    "#### Linear"
   ]
  },
  {
   "cell_type": "code",
   "execution_count": 144,
   "id": "e730daa0",
   "metadata": {},
   "outputs": [],
   "source": [
    "TF1* Gaus_ev_DC_lin = new TF1(\"Gaus_ev_DC_lin\", \"TMath::Gaus(x, [0], [1], true)\", 0, 22+5*6.2);\n",
    "Gaus_ev_DC_lin->FixParameter(0, 21.7);\n",
    "Gaus_ev_DC_lin->FixParameter(1, 6.2);\n",
    "\n",
    "TF1* Gaus_ev_VNS_lin = new TF1(\"Gaus_ev_VNS_lin\", \"TMath::Gaus(x, [0], [1], true)\", 0, 4.8+5*7);\n",
    "Gaus_ev_VNS_lin->FixParameter(0, 4.8);\n",
    "Gaus_ev_VNS_lin->FixParameter(1, 6.9);"
   ]
  },
  {
   "cell_type": "code",
   "execution_count": 145,
   "id": "d0b81b7a",
   "metadata": {},
   "outputs": [],
   "source": [
    "TH1D* hRatio_lin = new TH1D(\"Attenuation factor from Toy MC with linear fit\", \"Attenuation factor from Toy MC with linear fit\", 10000, 0, 500);\n",
    "Double_t Ev_out, Ev_VNS;   \n",
    "for (int i=0; i<100000; i++){\n",
    "    Ev_out = Gaus_ev_DC_lin->GetRandom();\n",
    "    Ev_VNS = Gaus_ev_VNS_lin->GetRandom();\n",
    "    if ((Ev_VNS>0)&&(Ev_out>0)) {hRatio_lin->Fill(Ev_out/Ev_VNS);}\n",
    "}\n",
    "\n",
    "hRatio_lin->GetXaxis()->SetRangeUser(0, 20);\n",
    "hRatio_lin->GetXaxis()->SetTitle(\"R^{Out}/R_{VNS}\");\n",
    "hRatio_lin->GetYaxis()->SetTitle(\"Probability\");\n",
    "hRatio_lin->Scale(1./hRatio_lin->Integral());"
   ]
  },
  {
   "cell_type": "code",
   "execution_count": 146,
   "id": "6ce3824c",
   "metadata": {},
   "outputs": [
    {
     "data": {
      "image/png": "[encoded data removed]",
      "text/plain": [
       "<IPython.core.display.Image object>"
      ]
     },
     "metadata": {},
     "output_type": "display_data"
    }
   ],
   "source": [
    "TCanvas* C = new TCanvas();\n",
    "C->Draw();\n",
    "C->SetLogy();\n",
    "hRatio_lin->Draw(\"\");"
   ]
  },
  {
   "cell_type": "code",
   "execution_count": 147,
   "id": "f7adf89e",
   "metadata": {},
   "outputs": [
    {
     "name": "stdout",
     "output_type": "stream",
     "text": [
      "Attenuation factor > 0.98 at 95.1994 % confidence level\n"
     ]
    }
   ],
   "source": [
    "Double_t Rmin=0;\n",
    "Double_t Pas=0.02;\n",
    "Double_t int_below_min=0;\n",
    "while (int_below_min<0.05){\n",
    "    Rmin+= Pas;\n",
    "    int_below_min = hRatio_lin->Integral(0, hRatio_lin->FindBin(Rmin));\n",
    "}\n",
    "Rmin -= Pas;\n",
    "int_below_min = hRatio_lin->Integral(0, hRatio_lin->FindBin(Rmin));\n",
    "\n",
    "cout<<\"Attenuation factor > \"<< Rmin<<\" at \"<<(1-int_below_min)*100 << \" % confidence level\"<<endl;"
   ]
  },
  {
   "cell_type": "markdown",
   "id": "7dfb9e66",
   "metadata": {},
   "source": [
    "#### Exponential fit"
   ]
  },
  {
   "cell_type": "code",
   "execution_count": 148,
   "id": "9420a481",
   "metadata": {},
   "outputs": [],
   "source": [
    "TF1* Gaus_ev_DC_expo = new TF1(\"Gaus_ev_DC_expo\", \"TMath::Gaus(x, [0], [1], true)\", 0, 39+5*9.2);\n",
    "Gaus_ev_DC_expo->FixParameter(0, 39);\n",
    "Gaus_ev_DC_expo->FixParameter(1, 9.2);\n",
    "\n",
    "TF1* Gaus_ev_VNS_expo = new TF1(\"Gaus_ev_VNS_lin\", \"TMath::Gaus(x, [0], [1], true)\", 0, 7.5+5*6.9);\n",
    "Gaus_ev_VNS_expo->FixParameter(0, 7.5);\n",
    "Gaus_ev_VNS_expo->FixParameter(1, 6.9);"
   ]
  },
  {
   "cell_type": "code",
   "execution_count": 149,
   "id": "16511382",
   "metadata": {},
   "outputs": [],
   "source": [
    "TH1D* hRatio_expo = new TH1D(\"Attenuation factor from Toy MC with exponential fit\", \"Attenuation factor from Toy MC with exponential fit\", 10000, 0, 500);\n",
    "Double_t Ev_out, Ev_VNS;   \n",
    "for (int i=0; i<100000; i++){\n",
    "    Ev_out = Gaus_ev_DC_expo->GetRandom();\n",
    "    Ev_VNS = Gaus_ev_VNS_expo->GetRandom();\n",
    "    if ((Ev_VNS>0)&&(Ev_out>0)) {hRatio_expo->Fill(Ev_out/Ev_VNS);}\n",
    "}\n",
    "\n",
    "hRatio_expo->GetXaxis()->SetRangeUser(0, 20);\n",
    "hRatio_expo->GetXaxis()->SetTitle(\"R^{Out}/R_{VNS}\");\n",
    "hRatio_expo->GetYaxis()->SetTitle(\"Probability\");\n",
    "hRatio_expo->Scale(1./hRatio_expo->Integral());"
   ]
  },
  {
   "cell_type": "code",
   "execution_count": 150,
   "id": "06f6c043",
   "metadata": {},
   "outputs": [
    {
     "data": {
      "image/png": "[encoded data removed]",
      "text/plain": [
       "<IPython.core.display.Image object>"
      ]
     },
     "metadata": {},
     "output_type": "display_data"
    }
   ],
   "source": [
    "TCanvas* C = new TCanvas();\n",
    "C->Draw();\n",
    "C->SetLogy();\n",
    "hRatio_expo->Draw(\"\");"
   ]
  },
  {
   "cell_type": "code",
   "execution_count": 151,
   "id": "29858d49",
   "metadata": {},
   "outputs": [
    {
     "name": "stdout",
     "output_type": "stream",
     "text": [
      "Attenuation factor > 1.68 at 95.0564 % confidence level\n"
     ]
    }
   ],
   "source": [
    "Double_t Rmin=0;\n",
    "Double_t Pas=0.02;\n",
    "Double_t int_below_min=0;\n",
    "while (int_below_min<0.05){\n",
    "    Rmin+= Pas;\n",
    "    int_below_min = hRatio_expo->Integral(0, hRatio_expo->FindBin(Rmin));\n",
    "}\n",
    "Rmin -= Pas;\n",
    "int_below_min = hRatio_expo->Integral(0, hRatio_expo->FindBin(Rmin));\n",
    "\n",
    "cout<<\"Attenuation factor > \"<< Rmin<<\" at \"<<(1-int_below_min)*100 << \" % confidence level\"<<endl;"
   ]
  },
  {
   "cell_type": "markdown",
   "id": "5dcac96c",
   "metadata": {},
   "source": [
    "# Other fitting methods"
   ]
  },
  {
   "cell_type": "markdown",
   "id": "1065477d",
   "metadata": {},
   "source": [
    "## Local linear background"
   ]
  },
  {
   "cell_type": "code",
   "execution_count": 152,
   "id": "73dd924b",
   "metadata": {},
   "outputs": [],
   "source": [
    "TF1* Model_linear = new TF1(\"Model_linear\", \"gaus(0)+pol1(3)\", 3000, 4700);"
   ]
  },
  {
   "cell_type": "code",
   "execution_count": 153,
   "id": "821aba49",
   "metadata": {},
   "outputs": [],
   "source": [
    "TF1* Linear_bckg = new TF1(\"Linear_bckg\", \"pol1\", 3000, 4700);"
   ]
  },
  {
   "cell_type": "markdown",
   "id": "c671d3f9",
   "metadata": {},
   "source": [
    "### 9inch"
   ]
  },
  {
   "cell_type": "code",
   "execution_count": 154,
   "id": "8d74c264",
   "metadata": {},
   "outputs": [
    {
     "name": "stdout",
     "output_type": "stream",
     "text": [
      " FCN=1178.93 FROM HESSE     STATUS=NOT POSDEF     39 CALLS         386 TOTAL\n",
      "                     EDM=3.18667e-07    STRATEGY= 1      ERR MATRIX NOT POS-DEF\n",
      "  EXT PARAMETER                APPROXIMATE        STEP         FIRST   \n",
      "  NO.   NAME      VALUE            ERROR          SIZE      DERIVATIVE \n",
      "   1  p0           2.45019e-01   1.31724e-02   3.21738e-06   8.24468e-01\n",
      "   2  p1           6.97572e+03   1.41210e+00   1.98200e+03  -3.34192e-11\n",
      "   3  p2           4.17615e+06   1.41210e+00   2.02164e+05  -2.89727e-11\n",
      "   4  p3           2.45022e-01   1.31723e-02   3.21738e-06   8.24222e-01\n",
      "   5  p4          -1.09786e-04   2.20448e-06   7.94578e-10   3.37311e+03\n",
      "\n",
      "Chi2/ndf = 1178.93/37 = 31.8629\n",
      "\n",
      "Total N_ev in peak region = 160.277 ev/d +- 2.16677 ev/d\n",
      "N_ev in neutron peak from fit = 192.024 ev/d +- 10.3233 ev/d \n",
      "N_ev in background = -250.013 ev/d +- 19.8338 ev/d\n",
      "N_ev in neutron peak from data - bckg = 410.291 ev/d +- 19.9518 ev/d\n"
     ]
    }
   ],
   "source": [
    "Int_start = 3000;\n",
    "Int_stop = 4500;\n",
    "\n",
    "Model_linear->SetParameter(1, 3500);\n",
    "if (Model_linear->GetParameter(2)==0) Model_linear->SetParameter(2, Resol_NP*3500);\n",
    "\n",
    "TFitResultPtr r = hCal_DC_9inch->Fit(Model_linear, \"S0\", \"\", 3000, 5100);\n",
    "\n",
    "TMatrixD CovMat_9_lin_DC = r->GetCovarianceMatrix();\n",
    "\n",
    "//CovMat_DC.Print();\n",
    "\n",
    "Double_t err_norm_NP_DC_lin = sqrt(CovMat_9_lin_DC(0,0));\n",
    "Double_t norm_NP_DC_lin = Model_linear->GetParameter(0);\n",
    "\n",
    "Linear_bckg->SetParameter(0, Model_linear->GetParameter(3));\n",
    "Linear_bckg->SetParameter(1, Model_linear->GetParameter(4));\n",
    "\n",
    "Neutron_signal_9inch->SetParameter(0, Model_linear->GetParameter(0));\n",
    "Neutron_signal_9inch->SetParameter(1, Model_linear->GetParameter(1));\n",
    "Neutron_signal_9inch->SetParameter(2, Model_linear->GetParameter(2));\n",
    "\n",
    "Double_t N_ev_tot_DC_lin = Model_linear->Integral(Int_start, Int_stop);\n",
    "Double_t N_ev_NP_DC_lin = Neutron_signal_9inch->Integral(Int_start, Int_stop);\n",
    "Double_t err_N_ev_NP_DC_lin = (err_norm_NP_DC_lin/norm_NP_DC_lin)*Neutron_signal_9inch->Integral(Int_start, Int_stop);\n",
    "Double_t N_ev_BKG_DC_lin = Linear_bckg->Integral(Int_start, Int_stop);\n",
    "Double_t err_N_ev_BKG_DC_lin = sqrt((Int_stop-Int_start)*(Int_stop-Int_start)*CovMat_9_lin_DC(3,3)+(Int_stop-Int_start)*(Int_stop*Int_stop-Int_start*Int_start)*CovMat_9_lin_DC(3, 4)+(Int_stop*Int_stop-Int_start*Int_start)*(Int_stop*Int_stop-Int_start*Int_start)*CovMat_9_lin_DC(4,4)/4);\n",
    "\n",
    "Double_t err_N_ev_data_DC_lin;\n",
    "Double_t N_ev_data_DC_lin = hCal_DC_9inch->IntegralAndError(hCal_DC_9inch->FindBin(Int_start), hCal_DC_9inch->FindBin(Int_stop), err_N_ev_data_DC_lin, \"width\");\n",
    "\n",
    "Double_t err_N_ev_data_NP_DC_lin = sqrt(err_N_ev_data_DC_lin*err_N_ev_data_DC_lin + err_N_ev_BKG_DC_lin*err_N_ev_BKG_DC_lin);\n",
    "Double_t N_ev_data_NP_DC_lin = N_ev_data_DC_lin-N_ev_BKG_DC_lin;\n",
    "\n",
    "cout<<\"\\nChi2/ndf = \"<<Model_linear->GetChisquare()<<\"/\"<<Model_linear->GetNDF()<<\" = \"<<Model_linear->GetChisquare()/Model_linear->GetNDF()<<endl;\n",
    "cout<<\"\\nTotal N_ev in peak region = \"<<N_ev_data_DC_lin<<\" ev/d +- \"<<err_N_ev_data_DC_lin<<\" ev/d\"<<endl;\n",
    "cout<<\"N_ev in neutron peak from fit = \"<<N_ev_NP_DC_lin<<\" ev/d +- \"<<err_N_ev_NP_DC_lin<<\" ev/d \"<<endl;\n",
    "cout<<\"N_ev in background = \"<<N_ev_BKG_DC_lin<<\" ev/d +- \"<<err_N_ev_BKG_DC_lin<<\" ev/d\"<<endl;\n",
    "cout<<\"N_ev in neutron peak from data - bckg = \"<<N_ev_data_NP_DC_lin<<\" ev/d +- \"<<err_N_ev_data_NP_DC_lin<<\" ev/d\"<<endl;\n",
    "\n",
    "Model_linear->FixParameter(2, Model_linear->GetParameter(2)); //Fix the sigma value of the neutron peak  "
   ]
  },
  {
   "cell_type": "code",
   "execution_count": 155,
   "id": "9709a892",
   "metadata": {},
   "outputs": [
    {
     "data": {
      "image/png": "[encoded data removed]",
      "text/plain": [
       "<IPython.core.display.Image object>"
      ]
     },
     "metadata": {},
     "output_type": "display_data"
    },
    {
     "data": {
      "image/png": "[encoded data removed]",
      "text/plain": [
       "<IPython.core.display.Image object>"
      ]
     },
     "metadata": {},
     "output_type": "display_data"
    }
   ],
   "source": [
    "TCanvas* C = new TCanvas();\n",
    "C->Draw();\n",
    "C->SetLogy();\n",
    "hCal_DC_9inch->Draw(\"\");\n",
    "hCal_DC_9inch->GetYaxis()->SetRangeUser(1e-4, 10);\n",
    "Linear_bckg->SetLineColor(kBlue);\n",
    "Linear_bckg->Draw(\"RSAME\");\n",
    "Model_linear->Draw(\"RSAME\");\n",
    "\n",
    "TCanvas* C2 = new TCanvas(\"cRes_DC_9inch_lin\", \"cRes_DC_9inch_lin\", C->GetWw(), 0.6*C->GetWh());\n",
    "C2->Draw();\n",
    "gPad->SetMargin(0.1,0.1,0.2,0.1);\n",
    "\n",
    "hRes_DC_9inch_lin=Residuals(hCal_DC_9inch, Model_linear, 3000, 4700, true);\n",
    "hRes_DC_9inch_lin->GetYaxis()->SetTitle(\"Residuals [%]\");\n",
    "hRes_DC_9inch_lin->GetYaxis()->SetTitleSize(2*hCal_DC_9inch->GetYaxis()->GetTitleSize());\n",
    "hRes_DC_9inch_lin->GetXaxis()->SetTitleSize(2*hCal_DC_9inch->GetXaxis()->GetTitleSize());\n",
    "hRes_DC_9inch_lin->GetYaxis()->SetLabelSize(2*hCal_DC_9inch->GetYaxis()->GetLabelSize());\n",
    "hRes_DC_9inch_lin->GetXaxis()->SetLabelSize(2*hCal_DC_9inch->GetXaxis()->GetLabelSize());\n",
    "hRes_DC_9inch_lin->Draw(\"\");\n",
    "\n",
    "h_10pc->SetLineColorAlpha(kOrange+1, 0.2);\n",
    "h_10pc->SetMarkerColorAlpha(kOrange+1, 0.2);\n",
    "h_10pc->SetFillColorAlpha(kOrange+1, 0.2);\n",
    "h_10pc->Draw(\"E3SAME\");\n",
    "\n",
    "TLegend* leg = new TLegend(0.15, 0.3, 0.30, 0.4);\n",
    "leg->AddEntry(h_10pc, \"10%\");\n",
    "leg->Draw(\"SAME\");\n",
    "leg->SetLineWidth(0);"
   ]
  },
  {
   "cell_type": "code",
   "execution_count": 156,
   "id": "9f415d51",
   "metadata": {},
   "outputs": [
    {
     "name": "stdout",
     "output_type": "stream",
     "text": [
      " FCN=141.631 FROM HESSE     STATUS=NOT POSDEF     23 CALLS         346 TOTAL\n",
      "                     EDM=9.41751e-09    STRATEGY= 1      ERR MATRIX NOT POS-DEF\n",
      "  EXT PARAMETER                APPROXIMATE        STEP         FIRST   \n",
      "  NO.   NAME      VALUE            ERROR          SIZE      DERIVATIVE \n",
      "   1  p0           2.32617e-01   1.10659e+00   6.18030e-05   2.26983e-03\n",
      "   2  p1           1.35173e+07   5.70091e+06   6.75529e+00  -2.71797e-10\n",
      "   3  p2           4.17615e+06     fixed    \n",
      "   4  p3           1.05179e-01   5.28147e-03   4.96363e-07   2.84705e-01\n",
      "   5  p4          -2.32614e-05   8.82653e-07   1.23517e-10   1.05948e+03\n",
      "\n",
      "Chi2/ndf = 141.631/38 = 3.72712\n",
      "\n",
      "Total N_ev in peak region = 33.3166 ev/d +- 0.827373 ev/d\n",
      "N_ev in neutron peak from fit = 1.08991 ev/d +- 4.91033 ev/d \n",
      "N_ev in background = 26.9237 ev/d +- 7.94299 ev/d\n",
      "N_ev in neutron peak from data - bckg = 6.3929 ev/d +- 7.98596 ev/d\n"
     ]
    }
   ],
   "source": [
    "Int_start = 3000;\n",
    "Int_stop = 4500;\n",
    "\n",
    "Model_linear->SetParLimits(0, 0, 10);\n",
    "\n",
    "TFitResultPtr r = hCal_VNS_9inch->Fit(Model_linear, \"S0\", \"\", 3000, 4700);\n",
    "\n",
    "TMatrixD CovMat_9_lin_VNS = r->GetCovarianceMatrix();\n",
    "\n",
    "//CovMat_DC.Print();\n",
    "\n",
    "Double_t err_norm_NP_VNS_lin = sqrt(CovMat_9_lin_VNS(0,0));\n",
    "Double_t norm_NP_VNS_lin = Model_linear->GetParameter(0);\n",
    "\n",
    "Linear_bckg->SetParameter(0, Model_linear->GetParameter(3));\n",
    "Linear_bckg->SetParameter(1, Model_linear->GetParameter(4));\n",
    "\n",
    "Neutron_signal_9inch->SetParameter(0, Model_linear->GetParameter(0));\n",
    "Neutron_signal_9inch->SetParameter(1, Model_linear->GetParameter(1));\n",
    "Neutron_signal_9inch->SetParameter(2, Model_linear->GetParameter(2));\n",
    "\n",
    "Double_t N_ev_tot_VNS_lin = Model_linear->Integral(Int_start, Int_stop);\n",
    "Double_t N_ev_NP_VNS_lin = Neutron_signal_9inch->Integral(Int_start, Int_stop);\n",
    "Double_t err_N_ev_NP_VNS_lin = (err_norm_NP_VNS_lin/norm_NP_VNS_lin)*Neutron_signal_9inch->Integral(Int_start, Int_stop);\n",
    "Double_t N_ev_BKG_VNS_lin = Linear_bckg->Integral(Int_start, Int_stop);\n",
    "Double_t err_N_ev_BKG_VNS_lin = sqrt((Int_stop-Int_start)*(Int_stop-Int_start)*CovMat_9_lin_VNS(3,3)+(Int_stop-Int_start)*(Int_stop*Int_stop-Int_start*Int_start)*CovMat_9_lin_VNS(3, 4)+(Int_stop*Int_stop-Int_start*Int_start)*(Int_stop*Int_stop-Int_start*Int_start)*CovMat_9_lin_VNS(4,4)/4);\n",
    "\n",
    "Double_t err_N_ev_data_VNS_lin;\n",
    "Double_t N_ev_data_VNS_lin = hCal_VNS_9inch->IntegralAndError(hCal_VNS_9inch->FindBin(Int_start), hCal_VNS_9inch->FindBin(Int_stop), err_N_ev_data_VNS_lin, \"width\");\n",
    "\n",
    "Double_t err_N_ev_data_NP_VNS_lin = sqrt(err_N_ev_data_VNS_lin*err_N_ev_data_VNS_lin + err_N_ev_BKG_VNS_lin*err_N_ev_BKG_VNS_lin);\n",
    "Double_t N_ev_data_NP_VNS_lin = N_ev_data_VNS_lin-N_ev_BKG_VNS_lin;\n",
    "\n",
    "cout<<\"\\nChi2/ndf = \"<<Model_linear->GetChisquare()<<\"/\"<<Model_linear->GetNDF()<<\" = \"<<Model_linear->GetChisquare()/Model_linear->GetNDF()<<endl;\n",
    "cout<<\"\\nTotal N_ev in peak region = \"<<N_ev_data_VNS_lin<<\" ev/d +- \"<<err_N_ev_data_VNS_lin<<\" ev/d\"<<endl;\n",
    "cout<<\"N_ev in neutron peak from fit = \"<<N_ev_NP_VNS_lin<<\" ev/d +- \"<<err_N_ev_NP_VNS_lin<<\" ev/d \"<<endl;\n",
    "cout<<\"N_ev in background = \"<<N_ev_BKG_VNS_lin<<\" ev/d +- \"<<err_N_ev_BKG_VNS_lin<<\" ev/d\"<<endl;\n",
    "cout<<\"N_ev in neutron peak from data - bckg = \"<<N_ev_data_NP_VNS_lin<<\" ev/d +- \"<<err_N_ev_data_NP_VNS_lin<<\" ev/d\"<<endl;"
   ]
  },
  {
   "cell_type": "code",
   "execution_count": 157,
   "id": "66e77146",
   "metadata": {},
   "outputs": [
    {
     "data": {
      "image/png": "[encoded data removed]",
      "text/plain": [
       "<IPython.core.display.Image object>"
      ]
     },
     "metadata": {},
     "output_type": "display_data"
    },
    {
     "data": {
      "image/png": "[encoded data removed]",
      "text/plain": [
       "<IPython.core.display.Image object>"
      ]
     },
     "metadata": {},
     "output_type": "display_data"
    }
   ],
   "source": [
    "TCanvas* C = new TCanvas();\n",
    "C->Draw();\n",
    "C->SetLogy();\n",
    "hCal_VNS_9inch->Draw(\"\");\n",
    "hCal_VNS_9inch->GetYaxis()->SetRangeUser(1e-4, 10);\n",
    "Linear_bckg->SetLineColor(kBlue);\n",
    "Linear_bckg->Draw(\"RSAME\");\n",
    "Model_linear->Draw(\"RSAME\");\n",
    "\n",
    "TCanvas* C2 = new TCanvas(\"cRes_VNS_9inch_lin\", \"cRes_VNS_9inch_lin\", C->GetWw(), 0.6*C->GetWh());\n",
    "C2->Draw();\n",
    "gPad->SetMargin(0.1,0.1,0.2,0.1);\n",
    "\n",
    "hRes_VNS_9inch_lin=Residuals(hCal_VNS_9inch, Model_linear, 2900, 4700, true);\n",
    "hRes_VNS_9inch_lin->GetYaxis()->SetTitle(\"Residuals [%]\");\n",
    "hRes_VNS_9inch_lin->GetYaxis()->SetTitleSize(2*hCal_VNS_9inch->GetYaxis()->GetTitleSize());\n",
    "hRes_VNS_9inch_lin->GetXaxis()->SetTitleSize(2*hCal_VNS_9inch->GetXaxis()->GetTitleSize());\n",
    "hRes_VNS_9inch_lin->GetYaxis()->SetLabelSize(2*hCal_VNS_9inch->GetYaxis()->GetLabelSize());\n",
    "hRes_VNS_9inch_lin->GetXaxis()->SetLabelSize(2*hCal_VNS_9inch->GetXaxis()->GetLabelSize());\n",
    "hRes_VNS_9inch_lin->Draw(\"\");\n",
    "\n",
    "h_10pc->Draw(\"E3SAME\");\n",
    "\n",
    "TLegend* leg = new TLegend(0.15, 0.3, 0.30, 0.4);\n",
    "leg->AddEntry(h_10pc, \"10 %\");\n",
    "leg->Draw(\"SAME\");\n",
    "leg->SetLineWidth(0);"
   ]
  },
  {
   "cell_type": "markdown",
   "id": "e77f7dd2",
   "metadata": {},
   "source": [
    "### 8inch"
   ]
  },
  {
   "cell_type": "code",
   "execution_count": 158,
   "id": "60d42ba4",
   "metadata": {},
   "outputs": [
    {
     "name": "stdout",
     "output_type": "stream",
     "text": [
      " FCN=610.894 FROM HESSE     STATUS=NOT POSDEF     23 CALLS         183 TOTAL\n",
      "                     EDM=2.98102e-07    STRATEGY= 1      ERR MATRIX NOT POS-DEF\n",
      "  EXT PARAMETER                APPROXIMATE        STEP         FIRST   \n",
      "  NO.   NAME      VALUE            ERROR          SIZE      DERIVATIVE \n",
      "   1  p0           3.70004e-01   2.36752e-02   2.29449e-06   9.09596e-02\n",
      "   2  p1          -4.05371e+06   2.75000e+05   1.34814e+01   4.17249e-09\n",
      "   3  p2           4.17615e+06     fixed    \n",
      "   4  p3           2.20881e-01   1.47414e-02   2.70216e-06   7.73248e-02\n",
      "   5  p4          -1.01659e-04   2.28357e-06   6.69122e-10   6.46793e+02\n",
      "\n",
      "Chi2/ndf = 610.894/44 = 13.8839\n",
      "\n",
      "Total N_ev in peak region = 128.605 ev/d +- 2.53141 ev/d\n",
      "N_ev in neutron peak from fit = 346.193 ev/d +- 22.1522 ev/d \n",
      "N_ev in background = -240.51 ev/d +- 22.1603 ev/d\n",
      "N_ev in neutron peak from data - bckg = 369.115 ev/d +- 22.3045 ev/d\n"
     ]
    }
   ],
   "source": [
    "Int_start = 3000;\n",
    "Int_stop = 4500;\n",
    "\n",
    "Model_linear->SetParameter(1, 3500);\n",
    "if (Model_linear->GetParameter(2)==0) Model_linear->SetParameter(2, Resol_NP*3500);\n",
    "\n",
    "TFitResultPtr r = hCal_DC_8inch->Fit(Model_linear, \"S0\", \"\", 2800, 5100);\n",
    "\n",
    "TMatrixD CovMat_8_lin_DC = r->GetCovarianceMatrix();\n",
    "\n",
    "//CovMat_DC.Print();\n",
    "\n",
    "Double_t err_norm_8_NP_DC_lin = sqrt(CovMat_8_lin_DC(0,0));\n",
    "Double_t norm_8_NP_DC_lin = Model_linear->GetParameter(0);\n",
    "\n",
    "Linear_bckg->SetParameter(0, Model_linear->GetParameter(3));\n",
    "Linear_bckg->SetParameter(1, Model_linear->GetParameter(4));\n",
    "\n",
    "Neutron_peak_Gaus->SetParameter(0, Model_linear->GetParameter(0));\n",
    "Neutron_peak_Gaus->SetParameter(1, Model_linear->GetParameter(1));\n",
    "Neutron_peak_Gaus->SetParameter(2, Model_linear->GetParameter(2));\n",
    "\n",
    "Double_t N_ev_tot_8_DC_lin = Model_linear->Integral(Int_start, Int_stop);\n",
    "Double_t N_ev_NP_8_DC_lin = Neutron_peak_Gaus->Integral(Int_start, Int_stop);\n",
    "Double_t err_N_ev_NP_8_DC_lin = (err_norm_8_NP_DC_lin/norm_8_NP_DC_lin)*Neutron_peak_Gaus->Integral(Int_start, Int_stop);\n",
    "Double_t N_ev_BKG_8_DC_lin = Linear_bckg->Integral(Int_start, Int_stop);\n",
    "Double_t err_N_ev_BKG_8_DC_lin = sqrt((Int_stop-Int_start)*(Int_stop-Int_start)*CovMat_8_lin_DC(3,3)+(Int_stop-Int_start)*(Int_stop*Int_stop-Int_start*Int_start)*CovMat_8_lin_DC(3, 4)+(Int_stop*Int_stop-Int_start*Int_start)*(Int_stop*Int_stop-Int_start*Int_start)*CovMat_8_lin_DC(4,4)/4);\n",
    "\n",
    "Double_t err_N_ev_data_8_DC_lin;\n",
    "Double_t N_ev_data_8_DC_lin = hCal_DC_8inch->IntegralAndError(hCal_DC_8inch->FindBin(Int_start), hCal_DC_8inch->FindBin(Int_stop), err_N_ev_data_8_DC_lin, \"width\");\n",
    "\n",
    "Double_t err_N_ev_data_8_NP_DC_lin = sqrt(err_N_ev_data_8_DC_lin*err_N_ev_data_8_DC_lin + err_N_ev_BKG_8_DC_lin*err_N_ev_BKG_8_DC_lin);\n",
    "Double_t N_ev_data_NP_8_DC_lin = N_ev_data_8_DC_lin-N_ev_BKG_8_DC_lin;\n",
    "\n",
    "cout<<\"\\nChi2/ndf = \"<<Model_linear->GetChisquare()<<\"/\"<<Model_linear->GetNDF()<<\" = \"<<Model_linear->GetChisquare()/Model_linear->GetNDF()<<endl;\n",
    "cout<<\"\\nTotal N_ev in peak region = \"<<N_ev_data_8_DC_lin<<\" ev/d +- \"<<err_N_ev_data_8_DC_lin<<\" ev/d\"<<endl;\n",
    "cout<<\"N_ev in neutron peak from fit = \"<<N_ev_NP_8_DC_lin<<\" ev/d +- \"<<err_N_ev_NP_8_DC_lin<<\" ev/d \"<<endl;\n",
    "cout<<\"N_ev in background = \"<<N_ev_BKG_8_DC_lin<<\" ev/d +- \"<<err_N_ev_BKG_8_DC_lin<<\" ev/d\"<<endl;\n",
    "cout<<\"N_ev in neutron peak from data - bckg = \"<<N_ev_data_NP_8_DC_lin<<\" ev/d +- \"<<err_N_ev_data_8_NP_DC_lin<<\" ev/d\"<<endl;\n",
    "\n",
    "Model_linear->FixParameter(2, Model_linear->GetParameter(2)); //Fix the sigma value of the neutron peak \n",
    "Model_linear->FixParameter(1, Model_linear->GetParameter(1)); //Fix the positio. of the neutron peak  "
   ]
  },
  {
   "cell_type": "code",
   "execution_count": 159,
   "id": "b1929388",
   "metadata": {},
   "outputs": [
    {
     "data": {
      "image/png": "[encoded data removed]",
      "text/plain": [
       "<IPython.core.display.Image object>"
      ]
     },
     "metadata": {},
     "output_type": "display_data"
    },
    {
     "data": {
      "image/png": "[encoded data removed]",
      "text/plain": [
       "<IPython.core.display.Image object>"
      ]
     },
     "metadata": {},
     "output_type": "display_data"
    }
   ],
   "source": [
    "TCanvas* C = new TCanvas();\n",
    "C->Draw();\n",
    "C->SetLogy();\n",
    "hCal_DC_8inch->Draw(\"\");\n",
    "hCal_DC_8inch->GetYaxis()->SetRangeUser(1e-4, 10);\n",
    "Linear_bckg->SetLineColor(kBlue);\n",
    "Linear_bckg->Draw(\"RSAME\");\n",
    "Model_linear->Draw(\"RSAME\");\n",
    "\n",
    "TCanvas* C2 = new TCanvas(\"cRes_DC_8inch_lin\", \"cRes_DC_8inch_lin\", C->GetWw(), 0.6*C->GetWh());\n",
    "C2->Draw();\n",
    "gPad->SetMargin(0.1,0.1,0.2,0.1);\n",
    "\n",
    "hRes_DC_8inch_lin=Residuals(hCal_DC_8inch, Model_linear, 2800, 4700, true);\n",
    "hRes_DC_8inch_lin->GetYaxis()->SetTitle(\"Residuals [%]\");\n",
    "hRes_DC_8inch_lin->GetYaxis()->SetTitleSize(2*hCal_DC_8inch->GetYaxis()->GetTitleSize());\n",
    "hRes_DC_8inch_lin->GetXaxis()->SetTitleSize(2*hCal_DC_8inch->GetXaxis()->GetTitleSize());\n",
    "hRes_DC_8inch_lin->GetYaxis()->SetLabelSize(2*hCal_DC_8inch->GetYaxis()->GetLabelSize());\n",
    "hRes_DC_8inch_lin->GetXaxis()->SetLabelSize(2*hCal_DC_8inch->GetXaxis()->GetLabelSize());\n",
    "hRes_DC_8inch_lin->Draw(\"\");\n",
    "\n",
    "h_10pc->SetLineColorAlpha(kOrange+1, 0.2);\n",
    "h_10pc->SetMarkerColorAlpha(kOrange+1, 0.2);\n",
    "h_10pc->SetFillColorAlpha(kOrange+1, 0.2);\n",
    "h_10pc->Draw(\"E3SAME\");\n",
    "\n",
    "TLegend* leg = new TLegend(0.15, 0.3, 0.30, 0.4);\n",
    "leg->AddEntry(h_10pc, \"10%\");\n",
    "leg->Draw(\"SAME\");\n",
    "leg->SetLineWidth(0);"
   ]
  },
  {
   "cell_type": "code",
   "execution_count": 160,
   "id": "e43de877",
   "metadata": {},
   "outputs": [
    {
     "name": "stdout",
     "output_type": "stream",
     "text": [
      " FCN=114.947 FROM MIGRAD    STATUS=CONVERGED      81 CALLS          82 TOTAL\n",
      "                     EDM=2.95167e-11    STRATEGY= 1  ERROR MATRIX UNCERTAINTY   1.8 per cent\n",
      "  EXT PARAMETER                                   STEP         FIRST   \n",
      "  NO.   NAME      VALUE            ERROR          SIZE      DERIVATIVE \n",
      "   1  p0           1.77989e-01   1.56835e-03   4.27199e-07   1.63889e-02\n",
      "   2  p1           3.50000e+03     fixed    \n",
      "   3  p2           4.17615e+06     fixed    \n",
      "   4  p3          -7.48193e-02   3.05405e-03   8.48228e-07   1.21409e-02\n",
      "   5  p4          -2.24634e-05   1.14108e-06  -5.60118e-10   4.12149e+01\n",
      "\n",
      "Chi2/ndf = 114.947/39 = 2.94736\n",
      "\n",
      "Total N_ev in peak region = 32.1108 ev/d +- 0.822646 ev/d\n",
      "N_ev in neutron peak from fit = 266.983 ev/d +- 2.35253 ev/d \n",
      "N_ev in background = -238.586 ev/d +- 4.69459 ev/d\n",
      "N_ev in neutron peak from data - bckg = 270.696 ev/d +- 4.76613 ev/d\n"
     ]
    }
   ],
   "source": [
    "Int_start = 3000;\n",
    "Int_stop = 4500;\n",
    "\n",
    "Model_linear->SetParameter(1, 3500);\n",
    "if (Model_linear->GetParameter(2)==0) Model_linear->SetParameter(2, Resol_NP*3500);\n",
    "\n",
    "TFitResultPtr r = hCal_VNS_8inch->Fit(Model_linear, \"S0\", \"\", 3000, 5100);\n",
    "\n",
    "TMatrixD CovMat_8_lin_VNS = r->GetCovarianceMatrix();\n",
    "\n",
    "//CovMat_DC.Print();\n",
    "\n",
    "Double_t err_norm_8_NP_VNS_lin = sqrt(CovMat_8_lin_VNS(0,0));\n",
    "Double_t norm_8_NP_VNS_lin = Model_linear->GetParameter(0);\n",
    "\n",
    "Linear_bckg->SetParameter(0, Model_linear->GetParameter(3));\n",
    "Linear_bckg->SetParameter(1, Model_linear->GetParameter(4));\n",
    "\n",
    "Neutron_peak_Gaus->SetParameter(0, Model_linear->GetParameter(0));\n",
    "Neutron_peak_Gaus->SetParameter(1, Model_linear->GetParameter(1));\n",
    "Neutron_peak_Gaus->SetParameter(2, Model_linear->GetParameter(2));\n",
    "\n",
    "Double_t N_ev_tot_8_VNS_lin = Model_linear->Integral(Int_start, Int_stop);\n",
    "Double_t N_ev_NP_8_VNS_lin = Neutron_peak_Gaus->Integral(Int_start, Int_stop);\n",
    "Double_t err_N_ev_NP_8_VNS_lin = (err_norm_8_NP_VNS_lin/norm_8_NP_VNS_lin)*Neutron_peak_Gaus->Integral(Int_start, Int_stop);\n",
    "Double_t N_ev_BKG_8_VNS_lin = Linear_bckg->Integral(Int_start, Int_stop);\n",
    "Double_t err_N_ev_BKG_8_VNS_lin = sqrt((Int_stop-Int_start)*(Int_stop-Int_start)*CovMat_8_lin_VNS(3,3)+(Int_stop-Int_start)*(Int_stop*Int_stop-Int_start*Int_start)*CovMat_8_lin_VNS(3, 4)+(Int_stop*Int_stop-Int_start*Int_start)*(Int_stop*Int_stop-Int_start*Int_start)*CovMat_8_lin_VNS(4,4)/4);\n",
    "\n",
    "Double_t err_N_ev_data_8_VNS_lin;\n",
    "Double_t N_ev_data_8_VNS_lin = hCal_VNS_8inch->IntegralAndError(hCal_VNS_8inch->FindBin(Int_start), hCal_VNS_8inch->FindBin(Int_stop), err_N_ev_data_8_VNS_lin, \"width\");\n",
    "\n",
    "Double_t err_N_ev_data_8_NP_VNS_lin = sqrt(err_N_ev_data_8_VNS_lin*err_N_ev_data_8_VNS_lin + err_N_ev_BKG_8_VNS_lin*err_N_ev_BKG_8_VNS_lin);\n",
    "Double_t N_ev_data_NP_8_VNS_lin = N_ev_data_8_VNS_lin-N_ev_BKG_8_VNS_lin;\n",
    "\n",
    "cout<<\"\\nChi2/ndf = \"<<Model_linear->GetChisquare()<<\"/\"<<Model_linear->GetNDF()<<\" = \"<<Model_linear->GetChisquare()/Model_linear->GetNDF()<<endl;\n",
    "cout<<\"\\nTotal N_ev in peak region = \"<<N_ev_data_8_VNS_lin<<\" ev/d +- \"<<err_N_ev_data_8_VNS_lin<<\" ev/d\"<<endl;\n",
    "cout<<\"N_ev in neutron peak from fit = \"<<N_ev_NP_8_VNS_lin<<\" ev/d +- \"<<err_N_ev_NP_8_VNS_lin<<\" ev/d \"<<endl;\n",
    "cout<<\"N_ev in background = \"<<N_ev_BKG_8_VNS_lin<<\" ev/d +- \"<<err_N_ev_BKG_8_VNS_lin<<\" ev/d\"<<endl;\n",
    "cout<<\"N_ev in neutron peak from data - bckg = \"<<N_ev_data_NP_8_VNS_lin<<\" ev/d +- \"<<err_N_ev_data_8_NP_VNS_lin<<\" ev/d\"<<endl;\n",
    "\n",
    "Model_linear->FixParameter(2, Model_linear->GetParameter(2)); //Fix the sigma value of the neutron peak  "
   ]
  },
  {
   "cell_type": "code",
   "execution_count": 161,
   "id": "9e14aefe",
   "metadata": {},
   "outputs": [
    {
     "data": {
      "image/png": "[encoded data removed]",
      "text/plain": [
       "<IPython.core.display.Image object>"
      ]
     },
     "metadata": {},
     "output_type": "display_data"
    },
    {
     "data": {
      "image/png": "[encoded data removed]",
      "text/plain": [
       "<IPython.core.display.Image object>"
      ]
     },
     "metadata": {},
     "output_type": "display_data"
    }
   ],
   "source": [
    "TCanvas* C = new TCanvas();\n",
    "C->Draw();\n",
    "C->SetLogy();\n",
    "hCal_VNS_8inch->Draw(\"\");\n",
    "hCal_VNS_8inch->GetYaxis()->SetRangeUser(1e-4, 10);\n",
    "Linear_bckg->SetLineColor(kBlue);\n",
    "Linear_bckg->Draw(\"RSAME\");\n",
    "Model_linear->Draw(\"RSAME\");\n",
    "\n",
    "TCanvas* C2 = new TCanvas(\"cRes_VNS_8inch_lin\", \"cRes_VNS_8inch_lin\", C->GetWw(), 0.6*C->GetWh());\n",
    "C2->Draw();\n",
    "gPad->SetMargin(0.1,0.1,0.2,0.1);\n",
    "\n",
    "hRes_VNS_8inch_lin=Residuals(hCal_VNS_8inch, Model_linear, 3000, 4700, true);\n",
    "hRes_VNS_8inch_lin->GetYaxis()->SetTitle(\"Residuals [%]\");\n",
    "hRes_VNS_8inch_lin->GetYaxis()->SetTitleSize(2*hCal_VNS_8inch->GetYaxis()->GetTitleSize());\n",
    "hRes_VNS_8inch_lin->GetXaxis()->SetTitleSize(2*hCal_VNS_8inch->GetXaxis()->GetTitleSize());\n",
    "hRes_VNS_8inch_lin->GetYaxis()->SetLabelSize(2*hCal_VNS_8inch->GetYaxis()->GetLabelSize());\n",
    "hRes_VNS_8inch_lin->GetXaxis()->SetLabelSize(2*hCal_VNS_8inch->GetXaxis()->GetLabelSize());\n",
    "hRes_VNS_8inch_lin->Draw(\"\");\n",
    "\n",
    "h_10pc->SetLineColorAlpha(kOrange+1, 0.2);\n",
    "h_10pc->SetMarkerColorAlpha(kOrange+1, 0.2);\n",
    "h_10pc->SetFillColorAlpha(kOrange+1, 0.2);\n",
    "h_10pc->Draw(\"E3SAME\");\n",
    "\n",
    "TLegend* leg = new TLegend(0.15, 0.3, 0.30, 0.4);\n",
    "leg->AddEntry(h_10pc, \"10%\");\n",
    "leg->Draw(\"SAME\");\n",
    "leg->SetLineWidth(0);"
   ]
  }
 ],
 "metadata": {
  "kernelspec": {
   "display_name": "ROOT C++",
   "language": "c++",
   "name": "root"
  },
  "language_info": {
   "codemirror_mode": "text/x-c++src",
   "file_extension": ".C",
   "mimetype": " text/x-c++src",
   "name": "c++"
  },
  "toc": {
   "base_numbering": 1,
   "nav_menu": {},
   "number_sections": true,
   "sideBar": true,
   "skip_h1_title": false,
   "title_cell": "Table of Contents",
   "title_sidebar": "Contents",
   "toc_cell": false,
   "toc_position": {
    "height": "calc(100% - 180px)",
    "left": "10px",
    "top": "150px",
    "width": "246px"
   },
   "toc_section_display": true,
   "toc_window_display": true
  }
 },
 "nbformat": 4,
 "nbformat_minor": 5
}

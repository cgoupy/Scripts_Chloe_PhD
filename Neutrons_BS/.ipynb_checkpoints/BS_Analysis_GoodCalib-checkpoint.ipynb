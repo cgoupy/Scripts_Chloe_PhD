{
 "cells": [
  {
   "cell_type": "code",
   "execution_count": 1,
   "id": "216c72b2",
   "metadata": {},
   "outputs": [],
   "source": [
    "Double_t MVthr_VNS = 7.;\n",
    "Double_t MVthr_DC = 7.;\n",
    "Double_t Emin_fit = 700;\n",
    "Double_t Emax_fit = 4500;"
   ]
  },
  {
   "cell_type": "code",
   "execution_count": 2,
   "id": "6632a4c0",
   "metadata": {},
   "outputs": [],
   "source": [
    "// Functions used to read data and simulations"
   ]
  },
  {
   "cell_type": "code",
   "execution_count": 3,
   "id": "c037365b",
   "metadata": {},
   "outputs": [],
   "source": [
    "//Standard deviation of a vector\n",
    "Double_t Sigma(vector<Double_t> Vector){\n",
    "    int num_val = Vector.size();\n",
    "    Double_t Mean=0;\n",
    "    for (int i=0; i<num_val; i++){\n",
    "        Mean+=Vector[i];\n",
    "    }\n",
    "    Mean= Mean/num_val;\n",
    "    \n",
    "    Double_t sigma=0;\n",
    "    for (int i=0; i<num_val; i++){\n",
    "        sigma+=(Vector[i]-Mean)*(Vector[i]-Mean);\n",
    "    }\n",
    "    sigma= sigma/(num_val-1);\n",
    "    sigma = sqrt(sigma);\n",
    "    return sigma;\n",
    "}"
   ]
  },
  {
   "cell_type": "code",
   "execution_count": 4,
   "id": "db057018",
   "metadata": {},
   "outputs": [],
   "source": [
    "//Smooth Step function\n",
    "//--------------------------------------------------------------\n",
    "double cdf(double *x, double *par){\n",
    "    double mean=par[0];\n",
    "    double sigma = par[1];\n",
    "    \n",
    "    double xx =x[0];\n",
    "    return ROOT::Math::normal_cdf(xx, sigma, mean);\n",
    "}"
   ]
  },
  {
   "cell_type": "code",
   "execution_count": 5,
   "id": "23d8a144",
   "metadata": {},
   "outputs": [],
   "source": [
    "TH1D* Put_data_in_histo(TString filename, double real_time, TString Title){\n",
    "    ifstream in;\n",
    "    in.open(filename, ios::in);\n",
    "    cout<<\"\\n*******************************************************\"<<endl;\n",
    "    cout<<filename<<endl;\n",
    "    Float_t time=real_time/(24*3600.);\n",
    "    \n",
    "    Int_t x,y, MCA_chan;\n",
    "    TH1D* h1 = new TH1D(Title,Title,512,-0.5,511.5);\n",
    "    h1->GetXaxis()->SetTitle(\"Pulse Height [MCA a.u.]\");\n",
    "    h1->GetYaxis()->SetTitle(\"Counts per day per MCA channel\");\n",
    "    \n",
    "    while (1) {\n",
    "        in >> x >> y;\n",
    "        if (!in.good()) break;\n",
    "        \n",
    "        h1->SetBinContent(x+1, y);\n",
    "        h1->SetBinError(x+1, sqrt(y));\n",
    "    }\n",
    "    MCA_chan=h1->GetBinWidth(1);\n",
    "    h1->Scale(1./(MCA_chan*time));\n",
    "    return h1;\n",
    "}"
   ]
  },
  {
   "cell_type": "code",
   "execution_count": 6,
   "id": "094dedee",
   "metadata": {},
   "outputs": [],
   "source": [
    "//This function applies a quenching factor\n",
    "TH1D* Put_simu_in_histo(TString filename, TString Title, int nBin, double Emin, double Emax, Double_t NEvt, Double_t Flux =0.0134, Double_t QF=3.5/5., Double_t MVthr=3., bool Veto=true, Double_t resol = 4.6){\n",
    "    \n",
    "    TFile* Nfile = new TFile(filename);\n",
    "\n",
    "    Float_t ECr, EMV;\n",
    "    TRandom gen(0);\n",
    "    \n",
    "    Double_t NTime = NEvt/40./40./Flux;     // s\n",
    "    \n",
    "    TTree *Nnp = (TTree*) Nfile->Get(\"NTupleAlgoDir/Pri_Ntuple\");\n",
    "    TTree *Nns = (TTree*) Nfile->Get(\"NTupleAlgoDir/Sec_Ntuple\");\n",
    "\n",
    "    Int_t Np_entries= Nnp->GetEntries();\n",
    "    Int_t Ns_entries= Nns->GetEntries();\n",
    "    printf(\"  Primary Entries:      %10d\\n\",Np_entries);\n",
    "    printf(\"  Secondary Entries:    %10d\\n\",Ns_entries);\n",
    "    printf(\"  Generated primaries:  %.0f\\n\",NEvt);\n",
    "    printf(\"  Equivalent time:      %.0f s (%.3f d)\\n\",NTime,NTime/86400.);\n",
    "    \n",
    "    TH1D *neut = new TH1D(Title,Title,nBin,Emin,Emax);\n",
    "\n",
    "    neut->GetXaxis()->SetTitle(\"Energy [keVee]\");\n",
    "    neut->GetYaxis()->SetTitle(\"Counts.d^{-1}.keVee^{-1}\");\n",
    "\n",
    "    Nnp->SetBranchAddress(\"EDep\", &ECr);\n",
    "    if (Veto){Nnp->SetBranchAddress(\"EMV0\", &EMV);}\n",
    "\n",
    "    Float_t NpNSec,NpDelay, NsPDG,NsPidM,NsPid;\n",
    "    Nnp->SetBranchAddress(  \"NSec\", &NpNSec);\n",
    "    Nnp->SetBranchAddress( \"Delay\", &NpDelay);\n",
    "    Nns->SetBranchAddress(   \"PDG\", &NsPDG);\n",
    "    Nns->SetBranchAddress(  \"PidM\", &NsPidM);\n",
    "    Nns->SetBranchAddress(   \"Pid\", &NsPid);\n",
    "    \n",
    "    // Loop on primary particles pk\n",
    "    Int_t pk=0, sk=0, npCheck=0, nsCheck=0, isQF=0, nQuenched=0;\n",
    "    \n",
    "    while (pk < Np_entries) {\n",
    "        \n",
    "        // Loop on secondary particles sk (defined as those particles entering in the LiI(Eu) crystal)\n",
    "        if (sk < Ns_entries) Nns->GetEntry(sk);\n",
    "        \n",
    "        // Get the \"id\" of the primary particles associated to the secondary particle sk\n",
    "        Int_t id = ((Int_t) (NsPidM+0.5))*1000000 + ((Int_t) (NsPid+0.5));\n",
    "        \n",
    "         // if the primary particles is pk (the one under examination in primary loop), set isQF=1 in the cases when the\n",
    "        // secondary particle sk is a neutron or antineutron\n",
    "        // ==> i.e., if the secondary particles entering in the LiI(Eu) crystal is a neutron, the deposited energy is due\n",
    "        // to a neutron interaction in LiI(Eu) detector and the quenching factor has to be applied (isQF=1, --> true).\n",
    "        if(id==pk && sk < Ns_entries) {\n",
    "            if (NsPDG==2112 || NsPDG==-2112) isQF=1;\n",
    "            sk++;\n",
    "            nsCheck++;\n",
    "        } \n",
    "        \n",
    "        // otherwise, no further secondary particles are associated to pk, I can fill the spectrum with the deposited\n",
    "        // energy in LiI(Eu) detector (branch EDep in primary ntuple), applying or not the quenching factor\n",
    "        else {\n",
    "            Nnp->GetEntry(pk);\n",
    "            // it is only a consinstency check (verify that the number of analysed secondary particles is the expected one)\n",
    "            // for the pk primary particle under examination\n",
    "            if (NpNSec != nsCheck) printf(\" Primary entry %d: NSec error NSec=%d, nsCheck=%d\\n\", pk, (int) NpNSec, nsCheck);\n",
    "    \n",
    "            // It happens sometime that the primary particles is not associated to any secondary particles (NpNSec=0);\n",
    "            // Almost always, it is due to very slow neutrons that after entering the LiI(Eu) crystal need long time before\n",
    "            // having an interaction, and therefore are classified as new, delayed events (NpDelay>0) and loose their correlation\n",
    "            // with the secondary particle ntuple. Also these events have to be classified as neutron events ==> isQF=1\n",
    "            // (this point is not easy to explain, maybe we can have a short discussion about it)\n",
    "            if (NpNSec==0 && NpDelay>0) isQF=1;        // Sicuramente neutroni\n",
    "            if (isQF == 1) nQuenched++;\n",
    "            \n",
    "            // the E deposition in the MV is spread accounting for energy resolution resolution\n",
    "            Float_t Ep = EMV;\n",
    "        \n",
    "            if (Ep>0){\n",
    "                Float_t sp = 0.1008*sqrt(1./Ep*(1.+1./Ep))/2.3548;      // (%)\n",
    "                Ep *= (1. + sp*gen.Gaus())*1000.;\n",
    "            }\n",
    "            \n",
    "            if (Veto){\n",
    "                if (Ep < MVthr*1000) {\n",
    "                    Float_t E = ECr*1000.;                                  // keV\n",
    "\n",
    "                    if (isQF==1) E *= QF;\n",
    "                    Double_t Enew = gen.Gaus(E, resol*sqrt(E));\n",
    "                    neut->Fill(Enew);\n",
    "                } // else printf(\"Ep = %f keV\\n\",EMV);\n",
    "            }\n",
    "            \n",
    "            else {\n",
    "                Float_t E = ECr*1000.;                                  // keV\n",
    "\n",
    "                if (isQF==1) E *= QF;\n",
    "                Double_t Enew = gen.Gaus(E, resol*sqrt(E));\n",
    "                neut->Fill(Enew);\n",
    "            }\n",
    "            \n",
    "            npCheck++;\n",
    "            nsCheck=0;\n",
    "            isQF=0;\n",
    "            pk++;\n",
    "        }\n",
    "    }\n",
    "\n",
    "    printf(\" Nb of primary analysed: %d\\n\", npCheck);\n",
    "    printf(\" Nb of events quenched : %d\\n\", nQuenched);\n",
    "    \n",
    "    Double_t Ei = neut->GetBinWidth(1);\n",
    "    neut->Scale(1./(NTime/86400.)/Ei);\n",
    "    return neut;\n",
    "}"
   ]
  },
  {
   "cell_type": "code",
   "execution_count": 7,
   "id": "d33160f3",
   "metadata": {},
   "outputs": [],
   "source": [
    "// Residual histogram\n",
    "TH1D* Residuals(TH1D* histo_data, TF1* Model, Double_t Min, Double_t Max, bool pc = true){\n",
    "    TH1D* hRes = (TH1D*) histo_data->Clone();\n",
    "    double Value_i, E_i, Diff_i, Error_i;\n",
    "    double chi2=0;\n",
    "    for (int i = 1; i<hRes->GetNbinsX(); i++){\n",
    "        Value_i = hRes->GetBinContent(i);\n",
    "        E_i = hRes->GetBinCenter(i);\n",
    "        if (Value_i>0&&E_i>Min&&E_i<Max) {\n",
    "            Diff_i = histo_data->GetBinContent(i)-Model->Eval(E_i);\n",
    "            Error_i = histo_data->GetBinError(i);\n",
    "            if (pc) {\n",
    "                hRes->SetBinContent(i, Diff_i/Value_i*100);\n",
    "                hRes->SetBinError(i, Error_i/Value_i*100);\n",
    "            }\n",
    "            else {\n",
    "                hRes->SetBinContent(i, Diff_i/Error_i);\n",
    "                hRes->SetBinError(i, 1);\n",
    "            }\n",
    "            chi2+=(Diff_i*Diff_i)/(Error_i*Error_i);\n",
    "        }\n",
    "        else hRes->SetBinContent(i, 0);\n",
    "    }\n",
    "\n",
    "    //cout<<\"\\nChi2/ndf = \"<<chi2<<\"/\"<<Model->GetNDF()<<\" = \"<<chi2/Model->GetNDF()<<endl;\n",
    "    hRes->SetLineColor(Model->GetLineColor());\n",
    "    hRes->SetTitle(\"\");\n",
    "    if (pc) hRes->GetYaxis()->SetRangeUser(-100, 100);\n",
    "    else hRes->GetYaxis()->SetRangeUser(-20, 20);\n",
    "    return hRes;\n",
    "}"
   ]
  },
  {
   "cell_type": "code",
   "execution_count": 8,
   "id": "2e1a0200",
   "metadata": {},
   "outputs": [],
   "source": [
    "// Residual histogram\n",
    "std::vector<TH1D*> Residuals_vec(TH1D* histo_data, TF1* Model, Double_t Min, Double_t Max, bool pc = true){\n",
    "    TH1D* hRes = (TH1D*) histo_data->Clone();\n",
    "    TString Title = histo_data->GetTitle();\n",
    "    TH1D* hReducedRes = new TH1D(\"Reduced_res_\"+Title,\"Reduced_res_\"+Title, 50, -10, 10);\n",
    "    \n",
    "    double Value_i, E_i, Diff_i, Error_i;\n",
    "    double chi2=0;\n",
    "    for (int i = 1; i<hRes->GetNbinsX(); i++){\n",
    "        Value_i = hRes->GetBinContent(i);\n",
    "        E_i = hRes->GetBinCenter(i);\n",
    "        if (Value_i>0&&E_i>Min&&E_i<Max) {\n",
    "            Diff_i = histo_data->GetBinContent(i)-Model->Eval(E_i);\n",
    "            Error_i = histo_data->GetBinError(i);\n",
    "            hReducedRes->Fill(Diff_i/Error_i);\n",
    "            if (pc) {\n",
    "                hRes->SetBinContent(i, Diff_i/Value_i*100);\n",
    "                hRes->SetBinError(i, Error_i/Value_i*100);\n",
    "            }\n",
    "            else {\n",
    "                hRes->SetBinContent(i, Diff_i/Error_i);\n",
    "                hRes->SetBinError(i, 1);\n",
    "            }\n",
    "            chi2+=(Diff_i*Diff_i)/(Error_i*Error_i);\n",
    "        }\n",
    "        else {\n",
    "            hRes->SetBinContent(i, 0);\n",
    "            hRes->SetBinError(i, 0);\n",
    "        }\n",
    "    }\n",
    "\n",
    "    //cout<<\"\\nChi2/ndf = \"<<chi2<<\"/\"<<Model->GetNDF()<<\" = \"<<chi2/Model->GetNDF()<<endl;\n",
    "    hRes->SetLineColor(Model->GetLineColor());\n",
    "    hRes->SetTitle(\"\");\n",
    "    \n",
    "    hReducedRes->SetFillColor(Model->GetLineColor());\n",
    "    hReducedRes->SetLineColor(Model->GetLineColor());\n",
    "    hReducedRes->SetTitle(\"\");\n",
    "    \n",
    "    if (pc) hRes->GetYaxis()->SetRangeUser(-100, 100);\n",
    "    else hRes->GetYaxis()->SetRangeUser(-20, 20);\n",
    "    hReducedRes->GetXaxis()->SetRangeUser(-5, 5);\n",
    "    \n",
    "    std::vector<TH1D*> histos;\n",
    "    histos.push_back(hRes);\n",
    "    histos.push_back(hReducedRes);\n",
    "    return histos;\n",
    "}"
   ]
  },
  {
   "cell_type": "code",
   "execution_count": 9,
   "id": "ad3e5d82",
   "metadata": {},
   "outputs": [],
   "source": [
    "TH1D* Put_simu_in_histo_nq(TString filename, TString Title, int nBin, double Emin, double Emax, Double_t NumEv, Double_t Flux, Double_t MVthr=3.){\n",
    "    TFile* Infile = new TFile(filename);\n",
    "    \n",
    "    Float_t ECr, EMV;\n",
    "    TRandom gen(0);\n",
    "    \n",
    "    Double_t Plane_surf = 40.*40.; //cm2\n",
    "    \n",
    "    Double_t Time = NumEv/(Plane_surf*Flux); //s\n",
    "    \n",
    "    TTree *InTree = (TTree*) Infile->Get(\"NTupleAlgoDir/Pri_Ntuple\");\n",
    "    Int_t entries= InTree->GetEntries();\n",
    "    printf(\" Entries:      %10d\\n\",entries);\n",
    "    printf(\" Generated primaries:  %.0f\\n\",NumEv);\n",
    "    printf(\" Equivalent time:      %.0f s (%.3f d)\\n\",Time,Time/86400.);\n",
    "\n",
    "    TH1D *histo = new TH1D(Title,Title,nBin,Emin,Emax);\n",
    "    histo->GetXaxis()->SetTitle(\"Energy [keVee]\");\n",
    "    histo->GetYaxis()->SetTitle(\"Counts.d^{-1}.keVee^{-1}\");\n",
    "\n",
    "    InTree->SetBranchAddress(\"EDep\", &ECr);\n",
    "    InTree->SetBranchAddress(\"EMV0\", &EMV);\n",
    "    for (Int_t pk=0; pk<entries; pk++) {\n",
    "        InTree->GetEntry(pk);\n",
    "        \n",
    "        Float_t Ep = EMV;\n",
    "        \n",
    "        if (Ep>0){\n",
    "            Float_t sp = 0.1008*sqrt(1./Ep*(1.+1./Ep))/2.3548;      // (%)\n",
    "            Ep *= (1. + sp*gen.Gaus())*1000.;\n",
    "            if (Ep < MVthr*1000) continue;\n",
    "        }\n",
    "        \n",
    "        Float_t E = ECr*1000.;                            // keV\n",
    "        Float_t Enew = gen.Gaus(E, 0.084*sqrt(3500)*sqrt(E)); //Neutron peak assumed to be at 3500 keVee\n",
    "        histo->Fill(Enew);\n",
    "    }\n",
    "    Double_t Ei = histo->GetBinWidth(1);\n",
    "    histo->Scale(1./(Time/86400.)/Ei);\n",
    "    \n",
    "    return histo;\n",
    "}"
   ]
  },
  {
   "cell_type": "code",
   "execution_count": 10,
   "id": "2a8e6847",
   "metadata": {},
   "outputs": [],
   "source": [
    "%jsroot off\n",
    "#include <TFitResult.h>"
   ]
  },
  {
   "cell_type": "markdown",
   "id": "5b10e738",
   "metadata": {},
   "source": [
    "# Analysis of the 9 inches sphere"
   ]
  },
  {
   "cell_type": "markdown",
   "id": "0db30306",
   "metadata": {},
   "source": [
    "Load the runs taken in the different locations with the 9inch sphere and the LII(Eu) detector. Those in the VNS, and the Double Chooz Hut (DC Hut) are taken with a muon veto panel in anti-coincidences."
   ]
  },
  {
   "cell_type": "markdown",
   "id": "ec9d754e",
   "metadata": {},
   "source": [
    "## Data"
   ]
  },
  {
   "cell_type": "markdown",
   "id": "ed95fead",
   "metadata": {},
   "source": [
    "### CryoLab"
   ]
  },
  {
   "cell_type": "code",
   "execution_count": 11,
   "id": "d80b2236",
   "metadata": {},
   "outputs": [
    {
     "name": "stdout",
     "output_type": "stream",
     "text": [
      "\n",
      "*******************************************************\n",
      "Measures@TUM/02-21_BkgSpektrum_CryoLab_BS-EXT_72h.dat\n"
     ]
    }
   ],
   "source": [
    "TH1D* h_CryoLab_9inch = Put_data_in_histo(\"Measures@TUM/02-21_BkgSpektrum_CryoLab_BS-EXT_72h.dat\", 72*3600, \"BS-EXT at Cryolab atm neutrons\");\n",
    "h_CryoLab_9inch->Rebin(4);\n",
    "h_CryoLab_9inch->Scale(1/4.);"
   ]
  },
  {
   "cell_type": "code",
   "execution_count": 12,
   "id": "4498793e",
   "metadata": {},
   "outputs": [
    {
     "name": "stdout",
     "output_type": "stream",
     "text": [
      "\n",
      "*******************************************************\n",
      "Measures@TUM/03-28_BkgSpektrum_CryoLab_BS-EXT_19h.dat\n"
     ]
    }
   ],
   "source": [
    "TH1D* h_CryoLab_9inch_MV = Put_data_in_histo(\"Measures@TUM/03-28_BkgSpektrum_CryoLab_BS-EXT_19h.dat\", 19*3600, \"BS-EXT at Cryolab atm neutrons with MV\");\n",
    "h_CryoLab_9inch_MV->Rebin(4);\n",
    "h_CryoLab_9inch_MV->Scale(1/4.);"
   ]
  },
  {
   "cell_type": "markdown",
   "id": "9f017ae4",
   "metadata": {},
   "source": [
    "### CrystalLab"
   ]
  },
  {
   "cell_type": "code",
   "execution_count": 13,
   "id": "66bcaf7c",
   "metadata": {},
   "outputs": [
    {
     "name": "stdout",
     "output_type": "stream",
     "text": [
      "\n",
      "*******************************************************\n",
      "Measures@TUM/03-03_BkgSpektrum_CrystalLab_BS-EXT_141h.dat\n"
     ]
    }
   ],
   "source": [
    "TH1D* h_Crystal_9inch = Put_data_in_histo(\"Measures@TUM/03-03_BkgSpektrum_CrystalLab_BS-EXT_141h.dat\", 141*3600, \"9inch at CrystalLab atm neutrons\");\n",
    "h_Crystal_9inch->Rebin(4);\n",
    "h_Crystal_9inch->Scale(1/4.);"
   ]
  },
  {
   "cell_type": "markdown",
   "id": "4fe546bf",
   "metadata": {},
   "source": [
    "### VNS "
   ]
  },
  {
   "cell_type": "code",
   "execution_count": 14,
   "id": "82122fdb",
   "metadata": {},
   "outputs": [
    {
     "name": "stdout",
     "output_type": "stream",
     "text": [
      "\n",
      "*******************************************************\n",
      "Measures@VNS/2022-04-27_BS-EXT_RT_1122274.88_LV_1121904.17.dat\n",
      "\n",
      "*******************************************************\n",
      "Measures@VNS/2022-06-07_BS-EXT_RT_1140078.50_LV_1139756.64.dat\n",
      "\n",
      "*******************************************************\n",
      "Measures@VNS/2022-07-19_BS-EXT_RT_2242568.15_LV_2241965.42.dat\n"
     ]
    }
   ],
   "source": [
    "TH1D* h_VNS_9inch_1 = Put_data_in_histo(\"Measures@VNS/2022-04-27_BS-EXT_RT_1122274.88_LV_1121904.17.dat\", 1122274., \"9inch at VNS - 1\");\n",
    "h_VNS_9inch_1->Rebin(4);\n",
    "h_VNS_9inch_1->Scale(1/4.);\n",
    "\n",
    "TH1D* h_VNS_9inch_2 = Put_data_in_histo(\"Measures@VNS/2022-06-07_BS-EXT_RT_1140078.50_LV_1139756.64.dat\", 1140078, \"9inch at VNS - 2\");\n",
    "h_VNS_9inch_2->Rebin(4);\n",
    "h_VNS_9inch_2->Scale(1/4.);\n",
    "\n",
    "TH1D* h_VNS_9inch_3 = Put_data_in_histo(\"Measures@VNS/2022-07-19_BS-EXT_RT_2242568.15_LV_2241965.42.dat\", 2242568, \"9inch at VNS - 3\");\n",
    "h_VNS_9inch_3->Rebin(4);\n",
    "h_VNS_9inch_3->Scale(1/4.);"
   ]
  },
  {
   "cell_type": "code",
   "execution_count": 15,
   "id": "0f0c63c8",
   "metadata": {},
   "outputs": [],
   "source": [
    "TH1D* h_VNS_9inch_sum = (TH1D*) h_VNS_9inch_1->Clone();\n",
    "h_VNS_9inch_sum->Add(h_VNS_9inch_sum, h_VNS_9inch_2, 1/3., 1/3.); \n",
    "h_VNS_9inch_sum->Add(h_VNS_9inch_sum, h_VNS_9inch_3, 1, 1/3.);\n",
    "h_VNS_9inch_sum->SetTitle(\"9inch at VNS - sum\");"
   ]
  },
  {
   "cell_type": "markdown",
   "id": "320c56df",
   "metadata": {},
   "source": [
    "The 3 runs taken in the VNS are sumed, without any shift or recalibration, we are considering that the gain didn't change during the whole period of data taking. Here the 3 spectra and the sum are superimposed to check the stability of the measurements."
   ]
  },
  {
   "cell_type": "code",
   "execution_count": 16,
   "id": "506d0831",
   "metadata": {},
   "outputs": [
    {
     "data": {
      "image/png": "[encoded data removed]",
      "text/plain": [
       "<IPython.core.display.Image object>"
      ]
     },
     "metadata": {},
     "output_type": "display_data"
    }
   ],
   "source": [
    "TCanvas* C3 = new TCanvas();\n",
    "C3->Draw();\n",
    "C3->SetLogy();\n",
    "//h_CryoLab_8inch->GetYaxis()->SetRangeUser(0, 500);\n",
    "h_VNS_9inch_1->SetLineColor(kRed);\n",
    "h_VNS_9inch_1->Draw(\"\");\n",
    "h_VNS_9inch_2->SetLineColor(kBlue);\n",
    "h_VNS_9inch_2->Draw(\"Same\");\n",
    "h_VNS_9inch_3->SetLineColor(kGreen);\n",
    "h_VNS_9inch_3->Draw(\"Same\");\n",
    "h_VNS_9inch_sum->SetLineColor(kBlack);\n",
    "h_VNS_9inch_sum->Draw(\"SAME\");\n",
    "gStyle->SetOptStat(0);\n",
    "TLegend* leg = new TLegend(0.8, 0.8);\n",
    "leg->AddEntry(h_VNS_9inch_1, \"1\");\n",
    "leg->AddEntry(h_VNS_9inch_2, \"2\");\n",
    "leg->AddEntry(h_VNS_9inch_3, \"3\");\n",
    "leg->AddEntry(h_VNS_9inch_sum, \"sum\");\n",
    "leg->Draw(\"same\");"
   ]
  },
  {
   "cell_type": "markdown",
   "id": "6042535e",
   "metadata": {},
   "source": [
    "### DCHut"
   ]
  },
  {
   "cell_type": "markdown",
   "id": "91541501",
   "metadata": {},
   "source": [
    "The two runs taken in the DCHut are sumed. No shift, no calibration."
   ]
  },
  {
   "cell_type": "code",
   "execution_count": 17,
   "id": "5071c8a5",
   "metadata": {},
   "outputs": [
    {
     "name": "stdout",
     "output_type": "stream",
     "text": [
      "\n",
      "*******************************************************\n",
      "Measures@DCHut/2022-08-25_BS-EXT_RT_1282905.28_LV_1282579.20.dat\n",
      "\n",
      "*******************************************************\n",
      "Measures@DCHut/2022-10-04_BS-EXT_RT_1748999.66_LV_1748473.16.dat\n"
     ]
    }
   ],
   "source": [
    "TH1D* h_DC_9inch_1 = Put_data_in_histo(\"Measures@DCHut/2022-08-25_BS-EXT_RT_1282905.28_LV_1282579.20.dat\", 1282579., \"9inch at DChut - 1\");\n",
    "h_DC_9inch_1->Rebin(4);\n",
    "h_DC_9inch_1->Scale(1/4.);\n",
    "\n",
    "TH1D* h_DC_9inch_2 = Put_data_in_histo(\"Measures@DCHut/2022-10-04_BS-EXT_RT_1748999.66_LV_1748473.16.dat\", 1748473., \"9inch at DChut - 2\");\n",
    "h_DC_9inch_2->Rebin(4);\n",
    "h_DC_9inch_2->Scale(1/4.);"
   ]
  },
  {
   "cell_type": "code",
   "execution_count": 18,
   "id": "de010ef0",
   "metadata": {},
   "outputs": [],
   "source": [
    "TH1D* h_DC_9inch_sum = (TH1D*) h_DC_9inch_1->Clone();\n",
    "h_DC_9inch_sum->Add(h_DC_9inch_sum, h_DC_9inch_2, 1/2., 1/2.); \n",
    "h_DC_9inch_sum->SetTitle(\"9inch at DCHut - sum\");"
   ]
  },
  {
   "cell_type": "code",
   "execution_count": 19,
   "id": "463fbb5c",
   "metadata": {},
   "outputs": [
    {
     "data": {
      "image/png": "[encoded data removed]",
      "text/plain": [
       "<IPython.core.display.Image object>"
      ]
     },
     "metadata": {},
     "output_type": "display_data"
    }
   ],
   "source": [
    "TCanvas* C4 = new TCanvas();\n",
    "C4->Draw();\n",
    "C4->SetLogy();\n",
    "h_DC_9inch_1->Draw();\n",
    "h_DC_9inch_2->SetLineColor(kRed);\n",
    "h_DC_9inch_2->Draw(\"SAME\");\n",
    "h_DC_9inch_sum->SetLineColor(kBlack);\n",
    "h_DC_9inch_sum->Draw(\"SAME\");\n",
    "\n",
    "gStyle->SetOptStat(0);\n",
    "TLegend* leg = new TLegend(0.9, 0.9);\n",
    "leg->AddEntry(h_DC_9inch_1, \"1\");\n",
    "leg->AddEntry(h_DC_9inch_2, \"2\");\n",
    "leg->AddEntry(h_DC_9inch_sum, \"sum\");\n",
    "leg->Draw(\"same\");"
   ]
  },
  {
   "cell_type": "markdown",
   "id": "a98bfe21",
   "metadata": {},
   "source": [
    "### Cf run"
   ]
  },
  {
   "cell_type": "code",
   "execution_count": 20,
   "id": "0d3fc4de",
   "metadata": {},
   "outputs": [
    {
     "name": "stdout",
     "output_type": "stream",
     "text": [
      "\n",
      "*******************************************************\n",
      "Measures@TUM/03-14_Cf252_LMU_BS-EXT_3h.dat\n"
     ]
    }
   ],
   "source": [
    "TH1D* h_Cal_9inch = Put_data_in_histo(\"Measures@TUM/03-14_Cf252_LMU_BS-EXT_3h.dat\", 3*24*3600., \"9inch with Cf252 n source\");\n",
    "h_Cal_9inch->Rebin(4);\n",
    "h_Cal_9inch->Scale(1/4.);"
   ]
  },
  {
   "cell_type": "markdown",
   "id": "764b96d1",
   "metadata": {},
   "source": [
    "## Calibration"
   ]
  },
  {
   "cell_type": "code",
   "execution_count": 21,
   "id": "26403524",
   "metadata": {
    "scrolled": true
   },
   "outputs": [
    {
     "name": "stdout",
     "output_type": "stream",
     "text": [
      "The calibration slope is MCA = 9xE + 3.3\n"
     ]
    }
   ],
   "source": [
    "// from BS_Calibration\n",
    "\n",
    "double Offset = 3.3;\n",
    "double Gain = 9.0;\n",
    "\n",
    "cout<<\"The calibration slope is MCA = \"<<Gain<<\"xE + \"<<Offset<<endl;\n",
    "\n",
    "double Resol = 4.;"
   ]
  },
  {
   "cell_type": "code",
   "execution_count": 22,
   "id": "11c73d27",
   "metadata": {},
   "outputs": [],
   "source": [
    "TH1D* Calibrate_histo(TH1D* histo, Double_t CalibVal, TString NewTitle, Double_t Offset=0){\n",
    "    Int_t NBins = histo->GetNbinsX();\n",
    "    Int_t MCA_min = histo->GetBinCenter(1);\n",
    "    Int_t MCA_max = histo->GetBinCenter(NBins);\n",
    "    \n",
    "    TH1D* Calib_histo = new TH1D(NewTitle, Form(\"%s_keVee\", histo->GetTitle()), NBins, (MCA_min-Offset)*CalibVal, (MCA_max-Offset)*CalibVal);\n",
    "    Int_t MCA_i;\n",
    "    Double_t E_cal, MCA_i_content, MCA_i_Error;\n",
    "    for(int i=0; i<NBins; i++){\n",
    "        MCA_i = histo->GetBinCenter(i);\n",
    "        MCA_i_content = histo->GetBinContent(i)*histo->GetBinWidth(i);\n",
    "        MCA_i_Error = histo->GetBinError(i)*histo->GetBinWidth(i);\n",
    "        E_cal = (MCA_i-Offset)*CalibVal;\n",
    "        int Bin_Ecal = Calib_histo->FindBin(E_cal);\n",
    "        Double_t prev_val_Ecal = Calib_histo->GetBinContent(Bin_Ecal);\n",
    "        Double_t prev_err_Ecal = Calib_histo->GetBinError(Bin_Ecal);\n",
    "        Calib_histo->SetBinContent(Bin_Ecal, prev_val_Ecal+MCA_i_content/Calib_histo->GetBinWidth(i));\n",
    "        Calib_histo->SetBinError(Bin_Ecal, sqrt(prev_err_Ecal*prev_err_Ecal+(MCA_i_Error/Calib_histo->GetBinWidth(i))*(MCA_i_Error/Calib_histo->GetBinWidth(i))));\n",
    "    }\n",
    "    Calib_histo->GetXaxis()->SetTitle(\"Calibrated Energy [keVee]\");\n",
    "    Calib_histo->GetYaxis()->SetTitle(\"Differential rate (ev.d^{-1}.keVee^{-1})\");\n",
    "\n",
    "    return Calib_histo;\n",
    "}"
   ]
  },
  {
   "cell_type": "code",
   "execution_count": 23,
   "id": "065b0590",
   "metadata": {},
   "outputs": [],
   "source": [
    "//Cryolab\n",
    "TH1D* hCal_CryoLab_9inch = Calibrate_histo(h_CryoLab_9inch, Gain, Form(\"%s_keVee\", h_CryoLab_9inch->GetTitle()), Offset);\n",
    "TH1D* hCal_CryoLab_9inch_MV = Calibrate_histo(h_CryoLab_9inch_MV, Gain, Form(\"%s_keVee\", h_CryoLab_9inch_MV->GetTitle()), Offset);"
   ]
  },
  {
   "cell_type": "code",
   "execution_count": 24,
   "id": "3497e2c9",
   "metadata": {},
   "outputs": [],
   "source": [
    "//Crystal Lab\n",
    "TH1D* hCal_Crystal_9inch = Calibrate_histo(h_Crystal_9inch, Gain, Form(\"%s_keVee\", h_Crystal_9inch->GetTitle()), Offset);"
   ]
  },
  {
   "cell_type": "code",
   "execution_count": 25,
   "id": "71fd6bb7",
   "metadata": {},
   "outputs": [],
   "source": [
    "//VNS\n",
    "TH1D* hCal_VNS_9inch = Calibrate_histo(h_VNS_9inch_sum, Gain, Form(\"%s_keVee\", h_VNS_9inch_sum->GetTitle()), Offset);"
   ]
  },
  {
   "cell_type": "code",
   "execution_count": 26,
   "id": "e7663480",
   "metadata": {},
   "outputs": [],
   "source": [
    "//DCHut\n",
    "TH1D* hCal_DC_9inch = Calibrate_histo(h_DC_9inch_sum, Gain, Form(\"%s_keVee\", h_DC_9inch_sum->GetTitle()), Offset);"
   ]
  },
  {
   "cell_type": "code",
   "execution_count": 27,
   "id": "46b06ad4",
   "metadata": {},
   "outputs": [
    {
     "name": "stdout",
     "output_type": "stream",
     "text": [
      "\n",
      "*******************************************************\n",
      "Measures@Saclay/2022-11-08_BS-A-06_RT_777.23_LV_776.57_Cf252.dat\n"
     ]
    }
   ],
   "source": [
    "//Cf\n",
    "TH1D* h_Cf_Saclay_8inch = Put_data_in_histo(\"Measures@Saclay/2022-11-08_BS-A-06_RT_777.23_LV_776.57_Cf252.dat\", 777.23, \"8inch with Cf252 n source\");\n",
    "h_Cf_Saclay_8inch->Rebin(4);\n",
    "h_Cf_Saclay_8inch->Scale(1/4.);"
   ]
  },
  {
   "cell_type": "markdown",
   "id": "b28ee381",
   "metadata": {},
   "source": [
    "## Quenching Factor"
   ]
  },
  {
   "cell_type": "markdown",
   "id": "21a9c452",
   "metadata": {},
   "source": [
    "The simulation of atmospheric neutrons (unquenched) is used to determine the true energy deposition in the crystal. The quenching factor will be calculated from the ratio of the postion of the peak in the calibrated data and the true energy deposition obtianed from the simulation"
   ]
  },
  {
   "cell_type": "code",
   "execution_count": 28,
   "id": "a635c223",
   "metadata": {
    "scrolled": true
   },
   "outputs": [
    {
     "name": "stdout",
     "output_type": "stream",
     "text": [
      " Entries:          385573\n",
      " Generated primaries:  1500000000\n",
      " Equivalent time:      69962687 s (809.753 d)\n"
     ]
    }
   ],
   "source": [
    "TH1D* h_SimuNeutrons_9inch_nq = Put_simu_in_histo_nq(\"Simulations/Atm_Neutr/BS_D09/Analyzer_T_run01-15.root\", \"9 inches - atmospheric neutrons (with MV)\", 512, 0, 8000, 1.50e9, 0.0134, MVthr_DC);"
   ]
  },
  {
   "cell_type": "code",
   "execution_count": 29,
   "id": "6c301cef",
   "metadata": {},
   "outputs": [
    {
     "data": {
      "image/png": "[encoded data removed]",
      "text/plain": [
       "<IPython.core.display.Image object>"
      ]
     },
     "metadata": {},
     "output_type": "display_data"
    },
    {
     "name": "stdout",
     "output_type": "stream",
     "text": [
      " FCN=169.699 FROM MIGRAD    STATUS=CONVERGED     118 CALLS         119 TOTAL\n",
      "                     EDM=9.30741e-07    STRATEGY= 1      ERROR MATRIX ACCURATE \n",
      "  EXT PARAMETER                                   STEP         FIRST   \n",
      "  NO.   NAME      VALUE            ERROR          SIZE      DERIVATIVE \n",
      "   1  Amplitude [Counts/E]   4.43588e-01   1.00600e-03   5.09775e-06   1.31472e+00\n",
      "   2  #mu [keV]    4.78414e+03   6.57660e-01   4.13602e-03   2.64711e-04\n",
      "   3  #sigma [keV]   3.46413e+02   5.18215e-01   2.59743e-03   3.26295e-03\n"
     ]
    }
   ],
   "source": [
    "TCanvas* C8 = new TCanvas();\n",
    "C8->Draw();\n",
    "C8->SetLogy();\n",
    "\n",
    "TF1* Neutron_peak_Gaus_E = new TF1(\"Neutron_peak_Gaus_E\", \"[0]*TMath::Gaus(x, [1], [2])\", 1000, 6000); //Gaussian function to fit the neutron peak\n",
    "Neutron_peak_Gaus_E->SetParNames(\"Amplitude [Counts/E]\", \"#mu [keV]\", \"#sigma [keV]\");\n",
    "Neutron_peak_Gaus_E->SetParameter(0, 0.1);\n",
    "Neutron_peak_Gaus_E->SetParameter(1, 5000);\n",
    "Neutron_peak_Gaus_E->SetParameter(2, 500);\n",
    "\n",
    "h_SimuNeutrons_9inch_nq->Fit(\"Neutron_peak_Gaus_E\", \"R\", \"\",  4000, 6000);\n",
    "h_SimuNeutrons_9inch_nq->Draw();\n",
    "\n",
    "double E_NP_nq = Neutron_peak_Gaus_E->GetParameter(1);  "
   ]
  },
  {
   "cell_type": "markdown",
   "id": "5041104d",
   "metadata": {},
   "source": [
    "### Peak position from neutron calibration run with Cf"
   ]
  },
  {
   "cell_type": "markdown",
   "id": "2dac51e1",
   "metadata": {},
   "source": [
    "In order to calibrate the data, the peak position from the source run performed at TUM is fittted to obtain a calibration factor."
   ]
  },
  {
   "cell_type": "code",
   "execution_count": 30,
   "id": "80a75ac3",
   "metadata": {},
   "outputs": [
    {
     "data": {
      "image/png": "[encoded data removed]",
      "text/plain": [
       "<IPython.core.display.Image object>"
      ]
     },
     "metadata": {},
     "output_type": "display_data"
    }
   ],
   "source": [
    "//Cf\n",
    "TCanvas* C8 = new TCanvas();\n",
    "C8->Draw();\n",
    "C8->SetLogy();\n",
    "\n",
    "//h_Cal_9inch->Draw();\n",
    "TH1D* hCal_Cf_9inch = Calibrate_histo(h_Cal_9inch, Gain, Form(\"%s_keVee\", h_Cal_9inch->GetTitle()), Offset);\n",
    "hCal_Cf_9inch->Draw();"
   ]
  },
  {
   "cell_type": "code",
   "execution_count": 31,
   "id": "404777c7",
   "metadata": {},
   "outputs": [
    {
     "name": "stdout",
     "output_type": "stream",
     "text": [
      " FCN=60.7266 FROM MIGRAD    STATUS=CONVERGED     107 CALLS         108 TOTAL\n",
      "                     EDM=1.30412e-09    STRATEGY= 1      ERROR MATRIX ACCURATE \n",
      "  EXT PARAMETER                                   STEP         FIRST   \n",
      "  NO.   NAME      VALUE            ERROR          SIZE      DERIVATIVE \n",
      "   1  Amplitude [Counts/E]   7.56732e-01   2.58439e-02   7.97734e-05  -7.46184e-04\n",
      "   2  #mu [keV]    2.90316e+03   6.44441e+00   2.45954e-02   2.26232e-06\n",
      "   3  #sigma [keV]   2.32796e+02   4.74030e+00   1.45836e-02  -1.19037e-05\n"
     ]
    }
   ],
   "source": [
    "Neutron_peak_Gaus_E->SetParameter(0, 1.);\n",
    "Neutron_peak_Gaus_E->SetParameter(1, 3000);\n",
    "Neutron_peak_Gaus_E->SetParameter(2, 500);\n",
    "\n",
    "hCal_Cf_9inch->Fit(\"Neutron_peak_Gaus_E\", \"R\", \"\", 2000, 5000);\n",
    "double E_NP_q = Neutron_peak_Gaus_E->GetParameter(1);  \n",
    "double Resol_NP = Neutron_peak_Gaus_E->GetParameter(2);  "
   ]
  },
  {
   "cell_type": "code",
   "execution_count": 32,
   "id": "73c79f28",
   "metadata": {},
   "outputs": [
    {
     "data": {
      "image/png": "[encoded data removed]",
      "text/plain": [
       "<IPython.core.display.Image object>"
      ]
     },
     "metadata": {},
     "output_type": "display_data"
    }
   ],
   "source": [
    "TCanvas* C8 = new TCanvas();\n",
    "C8->Draw();\n",
    "C8->SetLogy();\n",
    "hCal_Cf_9inch->Draw();"
   ]
  },
  {
   "cell_type": "code",
   "execution_count": 33,
   "id": "ae334ae6",
   "metadata": {},
   "outputs": [
    {
     "data": {
      "image/png": "[encoded data removed]",
      "text/plain": [
       "<IPython.core.display.Image object>"
      ]
     },
     "metadata": {},
     "output_type": "display_data"
    },
    {
     "name": "stdout",
     "output_type": "stream",
     "text": [
      " FCN=66.6138 FROM MIGRAD    STATUS=CONVERGED     205 CALLS         206 TOTAL\n",
      "                     EDM=3.48649e-09    STRATEGY= 1      ERROR MATRIX ACCURATE \n",
      "  EXT PARAMETER                                   STEP         FIRST   \n",
      "  NO.   NAME      VALUE            ERROR          SIZE      DERIVATIVE \n",
      "   1  Amplitude [Counts/E]   5.14689e+02   1.26160e+01   3.93656e-02  -1.46304e-06\n",
      "   2  #mu [keV]    2.98566e+03   4.67768e+00   1.82716e-02  -1.11472e-05\n",
      "   3  #sigma [keV]   2.37683e+02   3.69878e+00   1.13536e-02   1.10957e-05\n"
     ]
    }
   ],
   "source": [
    "TH1D* hCal_CfSaclay_9inch = Calibrate_histo(h_Cf_Saclay_8inch, Gain, Form(\"%s_keVee\", h_Cf_Saclay_8inch->GetTitle()), Offset);\n",
    "\n",
    "hCal_CfSaclay_9inch->Fit(\"Neutron_peak_Gaus_E\", \"R\", \"\", 2000, 5000);\n",
    "\n",
    "TCanvas* C8 = new TCanvas();\n",
    "C8->Draw();\n",
    "C8->SetLogy();\n",
    "hCal_CfSaclay_9inch->Draw();\n",
    "\n",
    "double E_NP_q = Neutron_peak_Gaus_E->GetParameter(1);  \n",
    "double Resol_NP = Neutron_peak_Gaus_E->GetParameter(2);  "
   ]
  },
  {
   "cell_type": "code",
   "execution_count": 34,
   "id": "1ced5549",
   "metadata": {},
   "outputs": [],
   "source": [
    "double QF_neutrons = E_NP_q/E_NP_nq;"
   ]
  },
  {
   "cell_type": "code",
   "execution_count": 35,
   "id": "b081ec59-570a-46a9-ba7a-ff3afe5e4624",
   "metadata": {},
   "outputs": [
    {
     "name": "stdout",
     "output_type": "stream",
     "text": [
      "(double) 0.62407379\n"
     ]
    }
   ],
   "source": [
    "QF_neutrons"
   ]
  },
  {
   "cell_type": "code",
   "execution_count": 36,
   "id": "b1e501bf",
   "metadata": {},
   "outputs": [
    {
     "name": "stdout",
     "output_type": "stream",
     "text": [
      "(double) 0.0014780797\n"
     ]
    }
   ],
   "source": [
    "sqrt((4.68*4.68)/(E_NP_nq*E_NP_nq)+(6.44*6.44)/(E_NP_q*E_NP_q))*QF_neutrons"
   ]
  },
  {
   "cell_type": "markdown",
   "id": "ea77b7b4",
   "metadata": {},
   "source": [
    "## Simulation results"
   ]
  },
  {
   "cell_type": "markdown",
   "id": "a8cd23e9",
   "metadata": {},
   "source": [
    "Load the simulations of ambient gammas, atmospheric muons and neutrons with the 9inch sphere, performed by Fabio. Analyzed with the Ntuple algo. The corresponding histograms are calculated from Fabio's method in BS_BkgModel.C : the Muon veto panel is taken into account with a 3 MeV cut. The quenching factor for neutron energy deposition is calculated in order to have a neutron capture peak at 3.5 MeVee. An arbitrary resolution is applied bu will not be considered for the fitting procedure."
   ]
  },
  {
   "cell_type": "markdown",
   "id": "7c0c8cb7",
   "metadata": {},
   "source": [
    "### Gammas"
   ]
  },
  {
   "cell_type": "code",
   "execution_count": 37,
   "id": "879755ae",
   "metadata": {
    "scrolled": true
   },
   "outputs": [
    {
     "name": "stdout",
     "output_type": "stream",
     "text": [
      "  Primary Entries:          158126\n",
      "  Secondary Entries:        163150\n",
      "  Generated primaries:  12000000000\n",
      "  Equivalent time:      2272727 s (26.305 d)\n",
      " Nb of primary analysed: 158126\n",
      " Nb of events quenched : 0\n"
     ]
    }
   ],
   "source": [
    "int nbins = hCal_DC_9inch->GetNbinsX();\n",
    "double hEmin = hCal_DC_9inch->GetBinLowEdge(1);\n",
    "double hEmax = hCal_DC_9inch->GetBinLowEdge(nbins)+hCal_DC_9inch->GetBinWidth(nbins);\n",
    "TH1D* h_SimuGamma_9inch = Put_simu_in_histo(\"Simulations/Env_Gammas/BS_D09/Analyzer_T_run01-09.root\", \"9 inches environmental gammas\", nbins, hEmin, hEmax, 1.20e10, 3.3, QF_neutrons, MVthr_DC, false, Resol);"
   ]
  },
  {
   "cell_type": "markdown",
   "id": "b4ae69a1",
   "metadata": {},
   "source": [
    "### Muons"
   ]
  },
  {
   "cell_type": "markdown",
   "id": "89b978f8",
   "metadata": {},
   "source": [
    "With secondary neutrons quenched"
   ]
  },
  {
   "cell_type": "code",
   "execution_count": 38,
   "id": "f280b695",
   "metadata": {
    "scrolled": true
   },
   "outputs": [
    {
     "name": "stdout",
     "output_type": "stream",
     "text": [
      "  Primary Entries:          400797\n",
      "  Secondary Entries:        468366\n",
      "  Generated primaries:  56000000\n",
      "  Equivalent time:      1842105 s (21.321 d)\n",
      " Nb of primary analysed: 400797\n",
      " Nb of events quenched : 1124\n"
     ]
    }
   ],
   "source": [
    "TH1D* h_SimuMuons_9inch_DC = Put_simu_in_histo(\"Simulations/Atm_Muons/BS_D09/Analyzer_T_run01-09.root\", Form(\"9 inches - atmospheric muons (with MV %0.f MeV thr)\", MVthr_DC), nbins, hEmin, hEmax, 5.6e7, 0.019, QF_neutrons, MVthr_DC, true, Resol);"
   ]
  },
  {
   "cell_type": "code",
   "execution_count": 39,
   "id": "4c3c9cb3",
   "metadata": {},
   "outputs": [
    {
     "name": "stdout",
     "output_type": "stream",
     "text": [
      "  Primary Entries:          400797\n",
      "  Secondary Entries:        468366\n",
      "  Generated primaries:  56000000\n",
      "  Equivalent time:      1842105 s (21.321 d)\n",
      " Nb of primary analysed: 400797\n",
      " Nb of events quenched : 1124\n"
     ]
    }
   ],
   "source": [
    "TH1D* h_SimuMuons_9inch_VNS = Put_simu_in_histo(\"Simulations/Atm_Muons/BS_D09/Analyzer_T_run01-09.root\", Form(\"9 inches - atmospheric muons (with MV %0.f MeV thr)\", MVthr_VNS), nbins, hEmin, hEmax, 5.6e7, 0.019, QF_neutrons, MVthr_VNS, true, Resol);"
   ]
  },
  {
   "cell_type": "code",
   "execution_count": 40,
   "id": "0987a9be",
   "metadata": {},
   "outputs": [
    {
     "data": {
      "image/png": "[encoded data removed]",
      "text/plain": [
       "<IPython.core.display.Image object>"
      ]
     },
     "metadata": {},
     "output_type": "display_data"
    },
    {
     "name": "stdout",
     "output_type": "stream",
     "text": [
      "  Primary Entries:          400797\n",
      "  Secondary Entries:        468366\n",
      "  Generated primaries:  720000000\n",
      "  Equivalent time:      23684211 s (274.123 d)\n",
      " Nb of primary analysed: 400797\n",
      " Nb of events quenched : 1124\n",
      " FCN=42.8171 FROM MIGRAD    STATUS=CONVERGED     125 CALLS         126 TOTAL\n",
      "                     EDM=1.11592e-07    STRATEGY= 1      ERROR MATRIX ACCURATE \n",
      "  EXT PARAMETER                                   STEP         FIRST   \n",
      "  NO.   NAME      VALUE            ERROR          SIZE      DERIVATIVE \n",
      "   1  Constant     1.17551e+00   7.89818e-03   1.69061e-05  -1.92613e-02\n",
      "   2  MPV          1.43434e+03   3.19053e+00   1.00760e-02   1.37705e-04\n",
      "   3  Sigma        2.42482e+02   2.82942e+00   7.28136e-06  -2.95374e-02\n",
      "  Primary Entries:          400797\n",
      "  Secondary Entries:        468366\n",
      "  Generated primaries:  720000000\n",
      "  Equivalent time:      23684211 s (274.123 d)\n",
      " Nb of primary analysed: 400797\n",
      " Nb of events quenched : 1124\n",
      "  Primary Entries:          400797\n",
      "  Secondary Entries:        468366\n",
      "  Generated primaries:  720000000\n",
      "  Equivalent time:      23684211 s (274.123 d)\n",
      " Nb of primary analysed: 400797\n",
      " Nb of events quenched : 1124\n",
      " FCN=58.2894 FROM MIGRAD    STATUS=CONVERGED     124 CALLS         125 TOTAL\n",
      "                     EDM=1.6027e-07    STRATEGY= 1      ERROR MATRIX ACCURATE \n",
      "  EXT PARAMETER                                   STEP         FIRST   \n",
      "  NO.   NAME      VALUE            ERROR          SIZE      DERIVATIVE \n",
      "   1  Constant     2.86812e+00   1.25251e-02   3.15607e-05   6.37960e-02\n",
      "   2  MPV          1.08001e+03   2.48901e+00   8.21094e-03   1.68597e-04\n",
      "   3  Sigma        2.28251e+02   1.79518e+00   5.29669e-06   3.38399e-01\n",
      "  Primary Entries:          400797\n",
      "  Secondary Entries:        468366\n",
      "  Generated primaries:  720000000\n",
      "  Equivalent time:      23684211 s (274.123 d)\n",
      " Nb of primary analysed: 400797\n",
      " Nb of events quenched : 1124\n",
      " FCN=62.2403 FROM MIGRAD    STATUS=CONVERGED     125 CALLS         126 TOTAL\n",
      "                     EDM=3.13178e-09    STRATEGY= 1      ERROR MATRIX ACCURATE \n",
      "  EXT PARAMETER                                   STEP         FIRST   \n",
      "  NO.   NAME      VALUE            ERROR          SIZE      DERIVATIVE \n",
      "   1  Constant     5.87295e+00   2.01289e-02   5.14826e-05  -5.66448e-03\n",
      "   2  MPV          1.04966e+03   1.11020e+00   4.16594e-03  -1.03659e-05\n",
      "   3  Sigma        1.67861e+02   8.15380e-01   3.16884e-06  -8.76235e-02\n",
      "  Primary Entries:          240852\n",
      "  Secondary Entries:        282058\n",
      "  Generated primaries:  500000000\n",
      "  Equivalent time:      16447368 s (190.363 d)\n",
      " Nb of primary analysed: 240852\n",
      " Nb of events quenched : 795\n",
      " FCN=41.7236 FROM MIGRAD    STATUS=CONVERGED     127 CALLS         128 TOTAL\n",
      "                     EDM=1.14039e-06    STRATEGY= 1      ERROR MATRIX ACCURATE \n",
      "  EXT PARAMETER                                   STEP         FIRST   \n",
      "  NO.   NAME      VALUE            ERROR          SIZE      DERIVATIVE \n",
      "   1  Constant     4.24234e+00   1.94166e-02   4.04870e-05  -7.74748e-02\n",
      "   2  MPV          1.10350e+03   1.80237e+00   5.61401e-03   2.62458e-04\n",
      "   3  Sigma        2.07943e+02   1.57548e+00   4.46711e-06  -1.04331e-01\n"
     ]
    }
   ],
   "source": [
    "TH1D* h_SimuMuons_9inch_1MeV = Put_simu_in_histo(\"Simulations/Atm_Muons/BS_D09/Analyzer_T_run01-09.root\", \"9 inches - atmospheric muons (with MV 1 MeV thr)\", nbins, hEmin, hEmax, 7.20e8, 0.019, QF_neutrons, 1., true, Resol);\n",
    "h_SimuMuons_9inch_1MeV->Fit(\"landau\", \"R0\", \"\", 1100, 2300);\n",
    "\n",
    "TH1D* h_SimuMuons_9inch_5MeV = Put_simu_in_histo(\"Simulations/Atm_Muons/BS_D09/Analyzer_T_run01-09.root\", \"9 inches - atmospheric muons (with MV 5 MeV thr)\", nbins, hEmin, hEmax, 7.20e8, 0.019, QF_neutrons, 5., true, Resol);\n",
    "\n",
    "TH1D* h_SimuMuons_9inch_7MeV = Put_simu_in_histo(\"Simulations/Atm_Muons/BS_D09/Analyzer_T_run01-09.root\", \"9 inches - atmospheric muons (with MV 7 MeV thr)\", nbins, hEmin, hEmax, 7.20e8, 0.019, QF_neutrons, 7., true, Resol);\n",
    "h_SimuMuons_9inch_7MeV->Fit(\"landau\", \"R0\", \"\", 800, 2000);\n",
    "\n",
    "TH1D* h_SimuMuons_9inch_noMV = Put_simu_in_histo(\"Simulations/Atm_Muons/BS_D09/Analyzer_T_run01-09.root\", \"9 inches - atmospheric muons (without MV)\", nbins, hEmin, hEmax, 7.20e8, 0.019, QF_neutrons, 10., true, Resol);\n",
    "h_SimuMuons_9inch_noMV->Fit(\"landau\", \"R0\", \"\", 800, 1900);\n",
    "\n",
    "TH1D* h_SimuMuons_9inch45deg_noMV = Put_simu_in_histo(\"Simulations/Atm_Muons/BS_D09/Analyzer_T_BS9_45deg.root\", \"9 inches tilt 45deg - atmospheric muons (without MV)\", nbins, hEmin, hEmax, 5.0e8, 0.019, QF_neutrons, 10., false, Resol);\n",
    "h_SimuMuons_9inch45deg_noMV->Fit(\"landau\", \"R0\", \"\", 800, 1900);\n",
    "\n",
    "TCanvas *C = new TCanvas();\n",
    "C->Draw();\n",
    "C->SetLogy();\n",
    "h_SimuMuons_9inch_1MeV->GetYaxis()->SetRangeUser(1e-3, 10);\n",
    "h_SimuMuons_9inch_1MeV->SetLineColor(kBlue);\n",
    "h_SimuMuons_9inch_5MeV->SetLineColor(kRed);\n",
    "h_SimuMuons_9inch_7MeV->SetLineColor(kMagenta);\n",
    "h_SimuMuons_9inch_noMV->SetLineColor(kBlack);\n",
    "h_SimuMuons_9inch45deg_noMV->SetLineColor(kGreen);\n",
    "h_SimuMuons_9inch_1MeV->Draw(\"HIST\");\n",
    "h_SimuMuons_9inch_5MeV->Draw(\"HIST SAME\");\n",
    "h_SimuMuons_9inch_7MeV->Draw(\"HIST SAME\");\n",
    "h_SimuMuons_9inch_noMV->Draw(\"HIST SAME\");\n",
    "h_SimuMuons_9inch45deg_noMV->Draw(\"HIST SAME\");\n",
    "\n",
    "\n",
    "h_SimuMuons_9inch_1MeV->SetTitle(\"\");\n",
    "TLegend* leg0 = new TLegend(0.6, 0.7, 0.89, 0.89);\n",
    "leg0->AddEntry(h_SimuMuons_9inch_1MeV, \"MV thr 1MeV\");\n",
    "leg0->AddEntry(h_SimuMuons_9inch_5MeV, \"MV thr 5MeV\");\n",
    "leg0->AddEntry(h_SimuMuons_9inch_7MeV, \"MV thr 7MeV\");\n",
    "leg0->AddEntry(h_SimuMuons_9inch_noMV, \"no MV\");\n",
    "leg0->AddEntry(h_SimuMuons_9inch45deg_noMV, \"tilt 45deg - no MV\");\n",
    "leg0->Draw(\"SAME\");\n",
    "leg0->SetLineWidth(0);"
   ]
  },
  {
   "cell_type": "markdown",
   "id": "565cc190",
   "metadata": {},
   "source": [
    "Without quenching"
   ]
  },
  {
   "cell_type": "code",
   "execution_count": 41,
   "id": "54a60329",
   "metadata": {},
   "outputs": [
    {
     "name": "stdout",
     "output_type": "stream",
     "text": [
      " Entries:          400797\n",
      " Generated primaries:  720000000\n",
      " Equivalent time:      23684211 s (274.123 d)\n"
     ]
    }
   ],
   "source": [
    "TH1D* h_SimuMuons_9inch_nq = Put_simu_in_histo_nq(\"Simulations/Atm_Muons/BS_D09/Analyzer_T_run01-09.root\", Form(\"9 inches - atmospheric muons (with MV %0.f MeV thr)\", MVthr_DC), nbins, hEmin, hEmax, 7.20e8, 0.019, MVthr_DC);"
   ]
  },
  {
   "cell_type": "markdown",
   "id": "6a2b5554",
   "metadata": {},
   "source": [
    "### Atmospheric neutrons "
   ]
  },
  {
   "cell_type": "markdown",
   "id": "0b687f43",
   "metadata": {},
   "source": [
    "With quenching"
   ]
  },
  {
   "cell_type": "code",
   "execution_count": 42,
   "id": "405ded2f",
   "metadata": {},
   "outputs": [
    {
     "name": "stdout",
     "output_type": "stream",
     "text": [
      "  Primary Entries:          385573\n",
      "  Secondary Entries:         87314\n",
      "  Generated primaries:  1500000000\n",
      "  Equivalent time:      69962687 s (809.753 d)\n",
      " Nb of primary analysed: 385573\n",
      " Nb of events quenched : 353346\n"
     ]
    }
   ],
   "source": [
    "TH1D* h_SimuNeutrons_9inch = Put_simu_in_histo(\"Simulations/Atm_Neutr/BS_D09/Analyzer_T_run01-15.root\", \"9 inches - atmospheric neutrons (with MV)\", nbins, hEmin, hEmax, 1.50e9, 0.0134, QF_neutrons, MVthr_DC, true, Resol);"
   ]
  },
  {
   "cell_type": "markdown",
   "id": "b3cc5c64",
   "metadata": {},
   "source": [
    "## Background models"
   ]
  },
  {
   "cell_type": "markdown",
   "id": "195cbecd",
   "metadata": {},
   "source": [
    "Use the simulations to constrain the shape of the background model which will be used to fit the measurements."
   ]
  },
  {
   "cell_type": "markdown",
   "id": "d8367012",
   "metadata": {},
   "source": [
    "### Gamma Background "
   ]
  },
  {
   "cell_type": "markdown",
   "id": "024c16fa",
   "metadata": {},
   "source": [
    "The gamma background is fitted with the sum of two exponentials linked by a smooth step function. "
   ]
  },
  {
   "cell_type": "markdown",
   "id": "8a057155",
   "metadata": {},
   "source": [
    "1- First exponential fitted between 1200 and 5000 keVee"
   ]
  },
  {
   "cell_type": "code",
   "execution_count": 43,
   "id": "c23590b9",
   "metadata": {},
   "outputs": [
    {
     "name": "stdout",
     "output_type": "stream",
     "text": [
      " FCN=83.9032 FROM HESSE     STATUS=OK             10 CALLS        1288 TOTAL\n",
      "                     EDM=5.24329e-09    STRATEGY= 1      ERROR MATRIX ACCURATE \n",
      "  EXT PARAMETER                                   STEP         FIRST   \n",
      "  NO.   NAME      VALUE            ERROR          SIZE      DERIVATIVE \n",
      "   1  Constant []   3.02677e+00   6.97022e-02   1.37794e-05  -6.24241e-03\n",
      "   2  Slope [keVee^{-1}]  -3.34494e-03   4.92832e-05   9.74284e-09  -7.86805e+00\n"
     ]
    }
   ],
   "source": [
    "TF1* Gamma_background_1 = new TF1(\"Gamma_background_1\", \"expo\", 1000, 5000); \n",
    "Gamma_background_1->SetParNames(\"Constant []\", \"Slope [keVee^{-1}]\");\n",
    "Gamma_background_1->SetParameter(0,1);\n",
    "Gamma_background_1->SetParameter(1,100);\n",
    "h_SimuGamma_9inch->Fit(\"Gamma_background_1\", \"MR\", \"\", 1100, 2800); //Decreasing exponentialin the ROI [1.2; 2.8] MeVee\n",
    "\n",
    "Gamma_background_1->FixParameter(0, Gamma_background_1->GetParameter(0));\n",
    "Gamma_background_1->FixParameter(1, Gamma_background_1->GetParameter(1));"
   ]
  },
  {
   "cell_type": "markdown",
   "id": "a3034a6f",
   "metadata": {},
   "source": [
    "2- Second exponential fitted between 200 and 1000 keVee"
   ]
  },
  {
   "cell_type": "code",
   "execution_count": 44,
   "id": "06aea0bc",
   "metadata": {},
   "outputs": [
    {
     "name": "stdout",
     "output_type": "stream",
     "text": [
      " FCN=118.468 FROM HESSE     STATUS=OK             10 CALLS          94 TOTAL\n",
      "                     EDM=1.07971e-07    STRATEGY= 1      ERROR MATRIX ACCURATE \n",
      "  EXT PARAMETER                                   STEP         FIRST   \n",
      "  NO.   NAME      VALUE            ERROR          SIZE      DERIVATIVE \n",
      "   1  Constant []   2.40004e+00   1.64067e-02   5.68245e-06   8.72932e-02\n",
      "   2  Slope [keVee^{-1}]  -3.00965e-03   2.81203e-05   9.73870e-09   4.80231e+01\n"
     ]
    }
   ],
   "source": [
    "TF1* Gamma_background_2 = new TF1(\"Gamma_background_2\", \"expo\", 100, 1000); \n",
    "Gamma_background_2->SetParNames(\"Constant []\", \"Slope [keVee^{-1}]\");\n",
    "Gamma_background_2->SetParameter(0,1);\n",
    "Gamma_background_2->SetParameter(1,100);\n",
    "h_SimuGamma_9inch->Fit(\"Gamma_background_2\", \"MR\", \"\", 300, 1100); \n",
    "\n",
    "Gamma_background_2->FixParameter(0, Gamma_background_2->GetParameter(0));\n",
    "Gamma_background_2->FixParameter(1, Gamma_background_2->GetParameter(1));"
   ]
  },
  {
   "cell_type": "markdown",
   "id": "ae152852",
   "metadata": {},
   "source": [
    "The global function for the gamma background model is a sum of those two exponentials, linked by a smooth step function (cdf) with two parameters: its position and its width."
   ]
  },
  {
   "cell_type": "code",
   "execution_count": 45,
   "id": "5170dffe",
   "metadata": {},
   "outputs": [],
   "source": [
    "Double_t Gammas(Double_t* x, Double_t *par){\n",
    "    Double_t par_cdf[2]= {par[2], par[3]};\n",
    "    return (1-cdf(x, par_cdf))*par[0]*Gamma_background_2->Eval(x[0])+cdf(x, par_cdf)*par[1]*Gamma_background_1->Eval(x[0]);\n",
    "}"
   ]
  },
  {
   "cell_type": "code",
   "execution_count": 46,
   "id": "d6e2b2b2",
   "metadata": {},
   "outputs": [
    {
     "name": "stdout",
     "output_type": "stream",
     "text": [
      " FCN=160.267 FROM HESSE     STATUS=OK             23 CALLS         557 TOTAL\n",
      "                     EDM=7.1563e-09    STRATEGY= 1      ERROR MATRIX ACCURATE \n",
      "  EXT PARAMETER                                   STEP         FIRST   \n",
      "  NO.   NAME      VALUE            ERROR          SIZE      DERIVATIVE \n",
      "   1  Norm_expo1   9.92841e-01   5.57553e-03   6.69620e-06   9.48656e-03\n",
      "   2  Norm_expo2   1.02235e+00   2.08630e-02   1.92278e-05  -1.03019e-03\n",
      "   3  pos cdf      1.05449e+03   2.36871e+01   1.84956e-02  -3.98058e-06\n",
      "   4  sigma cdf    8.63934e+01   2.70212e+01   7.97959e-05   1.80966e-03\n",
      "Chi2/NDF = 160.267/63 = 2.54392\n"
     ]
    }
   ],
   "source": [
    "TF1* Gamma_shape_9inch = new TF1(\"Gamma_shape_9inch\", Gammas, 300, 5000, 4);\n",
    "Gamma_shape_9inch->SetParNames(\"Norm_expo1\", \"Norm_expo2\", \"pos cdf\", \"sigma cdf\");\n",
    "Gamma_shape_9inch->SetParameter(1, 0.98);\n",
    "Gamma_shape_9inch->SetParameter(2, 0.97);\n",
    "Gamma_shape_9inch->SetParameter(3, 1000);\n",
    "Gamma_shape_9inch->SetParameter(4, 81);\n",
    "Gamma_shape_9inch->SetParLimits(3, 10, 1200);\n",
    "h_SimuGamma_9inch->Fit(\"Gamma_shape_9inch\", \"MR\");\n",
    "\n",
    "std::cout<<\"Chi2/NDF = \"<<Gamma_shape_9inch->GetChisquare()<<\"/\"<<Gamma_shape_9inch->GetNDF()-4<<\" = \"<<Gamma_shape_9inch->GetChisquare()/(Gamma_shape_9inch->GetNDF()-4)<<endl;"
   ]
  },
  {
   "cell_type": "code",
   "execution_count": 181,
   "id": "3d10d6f9",
   "metadata": {},
   "outputs": [
    {
     "data": {
      "image/png": "[encoded data removed]",
      "text/plain": [
       "<IPython.core.display.Image object>"
      ]
     },
     "metadata": {},
     "output_type": "display_data"
    },
    {
     "name": "stderr",
     "output_type": "stream",
     "text": [
      "Info in <TCanvas::Print>: png file /Users/cg264002/research/Redaction_These/Figures/Chap3/Neutrons/Gammas_9inch.png has been created\n"
     ]
    }
   ],
   "source": [
    "TCanvas* C10 = new TCanvas();\n",
    "C10->Draw();\n",
    "C10->SetLogy();\n",
    "\n",
    "gPad->SetLeftMargin(0.1);\n",
    "gPad->SetRightMargin(0.03);\n",
    "gPad->SetBottomMargin(0.1);\n",
    "gPad->SetTopMargin(0.02);\n",
    "\n",
    "h_SimuGamma_9inch->SetTitle(\"\");\n",
    "h_SimuGamma_9inch->Draw(\"\");\n",
    "\n",
    "C10->SaveAs(\"/Users/cg264002/research/Redaction_These/Figures/Chap3/Neutrons/Gammas_9inch.png\");"
   ]
  },
  {
   "cell_type": "markdown",
   "id": "9360cd48",
   "metadata": {},
   "source": [
    "### Muon background"
   ]
  },
  {
   "cell_type": "markdown",
   "id": "f151f8d8",
   "metadata": {},
   "source": [
    "The muon background model is made of three components: a Landau for the peak, a pol2 for the plateau region and another Landau for the queue at high energies."
   ]
  },
  {
   "cell_type": "markdown",
   "id": "551b5308",
   "metadata": {},
   "source": [
    "1- Muon Peak with a landau"
   ]
  },
  {
   "cell_type": "code",
   "execution_count": 48,
   "id": "5f85c423",
   "metadata": {},
   "outputs": [
    {
     "name": "stdout",
     "output_type": "stream",
     "text": [
      " FCN=51.9824 FROM MIGRAD    STATUS=CONVERGED     128 CALLS         129 TOTAL\n",
      "                     EDM=7.15173e-08    STRATEGY= 1      ERROR MATRIX ACCURATE \n",
      "  EXT PARAMETER                                   STEP         FIRST   \n",
      "  NO.   NAME      VALUE            ERROR          SIZE      DERIVATIVE \n",
      "   1  Amplitude_mu []   3.69479e+01   1.78362e-01   4.07010e-04   5.82759e-04\n",
      "   2  MPV [keVee]   1.08119e+03   5.22042e+00   9.39713e-03   4.63262e-05\n",
      "   3  [Sigma [keVee]]   2.27255e+02   2.27848e+00   5.47117e-06  -5.98293e-02\n",
      " FCN=56.4677 FROM MIGRAD    STATUS=CONVERGED     123 CALLS         124 TOTAL\n",
      "                     EDM=4.64815e-10    STRATEGY= 1      ERROR MATRIX ACCURATE \n",
      "  EXT PARAMETER                                   STEP         FIRST   \n",
      "  NO.   NAME      VALUE            ERROR          SIZE      DERIVATIVE \n",
      "   1  Amplitude_mu []   3.69478e+01   1.62828e-01   4.00517e-04  -3.20830e-05\n",
      "   2  MPV [keVee]   1.08808e+03   2.27156e+00   7.67954e-03   1.00882e-05\n",
      "   3  [Sigma [keVee]]   2.24428e+02   1.71826e+00   5.10502e-06  -8.35226e-03\n"
     ]
    }
   ],
   "source": [
    "TF1* Muon_peak_9inch_DC = new TF1(\"Muon_peak_9inch_DC\", \"landau\", 900, 2000); //Landau in muon peak region\n",
    "Muon_peak_9inch_DC->SetParNames(\"Amplitude_mu []\", \"MPV [keVee]\", \"[Sigma [keVee]]\");\n",
    "Muon_peak_9inch_DC->SetParameters(1,1100,100);\n",
    "h_SimuMuons_9inch_DC->Fit(\"Muon_peak_9inch_DC\", \"R\");\n",
    "\n",
    "Muon_peak_9inch_DC->FixParameter(0,Muon_peak_9inch_DC->GetParameter(0));\n",
    "Muon_peak_9inch_DC->FixParameter(1,Muon_peak_9inch_DC->GetParameter(1));\n",
    "Muon_peak_9inch_DC->FixParameter(2,Muon_peak_9inch_DC->GetParameter(2));\n",
    "\n",
    "TF1* Muon_peak_9inch_VNS = new TF1(\"Muon_peak_9inch_VNS\", \"landau\", 800, 2000); //Landau in muon peak region\n",
    "Muon_peak_9inch_VNS->SetParNames(\"Amplitude_mu []\", \"MPV [keVee]\", \"[Sigma [keVee]]\");\n",
    "Muon_peak_9inch_VNS->SetParameters(1,1100,100);\n",
    "h_SimuMuons_9inch_VNS->Fit(\"Muon_peak_9inch_VNS\", \"R\");\n",
    "\n",
    "Muon_peak_9inch_VNS->FixParameter(0,Muon_peak_9inch_VNS->GetParameter(0));\n",
    "Muon_peak_9inch_VNS->FixParameter(1,Muon_peak_9inch_VNS->GetParameter(1));\n",
    "Muon_peak_9inch_VNS->FixParameter(2,Muon_peak_9inch_VNS->GetParameter(2));"
   ]
  },
  {
   "cell_type": "code",
   "execution_count": 49,
   "id": "0ced2896",
   "metadata": {},
   "outputs": [
    {
     "data": {
      "image/png": "[encoded data removed]",
      "text/plain": [
       "<IPython.core.display.Image object>"
      ]
     },
     "metadata": {},
     "output_type": "display_data"
    }
   ],
   "source": [
    "TCanvas* C11 = new TCanvas();\n",
    "C11->Draw();\n",
    "C11->SetLogy();\n",
    "h_SimuMuons_9inch_DC->SetLineColor(kBlack);\n",
    "h_SimuMuons_9inch_DC->Draw(\"\");\n",
    "h_SimuMuons_9inch_VNS->Draw(\"same\");"
   ]
  },
  {
   "cell_type": "markdown",
   "id": "da7e1b63",
   "metadata": {},
   "source": [
    "2- Muon Plateau with a pol2 between 400 and 1200 keVee"
   ]
  },
  {
   "cell_type": "code",
   "execution_count": 50,
   "id": "3e83db34",
   "metadata": {
    "scrolled": true
   },
   "outputs": [
    {
     "name": "stdout",
     "output_type": "stream",
     "text": [
      "\n",
      "****************************************\n",
      "Minimizer is Linear / Migrad\n",
      "Chi2                      =      60.1776\n",
      "NDf                       =           17\n",
      "a                         =      7.60872   +/-   0.114627    \n",
      "b                         =   -0.0215146   +/-   0.000453044 \n",
      "c                         =  2.20279e-05   +/-   4.14227e-07 \n",
      "\n",
      "****************************************\n",
      "Minimizer is Linear / Migrad\n",
      "Chi2                      =      63.0725\n",
      "NDf                       =           17\n",
      "a                         =      7.66312   +/-   0.114422    \n",
      "b                         =    -0.021666   +/-   0.000451633 \n",
      "c                         =  2.20978e-05   +/-   4.12729e-07 \n"
     ]
    }
   ],
   "source": [
    "TF1* Muon_plateau_9inch_DC = new TF1(\"Muon_plateau_9inch_DC\", \"pol2\", 200, 900); \n",
    "Muon_plateau_9inch_DC->SetParNames(\"a\", \"b\", \"c\");\n",
    "h_SimuMuons_9inch_DC->Fit(\"Muon_plateau_9inch_DC\", \"R\");\n",
    "\n",
    "Muon_plateau_9inch_DC->FixParameter(0,Muon_plateau_9inch_DC->GetParameter(0));\n",
    "Muon_plateau_9inch_DC->FixParameter(1,Muon_plateau_9inch_DC->GetParameter(1));\n",
    "Muon_plateau_9inch_DC->FixParameter(2,Muon_plateau_9inch_DC->GetParameter(2));\n",
    "\n",
    "TF1* Muon_plateau_9inch_VNS = new TF1(\"Muon_plateau_9inch_VNS\", \"pol2\", 200, 900); \n",
    "Muon_plateau_9inch_VNS->SetParNames(\"a\", \"b\", \"c\");\n",
    "h_SimuMuons_9inch_VNS->Fit(\"Muon_plateau_9inch_VNS\", \"R\");\n",
    "\n",
    "Muon_plateau_9inch_VNS->FixParameter(0,Muon_plateau_9inch_VNS->GetParameter(0));\n",
    "Muon_plateau_9inch_VNS->FixParameter(1,Muon_plateau_9inch_VNS->GetParameter(1));\n",
    "Muon_plateau_9inch_VNS->FixParameter(2,Muon_plateau_9inch_VNS->GetParameter(2));"
   ]
  },
  {
   "cell_type": "code",
   "execution_count": 51,
   "id": "659f719b",
   "metadata": {},
   "outputs": [
    {
     "data": {
      "image/png": "[encoded data removed]",
      "text/plain": [
       "<IPython.core.display.Image object>"
      ]
     },
     "metadata": {},
     "output_type": "display_data"
    }
   ],
   "source": [
    "TCanvas* C = new TCanvas();\n",
    "C->Draw();\n",
    "C->SetLogy();\n",
    "h_SimuMuons_9inch_DC->Draw(\"\");\n",
    "h_SimuMuons_9inch_VNS->Draw(\"same\");"
   ]
  },
  {
   "cell_type": "markdown",
   "id": "1a1005d5",
   "metadata": {},
   "source": [
    "3- Function for the queue at high energies betweenn 2700 and 4400 keVee. It is the sum of two exponential functions with a gaussian in the middle for the neutron peak."
   ]
  },
  {
   "cell_type": "code",
   "execution_count": 52,
   "id": "27e151da",
   "metadata": {},
   "outputs": [
    {
     "name": "stdout",
     "output_type": "stream",
     "text": [
      " FCN=29.0644 FROM MIGRAD    STATUS=CONVERGED      48 CALLS          49 TOTAL\n",
      "                     EDM=6.69643e-07    STRATEGY= 1      ERROR MATRIX ACCURATE \n",
      "  EXT PARAMETER                                   STEP         FIRST   \n",
      "  NO.   NAME      VALUE            ERROR          SIZE      DERIVATIVE \n",
      "   1  Constant     3.69218e+00   5.43250e-02   1.64965e-05   1.53764e-01\n",
      "   2  Slope       -1.53270e-03   2.51171e-05   7.62750e-09   3.03974e+02\n",
      " FCN=16.8662 FROM MIGRAD    STATUS=CONVERGED      50 CALLS          51 TOTAL\n",
      "                     EDM=2.60543e-07    STRATEGY= 1      ERROR MATRIX ACCURATE \n",
      "  EXT PARAMETER                                   STEP         FIRST   \n",
      "  NO.   NAME      VALUE            ERROR          SIZE      DERIVATIVE \n",
      "   1  Constant     1.92127e+00   4.84394e-01   4.74973e-05   8.98434e-03\n",
      "   2  Slope       -9.76957e-04   1.17111e-04   1.14826e-08   3.12135e+01\n",
      " FCN=70.1797 FROM HESSE     STATUS=OK             50 CALLS         964 TOTAL\n",
      "                     EDM=4.51035e-07    STRATEGY= 1      ERROR MATRIX ACCURATE \n",
      "  EXT PARAMETER                                   STEP         FIRST   \n",
      "  NO.   NAME      VALUE            ERROR          SIZE      DERIVATIVE \n",
      "   1  p0           4.03254e+00   2.38275e-01   6.63282e-06  -2.08915e-02\n",
      "   2  p1          -1.84718e-03   2.58235e-04   2.93112e-09  -3.72256e+01\n",
      "   3  p2           8.56987e-02   1.25154e-02   7.52240e-07   3.95846e-02\n",
      "   4  p3           3.01953e+03   2.70458e+01   1.64598e-04  -1.91210e-03\n",
      "   5  p4           1.82819e+02   3.01425e+01   8.45233e-05   8.70202e-04\n",
      "   6  p5           7.29584e-01   1.47098e+00   1.10754e-05  -1.78512e-03\n",
      "   7  p6          -7.50071e-04   2.98410e-04   3.54079e-09   5.06912e+00\n"
     ]
    }
   ],
   "source": [
    "TF1* Muon_queue_9inch_DC_start = new TF1(\"Muon_queue_9inch_DC_start\", \"expo(0)\", 1800, 2700); \n",
    "Muon_queue_9inch_DC_start->SetParameter(0, -10);\n",
    "Muon_queue_9inch_DC_start->SetParameter(1, -0.003);\n",
    "h_SimuMuons_9inch_DC->Fit(\"Muon_queue_9inch_DC_start\", \"R\");\n",
    "\n",
    "TF1* Muon_queue_9inch_DC_end = new TF1(\"Muon_queue_9inch_DC_end\", \"expo(0)\", 3800, 5500); \n",
    "Muon_queue_9inch_DC_end->SetParameter(0, -10);\n",
    "Muon_queue_9inch_DC_end->SetParameter(1, -0.003);\n",
    "h_SimuMuons_9inch_DC->Fit(\"Muon_queue_9inch_DC_end\", \"R\");\n",
    "\n",
    "TF1* Muon_queue_secn_9inch_DC = new TF1(\"Muon_queue_secn_9inch_DC\", \"expo(0)+gaus(2)+expo(5)\", 1800, 5500); \n",
    "//Muon_queue_9inch->SetParNames(\"Norm\", \"slope\", \"Norm_NP\", \"mean_NP\", \"sigma_NP\");\n",
    "Muon_queue_secn_9inch_DC->SetParameter(0, Muon_queue_9inch_DC_start->GetParameter(0));\n",
    "Muon_queue_secn_9inch_DC->SetParameter(1, Muon_queue_9inch_DC_start->GetParameter(1));\n",
    "Muon_queue_secn_9inch_DC->SetParameter(2, 0.011);\n",
    "Muon_queue_secn_9inch_DC->SetParameter(3, 3500);\n",
    "Muon_queue_secn_9inch_DC->SetParameter(4, 300);\n",
    "Muon_queue_secn_9inch_DC->SetParameter(5, Muon_queue_9inch_DC_end->GetParameter(0));\n",
    "Muon_queue_secn_9inch_DC->SetParameter(6, Muon_queue_9inch_DC_end->GetParameter(1));\n",
    "\n",
    "Muon_queue_secn_9inch_DC->SetParLimits(3, 3000, 3800);\n",
    "Muon_queue_secn_9inch_DC->SetParLimits(2, 0., 1000);\n",
    "Muon_queue_secn_9inch_DC->SetParLimits(4, 100, 600);\n",
    "h_SimuMuons_9inch_DC->Fit(\"Muon_queue_secn_9inch_DC\", \"R\");\n",
    "\n",
    "Muon_queue_secn_9inch_DC->FixParameter(0, Muon_queue_secn_9inch_DC->GetParameter(0));\n",
    "Muon_queue_secn_9inch_DC->FixParameter(1, Muon_queue_secn_9inch_DC->GetParameter(1));\n",
    "Muon_queue_secn_9inch_DC->FixParameter(2, Muon_queue_secn_9inch_DC->GetParameter(2));\n",
    "Muon_queue_secn_9inch_DC->FixParameter(3, Muon_queue_secn_9inch_DC->GetParameter(3));\n",
    "Muon_queue_secn_9inch_DC->FixParameter(4, Muon_queue_secn_9inch_DC->GetParameter(4));\n",
    "Muon_queue_secn_9inch_DC->FixParameter(5, Muon_queue_secn_9inch_DC->GetParameter(5));\n",
    "Muon_queue_secn_9inch_DC->FixParameter(6, Muon_queue_secn_9inch_DC->GetParameter(6));"
   ]
  },
  {
   "cell_type": "code",
   "execution_count": 53,
   "id": "9efffb1f",
   "metadata": {},
   "outputs": [
    {
     "name": "stdout",
     "output_type": "stream",
     "text": [
      " FCN=24.1143 FROM MIGRAD    STATUS=CONVERGED      48 CALLS          49 TOTAL\n",
      "                     EDM=1.80314e-09    STRATEGY= 1      ERROR MATRIX ACCURATE \n",
      "  EXT PARAMETER                                   STEP         FIRST   \n",
      "  NO.   NAME      VALUE            ERROR          SIZE      DERIVATIVE \n",
      "   1  Constant     3.68712e+00   5.45403e-02   1.50697e-05   7.96203e-03\n",
      "   2  Slope       -1.52973e-03   2.52162e-05   6.96728e-09   1.84859e+01\n",
      " FCN=13.3143 FROM MIGRAD    STATUS=CONVERGED      49 CALLS          50 TOTAL\n",
      "                     EDM=7.1037e-07    STRATEGY= 1      ERROR MATRIX ACCURATE \n",
      "  EXT PARAMETER                                   STEP         FIRST   \n",
      "  NO.   NAME      VALUE            ERROR          SIZE      DERIVATIVE \n",
      "   1  Constant     2.80195e+00   4.75641e-01   4.23729e-05   3.30576e-02\n",
      "   2  Slope       -1.18853e-03   1.15260e-04   1.02677e-08   1.28278e+02\n",
      " FCN=74.1805 FROM HESSE     STATUS=OK             50 CALLS        1104 TOTAL\n",
      "                     EDM=0.000215423    STRATEGY= 1      ERROR MATRIX ACCURATE \n",
      "  EXT PARAMETER                                   STEP         FIRST   \n",
      "  NO.   NAME      VALUE            ERROR          SIZE      DERIVATIVE \n",
      "   1  p0           4.44121e+00   4.43890e-01   2.43855e-06  -1.68156e-04\n",
      "   2  p1          -2.30443e-03   4.08346e-04   5.70611e-09   1.34000e+01\n",
      "   3  p2           6.83319e-02   1.31034e-02   9.63615e-07   7.11486e-02\n",
      "   4  p3           3.00000e+03   2.24986e+01   2.85238e-04** at limit **\n",
      "   5  p4           1.49902e+02   2.51764e+01   1.09256e-04  -4.72046e-04\n",
      "   6  p5           2.06399e+00   5.63469e-01   6.56996e-06  -3.30321e-02\n",
      "   7  p6          -1.02306e-03   1.22357e-04   2.32989e-09  -2.76927e+01\n"
     ]
    }
   ],
   "source": [
    "TF1* Muon_queue_9inch_VNS_start = new TF1(\"Muon_queue_9inch_VNS_start\", \"expo(0)\", 1800, 2700);\n",
    "Muon_queue_9inch_VNS_start->SetParameter(0, -10);\n",
    "Muon_queue_9inch_VNS_start->SetParameter(1, -0.003);\n",
    "h_SimuMuons_9inch_VNS->Fit(\"Muon_queue_9inch_VNS_start\", \"R\");\n",
    "\n",
    "TF1* Muon_queue_9inch_VNS_end = new TF1(\"Muon_queue_9inch_VNS_end\", \"expo(0)\", 3800, 5500);\n",
    "Muon_queue_9inch_VNS_end->SetParameter(0, -10);\n",
    "Muon_queue_9inch_VNS_end->SetParameter(1, -0.003);\n",
    "h_SimuMuons_9inch_VNS->Fit(\"Muon_queue_9inch_VNS_end\", \"R\");\n",
    "\n",
    "TF1* Muon_queue_secn_9inch_VNS = new TF1(\"Muon_queue_secn_9inch_VNS\", \"expo(0)+gaus(2)+expo(5)\", 1800, 5500);\n",
    "//Muon_queue_9inch->SetParNames(\"Norm\", \"slope\", \"Norm_NP\", \"mean_NP\", \"sigma_NP\");\n",
    "Muon_queue_secn_9inch_VNS->SetParameter(0, Muon_queue_9inch_VNS_start->GetParameter(0));\n",
    "Muon_queue_secn_9inch_VNS->SetParameter(1, Muon_queue_9inch_VNS_start->GetParameter(1));\n",
    "Muon_queue_secn_9inch_VNS->SetParameter(2, 0.011);\n",
    "Muon_queue_secn_9inch_VNS->SetParameter(3, 3500);\n",
    "Muon_queue_secn_9inch_VNS->SetParameter(4, 300);\n",
    "Muon_queue_secn_9inch_VNS->SetParameter(5, Muon_queue_9inch_VNS_end->GetParameter(0));\n",
    "Muon_queue_secn_9inch_VNS->SetParameter(6, Muon_queue_9inch_VNS_end->GetParameter(1));\n",
    "\n",
    "Muon_queue_secn_9inch_VNS->SetParLimits(3, 3000, 3800);\n",
    "Muon_queue_secn_9inch_VNS->SetParLimits(2, 0., 1000);\n",
    "Muon_queue_secn_9inch_VNS->SetParLimits(4, 100, 600);\n",
    "h_SimuMuons_9inch_VNS->Fit(\"Muon_queue_secn_9inch_VNS\", \"R\");\n",
    "\n",
    "Muon_queue_secn_9inch_VNS->FixParameter(0, Muon_queue_secn_9inch_VNS->GetParameter(0));\n",
    "Muon_queue_secn_9inch_VNS->FixParameter(1, Muon_queue_secn_9inch_VNS->GetParameter(1));\n",
    "Muon_queue_secn_9inch_VNS->FixParameter(2, Muon_queue_secn_9inch_VNS->GetParameter(2));\n",
    "Muon_queue_secn_9inch_VNS->FixParameter(3, Muon_queue_secn_9inch_VNS->GetParameter(3));\n",
    "Muon_queue_secn_9inch_VNS->FixParameter(4, Muon_queue_secn_9inch_VNS->GetParameter(4));\n",
    "Muon_queue_secn_9inch_VNS->FixParameter(5, Muon_queue_secn_9inch_VNS->GetParameter(5));\n",
    "Muon_queue_secn_9inch_VNS->FixParameter(6, Muon_queue_secn_9inch_VNS->GetParameter(6));"
   ]
  },
  {
   "cell_type": "code",
   "execution_count": 54,
   "id": "edd1f7be",
   "metadata": {},
   "outputs": [
    {
     "data": {
      "image/png": "[encoded data removed]",
      "text/plain": [
       "<IPython.core.display.Image object>"
      ]
     },
     "metadata": {},
     "output_type": "display_data"
    }
   ],
   "source": [
    "TCanvas* C = new TCanvas();\n",
    "C->Draw();\n",
    "C->SetLogy();\n",
    "h_SimuMuons_9inch_DC->Draw(\"\");\n",
    "Muon_queue_secn_9inch_DC->Draw(\"SAME\");\n",
    "Muon_queue_9inch_DC_end->SetLineColor(kBlue);\n",
    "Muon_queue_9inch_DC_end->Draw(\"SAME\");\n",
    "Muon_queue_9inch_DC_start->SetLineColor(kBlue);\n",
    "Muon_queue_9inch_DC_start->Draw(\"SAME\");\n",
    "h_SimuMuons_9inch_VNS->Draw(\"SAME\");\n",
    "Muon_queue_secn_9inch_VNS->Draw(\"SAME\");\n",
    "Muon_queue_9inch_VNS_end->SetLineColor(kBlue);\n",
    "Muon_queue_9inch_VNS_end->Draw(\"SAME\");\n",
    "Muon_queue_9inch_VNS_start->SetLineColor(kBlue);\n",
    "Muon_queue_9inch_VNS_start->Draw(\"SAME\");"
   ]
  },
  {
   "cell_type": "markdown",
   "id": "38ff52cf",
   "metadata": {},
   "source": [
    "The final function is the sum of those three contributions linked by two step functions (cdf) one at low energy to link the plateau with the muon peak and one at high energies to link the muon peak to the queue."
   ]
  },
  {
   "cell_type": "code",
   "execution_count": 55,
   "id": "eb52c03a",
   "metadata": {},
   "outputs": [],
   "source": [
    "Double_t Muons_9inch_DC(Double_t* x, Double_t *par){\n",
    "    Double_t par_cdf[2]= {par[3], par[4]};\n",
    "    Double_t par_cdf2[2]= {par[5], par[6]};\n",
    "    return (1-cdf(x, par_cdf))*par[0]*Muon_plateau_9inch_DC->Eval(x[0])+cdf(x, par_cdf)*(1-cdf(x, par_cdf2))*par[1]*Muon_peak_9inch_DC->Eval(x[0])+cdf(x, par_cdf2)*par[2]*Muon_queue_secn_9inch_DC->Eval(x[0]);\n",
    "}"
   ]
  },
  {
   "cell_type": "code",
   "execution_count": 56,
   "id": "58129d6b",
   "metadata": {},
   "outputs": [],
   "source": [
    "Double_t Muons_9inch_VNS(Double_t* x, Double_t *par){\n",
    "    Double_t par_cdf[2]= {par[3], par[4]};\n",
    "    Double_t par_cdf2[2]= {par[5], par[6]};\n",
    "    return (1-cdf(x, par_cdf))*par[0]*Muon_plateau_9inch_VNS->Eval(x[0])+cdf(x, par_cdf)*(1-cdf(x, par_cdf2))*par[1]*Muon_peak_9inch_VNS->Eval(x[0])+cdf(x, par_cdf2)*par[2]*Muon_queue_secn_9inch_VNS->Eval(x[0]);\n",
    "}"
   ]
  },
  {
   "cell_type": "code",
   "execution_count": 57,
   "id": "50399f95",
   "metadata": {},
   "outputs": [
    {
     "name": "stdout",
     "output_type": "stream",
     "text": [
      " FCN=145.083 FROM MIGRAD    STATUS=CONVERGED     745 CALLS         746 TOTAL\n",
      "                     EDM=1.56998e-07    STRATEGY= 1      ERROR MATRIX ACCURATE \n",
      "  EXT PARAMETER                                   STEP         FIRST   \n",
      "  NO.   NAME      VALUE            ERROR          SIZE      DERIVATIVE \n",
      "   1  Norm_plateau   9.99528e-01   5.51639e-03   3.01842e-05  -2.59382e-02\n",
      "   2  Norm_muonpeak   9.98257e-01   3.35800e-03   1.86975e-05   2.89117e-02\n",
      "   3  Norm_muonqueue   9.92346e-01   6.90779e-03   3.80836e-05   7.07373e-03\n",
      "   4  pos cdf      8.00000e+02   1.10692e+01   1.60832e-03** at limit **\n",
      "   5  sigma cdf    1.11464e+02   1.04432e+01   2.70761e-04  -7.12418e-04\n",
      "   6  pos cdf2     2.00000e+03   4.05047e+01   1.19053e-03** at limit **\n",
      "   7  sigma cdf2   2.61103e+02   8.42982e+01   1.87963e-03   4.05318e-04\n"
     ]
    }
   ],
   "source": [
    "TF1* Muon_shape_9inch_DC = new TF1(\"Muon_shape_9inch_DC\", Muons_9inch_DC, 150, 5500, 7);\n",
    "Muon_shape_9inch_DC->SetParNames(\"Norm_plateau\", \"Norm_muonpeak\", \"Norm_muonqueue\", \"pos cdf\", \"sigma cdf\", \"pos cdf2\", \"sigma cdf2\");\n",
    "\n",
    "Muon_shape_9inch_DC->SetParameter(0, 1);\n",
    "Muon_shape_9inch_DC->SetParameter(1, 1);\n",
    "Muon_shape_9inch_DC->SetParameter(2, 1);\n",
    "\n",
    "Muon_shape_9inch_DC->SetParameter(3, 1000);\n",
    "Muon_shape_9inch_DC->SetParameter(4, 400);\n",
    "Muon_shape_9inch_DC->SetParLimits(4, 0, 500);\n",
    "Muon_shape_9inch_DC->SetParLimits(3, 800, 1400);\n",
    "Muon_shape_9inch_DC->SetParameter(5, 2900);\n",
    "Muon_shape_9inch_DC->SetParLimits(5, 2000, 6000);\n",
    "Muon_shape_9inch_DC->SetParameter(6, 400);\n",
    "Muon_shape_9inch_DC->SetParLimits(6, 0, 500);\n",
    "h_SimuMuons_9inch_DC->Fit(\"Muon_shape_9inch_DC\", \"R0\");"
   ]
  },
  {
   "cell_type": "code",
   "execution_count": 58,
   "id": "bb396fb8",
   "metadata": {},
   "outputs": [
    {
     "name": "stdout",
     "output_type": "stream",
     "text": [
      " FCN=163.204 FROM MIGRAD    STATUS=CONVERGED     613 CALLS         614 TOTAL\n",
      "                     EDM=5.89552e-08    STRATEGY= 1      ERROR MATRIX ACCURATE \n",
      "  EXT PARAMETER                                   STEP         FIRST   \n",
      "  NO.   NAME      VALUE            ERROR          SIZE      DERIVATIVE \n",
      "   1  Norm_plateau   1.00833e+00   5.71008e-03   3.21541e-05   1.35299e-02\n",
      "   2  Norm_muonpeak   9.97354e-01   3.93810e-03   2.01488e-05   4.05507e-02\n",
      "   3  Norm_muonqueue   9.92476e-01   6.75765e-03   4.07379e-05   7.54384e-04\n",
      "   4  pos cdf      8.00000e+02   2.21400e+01   2.41892e-03** at limit **\n",
      "   5  sigma cdf    1.24322e+02   9.46891e+00   2.40444e-04  -4.54628e-03\n",
      "   6  pos cdf2     2.00000e+03   3.28890e+01   1.13596e-03** at limit **\n",
      "   7  sigma cdf2   3.01412e+02   7.20813e+01   1.57859e-03   1.97458e-04\n"
     ]
    }
   ],
   "source": [
    "TF1* Muon_shape_9inch_VNS = new TF1(\"Muon_shape_9inch_VNS\", Muons_9inch_VNS, 150, 5500, 7);\n",
    "Muon_shape_9inch_VNS->SetParNames(\"Norm_plateau\", \"Norm_muonpeak\", \"Norm_muonqueue\", \"pos cdf\", \"sigma cdf\", \"pos cdf2\", \"sigma cdf2\");\n",
    "\n",
    "Muon_shape_9inch_VNS->SetParameter(0, 1);\n",
    "Muon_shape_9inch_VNS->SetParameter(1, 1);\n",
    "Muon_shape_9inch_VNS->SetParameter(2, 1);\n",
    "\n",
    "Muon_shape_9inch_VNS->SetParameter(3, 1000);\n",
    "Muon_shape_9inch_VNS->SetParameter(4, 400);\n",
    "Muon_shape_9inch_VNS->SetParLimits(4, 0, 500);\n",
    "Muon_shape_9inch_VNS->SetParLimits(3, 800, 1400);\n",
    "Muon_shape_9inch_VNS->SetParameter(5, 2900);\n",
    "Muon_shape_9inch_VNS->SetParLimits(5, 2000, 6000);\n",
    "Muon_shape_9inch_VNS->SetParameter(6, 400);\n",
    "Muon_shape_9inch_VNS->SetParLimits(6, 0, 500);\n",
    "h_SimuMuons_9inch_VNS->Fit(\"Muon_shape_9inch_VNS\", \"R0\");"
   ]
  },
  {
   "cell_type": "code",
   "execution_count": 59,
   "id": "41018004",
   "metadata": {},
   "outputs": [
    {
     "data": {
      "image/png": "[encoded data removed]",
      "text/plain": [
       "<IPython.core.display.Image object>"
      ]
     },
     "metadata": {},
     "output_type": "display_data"
    },
    {
     "name": "stdout",
     "output_type": "stream",
     "text": [
      "Chi2/NDF = 163.204/112 = 1.45718\n"
     ]
    },
    {
     "name": "stderr",
     "output_type": "stream",
     "text": [
      "Info in <TCanvas::Print>: png file /Users/cg264002/research/Redaction_These/Figures/Chap3/Neutrons/Muons_9inch.png has been created\n"
     ]
    }
   ],
   "source": [
    "TCanvas* C11 = new TCanvas();\n",
    "C11->Draw();\n",
    "C11->SetLogy();\n",
    "gPad->SetLeftMargin(0.1);\n",
    "gPad->SetRightMargin(0.03);\n",
    "gPad->SetBottomMargin(0.1);\n",
    "gPad->SetTopMargin(0.02);\n",
    "\n",
    "h_SimuMuons_9inch_DC->SetTitle(\"\");\n",
    "h_SimuMuons_9inch_DC->Draw(\"\");\n",
    "Muon_shape_9inch_DC->Draw(\"SAME\");\n",
    "\n",
    "//h_SimuMuons_9inch_VNS->Draw(\"SAME\");\n",
    "//Muon_shape_9inch_VNS->Draw(\"SAME\");\n",
    "\n",
    "C->SaveAs(\"/Users/cg264002/research/Redaction_These/Figures/Chap3/Neutrons/Muons_9inch.png\");\n",
    "\n",
    "std::cout<<\"Chi2/NDF = \"<<Muon_shape_9inch_VNS->GetChisquare()<<\"/\"<<Muon_shape_9inch_VNS->GetNDF()-4<<\" = \"<<Muon_shape_9inch_VNS->GetChisquare()/(Muon_shape_9inch_VNS->GetNDF()-4)<<endl;"
   ]
  },
  {
   "cell_type": "markdown",
   "id": "aff0a506",
   "metadata": {},
   "source": [
    "The shapes of gammas and muons background contributions are fixed. The global background function is the sum of the two contributions with their weight as parameters."
   ]
  },
  {
   "cell_type": "code",
   "execution_count": 60,
   "id": "e7195227",
   "metadata": {},
   "outputs": [],
   "source": [
    "Gamma_shape_9inch->FixParameter(1, Gamma_shape_9inch->GetParameter(1));\n",
    "Gamma_shape_9inch->FixParameter(0, Gamma_shape_9inch->GetParameter(0));\n",
    "Muon_shape_9inch_DC->FixParameter(0, Muon_shape_9inch_DC->GetParameter(0));\n",
    "Muon_shape_9inch_DC->FixParameter(1, Muon_shape_9inch_DC->GetParameter(1));\n",
    "Muon_shape_9inch_DC->FixParameter(2, Muon_shape_9inch_DC->GetParameter(2));\n",
    "Muon_shape_9inch_DC->FixParameter(3, Muon_shape_9inch_DC->GetParameter(3));\n",
    "Muon_shape_9inch_DC->FixParameter(4, Muon_shape_9inch_DC->GetParameter(4));\n",
    "Muon_shape_9inch_DC->FixParameter(5, Muon_shape_9inch_DC->GetParameter(5));\n",
    "Muon_shape_9inch_DC->FixParameter(6, Muon_shape_9inch_DC->GetParameter(6));\n",
    "\n",
    "Muon_shape_9inch_VNS->FixParameter(0, Muon_shape_9inch_VNS->GetParameter(0));\n",
    "Muon_shape_9inch_VNS->FixParameter(1, Muon_shape_9inch_VNS->GetParameter(1));\n",
    "Muon_shape_9inch_VNS->FixParameter(2, Muon_shape_9inch_VNS->GetParameter(2));\n",
    "Muon_shape_9inch_VNS->FixParameter(3, Muon_shape_9inch_VNS->GetParameter(3));\n",
    "Muon_shape_9inch_VNS->FixParameter(4, Muon_shape_9inch_VNS->GetParameter(4));\n",
    "Muon_shape_9inch_VNS->FixParameter(5, Muon_shape_9inch_VNS->GetParameter(5));\n",
    "Muon_shape_9inch_VNS->FixParameter(6, Muon_shape_9inch_VNS->GetParameter(6));"
   ]
  },
  {
   "cell_type": "code",
   "execution_count": 61,
   "id": "9abc8fb4",
   "metadata": {},
   "outputs": [],
   "source": [
    "Double_t MuonsplusGammas_9inch_DC(Double_t* x, Double_t *par){\n",
    "    return par[0]*Muon_shape_9inch_DC->Eval(x[0])+par[1]*Gamma_shape_9inch->Eval(x[0]);\n",
    "}"
   ]
  },
  {
   "cell_type": "code",
   "execution_count": 62,
   "id": "eee66d38",
   "metadata": {},
   "outputs": [],
   "source": [
    "Double_t MuonsplusGammas_9inch_VNS(Double_t* x, Double_t *par){\n",
    "    return par[0]*Muon_shape_9inch_VNS->Eval(x[0])+par[1]*Gamma_shape_9inch->Eval(x[0]);\n",
    "}"
   ]
  },
  {
   "cell_type": "markdown",
   "id": "931097d1",
   "metadata": {},
   "source": [
    "Then, the signal is added to the background. "
   ]
  },
  {
   "cell_type": "markdown",
   "id": "e9675f60",
   "metadata": {},
   "source": [
    "### Neutron Peak"
   ]
  },
  {
   "cell_type": "markdown",
   "id": "9d8ef11b",
   "metadata": {},
   "source": [
    "Fit of the neutron peak obtained in the simulation (cross check but not used to constrain the signal model). "
   ]
  },
  {
   "cell_type": "code",
   "execution_count": 63,
   "id": "77611f41",
   "metadata": {},
   "outputs": [
    {
     "name": "stdout",
     "output_type": "stream",
     "text": [
      " FCN=451.898 FROM MIGRAD    STATUS=CONVERGED     146 CALLS         147 TOTAL\n",
      "                     EDM=3.91513e-07    STRATEGY= 1      ERROR MATRIX ACCURATE \n",
      "  EXT PARAMETER                                   STEP         FIRST   \n",
      "  NO.   NAME      VALUE            ERROR          SIZE      DERIVATIVE \n",
      "   1  Amplitude [Counts/d/keVee]   7.15721e-01   1.60421e-03   1.32273e-05  -5.96087e-01\n",
      "   2  #mu [keVee]   2.98549e+03   4.22921e-01   4.28735e-03   8.23082e-04\n",
      "   3  #sigma [keVee]   2.21287e+02   3.35351e-01   2.71298e-03  -7.33613e-04\n"
     ]
    }
   ],
   "source": [
    "TF1* Neutron_peak_Gaus = new TF1(\"Neutron_peak_Gaus\", \"[0]*TMath::Gaus(x, [1], [2])\", 2500, 5000);\n",
    "Neutron_peak_Gaus->SetParNames(\"Amplitude [Counts/d/keVee]\", \"#mu [keVee]\", \"#sigma [keVee]\");\n",
    "Neutron_peak_Gaus->SetParameter(0, 0.1);\n",
    "Neutron_peak_Gaus->SetParameter(1, 3500);\n",
    "Neutron_peak_Gaus->SetParameter(2, 300);\n",
    "\n",
    "h_SimuNeutrons_9inch->Fit(\"Neutron_peak_Gaus\", \"R\");"
   ]
  },
  {
   "cell_type": "code",
   "execution_count": 64,
   "id": "31f6b4bc",
   "metadata": {},
   "outputs": [
    {
     "data": {
      "image/png": "[encoded data removed]",
      "text/plain": [
       "<IPython.core.display.Image object>"
      ]
     },
     "metadata": {},
     "output_type": "display_data"
    }
   ],
   "source": [
    "TCanvas* C = new TCanvas();\n",
    "C->Draw();\n",
    "C->SetLogy();\n",
    "h_SimuNeutrons_9inch->Draw(\"\");"
   ]
  },
  {
   "cell_type": "code",
   "execution_count": 65,
   "id": "f56585fe",
   "metadata": {},
   "outputs": [
    {
     "name": "stderr",
     "output_type": "stream",
     "text": [
      "Warning in <ROOT::Fit::FillData>: fit range is outside histogram range, no fit data for xaxis\n",
      "Warning in <Fit>: Fit data is empty \n"
     ]
    }
   ],
   "source": [
    "TF1* plateau_Neutron = new TF1(\"plateau_Neutron\", \"[0]*x +[1]\", 4800, 5800);\n",
    "plateau_Neutron->SetParameter(0, 1e-2);\n",
    "plateau_Neutron->SetParameter(1, 5500);\n",
    "\n",
    "h_SimuNeutrons_9inch->Fit(\"plateau_Neutron\", \"R\");\n",
    "\n",
    "plateau_Neutron->FixParameter(0, plateau_Neutron->GetParameter(0));\n",
    "plateau_Neutron->FixParameter(1, plateau_Neutron->GetParameter(1));"
   ]
  },
  {
   "cell_type": "code",
   "execution_count": 66,
   "id": "52c8b7b6",
   "metadata": {},
   "outputs": [
    {
     "data": {
      "image/png": "[encoded data removed]",
      "text/plain": [
       "<IPython.core.display.Image object>"
      ]
     },
     "metadata": {},
     "output_type": "display_data"
    }
   ],
   "source": [
    "TCanvas* C = new TCanvas();\n",
    "C->Draw();\n",
    "C->SetLogy();\n",
    "h_SimuNeutrons_9inch->Draw(\"\");"
   ]
  },
  {
   "cell_type": "code",
   "execution_count": 67,
   "id": "6b783c2a",
   "metadata": {},
   "outputs": [],
   "source": [
    "Double_t Neutron_PeakAndHighE_9inch(Double_t* x, Double_t *par){\n",
    "    Double_t par_cdf[2]= {par[4], par[5]};\n",
    "    return par[0]*TMath::Gaus(x[0], par[1], par[2])+cdf(x, par_cdf)*par[3]*plateau_Neutron->Eval(x[0]);\n",
    "}"
   ]
  },
  {
   "cell_type": "code",
   "execution_count": 68,
   "id": "bc8dfc01",
   "metadata": {},
   "outputs": [
    {
     "data": {
      "image/png": "[encoded data removed]",
      "text/plain": [
       "<IPython.core.display.Image object>"
      ]
     },
     "metadata": {},
     "output_type": "display_data"
    },
    {
     "name": "stdout",
     "output_type": "stream",
     "text": [
      " FCN=104833 FROM MIGRAD    STATUS=FAILED        179 CALLS         180 TOTAL\n",
      "                     EDM=1.49042e+07    STRATEGY= 1      ERR MATRIX NOT POS-DEF\n",
      "  EXT PARAMETER                APPROXIMATE        STEP         FIRST   \n",
      "  NO.   NAME      VALUE            ERROR          SIZE      DERIVATIVE \n",
      "   1  p0           5.49824e-01   1.51856e+00   0.00000e+00  -3.82094e+04\n",
      "   2  p1           2.83803e+03   1.00000e+00   0.00000e+00  -8.73150e+02\n",
      "   3  p2           1.88529e+02   1.51483e+00   0.00000e+00  -3.29342e+02\n",
      "   4  p3           7.61954e-08   1.51856e+00   0.00000e+00  -1.94176e+09\n",
      "   5  p4           4.00000e+03     fixed    \n",
      "   6  p5           1.00000e+02     fixed    \n"
     ]
    },
    {
     "name": "stderr",
     "output_type": "stream",
     "text": [
      "Warning in <Fit>: Abnormal termination of minimization.\n"
     ]
    }
   ],
   "source": [
    "TF1* Neutron_shape = new TF1(\"Neutron_shape\", \"Neutron_PeakAndHighE_9inch\", 1000, 4500, 6);\n",
    "Neutron_shape->SetParameter(0, Neutron_peak_Gaus->GetParameter(0));\n",
    "Neutron_shape->SetParameter(1, Neutron_peak_Gaus->GetParameter(1));\n",
    "Neutron_shape->SetParameter(2, Neutron_peak_Gaus->GetParameter(2));\n",
    "Neutron_shape->SetParameter(3, 1);\n",
    "Neutron_shape->FixParameter(4, 4000);\n",
    "Neutron_shape->FixParameter(5, 100);\n",
    "\n",
    "h_SimuNeutrons_9inch->Fit(\"Neutron_shape\", \"R\", \"\", 2000, 4500);\n",
    "\n",
    "TCanvas* C = new TCanvas();\n",
    "C->Draw();\n",
    "C->SetLogy();\n",
    "h_SimuNeutrons_9inch->Draw(\"\");\n",
    "\n",
    "Neutron_shape->FixParameter(0, Neutron_shape->GetParameter(0));\n",
    "Neutron_shape->FixParameter(3, Neutron_shape->GetParameter(3));\n",
    "Neutron_shape->FixParameter(4, Neutron_shape->GetParameter(4));\n",
    "Neutron_shape->FixParameter(5, Neutron_shape->GetParameter(5));"
   ]
  },
  {
   "cell_type": "markdown",
   "id": "14819f35",
   "metadata": {},
   "source": [
    "The signal model is the sum of the two background contributions (gammas and muons) and a gaussian. It has 5 parameters : gamma weight, muon weight, neutron weight, neutron peak position and neutron peak width. "
   ]
  },
  {
   "cell_type": "markdown",
   "id": "962fd144",
   "metadata": {},
   "source": [
    "Remark: given the contribution of neutrons at low energies and the kind of plateau before the neutron capture peak, it could be interesting to improve the model by including those parts of the neutron spectrum in the signal model function. "
   ]
  },
  {
   "cell_type": "code",
   "execution_count": 69,
   "id": "0a9879e5",
   "metadata": {},
   "outputs": [],
   "source": [
    "Double_t SignalPlusBackground_9inch_DC(Double_t* x, Double_t *par){\n",
    "    Neutron_shape->SetParameter(1, par[3]);\n",
    "    Neutron_shape->SetParameter(2, par[4]);\n",
    "    return par[0]*Muon_shape_9inch_DC->Eval(x[0])+par[1]*Gamma_shape_9inch->Eval(x[0])+par[2]*Neutron_shape->Eval(x[0]);\n",
    "}"
   ]
  },
  {
   "cell_type": "code",
   "execution_count": 70,
   "id": "cc4cbafb",
   "metadata": {},
   "outputs": [],
   "source": [
    "Double_t SignalPlusBackground_9inch_VNS(Double_t* x, Double_t *par){\n",
    "    Neutron_shape->SetParameter(1, par[3]);\n",
    "    Neutron_shape->SetParameter(2, par[4]);\n",
    "    return par[0]*Muon_shape_9inch_VNS->Eval(x[0])+par[1]*Gamma_shape_9inch->Eval(x[0])+par[2]*Neutron_shape->Eval(x[0]);\n",
    "}"
   ]
  },
  {
   "cell_type": "code",
   "execution_count": 71,
   "id": "f2eef368",
   "metadata": {},
   "outputs": [],
   "source": [
    "Double_t Gammas_9inch(Double_t* x, Double_t *par){\n",
    "    return par[0]*Gamma_shape_9inch->Eval(x[0]);\n",
    "}"
   ]
  },
  {
   "cell_type": "code",
   "execution_count": 72,
   "id": "02b14cc4",
   "metadata": {},
   "outputs": [],
   "source": [
    "Double_t Muons_9inch_DC(Double_t* x, Double_t *par){\n",
    "    return par[0]*Muon_shape_9inch_DC->Eval(x[0]);\n",
    "}"
   ]
  },
  {
   "cell_type": "code",
   "execution_count": 73,
   "id": "1f28b84f",
   "metadata": {},
   "outputs": [],
   "source": [
    "Double_t Muons_9inch_VNS(Double_t* x, Double_t *par){\n",
    "    return par[0]*Muon_shape_9inch_VNS->Eval(x[0]);\n",
    "}"
   ]
  },
  {
   "cell_type": "code",
   "execution_count": 74,
   "id": "4d4c50c7",
   "metadata": {},
   "outputs": [],
   "source": [
    "Double_t Neutrons_9inch(Double_t* x, Double_t *par){\n",
    "    Neutron_shape->SetParameter(1, par[1]);\n",
    "    Neutron_shape->SetParameter(2, par[2]);\n",
    "    return par[0]*Neutron_shape->Eval(x[0]);\n",
    "}"
   ]
  },
  {
   "cell_type": "code",
   "execution_count": 75,
   "id": "bb923669",
   "metadata": {},
   "outputs": [],
   "source": [
    "TF1* Sum_background_9inch_DC = new TF1(\"Sum_background_9inch_DC\", MuonsplusGammas_9inch_DC, Emin_fit, Emax_fit, 2);\n",
    "Sum_background_9inch_DC->SetParNames(\"Norm_muons\", \"Norm_gammas\");\n",
    "\n",
    "TF1* Sum_background_9inch_VNS = new TF1(\"Sum_background_9inch_VNS\", MuonsplusGammas_9inch_VNS, Emin_fit, Emax_fit, 2);\n",
    "Sum_background_9inch_VNS->SetParNames(\"Norm_muons\", \"Norm_gammas\");"
   ]
  },
  {
   "cell_type": "code",
   "execution_count": 76,
   "id": "4f683d4f",
   "metadata": {},
   "outputs": [],
   "source": [
    "TF1* Muon_background_9inch_DC = new TF1(\"Muon_background_9inch_DC\", Muons_9inch_DC, Emin_fit, Emax_fit, 1);\n",
    "Muon_background_9inch_DC->SetParNames(\"Norm_muons\");\n",
    "\n",
    "TF1* Muon_background_9inch_VNS = new TF1(\"Muon_background_9inch_VNS\", Muons_9inch_VNS, Emin_fit, Emax_fit, 1);\n",
    "Muon_background_9inch_VNS->SetParNames(\"Norm_muons\");"
   ]
  },
  {
   "cell_type": "code",
   "execution_count": 77,
   "id": "29d5a2ce",
   "metadata": {},
   "outputs": [],
   "source": [
    "TF1* Gamma_background_9inch = new TF1(\"Gamma_background_9inch\", Gammas_9inch, Emin_fit, Emax_fit, 1);\n",
    "Gamma_background_9inch->SetParNames(\"Norm_gammas\");"
   ]
  },
  {
   "cell_type": "code",
   "execution_count": 78,
   "id": "16a867ee",
   "metadata": {},
   "outputs": [],
   "source": [
    "TF1* Neutron_signal_9inch = new TF1(\"Neutron_signal_9inch\", Neutrons_9inch, Emin_fit, Emax_fit, 3);\n",
    "Gamma_background_9inch->SetParNames(\"Norm_Neutrons\");"
   ]
  },
  {
   "cell_type": "code",
   "execution_count": 79,
   "id": "ba9aefc4",
   "metadata": {},
   "outputs": [],
   "source": [
    "TF1* SignalandBackground_9inch_DC = new TF1(\"SignalandBackground_9inch_DC\", SignalPlusBackground_9inch_DC, Emin_fit, Emax_fit, 5);\n",
    "SignalandBackground_9inch_DC->SetParNames(\"Norm_muons\", \"Norm_gammas\", \"Norm_Neutr\", \"Mean_gauss\", \"Sigma_gauss\");\n",
    "\n",
    "TF1* SignalandBackground_9inch_VNS = new TF1(\"SignalandBackground_9inch_VNS\", SignalPlusBackground_9inch_VNS, Emin_fit, Emax_fit, 5);\n",
    "SignalandBackground_9inch_VNS->SetParNames(\"Norm_muons\", \"Norm_gammas\", \"Norm_Neutr\", \"Mean_gauss\", \"Sigma_gauss\");"
   ]
  },
  {
   "cell_type": "markdown",
   "id": "6d0510ed",
   "metadata": {},
   "source": [
    "## Fit"
   ]
  },
  {
   "cell_type": "markdown",
   "id": "e864f906",
   "metadata": {},
   "source": [
    "Fitting procedure : the shapes of background contributions have been constrained by the fit of the simulations before. The weight of each contribution is fitted as well as the neutron peak (in shape and norm). <br>  <br> \n",
    "The number of events in the neutron peak are calculated as follow: <br>\n",
    "<b>N_ev_tot</b> = The total number of events in the histogram in the peak region [2500, 4500 keVee]. The uncertainty is statistical only. <br>\n",
    "<b>N_ev_bckg</b> = The integral of the background from fit result in the peak region. The uncertainty is obtained from the fit parameters errors on muon and gamma normalization.  <br>\n",
    "<b>N_ev_in_neutron_peak</b> = N_ev_tot-N_ev_bckg with the error propagation from the two previous errors quoted."
   ]
  },
  {
   "cell_type": "markdown",
   "id": "54b16e7b",
   "metadata": {},
   "source": [
    "### DCHut\n",
    "Fit of the data at surface."
   ]
  },
  {
   "cell_type": "code",
   "execution_count": 80,
   "id": "c3389ed6",
   "metadata": {},
   "outputs": [
    {
     "name": "stdout",
     "output_type": "stream",
     "text": [
      " FCN=250.852 FROM MIGRAD    STATUS=CONVERGED     168 CALLS         169 TOTAL\n",
      "                     EDM=3.23024e-09    STRATEGY= 1      ERROR MATRIX ACCURATE \n",
      "  EXT PARAMETER                                   STEP         FIRST   \n",
      "  NO.   NAME      VALUE            ERROR          SIZE      DERIVATIVE \n",
      "   1  Norm_muons   1.72547e-01   1.26941e-03   7.42819e-06  -6.12551e-02\n",
      "   2  Norm_gammas   8.07595e-01   1.13196e-02   6.86886e-05  -5.33415e-03\n",
      "   3  Norm_Neutr   3.99450e-01   9.29006e-03   5.50100e-05  -5.50332e-03\n",
      "   4  Mean_gauss   3.06607e+03   5.85930e+00   1.27733e-04   2.30171e-03\n",
      "   5  Sigma_gauss   2.66855e+02   5.85951e+00   3.29410e-02  -7.23602e-06\n",
      "\n",
      "Chi2/ndf = 250.852/105 = 2.38906\n",
      "\n",
      "Total N_ev in peak region = 253.492 ev/d +- 2.72085 ev/d\n",
      "N_ev in neutron peak from fit = 144.291 ev/d +- 3.35579 ev/d (error from normalization error only!)\n",
      "N_ev in background = 102.889 ev/d +- 1.11031 ev/d\n",
      "N_ev in neutron peak from data - bckg = 150.603 ev/d +- 2.93868 ev/d\n"
     ]
    }
   ],
   "source": [
    "SignalandBackground_9inch_DC->SetParameter(3, 3000);\n",
    "SignalandBackground_9inch_DC->SetParLimits(3, 2800, 3500);\n",
    "SignalandBackground_9inch_DC->SetParameter(2, 1);\n",
    "\n",
    "if (SignalandBackground_9inch_DC->GetParameter(4)==0) SignalandBackground_9inch_DC->SetParameter(4, Resol_NP);\n",
    "\n",
    "\n",
    "TFitResultPtr r = hCal_DC_9inch->Fit(SignalandBackground_9inch_DC, \"S0\", \"\", 600, 6000);\n",
    "\n",
    "\n",
    "TMatrixD CovMat_DC = r->GetCovarianceMatrix();\n",
    "\n",
    "//CovMat_DC.Print();\n",
    "\n",
    "Double_t err_norm_NP_DC = sqrt(CovMat_DC(2,2));\n",
    "Double_t norm_NP_DC = SignalandBackground_9inch_DC->GetParameter(2);\n",
    "\n",
    "Double_t err_norm_Bkg_DC = sqrt(CovMat_DC(0,0)+CovMat_DC(1,1)+2*CovMat_DC(0,1));\n",
    "Double_t norm_Bckg_DC = SignalandBackground_9inch_DC->GetParameter(0)+SignalandBackground_9inch_DC->GetParameter(1);\n",
    "\n",
    "Double_t Norm_mu_9_DC = SignalandBackground_9inch_DC->GetParameter(0);\n",
    "Double_t err_Norm_mu_9_DC = SignalandBackground_9inch_DC->GetParError(0);\n",
    "\n",
    "Sum_background_9inch_DC->SetParameter(0, SignalandBackground_9inch_DC->GetParameter(0));\n",
    "Sum_background_9inch_DC->SetParameter(1, SignalandBackground_9inch_DC->GetParameter(1));\n",
    "\n",
    "Muon_background_9inch_DC->SetParameter(0, SignalandBackground_9inch_DC->GetParameter(0));\n",
    "Gamma_background_9inch->SetParameter(0, SignalandBackground_9inch_DC->GetParameter(1));\n",
    "\n",
    "Neutron_signal_9inch->SetParameter(0, SignalandBackground_9inch_DC->GetParameter(2));\n",
    "Neutron_signal_9inch->SetParameter(1, SignalandBackground_9inch_DC->GetParameter(3));\n",
    "Neutron_signal_9inch->SetParameter(2, SignalandBackground_9inch_DC->GetParameter(4));\n",
    "\n",
    "double Emin=2500;\n",
    "double Emax = 3900;\n",
    "\n",
    "Double_t N_ev_tot_DC = SignalandBackground_9inch_DC->Integral(Emin, Emax);\n",
    "Double_t N_ev_NP_DC = Neutron_signal_9inch->Integral(Emin, Emax);\n",
    "Double_t err_N_ev_NP_DC = (err_norm_NP_DC/norm_NP_DC)*Neutron_signal_9inch->Integral(Emin, Emax);\n",
    "Double_t N_ev_BKG_DC = Sum_background_9inch_DC->Integral(Emin, Emax);\n",
    "Double_t err_N_ev_BKG_DC = (err_norm_Bkg_DC/norm_Bckg_DC)*Sum_background_9inch_DC->Integral(Emin, Emax);\n",
    "\n",
    "Double_t err_N_ev_data_DC;\n",
    "Double_t N_ev_data_DC = hCal_DC_9inch->IntegralAndError(hCal_DC_9inch->FindBin(Emin), hCal_DC_9inch->FindBin(Emax), err_N_ev_data_DC, \"width\");\n",
    "\n",
    "Double_t err_N_ev_data_NP_DC = sqrt(err_N_ev_data_DC*err_N_ev_data_DC + err_N_ev_BKG_DC*err_N_ev_BKG_DC);\n",
    "Double_t N_ev_data_NP_DC = N_ev_data_DC-N_ev_BKG_DC;\n",
    "\n",
    "cout<<\"\\nChi2/ndf = \"<<SignalandBackground_9inch_DC->GetChisquare()<<\"/\"<<SignalandBackground_9inch_DC->GetNDF()<<\" = \"<<SignalandBackground_9inch_DC->GetChisquare()/SignalandBackground_9inch_DC->GetNDF()<<endl;\n",
    "cout<<\"\\nTotal N_ev in peak region = \"<<N_ev_data_DC<<\" ev/d +- \"<<err_N_ev_data_DC<<\" ev/d\"<<endl;\n",
    "cout<<\"N_ev in neutron peak from fit = \"<<N_ev_NP_DC<<\" ev/d +- \"<<err_N_ev_NP_DC<<\" ev/d (error from normalization error only!)\"<<endl;\n",
    "cout<<\"N_ev in background = \"<<N_ev_BKG_DC<<\" ev/d +- \"<<err_N_ev_BKG_DC<<\" ev/d\"<<endl;\n",
    "cout<<\"N_ev in neutron peak from data - bckg = \"<<N_ev_data_NP_DC<<\" ev/d +- \"<<err_N_ev_data_NP_DC<<\" ev/d\"<<endl;\n",
    "\n",
    "SignalandBackground_9inch_VNS->FixParameter(4, SignalandBackground_9inch_DC->GetParameter(4)); //Fix the sigma value of the neutron peak"
   ]
  },
  {
   "cell_type": "code",
   "execution_count": 81,
   "id": "8897049e",
   "metadata": {},
   "outputs": [
    {
     "data": {
      "image/png": "[encoded data removed]",
      "text/plain": [
       "<IPython.core.display.Image object>"
      ]
     },
     "metadata": {},
     "output_type": "display_data"
    },
    {
     "name": "stderr",
     "output_type": "stream",
     "text": [
      "Info in <TCanvas::Print>: pdf file Figs/Finals/Fit_DC_9inch.pdf has been created\n"
     ]
    }
   ],
   "source": [
    "TCanvas* C = new TCanvas(\"cDC_9inch\", \"cDC_9inch\", 800, 700);\n",
    "C->Draw();\n",
    "TPad *p0 = new TPad(\"p0\",\"p0\",0.02,0.375,0.795,1.);\n",
    "p0->Draw();\n",
    "p0->cd();\n",
    "p0->SetLeftMargin(0.1);\n",
    "p0->SetRightMargin(0.03);\n",
    "p0->SetBottomMargin(0.1);\n",
    "p0->SetTopMargin(0.02);\n",
    "\n",
    "p0->SetLogy();\n",
    "hCal_DC_9inch->Draw(\"\");\n",
    "hCal_DC_9inch->GetXaxis()->SetTitleOffset(1.1);\n",
    "hCal_DC_9inch->GetYaxis()->SetTitleOffset(1.2);\n",
    "hCal_DC_9inch->SetTitle(0);\n",
    "SignalandBackground_9inch_DC->SetLineColor(kBlack);\n",
    "hCal_DC_9inch->GetYaxis()->SetRangeUser(1e-4, 10);\n",
    "Sum_background_9inch_DC->SetLineColor(kBlue);\n",
    "Sum_background_9inch_DC->Draw(\"SAME\");\n",
    "Muon_background_9inch_DC->SetLineColor(kOrange);\n",
    "Gamma_background_9inch->SetLineColor(kRed);\n",
    "Muon_background_9inch_DC->Draw(\"SAME\");\n",
    "Gamma_background_9inch->Draw(\"SAME\");\n",
    "Gamma_background_9inch->SetLineStyle(6);\n",
    "Sum_background_9inch_DC->Draw(\"SAME\");\n",
    "SignalandBackground_9inch_DC->Draw(\"SAME\");\n",
    "Neutron_signal_9inch->SetLineColor(kMagenta+1);\n",
    "Neutron_signal_9inch->SetLineStyle(2);\n",
    "Neutron_signal_9inch->Draw(\"SAME\");\n",
    "Sum_background_9inch_DC->SetLineStyle(4);\n",
    "Sum_background_9inch_DC->SetLineColor(kCyan+2);\n",
    "Sum_background_9inch_DC->Draw(\"SAME\");\n",
    "\n",
    "TLegend* leg0 = new TLegend(0.7, 0.75, 0.95, 0.95);\n",
    "leg0->AddEntry(Sum_background_9inch_DC, \"Background\", \"l\");\n",
    "leg0->AddEntry(SignalandBackground_9inch_DC, \"Signal and Bckg\", \"l\");\n",
    "leg0->AddEntry(Neutron_signal_9inch, \"Neutron Signal\", \"l\");\n",
    "leg0->AddEntry(Muon_background_9inch_DC, \"Muon Bckg\", \"l\");\n",
    "leg0->AddEntry(Gamma_background_9inch, \"Gamma Bckg\",\"l\");\n",
    "leg0->Draw(\"SAME\");\n",
    "leg0->SetLineWidth(0);\n",
    "\n",
    "//TCanvas* C2 = new TCanvas(\"cRes_DC_9inch\", \"cRes_DC_9inch\", 1.175*C->GetWw(), 0.6*C->GetWh());\n",
    "//C2->Draw();\n",
    "C->cd();\n",
    "TPad *p1 = new TPad(\"p1\",\"p1\",0.,0.01,0.795,0.375);\n",
    "p1->Draw();\n",
    "p1->cd();\n",
    "p1->SetLeftMargin(0.12);\n",
    "p1->SetRightMargin(0.03);\n",
    "p1->SetBottomMargin(0.2);\n",
    "p1->SetTopMargin(0.04);\n",
    "\n",
    "histosRes_DC_9inch = Residuals_vec(hCal_DC_9inch, SignalandBackground_9inch_DC, 600, 6000, true);\n",
    "hRes_DC_9inch=histosRes_DC_9inch[0];\n",
    "hRes_DC_9inch->GetYaxis()->SetTitle(\"Residuals [%]\");\n",
    "hRes_DC_9inch->GetYaxis()->SetTitleOffset(0.65);\n",
    "hRes_DC_9inch->GetYaxis()->SetTitleSize(1.8*hCal_DC_9inch->GetYaxis()->GetTitleSize());\n",
    "hRes_DC_9inch->GetXaxis()->SetTitleSize(1.8*hCal_DC_9inch->GetXaxis()->GetTitleSize());\n",
    "hRes_DC_9inch->GetYaxis()->SetLabelSize(1.8*hCal_DC_9inch->GetYaxis()->GetLabelSize());\n",
    "hRes_DC_9inch->GetXaxis()->SetLabelSize(1.8*hCal_DC_9inch->GetXaxis()->GetLabelSize());\n",
    "hRes_DC_9inch->Draw(\"\");\n",
    "\n",
    "h_10pc = (TH1D*) hRes_DC_9inch->Clone();\n",
    "for (int i =1; i<=h_10pc->GetNbinsX(); i++){\n",
    "    h_10pc->SetBinContent(i, 0);\n",
    "    h_10pc->SetBinError(i, 10);\n",
    "}\n",
    "h_10pc->SetLineColorAlpha(kOrange+1, 0.2);\n",
    "h_10pc->SetMarkerColorAlpha(kOrange+1, 0.2);\n",
    "h_10pc->SetFillColorAlpha(kOrange+1, 0.2);\n",
    "h_10pc->Draw(\"E3SAME\");\n",
    "\n",
    "TLegend* leg = new TLegend(0.16, 0.25, 0.3, 0.35);\n",
    "leg->AddEntry(h_10pc, \"#pm 10%\", \"f\");\n",
    "leg->Draw(\"SAME\");\n",
    "leg->SetLineWidth(0);\n",
    "\n",
    "\n",
    "C->cd();\n",
    "TPad *p2 = new TPad(\"p2\",\"p2\",0.795,0.01,1.,0.375);\n",
    "p2->Draw();\n",
    "p2->cd();\n",
    "p2->SetLeftMargin(0.15);\n",
    "p2->SetBottomMargin(0.2);\n",
    "p2->SetTopMargin(0.04);\n",
    "\n",
    "hRedRes_DC_9inch=histosRes_DC_9inch[1];\n",
    "hRedRes_DC_9inch->Draw(\"\");\n",
    "hRedRes_DC_9inch->GetXaxis()->SetTitle(\"Residuals [#sigma]\");\n",
    "hRedRes_DC_9inch->GetYaxis()->SetTitleSize(3.*hCal_DC_9inch->GetYaxis()->GetTitleSize());\n",
    "hRedRes_DC_9inch->GetXaxis()->SetTitleSize(2.7*hCal_DC_9inch->GetXaxis()->GetTitleSize());\n",
    "hRedRes_DC_9inch->GetXaxis()->SetTitleOffset(0.7);\n",
    "hRedRes_DC_9inch->GetYaxis()->SetLabelSize(2.7*hCal_DC_9inch->GetYaxis()->GetLabelSize());\n",
    "hRedRes_DC_9inch->GetXaxis()->SetLabelSize(2.7*hCal_DC_9inch->GetXaxis()->GetLabelSize());\n",
    "hRedRes_DC_9inch->GetXaxis()->SetNdivisions(5);\n",
    "\n",
    "C->SaveAs(\"Figs/Finals/Fit_DC_9inch.pdf\");"
   ]
  },
  {
   "cell_type": "raw",
   "id": "76de457b",
   "metadata": {},
   "source": [
    "TCanvas* C11 = new TCanvas();\n",
    "C11->Draw();\n",
    "C11->SetLogy();\n",
    "hCal_DC_9inch->DrawClone(\"\");\n",
    "//h_SimuMuons_9inch->Scale(hCal_DC_9inch->GetBinContent(hCal_DC_9inch->FindBin(2000))/h_SimuMuons_9inch->GetBinContent(h_SimuMuons_9inch->FindBin(2000)));\n",
    "h_SimuMuons_9inch->Draw(\"same\");\n",
    "\n",
    "TLegend * leg = new TLegend(0.89, 0.89);\n",
    "leg->AddEntry(hCal_DC_9inch, \"Data\");\n",
    "leg->AddEntry(h_SimuMuons_9inch, \"Simu (scaled)\");\n",
    "leg->Draw(\"SAME\");\n",
    "leg->SetLineWidth(0);"
   ]
  },
  {
   "cell_type": "markdown",
   "id": "1c8d0587",
   "metadata": {},
   "source": [
    "Good agreement in shape of the fit, but the muon peak seems to not be exactly at the same position as in the simulation... (quenching?, not good calibration?) "
   ]
  },
  {
   "cell_type": "markdown",
   "id": "8305b6bf",
   "metadata": {},
   "source": [
    "### VNS\n",
    "Fit of the data in the VNS. <br>\n",
    "For the VNS, the width of the neutron peak is fixed."
   ]
  },
  {
   "cell_type": "code",
   "execution_count": 82,
   "id": "62e13a13",
   "metadata": {},
   "outputs": [
    {
     "name": "stdout",
     "output_type": "stream",
     "text": [
      " FCN=136.717 FROM MIGRAD    STATUS=CONVERGED     162 CALLS         163 TOTAL\n",
      "                     EDM=8.9659e-08    STRATEGY= 1      ERROR MATRIX ACCURATE \n",
      "  EXT PARAMETER                                   STEP         FIRST   \n",
      "  NO.   NAME      VALUE            ERROR          SIZE      DERIVATIVE \n",
      "   1  Norm_muons   7.90684e-02   8.88737e-04   3.50105e-06   3.68955e-01\n",
      "   2  Norm_gammas   1.00160e+00   1.21623e-02   4.99777e-05   3.50760e-02\n",
      "   3  Norm_Neutr   2.74292e-02   2.93855e-03   1.51637e-05  -7.28498e-02\n",
      "   4  Mean_gauss   3.04730e+03   3.48018e+01   5.77086e-04  -2.41294e-03\n",
      "   5  Sigma_gauss   2.66855e+02     fixed    \n",
      " FCN=136.717 FROM MIGRAD    STATUS=CONVERGED      49 CALLS          50 TOTAL\n",
      "                     EDM=2.54124e-09    STRATEGY= 1      ERROR MATRIX ACCURATE \n",
      "  EXT PARAMETER                                   STEP         FIRST   \n",
      "  NO.   NAME      VALUE            ERROR          SIZE      DERIVATIVE \n",
      "   1  Norm_muons   7.90684e-02   8.88737e-04   3.50105e-06  -8.14268e-02\n",
      "   2  Norm_gammas   1.00160e+00   1.21623e-02   4.99777e-05  -2.96802e-03\n",
      "   3  Norm_Neutr   2.74293e-02   2.93855e-03   1.51646e-05  -2.19957e-02\n",
      "   4  Mean_gauss   3.04730e+03   3.48017e+01   5.77238e-04  -3.17835e-04\n",
      "   5  Sigma_gauss   2.66855e+02     fixed    \n",
      "\n",
      "Chi2/ndf = 136.717/103 = 1.32735\n",
      "\n",
      "Total N_ev in peak region = 57.796 ev/d +- 1.11668 ev/d\n",
      "N_ev in neutron peak from fit = 9.87792 ev/d +- 1.05824 ev/d (error from normalization error only!)\n",
      "N_ev in background = 47.9181 ev/d +- 0.512606 ev/d\n",
      "N_ev in neutron peak from data - bckg = 12.0139 ev/d +- 1.22872 ev/d\n"
     ]
    }
   ],
   "source": [
    "SignalandBackground_9inch_VNS->SetParameter(3, 3000);\n",
    "SignalandBackground_9inch_VNS->SetParLimits(3, 2800, 3500);\n",
    "SignalandBackground_9inch_VNS->SetParameter(2, 1);\n",
    "\n",
    "TFitResultPtr r_9_VNS = hCal_VNS_9inch->Fit(SignalandBackground_9inch_VNS, \"SR0\", \"\", Emin_fit, Emax_fit);\n",
    "r_9_VNS = hCal_VNS_9inch->Fit(SignalandBackground_9inch_VNS, \"SR0\", \"\", Emin_fit, Emax_fit);\n",
    "\n",
    "TMatrixD CovMat_VNS = r_9_VNS->GetCovarianceMatrix();\n",
    "\n",
    "//CovMat_VNS.Print();\n",
    "\n",
    "Double_t err_norm_NP_VNS = sqrt(CovMat_VNS(2,2));\n",
    "Double_t norm_NP_VNS = SignalandBackground_9inch_VNS->GetParameter(2);\n",
    "\n",
    "Double_t err_norm_Bkg_VNS = sqrt(CovMat_VNS(0,0)+CovMat_VNS(1,1)+2*CovMat_VNS(0,1));\n",
    "Double_t norm_Bckg_VNS = SignalandBackground_9inch_VNS->GetParameter(0)+SignalandBackground_9inch_VNS->GetParameter(1);\n",
    "\n",
    "Double_t Norm_mu_9_VNS = SignalandBackground_9inch_VNS->GetParameter(0);\n",
    "Double_t err_Norm_mu_9_VNS = SignalandBackground_9inch_VNS->GetParError(0);\n",
    "\n",
    "Sum_background_9inch_VNS->SetParameter(0, SignalandBackground_9inch_VNS->GetParameter(0));\n",
    "Sum_background_9inch_VNS->SetParameter(1, SignalandBackground_9inch_VNS->GetParameter(1));\n",
    "\n",
    "Muon_background_9inch_VNS->SetParameter(0, SignalandBackground_9inch_VNS->GetParameter(0));\n",
    "Gamma_background_9inch->SetParameter(0, SignalandBackground_9inch_VNS->GetParameter(1));\n",
    "\n",
    "Neutron_signal_9inch->SetParameter(0, SignalandBackground_9inch_VNS->GetParameter(2));\n",
    "Neutron_signal_9inch->SetParameter(1, SignalandBackground_9inch_VNS->GetParameter(3));\n",
    "Neutron_signal_9inch->SetParameter(2, SignalandBackground_9inch_VNS->GetParameter(4));\n",
    "\n",
    "\n",
    "Double_t N_ev_tot_VNS = SignalandBackground_9inch_VNS->Integral(Emin, Emax);\n",
    "Double_t N_ev_NP_VNS = Neutron_signal_9inch->Integral(Emin, Emax);\n",
    "Double_t err_N_ev_NP_VNS = (err_norm_NP_VNS/norm_NP_VNS)*Neutron_signal_9inch->Integral(Emin, Emax);\n",
    "Double_t N_ev_BKG_VNS = Sum_background_9inch_VNS->Integral(Emin, Emax);\n",
    "Double_t err_N_ev_BKG_VNS = (err_norm_Bkg_VNS/norm_Bckg_VNS)*Sum_background_9inch_VNS->Integral(Emin, Emax);\n",
    "\n",
    "Double_t err_N_ev_data_VNS;\n",
    "Double_t N_ev_data_VNS = hCal_VNS_9inch->IntegralAndError(hCal_VNS_9inch->FindBin(Emin), hCal_VNS_9inch->FindBin(Emax), err_N_ev_data_VNS, \"width\");\n",
    "\n",
    "Double_t err_N_ev_data_NP_VNS = sqrt(err_N_ev_data_VNS*err_N_ev_data_VNS + err_N_ev_BKG_VNS*err_N_ev_BKG_VNS);\n",
    "Double_t N_ev_data_NP_VNS = N_ev_data_VNS-N_ev_BKG_VNS;\n",
    "\n",
    "cout<<\"\\nChi2/ndf = \"<<SignalandBackground_9inch_VNS->GetChisquare()<<\"/\"<<SignalandBackground_9inch_VNS->GetNDF()<<\" = \"<<SignalandBackground_9inch_VNS->GetChisquare()/SignalandBackground_9inch_VNS->GetNDF()<<endl;\n",
    "cout<<\"\\nTotal N_ev in peak region = \"<<N_ev_tot_VNS<<\" ev/d +- \"<<err_N_ev_data_VNS<<\" ev/d\"<<endl;\n",
    "cout<<\"N_ev in neutron peak from fit = \"<<N_ev_NP_VNS<<\" ev/d +- \"<<err_N_ev_NP_VNS<<\" ev/d (error from normalization error only!)\"<<endl;\n",
    "cout<<\"N_ev in background = \"<<N_ev_BKG_VNS<<\" ev/d +- \"<<err_N_ev_BKG_VNS<<\" ev/d\"<<endl;\n",
    "cout<<\"N_ev in neutron peak from data - bckg = \"<<N_ev_data_NP_VNS<<\" ev/d +- \"<<err_N_ev_data_NP_VNS<<\" ev/d\"<<endl;"
   ]
  },
  {
   "cell_type": "code",
   "execution_count": 83,
   "id": "f03b4546",
   "metadata": {},
   "outputs": [
    {
     "data": {
      "image/png": "[encoded data removed]",
      "text/plain": [
       "<IPython.core.display.Image object>"
      ]
     },
     "metadata": {},
     "output_type": "display_data"
    },
    {
     "name": "stderr",
     "output_type": "stream",
     "text": [
      "Warning in <TFile::Append>: Replacing existing TH1: Reduced_res_ (Potential memory leak).\n",
      "Info in <TCanvas::Print>: pdf file Figs/Finals/Fit_VNS_9inch.pdf has been created\n"
     ]
    }
   ],
   "source": [
    "TCanvas* C = new TCanvas(\"cVNS_9inch\", \"cVNS_9inch\", 800, 700);\n",
    "C->Draw();\n",
    "TPad *p0 = new TPad(\"p0\",\"p0\",0.02,0.375,0.795,1.);\n",
    "p0->Draw();\n",
    "p0->cd();\n",
    "p0->SetLeftMargin(0.1);\n",
    "p0->SetRightMargin(0.03);\n",
    "p0->SetBottomMargin(0.1);\n",
    "p0->SetTopMargin(0.02);\n",
    "\n",
    "p0->SetLogy();\n",
    "hCal_VNS_9inch->Draw(\"\");\n",
    "hCal_VNS_9inch->GetXaxis()->SetTitleOffset(1.1);\n",
    "hCal_VNS_9inch->GetYaxis()->SetTitleOffset(1.2);\n",
    "hCal_VNS_9inch->SetTitle(0);\n",
    "hCal_VNS_9inch->GetYaxis()->SetRangeUser(1e-4, 10);\n",
    "SignalandBackground_9inch_VNS->SetLineColor(kBlack);\n",
    "Sum_background_9inch_VNS->SetLineColor(kBlue);\n",
    "Sum_background_9inch_VNS->Draw(\"SAME\");\n",
    "Muon_background_9inch_VNS->SetLineColor(kOrange);\n",
    "Gamma_background_9inch->SetLineColor(kRed);\n",
    "Muon_background_9inch_VNS->Draw(\"SAME\");\n",
    "Gamma_background_9inch->Draw(\"SAME\");\n",
    "Gamma_background_9inch->SetLineStyle(6);\n",
    "Sum_background_9inch_VNS->Draw(\"SAME\");\n",
    "SignalandBackground_9inch_VNS->Draw(\"SAME\");\n",
    "Neutron_signal_9inch->SetLineColor(kMagenta+1);\n",
    "Neutron_signal_9inch->SetLineStyle(2);\n",
    "Neutron_signal_9inch->Draw(\"SAME\");\n",
    "Sum_background_9inch_VNS->SetLineStyle(4);\n",
    "Sum_background_9inch_VNS->SetLineColor(kCyan+2);\n",
    "Sum_background_9inch_VNS->Draw(\"SAME\");\n",
    "\n",
    "TLegend* leg0 = new TLegend(0.7, 0.75, 0.95, 0.95);\n",
    "leg0->AddEntry(Sum_background_9inch_VNS, \"Background\", \"l\");\n",
    "leg0->AddEntry(SignalandBackground_9inch_VNS, \"Signal and Bckg\", \"l\");\n",
    "leg0->AddEntry(Neutron_signal_9inch, \"Neutron Signal\", \"l\");\n",
    "leg0->AddEntry(Muon_background_9inch_VNS, \"Muon Bckg\", \"l\");\n",
    "leg0->AddEntry(Gamma_background_9inch, \"Gamma Bckg\", \"l\");\n",
    "leg0->Draw(\"SAME\");\n",
    "leg0->SetLineWidth(0);\n",
    "\n",
    "C->cd();\n",
    "TPad *p1 = new TPad(\"p1\",\"p1\",0.,0.02,0.795,0.375);\n",
    "p1->Draw();\n",
    "p1->cd();\n",
    "p1->SetLeftMargin(0.12);\n",
    "p1->SetRightMargin(0.03);\n",
    "p1->SetBottomMargin(0.2);\n",
    "p1->SetTopMargin(0.04);\n",
    "\n",
    "histosRes_VNS_9inch = Residuals_vec(hCal_VNS_9inch, SignalandBackground_9inch_VNS, Emin_fit, Emax_fit, true);\n",
    "hRes_VNS_9inch=histosRes_VNS_9inch[0];\n",
    "hRes_VNS_9inch->GetYaxis()->SetTitle(\"Residuals [%]\");\n",
    "hRes_VNS_9inch->GetYaxis()->SetTitleOffset(0.65);\n",
    "hRes_VNS_9inch->GetYaxis()->SetTitleSize(1.8*hCal_VNS_9inch->GetYaxis()->GetTitleSize());\n",
    "hRes_VNS_9inch->GetXaxis()->SetTitleSize(1.8*hCal_VNS_9inch->GetXaxis()->GetTitleSize());\n",
    "hRes_VNS_9inch->GetYaxis()->SetLabelSize(1.8*hCal_VNS_9inch->GetYaxis()->GetLabelSize());\n",
    "hRes_VNS_9inch->GetXaxis()->SetLabelSize(1.8*hCal_VNS_9inch->GetXaxis()->GetLabelSize());\n",
    "hRes_VNS_9inch->Draw(\"\");\n",
    "\n",
    "h_10pc->Draw(\"E3SAME\");\n",
    "\n",
    "TLegend* leg = new TLegend(0.16, 0.25, 0.3, 0.35);\n",
    "leg->AddEntry(h_10pc, \"#pm 10%\", \"f\");\n",
    "leg->Draw(\"SAME\");\n",
    "leg->SetLineWidth(0);\n",
    "\n",
    "\n",
    "C->cd();\n",
    "TPad *p2 = new TPad(\"p2\",\"p2\",0.795,0.02,1.,0.375);\n",
    "p2->Draw();\n",
    "p2->cd();\n",
    "p2->SetLeftMargin(0.15);\n",
    "p2->SetBottomMargin(0.2);\n",
    "p2->SetTopMargin(0.04);\n",
    "\n",
    "hRedRes_VNS_9inch=histosRes_VNS_9inch[1];\n",
    "hRedRes_VNS_9inch->Draw(\"\");\n",
    "hRedRes_VNS_9inch->GetXaxis()->SetTitle(\"Residuals [#sigma]\");\n",
    "hRedRes_VNS_9inch->GetYaxis()->SetTitleSize(3.*hCal_VNS_9inch->GetYaxis()->GetTitleSize());\n",
    "hRedRes_VNS_9inch->GetXaxis()->SetTitleSize(2.7*hCal_VNS_9inch->GetXaxis()->GetTitleSize());\n",
    "hRedRes_VNS_9inch->GetXaxis()->SetTitleOffset(0.7);\n",
    "hRedRes_VNS_9inch->GetYaxis()->SetLabelSize(2.7*hCal_VNS_9inch->GetYaxis()->GetLabelSize());\n",
    "hRedRes_VNS_9inch->GetXaxis()->SetLabelSize(2.7*hCal_VNS_9inch->GetXaxis()->GetLabelSize());\n",
    "hRedRes_VNS_9inch->GetXaxis()->SetNdivisions(5);\n",
    "\n",
    "C->SaveAs(\"Figs/Finals/Fit_VNS_9inch.pdf\");"
   ]
  },
  {
   "cell_type": "markdown",
   "id": "8586d025",
   "metadata": {},
   "source": [
    "# Analysis of the 8 inches sphere"
   ]
  },
  {
   "cell_type": "markdown",
   "id": "f8d33cac",
   "metadata": {},
   "source": [
    "An analogous procedure is applied to the 8 inches sphere data"
   ]
  },
  {
   "cell_type": "markdown",
   "id": "805dc53a",
   "metadata": {},
   "source": [
    "## Calibration"
   ]
  },
  {
   "cell_type": "markdown",
   "id": "a9a65351",
   "metadata": {},
   "source": [
    "The neutron capture peak positions with the 8 inches and the 9 inches sphere was noticed to not be exactly the same. So another calibration factor is defined for the 8 inches data. "
   ]
  },
  {
   "cell_type": "code",
   "execution_count": 84,
   "id": "59091205",
   "metadata": {},
   "outputs": [
    {
     "name": "stdout",
     "output_type": "stream",
     "text": [
      "\n",
      "*******************************************************\n",
      "Measures@TUM/03-14_Cf252_LMU_BS-A-08_2h.dat\n"
     ]
    }
   ],
   "source": [
    "TH1D* h_Cal_8inch = Put_data_in_histo(\"Measures@TUM/03-14_Cf252_LMU_BS-A-08_2h.dat\", 2*24*3600., \"8inch with Cf252 n source\");\n",
    "h_Cal_8inch->Rebin(4);\n",
    "h_Cal_8inch->Scale(1/4.);"
   ]
  },
  {
   "cell_type": "markdown",
   "id": "42d35564",
   "metadata": {},
   "source": [
    "h_Cal_8inch->Fit(\"Neutron_peak_MCA\", \"R\");\n",
    "\n",
    "Double_t Cal_factor_8inch = 3500./(Neutron_peak_Gaus_MCA->GetParameter(1)); //Neutron peak assumed to be at 3500keVee\n",
    "Double_t err_Cal_factor_8inch = (Neutron_peak_Gaus_MCA->GetParError(1))/(Neutron_peak_Gaus_MCA->GetParameter(1))*Cal_factor_8inch; //Neutron peak assumed to be at 3500keVee\n",
    "\n",
    "cout<<\"\\nCalibration for the 9inch sphere = \"<<Cal_factor<<\" +- \"<< err_Cal_factor<<\" keV/MCA\"<<endl;\n",
    "cout<<\"Calibration for the 8inch sphere = \"<<Cal_factor_8inch<<\" +- \"<< err_Cal_factor_8inch<<\" keV/MCA\"<<endl;"
   ]
  },
  {
   "cell_type": "markdown",
   "id": "98c59b9d",
   "metadata": {},
   "source": [
    "The calibration factors seems not so differents, but are still not compatible => Check if it is expected from simulation?"
   ]
  },
  {
   "cell_type": "markdown",
   "id": "0f7e1acf",
   "metadata": {},
   "source": [
    "TCanvas* C8 = new TCanvas();\n",
    "C8->Draw();\n",
    "C8->SetLogy();\n",
    "h_Cal_8inch->Draw();"
   ]
  },
  {
   "cell_type": "markdown",
   "id": "55219209",
   "metadata": {},
   "source": [
    "## Simulation and background model"
   ]
  },
  {
   "cell_type": "markdown",
   "id": "68d39515",
   "metadata": {},
   "source": [
    "### Gammas Background"
   ]
  },
  {
   "cell_type": "code",
   "execution_count": 85,
   "id": "67f3fb1a",
   "metadata": {},
   "outputs": [
    {
     "name": "stdout",
     "output_type": "stream",
     "text": [
      "  Primary Entries:         1790299\n",
      "  Secondary Entries:       1806637\n",
      "  Generated primaries:  12000000000\n",
      "  Equivalent time:      2272727 s (26.305 d)\n",
      " Nb of primary analysed: 1790299\n",
      " Nb of events quenched : 0\n"
     ]
    }
   ],
   "source": [
    "TH1D* h_SimuGamma_8inch = Put_simu_in_histo(\"Simulations/Env_Gammas/BS_D08/Analyzer_T_run01-06.root\", \"8 inches environmental gammas\", nbins, hEmin, hEmax, 1.20e10, 3.3, QF_neutrons, MVthr_DC, true, Resol);"
   ]
  },
  {
   "cell_type": "markdown",
   "id": "ad1700fd",
   "metadata": {},
   "source": [
    "Gamma background with the two exponentials"
   ]
  },
  {
   "cell_type": "code",
   "execution_count": 86,
   "id": "7f6455e3",
   "metadata": {},
   "outputs": [
    {
     "name": "stdout",
     "output_type": "stream",
     "text": [
      " FCN=116.692 FROM MIGRAD    STATUS=CONVERGED     429 CALLS         430 TOTAL\n",
      "                     EDM=3.65597e-07    STRATEGY= 1      ERROR MATRIX ACCURATE \n",
      "  EXT PARAMETER                                   STEP         FIRST   \n",
      "  NO.   NAME      VALUE            ERROR          SIZE      DERIVATIVE \n",
      "   1  Norm_expo1   1.35341e+00   9.45360e-03   4.79930e-05  -1.19672e-03\n",
      "   2  Norm_expo2   1.21264e+00   2.25224e-02   9.96588e-05  -1.95991e-02\n",
      "   3  pos cdf      1.11727e+03   4.12167e+01   3.21379e-04   8.50068e-03\n",
      "   4  sigma cdf    8.01562e+01   3.51071e+01   1.31641e-03  -1.26803e-03\n"
     ]
    }
   ],
   "source": [
    "TF1* Gamma_shape_8inch = new TF1(\"Gamma_shape_8inch\", Gammas, 500, 4000, 4);\n",
    "Gamma_shape_8inch->SetParNames(\"Norm_expo1\", \"Norm_expo2\", \"pos cdf\", \"sigma cdf\");\n",
    "Gamma_shape_8inch->SetParameter(2, 1200);\n",
    "Gamma_shape_8inch->SetParLimits(2, 500, 1500);\n",
    "Gamma_shape_8inch->SetParameter(3, 200);\n",
    "Gamma_shape_8inch->SetParLimits(3, 50, 500);\n",
    "h_SimuGamma_8inch->Fit(\"Gamma_shape_8inch\", \"\", \"\", 500, 4000);\n",
    "\n",
    "Gamma_shape_8inch->FixParameter(0, Gamma_shape_8inch->GetParameter(0));\n",
    "Gamma_shape_8inch->FixParameter(1, Gamma_shape_8inch->GetParameter(1));\n",
    "Gamma_shape_8inch->FixParameter(2, Gamma_shape_8inch->GetParameter(2));\n",
    "Gamma_shape_8inch->FixParameter(3, Gamma_shape_8inch->GetParameter(3));"
   ]
  },
  {
   "cell_type": "code",
   "execution_count": 87,
   "id": "47d38830",
   "metadata": {},
   "outputs": [
    {
     "data": {
      "image/png": "[encoded data removed]",
      "text/plain": [
       "<IPython.core.display.Image object>"
      ]
     },
     "metadata": {},
     "output_type": "display_data"
    },
    {
     "name": "stderr",
     "output_type": "stream",
     "text": [
      "Info in <TCanvas::Print>: png file /Users/cg264002/research/Redaction_These/Figures/Chap3/Neutrons/Gammas_8inch.png has been created\n"
     ]
    }
   ],
   "source": [
    "TCanvas* C = new TCanvas();\n",
    "C->Draw();\n",
    "C->SetLogy();\n",
    "gPad->SetLeftMargin(0.1);\n",
    "gPad->SetRightMargin(0.03);\n",
    "gPad->SetBottomMargin(0.1);\n",
    "gPad->SetTopMargin(0.02);\n",
    "h_SimuGamma_8inch->Draw();\n",
    "h_SimuGamma_8inch->SetTitle(\"\");\n",
    "C->SaveAs(\"/Users/cg264002/research/Redaction_These/Figures/Chap3/Neutrons/Gammas_8inch.png\");"
   ]
  },
  {
   "cell_type": "markdown",
   "id": "7bc2308a",
   "metadata": {},
   "source": [
    "### Muons background"
   ]
  },
  {
   "cell_type": "code",
   "execution_count": 88,
   "id": "11f515f5",
   "metadata": {},
   "outputs": [
    {
     "name": "stdout",
     "output_type": "stream",
     "text": [
      "  Primary Entries:          502660\n",
      "  Secondary Entries:        567025\n",
      "  Generated primaries:  80000000\n",
      "  Equivalent time:      2631579 s (30.458 d)\n",
      " Nb of primary analysed: 502660\n",
      " Nb of events quenched : 13\n"
     ]
    }
   ],
   "source": [
    "TH1D* h_SimuMuons_8inch_DC = Put_simu_in_histo(\"Simulations/Atm_Muons/BS_D08/Analyzer_T_run01-12.root\", \"8 inches atmospheric muons DC\", nbins, hEmin, hEmax, 8e7, 0.019, QF_neutrons, MVthr_DC, true, Resol);"
   ]
  },
  {
   "cell_type": "code",
   "execution_count": 89,
   "id": "4ceee045",
   "metadata": {},
   "outputs": [
    {
     "name": "stdout",
     "output_type": "stream",
     "text": [
      "  Primary Entries:          502660\n",
      "  Secondary Entries:        567025\n",
      "  Generated primaries:  80000000\n",
      "  Equivalent time:      2631579 s (30.458 d)\n",
      " Nb of primary analysed: 502660\n",
      " Nb of events quenched : 13\n"
     ]
    }
   ],
   "source": [
    "TH1D* h_SimuMuons_8inch_VNS = Put_simu_in_histo(\"Simulations/Atm_Muons/BS_D08/Analyzer_T_run01-12.root\", \"8 inches atmospheric muons VNS\",nbins, hEmin, hEmax, 8e7, 0.019, QF_neutrons, MVthr_VNS, true, Resol);"
   ]
  },
  {
   "cell_type": "code",
   "execution_count": 90,
   "id": "c16526a3",
   "metadata": {},
   "outputs": [
    {
     "data": {
      "image/png": "[encoded data removed]",
      "text/plain": [
       "<IPython.core.display.Image object>"
      ]
     },
     "metadata": {},
     "output_type": "display_data"
    }
   ],
   "source": [
    "TCanvas *C = new TCanvas();\n",
    "C->Draw();\n",
    "h_SimuMuons_8inch_DC->SetLineColor(kBlue);\n",
    "h_SimuMuons_8inch_VNS->SetLineColor(kRed);\n",
    "h_SimuMuons_8inch_DC->Draw(\"HIST\");\n",
    "h_SimuMuons_8inch_VNS->Draw(\"HIST SAME\");"
   ]
  },
  {
   "cell_type": "markdown",
   "id": "3320af89",
   "metadata": {},
   "source": [
    "Muon Background: 1- Muons Peak"
   ]
  },
  {
   "cell_type": "code",
   "execution_count": 91,
   "id": "caaa40fa",
   "metadata": {},
   "outputs": [
    {
     "name": "stdout",
     "output_type": "stream",
     "text": [
      " FCN=95.4359 FROM MIGRAD    STATUS=CONVERGED     132 CALLS         133 TOTAL\n",
      "                     EDM=1.40709e-08    STRATEGY= 1      ERROR MATRIX ACCURATE \n",
      "  EXT PARAMETER                                   STEP         FIRST   \n",
      "  NO.   NAME      VALUE            ERROR          SIZE      DERIVATIVE \n",
      "   1  Amplitude_mu []   3.13539e+01   1.24622e-01   3.99568e-04   1.71189e-03\n",
      "   2  MPV [keVee]   1.06930e+03   2.43606e+00   9.83110e-03  -3.98399e-06\n",
      "   3  [Sigma [keVee]]   2.30613e+02   1.70537e+00   6.23924e-06   4.90940e-02\n"
     ]
    }
   ],
   "source": [
    "TF1* Muon_peak_8inch_DC = new TF1(\"Muon_peak_8inch_DC\", \"landau\", 800, 2000); //Landau in muon peak region\n",
    "Muon_peak_8inch_DC->SetParNames(\"Amplitude_mu []\", \"MPV [keVee]\", \"[Sigma [keVee]]\");\n",
    "Muon_peak_8inch_DC->SetParameters(1,1200,100);\n",
    "h_SimuMuons_8inch_DC->Fit(\"Muon_peak_8inch_DC\", \"R\");\n",
    "\n",
    "Muon_peak_8inch_DC->FixParameter(0,Muon_peak_8inch_DC->GetParameter(0));\n",
    "Muon_peak_8inch_DC->FixParameter(1,Muon_peak_8inch_DC->GetParameter(1));\n",
    "Muon_peak_8inch_DC->FixParameter(2,Muon_peak_8inch_DC->GetParameter(2));"
   ]
  },
  {
   "cell_type": "code",
   "execution_count": 92,
   "id": "79307904",
   "metadata": {},
   "outputs": [
    {
     "name": "stdout",
     "output_type": "stream",
     "text": [
      " FCN=116.228 FROM MIGRAD    STATUS=CONVERGED     131 CALLS         132 TOTAL\n",
      "                     EDM=6.98978e-09    STRATEGY= 1      ERROR MATRIX ACCURATE \n",
      "  EXT PARAMETER                                   STEP         FIRST   \n",
      "  NO.   NAME      VALUE            ERROR          SIZE      DERIVATIVE \n",
      "   1  Amplitude_mu []   3.12681e+01   1.24575e-01   4.39521e-04  -3.11881e-04\n",
      "   2  MPV [keVee]   1.07080e+03   2.42850e+00   1.08473e-02  -5.18894e-05\n",
      "   3  [Sigma [keVee]]   2.31197e+02   1.71782e+00   6.91477e-06  -1.09496e-02\n"
     ]
    }
   ],
   "source": [
    "TF1* Muon_peak_8inch_VNS = new TF1(\"Muon_peak_8inch_VNS\", \"landau\", 800, 2000); //Landau in muon peak region\n",
    "Muon_peak_8inch_VNS->SetParNames(\"Amplitude_mu []\", \"MPV [keVee]\", \"[Sigma [keVee]]\");\n",
    "Muon_peak_8inch_VNS->SetParameters(1,1200,100);\n",
    "h_SimuMuons_8inch_VNS->Fit(\"Muon_peak_8inch_VNS\", \"R\");\n",
    "\n",
    "Muon_peak_8inch_VNS->FixParameter(0,Muon_peak_8inch_VNS->GetParameter(0));\n",
    "Muon_peak_8inch_VNS->FixParameter(1,Muon_peak_8inch_VNS->GetParameter(1));\n",
    "Muon_peak_8inch_VNS->FixParameter(2,Muon_peak_8inch_VNS->GetParameter(2));"
   ]
  },
  {
   "cell_type": "code",
   "execution_count": 93,
   "id": "e35b312b",
   "metadata": {},
   "outputs": [
    {
     "data": {
      "image/png": "[encoded data removed]",
      "text/plain": [
       "<IPython.core.display.Image object>"
      ]
     },
     "metadata": {},
     "output_type": "display_data"
    }
   ],
   "source": [
    "TCanvas* C = new TCanvas();\n",
    "C->Draw();\n",
    "C->SetLogy();\n",
    "h_SimuMuons_8inch_DC->Draw();\n",
    "h_SimuMuons_8inch_VNS->Draw(\"Same\");"
   ]
  },
  {
   "cell_type": "markdown",
   "id": "231f2df4",
   "metadata": {},
   "source": [
    "2- Muon Plateau"
   ]
  },
  {
   "cell_type": "code",
   "execution_count": 94,
   "id": "b875ffd3",
   "metadata": {},
   "outputs": [
    {
     "name": "stdout",
     "output_type": "stream",
     "text": [
      " FCN=99.094 FROM HESSE     STATUS=NOT POSDEF     31 CALLS         950 TOTAL\n",
      "                     EDM=2.48623e-08    STRATEGY= 1      ERR MATRIX NOT POS-DEF\n",
      "  EXT PARAMETER                APPROXIMATE        STEP         FIRST   \n",
      "  NO.   NAME      VALUE            ERROR          SIZE      DERIVATIVE \n",
      "   1  a            1.21588e+00   3.79835e-02   3.46447e-06  -2.91112e-02\n",
      "   2  b           -6.08724e-06   7.98404e-05   6.37191e-09  -8.67668e+00\n",
      "   3  c            2.29852e+00   1.27916e-01   1.16481e-05  -8.64541e-03\n",
      "   4  d           -1.69849e-02   2.68277e-04   2.14143e-08  -2.51389e+00\n",
      "   5  e            1.84369e-05   2.82079e-07   3.53032e-11  -1.61720e+02\n"
     ]
    }
   ],
   "source": [
    "TF1* Muon_plateau_8inch_DC = new TF1(\"Muon_plateau_8inch_DC\", \"expo+pol2(2)\", 300,800); \n",
    "Muon_plateau_8inch_DC->SetParNames(\"a\", \"b\", \"c\", \"d\", \"e\");\n",
    "h_SimuMuons_8inch_DC->Fit(\"Muon_plateau_8inch_DC\", \"R\");"
   ]
  },
  {
   "cell_type": "code",
   "execution_count": 95,
   "id": "460cb2fe",
   "metadata": {},
   "outputs": [
    {
     "name": "stdout",
     "output_type": "stream",
     "text": [
      " FCN=88.8593 FROM HESSE     STATUS=NOT POSDEF     31 CALLS         904 TOTAL\n",
      "                     EDM=3.69421e-07    STRATEGY= 1      ERR MATRIX NOT POS-DEF\n",
      "  EXT PARAMETER                APPROXIMATE        STEP         FIRST   \n",
      "  NO.   NAME      VALUE            ERROR          SIZE      DERIVATIVE \n",
      "   1  a            9.60309e-01   4.68938e-02   4.06282e-06   1.61395e-01\n",
      "   2  b           -7.47592e-06   9.18269e-05   7.03232e-09   1.07421e+02\n",
      "   3  c            3.22349e+00   1.22269e-01   1.05630e-05   6.20864e-02\n",
      "   4  d           -1.76768e-02   2.38769e-04   1.82690e-08   4.14289e+01\n",
      "   5  e            1.91738e-05   2.22713e-07   2.75862e-11   2.81844e+04\n"
     ]
    }
   ],
   "source": [
    "TF1* Muon_plateau_8inch_VNS = new TF1(\"Muon_plateau_8inch_VNS\", \"expo+pol2(2)\", 300,900); \n",
    "Muon_plateau_8inch_VNS->SetParNames(\"a\", \"b\", \"c\", \"d\", \"e\");\n",
    "h_SimuMuons_8inch_VNS->Fit(\"Muon_plateau_8inch_VNS\", \"R\");"
   ]
  },
  {
   "cell_type": "code",
   "execution_count": 96,
   "id": "04bbf578",
   "metadata": {},
   "outputs": [
    {
     "data": {
      "image/png": "[encoded data removed]",
      "text/plain": [
       "<IPython.core.display.Image object>"
      ]
     },
     "metadata": {},
     "output_type": "display_data"
    }
   ],
   "source": [
    "TCanvas* C = new TCanvas();\n",
    "C->Draw();\n",
    "C->SetLogy();\n",
    "h_SimuMuons_8inch_DC->Draw();\n",
    "h_SimuMuons_8inch_VNS->Draw(\"Same\");"
   ]
  },
  {
   "cell_type": "markdown",
   "id": "f0995ffa",
   "metadata": {},
   "source": [
    "3- Muon queue"
   ]
  },
  {
   "cell_type": "code",
   "execution_count": 97,
   "id": "65189417",
   "metadata": {},
   "outputs": [
    {
     "name": "stdout",
     "output_type": "stream",
     "text": [
      " FCN=174.495 FROM MIGRAD    STATUS=CONVERGED      48 CALLS          49 TOTAL\n",
      "                     EDM=2.15305e-07    STRATEGY= 1      ERROR MATRIX ACCURATE \n",
      "  EXT PARAMETER                                   STEP         FIRST   \n",
      "  NO.   NAME      VALUE            ERROR          SIZE      DERIVATIVE \n",
      "   1  Constant     3.21274e+00   2.43510e-02   3.12155e-05   4.35259e-02\n",
      "   2  Slope       -1.38539e-03   9.88288e-06   1.26687e-08   4.22132e+01\n",
      " FCN=18.8603 FROM MIGRAD    STATUS=CONVERGED      53 CALLS          54 TOTAL\n",
      "                     EDM=1.17188e-08    STRATEGY= 1      ERROR MATRIX ACCURATE \n",
      "  EXT PARAMETER                                   STEP         FIRST   \n",
      "  NO.   NAME      VALUE            ERROR          SIZE      DERIVATIVE \n",
      "   1  Constant     4.22130e-01   8.18134e-01   5.74696e-05  -2.57959e-03\n",
      "   2  Slope       -6.67503e-04   1.91578e-04   1.34573e-08  -1.02948e+01\n",
      " FCN=82.1139 FROM MIGRAD    STATUS=CONVERGED     515 CALLS         516 TOTAL\n",
      "                     EDM=6.30156e-07    STRATEGY= 1      ERROR MATRIX ACCURATE \n",
      "  EXT PARAMETER                                   STEP         FIRST   \n",
      "  NO.   NAME      VALUE            ERROR          SIZE      DERIVATIVE \n",
      "   1  p0           4.40860e+00   7.60857e-01   5.43413e-05  -9.80660e-03\n",
      "   2  p1          -2.33485e-03   6.43955e-04   2.54342e-08  -3.37855e+01\n",
      "   3  p2           1.78957e+00   8.82929e-01   3.20663e-05  -3.21829e-02\n",
      "   4  p3          -9.95134e-04   1.93235e-04   1.12399e-08  -6.89191e+01\n"
     ]
    }
   ],
   "source": [
    "TF1* Muon_queue_8inch_DC_start = new TF1(\"Muon_queue_8inch_DC_start\", \"expo(0)\", 1800, 4000); \n",
    "Muon_queue_8inch_DC_start->SetParameter(0, -10);\n",
    "Muon_queue_8inch_DC_start->SetParameter(1, -0.003);\n",
    "h_SimuMuons_8inch_DC->Fit(\"Muon_queue_8inch_DC_start\", \"R\");\n",
    "\n",
    "TF1* Muon_queue_8inch_DC_end = new TF1(\"Muon_queue_8inch_end_DC\", \"expo(0)\", 4000, 5500); \n",
    "Muon_queue_8inch_DC_end->SetParameter(0, -10);\n",
    "Muon_queue_8inch_DC_end->SetParameter(1, -0.003);\n",
    "h_SimuMuons_8inch_DC->Fit(\"Muon_queue_8inch_end_DC\", \"R\");\n",
    "\n",
    "TF1* Muon_queue_8inch_DC = new TF1(\"Muon_queue_8inch_DC\", \"expo(0)+expo(2)\", 1800, 5500); \n",
    "//Muon_queue_9inch->SetParNames(\"Norm\", \"slope\", \"Norm_NP\", \"mean_NP\", \"sigma_NP\");\n",
    "Muon_queue_8inch_DC->SetParameter(0, Muon_queue_8inch_DC_start->GetParameter(0));\n",
    "Muon_queue_8inch_DC->SetParameter(1, Muon_queue_8inch_DC_start->GetParameter(1));\n",
    "Muon_queue_8inch_DC->SetParameter(2, Muon_queue_8inch_DC_end->GetParameter(0));\n",
    "Muon_queue_8inch_DC->SetParameter(3, Muon_queue_8inch_DC_end->GetParameter(1));\n",
    "\n",
    "h_SimuMuons_8inch_DC->Fit(\"Muon_queue_8inch_DC\", \"R\");\n",
    "\n",
    "Muon_queue_8inch_DC->FixParameter(0, Muon_queue_8inch_DC->GetParameter(0));\n",
    "Muon_queue_8inch_DC->FixParameter(1, Muon_queue_8inch_DC->GetParameter(1));\n",
    "Muon_queue_8inch_DC->FixParameter(2, Muon_queue_8inch_DC->GetParameter(2));\n",
    "Muon_queue_8inch_DC->FixParameter(3, Muon_queue_8inch_DC->GetParameter(3));"
   ]
  },
  {
   "cell_type": "code",
   "execution_count": 98,
   "id": "eecdde9a",
   "metadata": {},
   "outputs": [
    {
     "name": "stdout",
     "output_type": "stream",
     "text": [
      " FCN=181.935 FROM MIGRAD    STATUS=CONVERGED      61 CALLS          62 TOTAL\n",
      "                     EDM=2.58458e-12    STRATEGY= 1      ERROR MATRIX ACCURATE \n",
      "  EXT PARAMETER                                   STEP         FIRST   \n",
      "  NO.   NAME      VALUE            ERROR          SIZE      DERIVATIVE \n",
      "   1  Constant     3.23117e+00   2.43858e-02   3.18160e-05  -4.47886e-04\n",
      "   2  Slope       -1.39184e-03   9.90526e-06   1.29233e-08  -1.00858e+00\n",
      " FCN=9.77707 FROM MIGRAD    STATUS=CONVERGED      54 CALLS          55 TOTAL\n",
      "                     EDM=1.1072e-06    STRATEGY= 1      ERROR MATRIX ACCURATE \n",
      "  EXT PARAMETER                                   STEP         FIRST   \n",
      "  NO.   NAME      VALUE            ERROR          SIZE      DERIVATIVE \n",
      "   1  Constant     5.46587e-01   8.02068e-01   4.17534e-05  -4.81202e-02\n",
      "   2  Slope       -6.90212e-04   1.87847e-04   9.77935e-09  -2.09626e+02\n",
      " FCN=69.2841 FROM MIGRAD    STATUS=CONVERGED     537 CALLS         538 TOTAL\n",
      "                     EDM=4.84437e-07    STRATEGY= 1      ERROR MATRIX ACCURATE \n",
      "  EXT PARAMETER                                   STEP         FIRST   \n",
      "  NO.   NAME      VALUE            ERROR          SIZE      DERIVATIVE \n",
      "   1  p0           4.42026e+00   7.69096e-01   4.57168e-05  -5.75264e-02\n",
      "   2  p1          -2.29650e-03   6.46291e-04   2.13094e-08  -1.27473e+02\n",
      "   3  p2           1.63350e+00   1.03201e+00   3.09043e-05  -8.02813e-02\n",
      "   4  p3          -9.55570e-04   2.25282e-04   1.06869e-08  -2.01007e+02\n"
     ]
    }
   ],
   "source": [
    "TF1* Muon_queue_8inch_VNS_start = new TF1(\"Muon_queue_8inch_VNS_start\", \"expo(0)\", 1800, 4000); \n",
    "Muon_queue_8inch_VNS_start->SetParameter(0, -10);\n",
    "Muon_queue_8inch_VNS_start->SetParameter(1, -0.003);\n",
    "h_SimuMuons_8inch_VNS->Fit(\"Muon_queue_8inch_VNS_start\", \"R\");\n",
    "\n",
    "TF1* Muon_queue_8inch_VNS_end = new TF1(\"Muon_queue_8inch_end_VNS\", \"expo(0)\", 4000, 5500); \n",
    "Muon_queue_8inch_VNS_end->SetParameter(0, -10);\n",
    "Muon_queue_8inch_VNS_end->SetParameter(1, -0.003);\n",
    "h_SimuMuons_8inch_VNS->Fit(\"Muon_queue_8inch_end_VNS\", \"R\");\n",
    "\n",
    "TF1* Muon_queue_8inch_VNS = new TF1(\"Muon_queue_8inch_VNS\", \"expo(0)+expo(2)\", 1800, 5500); \n",
    "//Muon_queue_9inch->SetParNames(\"Norm\", \"slope\", \"Norm_NP\", \"mean_NP\", \"sigma_NP\");\n",
    "Muon_queue_8inch_VNS->SetParameter(0, Muon_queue_8inch_VNS_start->GetParameter(0));\n",
    "Muon_queue_8inch_VNS->SetParameter(1, Muon_queue_8inch_VNS_start->GetParameter(1));\n",
    "Muon_queue_8inch_VNS->SetParameter(2, Muon_queue_8inch_VNS_end->GetParameter(0));\n",
    "Muon_queue_8inch_VNS->SetParameter(3, Muon_queue_8inch_VNS_end->GetParameter(1));\n",
    "\n",
    "h_SimuMuons_8inch_VNS->Fit(\"Muon_queue_8inch_VNS\", \"R\");\n",
    "\n",
    "Muon_queue_8inch_VNS->FixParameter(0, Muon_queue_8inch_VNS->GetParameter(0));\n",
    "Muon_queue_8inch_VNS->FixParameter(1, Muon_queue_8inch_VNS->GetParameter(1));\n",
    "Muon_queue_8inch_VNS->FixParameter(2, Muon_queue_8inch_VNS->GetParameter(2));\n",
    "Muon_queue_8inch_VNS->FixParameter(3, Muon_queue_8inch_VNS->GetParameter(3));"
   ]
  },
  {
   "cell_type": "code",
   "execution_count": 99,
   "id": "f23861d8",
   "metadata": {},
   "outputs": [
    {
     "data": {
      "image/png": "[encoded data removed]",
      "text/plain": [
       "<IPython.core.display.Image object>"
      ]
     },
     "metadata": {},
     "output_type": "display_data"
    }
   ],
   "source": [
    "TCanvas* C = new TCanvas();\n",
    "C->Draw();\n",
    "C->SetLogy();\n",
    "h_SimuMuons_8inch_DC->Draw(\"\");\n",
    "Muon_queue_8inch_DC_end->SetLineColor(kBlue);\n",
    "//Muon_queue_8inch_DC_end->Draw(\"SAME\");\n",
    "Muon_queue_8inch_DC_start->SetLineColor(kBlue);\n",
    "//Muon_queue_8inch_DC_start->Draw(\"SAME\");\n",
    "Muon_queue_8inch_DC->Draw(\"SAME\");\n",
    "h_SimuMuons_8inch_VNS->Draw(\"Same\");\n",
    "Muon_queue_8inch_VNS_end->SetLineColor(kBlue);\n",
    "//Muon_queue_8inch_VNS_end->Draw(\"SAME\");\n",
    "Muon_queue_8inch_VNS_start->SetLineColor(kBlue);\n",
    "//Muon_queue_8inch_VNS_start->Draw(\"SAME\");\n",
    "Muon_queue_8inch_VNS->Draw(\"SAME\");"
   ]
  },
  {
   "cell_type": "markdown",
   "id": "ee800126",
   "metadata": {},
   "source": [
    "Total muon function"
   ]
  },
  {
   "cell_type": "code",
   "execution_count": 100,
   "id": "c206516b",
   "metadata": {},
   "outputs": [],
   "source": [
    "Double_t Muons_8inch_DC(Double_t* x, Double_t *par){\n",
    "    Double_t par_cdf[2]= {par[3], par[4]};\n",
    "    Double_t par_cdf2[2]= {par[5], par[6]};\n",
    "    return (1-cdf(x, par_cdf))*par[0]*Muon_plateau_8inch_DC->Eval(x[0])+cdf(x, par_cdf)*(1-cdf(x, par_cdf2))*par[1]*Muon_peak_8inch_DC->Eval(x[0])+cdf(x, par_cdf2)*par[2]*Muon_queue_8inch_DC->Eval(x[0]);\n",
    "}"
   ]
  },
  {
   "cell_type": "code",
   "execution_count": 101,
   "id": "04b62e3a",
   "metadata": {},
   "outputs": [],
   "source": [
    "Double_t Muons_8inch_VNS(Double_t* x, Double_t *par){\n",
    "    Double_t par_cdf[2]= {par[3], par[4]};\n",
    "    Double_t par_cdf2[2]= {par[5], par[6]};\n",
    "    return (1-cdf(x, par_cdf))*par[0]*Muon_plateau_8inch_VNS->Eval(x[0])+cdf(x, par_cdf)*(1-cdf(x, par_cdf2))*par[1]*Muon_peak_8inch_VNS->Eval(x[0])+cdf(x, par_cdf2)*par[2]*Muon_queue_8inch_VNS->Eval(x[0]);\n",
    "}"
   ]
  },
  {
   "cell_type": "code",
   "execution_count": 102,
   "id": "46008e31",
   "metadata": {},
   "outputs": [
    {
     "name": "stdout",
     "output_type": "stream",
     "text": [
      " FCN=450.816 FROM MIGRAD    STATUS=CONVERGED     366 CALLS         367 TOTAL\n",
      "                     EDM=1.00586e-08    STRATEGY= 1  ERROR MATRIX UNCERTAINTY   2.7 per cent\n",
      "  EXT PARAMETER                                   STEP         FIRST   \n",
      "  NO.   NAME      VALUE            ERROR          SIZE      DERIVATIVE \n",
      "   1  Norm_plateau   8.16992e-01   1.73849e-02  -6.25143e-07   9.56942e-03\n",
      "   2  Norm_muonpeak   1.02525e+00   4.57380e-03  -2.09267e-06  -1.39706e-02\n",
      "   3  Norm_muonplateau   5.78092e-01   1.80466e-02   7.30991e-07  -3.02279e-03\n",
      "   4  pos cdf      8.00000e+02   9.24259e-01  -8.55714e-05** at limit **\n",
      "   5  sigma cdf    1.07545e+02   9.69405e+00  -3.11019e-03   8.03419e-06\n",
      "   6  pos cdf2     3.20000e+03   7.86606e+00  -4.15094e-04** at limit **\n",
      "   7  sigma cdf2   1.27863e+03   3.03084e+01  -4.39953e-04   2.80787e-06\n"
     ]
    }
   ],
   "source": [
    "TF1* Muon_shape_8inch_DC = new TF1(\"Muon_shape_8inch_DC\", Muons_8inch_DC, 200, 5500, 7);\n",
    "Muon_shape_8inch_DC->SetParNames(\"Norm_plateau\", \"Norm_muonpeak\", \"Norm_muonplateau\",\"pos cdf\", \"sigma cdf\", \"pos cdf2\", \"sigma cdf2\");\n",
    "Muon_shape_8inch_DC->SetParameter(0, 1);\n",
    "Muon_shape_8inch_DC->SetParameter(1, 1);\n",
    "Muon_shape_8inch_DC->SetParameter(2, 1);\n",
    "Muon_shape_8inch_DC->SetParameter(3, 900);\n",
    "Muon_shape_8inch_DC->SetParameter(4, 100);\n",
    "Muon_shape_8inch_DC->SetParameter(5, 3250);\n",
    "Muon_shape_8inch_DC->SetParameter(6, 100);\n",
    "Muon_shape_8inch_DC->SetParLimits(3, 800, 1200);\n",
    "Muon_shape_8inch_DC->SetParLimits(5, 3200, 3400);\n",
    "h_SimuMuons_8inch_DC->Fit(\"Muon_shape_8inch_DC\", \"R\");"
   ]
  },
  {
   "cell_type": "code",
   "execution_count": 103,
   "id": "612dc212",
   "metadata": {},
   "outputs": [
    {
     "name": "stdout",
     "output_type": "stream",
     "text": [
      " FCN=499.846 FROM MIGRAD    STATUS=CONVERGED     400 CALLS         401 TOTAL\n",
      "                     EDM=1.41822e-07    STRATEGY= 1  ERROR MATRIX UNCERTAINTY   2.4 per cent\n",
      "  EXT PARAMETER                                   STEP         FIRST   \n",
      "  NO.   NAME      VALUE            ERROR          SIZE      DERIVATIVE \n",
      "   1  Norm_plateau   7.89281e-01   1.72700e-02  -1.28508e-05  -7.14863e-02\n",
      "   2  Norm_muonpeak   1.02429e+00   4.58132e-03   1.61720e-05   1.50746e-01\n",
      "   3  Norm_muonplateau   5.82968e-01   1.79919e-02  -8.38120e-05  -2.00316e-03\n",
      "   4  pos cdf      8.00000e+02   1.14760e+00   1.87359e-05** at limit **\n",
      "   5  sigma cdf    1.06713e+02   9.37143e+00   5.34826e-03  -4.28429e-05\n",
      "   6  pos cdf2     3.20000e+03   5.87969e+00  -7.86347e-04** at limit **\n",
      "   7  sigma cdf2   1.30734e+03   2.84152e+01   7.38880e-02  -4.51538e-05\n"
     ]
    }
   ],
   "source": [
    "TF1* Muon_shape_8inch_VNS = new TF1(\"Muon_shape_8inch_VNS\", Muons_8inch_VNS, 200, 5500, 7);\n",
    "Muon_shape_8inch_VNS->SetParNames(\"Norm_plateau\", \"Norm_muonpeak\", \"Norm_muonplateau\",\"pos cdf\", \"sigma cdf\", \"pos cdf2\", \"sigma cdf2\");\n",
    "Muon_shape_8inch_VNS->SetParameter(0, 1);\n",
    "Muon_shape_8inch_VNS->SetParameter(1, 1);\n",
    "Muon_shape_8inch_VNS->SetParameter(2, 1);\n",
    "Muon_shape_8inch_VNS->SetParameter(3, 900);\n",
    "Muon_shape_8inch_VNS->SetParameter(4, 100);\n",
    "Muon_shape_8inch_VNS->SetParameter(5, 3250);\n",
    "Muon_shape_8inch_VNS->SetParameter(6, 100);\n",
    "Muon_shape_8inch_VNS->SetParLimits(3, 800, 1200);\n",
    "Muon_shape_8inch_VNS->SetParLimits(5, 3200, 3400);\n",
    "h_SimuMuons_8inch_VNS->Fit(\"Muon_shape_8inch_VNS\", \"R\");"
   ]
  },
  {
   "cell_type": "code",
   "execution_count": 104,
   "id": "29e1b0e6",
   "metadata": {},
   "outputs": [
    {
     "data": {
      "image/png": "[encoded data removed]",
      "text/plain": [
       "<IPython.core.display.Image object>"
      ]
     },
     "metadata": {},
     "output_type": "display_data"
    },
    {
     "name": "stderr",
     "output_type": "stream",
     "text": [
      "Info in <TCanvas::Print>: png file /Users/cg264002/research/Redaction_These/Figures/Chap3/Neutrons/Muons_8inch.png has been created\n"
     ]
    }
   ],
   "source": [
    "TCanvas* C = new TCanvas();\n",
    "C->Draw();\n",
    "C->SetLogy();\n",
    "gPad->SetLeftMargin(0.1);\n",
    "gPad->SetRightMargin(0.03);\n",
    "gPad->SetBottomMargin(0.1);\n",
    "gPad->SetTopMargin(0.02);\n",
    "\n",
    "h_SimuMuons_8inch_DC->Draw();\n",
    "h_SimuMuons_8inch_DC->SetTitle(\"\");\n",
    "//h_SimuMuons_8inch_VNS->Draw(\"Same\");\n",
    "C->SaveAs(\"/Users/cg264002/research/Redaction_These/Figures/Chap3/Neutrons/Muons_8inch.png\");"
   ]
  },
  {
   "cell_type": "code",
   "execution_count": 105,
   "id": "74aea64c",
   "metadata": {},
   "outputs": [],
   "source": [
    "Muon_shape_8inch_DC->FixParameter(0, 1);\n",
    "Muon_shape_8inch_DC->FixParameter(0, Muon_shape_8inch_DC->GetParameter(0));\n",
    "Muon_shape_8inch_DC->FixParameter(1, Muon_shape_8inch_DC->GetParameter(1));\n",
    "Muon_shape_8inch_DC->FixParameter(2, Muon_shape_8inch_DC->GetParameter(2));\n",
    "Muon_shape_8inch_DC->FixParameter(3, Muon_shape_8inch_DC->GetParameter(3));\n",
    "\n",
    "Muon_shape_8inch_VNS->FixParameter(0, 1);\n",
    "Muon_shape_8inch_VNS->FixParameter(0, Muon_shape_8inch_VNS->GetParameter(0));\n",
    "Muon_shape_8inch_VNS->FixParameter(1, Muon_shape_8inch_VNS->GetParameter(1));\n",
    "Muon_shape_8inch_VNS->FixParameter(2, Muon_shape_8inch_VNS->GetParameter(2));\n",
    "Muon_shape_8inch_VNS->FixParameter(3, Muon_shape_8inch_VNS->GetParameter(3));"
   ]
  },
  {
   "cell_type": "markdown",
   "id": "a62b1fd4",
   "metadata": {},
   "source": [
    "### Model background and signal"
   ]
  },
  {
   "cell_type": "markdown",
   "id": "3ec814a8",
   "metadata": {},
   "source": [
    "Background: Gammas + Muons with parameters their respective weights. <br>\n",
    "Signal: Gammas + Muons + Gaussian"
   ]
  },
  {
   "cell_type": "code",
   "execution_count": 106,
   "id": "d7747356",
   "metadata": {},
   "outputs": [],
   "source": [
    "Double_t MuonsplusGammas_8inch_DC(Double_t* x, Double_t *par){\n",
    "    return par[0]*Muon_shape_8inch_DC->Eval(x[0])+par[1]*Gamma_shape_8inch->Eval(x[0]);\n",
    "}"
   ]
  },
  {
   "cell_type": "code",
   "execution_count": 107,
   "id": "e822cd2c",
   "metadata": {},
   "outputs": [],
   "source": [
    "Double_t MuonsplusGammas_8inch_VNS(Double_t* x, Double_t *par){\n",
    "    return par[0]*Muon_shape_8inch_VNS->Eval(x[0])+par[1]*Gamma_shape_8inch->Eval(x[0]);\n",
    "}"
   ]
  },
  {
   "cell_type": "code",
   "execution_count": 108,
   "id": "08c16da2",
   "metadata": {},
   "outputs": [],
   "source": [
    "Double_t Muons_8inch_DC(Double_t* x, Double_t *par){\n",
    "    return par[0]*Muon_shape_8inch_DC->Eval(x[0]);\n",
    "}"
   ]
  },
  {
   "cell_type": "code",
   "execution_count": 109,
   "id": "193da894",
   "metadata": {},
   "outputs": [],
   "source": [
    "Double_t Muons_8inch_VNS(Double_t* x, Double_t *par){\n",
    "    return par[0]*Muon_shape_8inch_VNS->Eval(x[0]);\n",
    "}"
   ]
  },
  {
   "cell_type": "code",
   "execution_count": 110,
   "id": "fc194e18",
   "metadata": {},
   "outputs": [],
   "source": [
    "Double_t Gammas_8inch(Double_t* x, Double_t *par){\n",
    "    return par[0]*Gamma_shape_8inch->Eval(x[0]);\n",
    "}"
   ]
  },
  {
   "cell_type": "code",
   "execution_count": 111,
   "id": "5df05fab",
   "metadata": {},
   "outputs": [],
   "source": [
    "Double_t SignalPlusBackground_8inch_DC(Double_t* x, Double_t *par){\n",
    "    return par[0]*Muon_shape_8inch_DC->Eval(x[0])+par[1]*Gamma_shape_8inch->Eval(x[0])+par[2]*TMath::Gaus(x[0], par[3], par[4]);\n",
    "}"
   ]
  },
  {
   "cell_type": "code",
   "execution_count": 112,
   "id": "71772451",
   "metadata": {},
   "outputs": [],
   "source": [
    "Double_t SignalPlusBackground_8inch_VNS(Double_t* x, Double_t *par){\n",
    "    return par[0]*Muon_shape_8inch_VNS->Eval(x[0])+par[1]*Gamma_shape_8inch->Eval(x[0])+par[2]*TMath::Gaus(x[0], par[3], par[4]);\n",
    "}"
   ]
  },
  {
   "cell_type": "code",
   "execution_count": 113,
   "id": "48670432",
   "metadata": {},
   "outputs": [],
   "source": [
    "Double_t Neutrons_8inch(Double_t* x, Double_t *par){\n",
    "    Neutron_peak_Gaus->SetParameter(0, par[0]);\n",
    "    Neutron_peak_Gaus->SetParameter(1, par[1]);\n",
    "    Neutron_peak_Gaus->SetParameter(2, par[2]);\n",
    "    return Neutron_peak_Gaus->Eval(x[0]);\n",
    "}"
   ]
  },
  {
   "cell_type": "code",
   "execution_count": 114,
   "id": "2919d6cd",
   "metadata": {},
   "outputs": [],
   "source": [
    "TF1* Sum_background_8inch_DC = new TF1(\"Sum_background_8inch_DC\", MuonsplusGammas_8inch_DC, Emin_fit, Emax_fit, 2);\n",
    "Sum_background_8inch_DC->SetParNames(\"Norm_muons\", \"Norm_gammas\");\n",
    "\n",
    "TF1* Sum_background_8inch_VNS = new TF1(\"Sum_background_8inch_VNS\", MuonsplusGammas_8inch_VNS, Emin_fit, Emax_fit, 2);\n",
    "Sum_background_8inch_VNS->SetParNames(\"Norm_muons\", \"Norm_gammas\");"
   ]
  },
  {
   "cell_type": "code",
   "execution_count": 115,
   "id": "8b91f0ee",
   "metadata": {},
   "outputs": [],
   "source": [
    "TF1* Muon_background_8inch_DC = new TF1(\"Muon_background_8inch_DC\", Muons_8inch_DC, Emin_fit, Emax_fit, 1);\n",
    "Muon_background_8inch_DC->SetParNames(\"Norm_muons\");\n",
    "\n",
    "TF1* Muon_background_8inch_VNS = new TF1(\"Muon_background_8inch_VNS\", Muons_8inch_VNS, Emin_fit, Emax_fit, 1);\n",
    "Muon_background_8inch_VNS->SetParNames(\"Norm_muons\");"
   ]
  },
  {
   "cell_type": "code",
   "execution_count": 116,
   "id": "61de2b79",
   "metadata": {},
   "outputs": [],
   "source": [
    "TF1* Gamma_background_8inch = new TF1(\"Gamma_background_8inch\", Gammas_8inch, Emin_fit, Emax_fit, 1);\n",
    "Gamma_background_8inch->SetParNames(\"Norm_gammas\");"
   ]
  },
  {
   "cell_type": "code",
   "execution_count": 117,
   "id": "9bb8050b",
   "metadata": {},
   "outputs": [],
   "source": [
    "TF1* SignalandBackground_8inch_DC = new TF1(\"SignalandBackground_8inch_DC\", SignalPlusBackground_8inch_DC, Emin_fit, Emax_fit, 5);\n",
    "SignalandBackground_8inch_DC->SetParNames(\"Norm_muons\", \"Norm_gammas\", \"Norm_Neutr\", \"Mean_gauss\", \"Sigma_gauss\");\n",
    "\n",
    "TF1* SignalandBackground_8inch_VNS = new TF1(\"SignalandBackground_8inch_VNS\", SignalPlusBackground_8inch_VNS, Emin_fit, Emax_fit, 5);\n",
    "SignalandBackground_8inch_VNS->SetParNames(\"Norm_muons\", \"Norm_gammas\", \"Norm_Neutr\", \"Mean_gauss\", \"Sigma_gauss\");"
   ]
  },
  {
   "cell_type": "code",
   "execution_count": 118,
   "id": "cf7c67cf",
   "metadata": {},
   "outputs": [],
   "source": [
    "TF1* Neutrons_8inch_DC = new TF1(\"Neutrons_8inch_DC\", Neutrons_8inch, Emin_fit, Emax_fit, 3);\n",
    "Neutrons_8inch_DC->SetParNames(\"Norm_Neutr\", \"Mean_gauss\", \"Sigma_gauss\");\n",
    "\n",
    "TF1* Neutrons_8inch_VNS = new TF1(\"Neutrons_8inch_VNS\", Neutrons_8inch, Emin_fit, Emax_fit, 3);\n",
    "Neutrons_8inch_VNS->SetParNames(\"Norm_Neutr\", \"Mean_gauss\", \"Sigma_gauss\");"
   ]
  },
  {
   "cell_type": "markdown",
   "id": "6bf7db5b",
   "metadata": {},
   "source": [
    "## Fit"
   ]
  },
  {
   "cell_type": "markdown",
   "id": "1b851e9f",
   "metadata": {},
   "source": [
    "### DCHut"
   ]
  },
  {
   "cell_type": "code",
   "execution_count": 119,
   "id": "a64cbd4f",
   "metadata": {},
   "outputs": [
    {
     "name": "stdout",
     "output_type": "stream",
     "text": [
      "\n",
      "*******************************************************\n",
      "Measures@DCHut/2022-09-14_BS-A-06_RT_1733984.75_LV_1733461.01.dat\n"
     ]
    }
   ],
   "source": [
    "TH1D* h_DC_8inch = Put_data_in_histo(\"Measures@DCHut/2022-09-14_BS-A-06_RT_1733984.75_LV_1733461.01.dat\", 1733984, \"8inch at DChut\");\n",
    "h_DC_8inch->Rebin(4);\n",
    "h_DC_8inch->Scale(1/4.);"
   ]
  },
  {
   "cell_type": "code",
   "execution_count": 120,
   "id": "33e4ab89",
   "metadata": {},
   "outputs": [],
   "source": [
    "TH1D* hCal_DC_8inch = Calibrate_histo(h_DC_8inch, Gain, Form(\"%s_keVee\", h_DC_8inch->GetTitle()), Offset);"
   ]
  },
  {
   "cell_type": "code",
   "execution_count": 121,
   "id": "d515fa88",
   "metadata": {},
   "outputs": [
    {
     "name": "stdout",
     "output_type": "stream",
     "text": [
      " FCN=199.798 FROM MIGRAD    STATUS=CONVERGED     173 CALLS         174 TOTAL\n",
      "                     EDM=2.445e-08    STRATEGY= 1  ERROR MATRIX UNCERTAINTY   1.0 per cent\n",
      "  EXT PARAMETER                                   STEP         FIRST   \n",
      "  NO.   NAME      VALUE            ERROR          SIZE      DERIVATIVE \n",
      "   1  Norm_muons   2.03930e-01   2.21293e-03  -4.15542e-06  -1.06720e-03\n",
      "   2  Norm_gammas   8.84050e-01   1.80538e-02   7.67771e-05  -1.06811e-02\n",
      "   3  Norm_Neutr   1.72098e-01   6.58196e-03  -1.95117e-05   3.10781e-02\n",
      "   4  Mean_gauss   3.07501e+03   8.40806e+00  -1.47736e-05  -7.94407e-03\n",
      "   5  Sigma_gauss   2.23979e+02   8.21624e+00   2.91415e-02   9.41814e-06\n",
      "\n",
      "Chi2/ndf = 199.798/102 = 1.95881\n",
      "\n",
      "Total N_ev in peak region = 205.488 ev/d +- 3.19984 ev/d\n",
      "N_ev in neutron peak from fit = 96.1152 ev/d +- 3.67596 ev/d (error from normalization error only!)\n",
      "N_ev in background = 102.111 ev/d +- 1.55665 ev/d\n",
      "N_ev in neutron peak from data - bckg = 103.377 ev/d +- 3.55839 ev/d\n"
     ]
    }
   ],
   "source": [
    "SignalandBackground_8inch_DC->SetParameter(3, 3000);\n",
    "SignalandBackground_8inch_DC->SetParLimits(3, 2800, 3500);\n",
    "SignalandBackground_8inch_DC->SetParameter(2, 1);\n",
    "SignalandBackground_8inch_DC->SetParameter(4, Resol_NP);\n",
    "\n",
    "TFitResultPtr r_8_DC = hCal_DC_8inch->Fit(SignalandBackground_8inch_DC, \"SR0\", \"\", Emin_fit, Emax_fit);\n",
    "\n",
    "TMatrixD CovMat_8_DC = r_8_DC->GetCovarianceMatrix();\n",
    "\n",
    "//CovMat_8_DC.Print();\n",
    "\n",
    "Double_t err_norm_NP_8_DC = sqrt(CovMat_8_DC(2,2));\n",
    "Double_t norm_NP_8_DC = SignalandBackground_8inch_DC->GetParameter(2);\n",
    "\n",
    "Double_t err_norm_Bkg_8_DC = sqrt(CovMat_8_DC(0,0)+CovMat_8_DC(1,1)+2*CovMat_8_DC(0,1));\n",
    "Double_t norm_Bckg_8_DC = SignalandBackground_8inch_DC->GetParameter(0)+SignalandBackground_8inch_DC->GetParameter(1);\n",
    "\n",
    "Double_t Norm_mu_8_DC = SignalandBackground_8inch_DC->GetParameter(0);\n",
    "Double_t err_Norm_mu_8_DC = SignalandBackground_8inch_DC->GetParError(0);\n",
    "\n",
    "Sum_background_8inch_DC->SetParameter(0, SignalandBackground_8inch_DC->GetParameter(0));\n",
    "Sum_background_8inch_DC->SetParameter(1, SignalandBackground_8inch_DC->GetParameter(1));\n",
    "\n",
    "Muon_background_8inch_DC->SetParameter(0, SignalandBackground_8inch_DC->GetParameter(0));\n",
    "Gamma_background_8inch->SetParameter(0, SignalandBackground_8inch_DC->GetParameter(1));\n",
    "\n",
    "Neutrons_8inch_DC->SetParameter(0, SignalandBackground_8inch_DC->GetParameter(2));\n",
    "Neutrons_8inch_DC->SetParameter(1, SignalandBackground_8inch_DC->GetParameter(3));\n",
    "Neutrons_8inch_DC->SetParameter(2, SignalandBackground_8inch_DC->GetParameter(4));\n",
    "\n",
    "Double_t N_ev_tot_8_DC = SignalandBackground_8inch_DC->Integral(Emin, Emax);\n",
    "Double_t N_ev_NP_8_DC = Neutrons_8inch_DC->Integral(Emin, Emax);\n",
    "Double_t err_N_ev_NP_8_DC = (err_norm_NP_8_DC/norm_NP_8_DC)*Neutrons_8inch_DC->Integral(Emin, Emax);\n",
    "Double_t N_ev_BKG_8_DC = Sum_background_8inch_DC->Integral(Emin, Emax);\n",
    "Double_t err_N_ev_BKG_8_DC = (err_norm_Bkg_8_DC/norm_Bckg_8_DC)*Sum_background_8inch_DC->Integral(Emin, Emax);\n",
    "\n",
    "Double_t err_N_ev_data_8_DC;\n",
    "Double_t N_ev_data_8_DC = hCal_DC_8inch->IntegralAndError(hCal_DC_8inch->FindBin(Emin), hCal_DC_8inch->FindBin(Emax), err_N_ev_data_8_DC, \"width\");\n",
    "\n",
    "Double_t err_N_ev_data_NP_8_DC = sqrt(err_N_ev_data_8_DC*err_N_ev_data_8_DC + err_N_ev_BKG_8_DC*err_N_ev_BKG_8_DC);\n",
    "Double_t N_ev_data_NP_8_DC = N_ev_data_8_DC-N_ev_BKG_8_DC;\n",
    "\n",
    "cout<<\"\\nChi2/ndf = \"<<SignalandBackground_8inch_DC->GetChisquare()<<\"/\"<<SignalandBackground_8inch_DC->GetNDF()<<\" = \"<<SignalandBackground_8inch_DC->GetChisquare()/SignalandBackground_8inch_DC->GetNDF()<<endl;\n",
    "cout<<\"\\nTotal N_ev in peak region = \"<<N_ev_data_8_DC<<\" ev/d +- \"<<err_N_ev_data_8_DC<<\" ev/d\"<<endl;\n",
    "cout<<\"N_ev in neutron peak from fit = \"<<N_ev_NP_8_DC<<\" ev/d +- \"<<err_N_ev_NP_8_DC<<\" ev/d (error from normalization error only!)\"<<endl;\n",
    "cout<<\"N_ev in background = \"<<N_ev_BKG_8_DC<<\" ev/d +- \"<<err_N_ev_BKG_8_DC<<\" ev/d\"<<endl;\n",
    "cout<<\"N_ev in neutron peak from data - bckg = \"<<N_ev_data_NP_8_DC<<\" ev/d +- \"<<err_N_ev_data_NP_8_DC<<\" ev/d\"<<endl;\n",
    "\n",
    "SignalandBackground_8inch_VNS->FixParameter(4, SignalandBackground_8inch_DC->GetParameter(4)); //Fix the sigma value of the neutron peak"
   ]
  },
  {
   "cell_type": "code",
   "execution_count": 122,
   "id": "9ef586f3",
   "metadata": {},
   "outputs": [
    {
     "data": {
      "image/png": "[encoded data removed]",
      "text/plain": [
       "<IPython.core.display.Image object>"
      ]
     },
     "metadata": {},
     "output_type": "display_data"
    },
    {
     "name": "stderr",
     "output_type": "stream",
     "text": [
      "Info in <TCanvas::Print>: pdf file Figs/Finals/Fit_DC_8inch.pdf has been created\n"
     ]
    }
   ],
   "source": [
    "TCanvas* C = new TCanvas(\"cDC_8inch\", \"cDC_8inch\", 800, 700);\n",
    "C->Draw();\n",
    "TPad *p0 = new TPad(\"p0\",\"p0\",0.02,0.375,0.795,1.);\n",
    "p0->Draw();\n",
    "p0->cd();\n",
    "p0->SetLeftMargin(0.1);\n",
    "p0->SetRightMargin(0.03);\n",
    "p0->SetBottomMargin(0.1);\n",
    "p0->SetTopMargin(0.02);\n",
    "\n",
    "p0->SetLogy();\n",
    "hCal_DC_8inch->Draw(\"\");\n",
    "hCal_DC_8inch->GetXaxis()->SetTitleOffset(1.1);\n",
    "hCal_DC_8inch->GetYaxis()->SetTitleOffset(1.2);\n",
    "hCal_DC_8inch->SetTitle(0);\n",
    "hCal_DC_8inch->GetYaxis()->SetRangeUser(1e-4, 10);\n",
    "SignalandBackground_8inch_DC->SetLineColor(kBlack);\n",
    "Sum_background_8inch_DC->SetLineColor(kBlue);\n",
    "Sum_background_8inch_DC->Draw(\"SAME\");\n",
    "Muon_background_8inch_DC->SetLineColor(kOrange);\n",
    "Gamma_background_8inch->SetLineColor(kRed);\n",
    "Muon_background_8inch_DC->Draw(\"SAME\");\n",
    "Gamma_background_8inch->Draw(\"SAME\");\n",
    "Gamma_background_8inch->SetLineStyle(6);\n",
    "Sum_background_8inch_DC->Draw(\"SAME\");\n",
    "SignalandBackground_8inch_DC->Draw(\"SAME\");\n",
    "Neutrons_8inch_DC->SetLineColor(kMagenta+1);\n",
    "Neutrons_8inch_DC->SetLineStyle(2);\n",
    "Neutrons_8inch_DC->Draw(\"SAME\");\n",
    "Sum_background_8inch_DC->SetLineStyle(4);\n",
    "Sum_background_8inch_DC->SetLineColor(kCyan+2);\n",
    "Sum_background_8inch_DC->Draw(\"SAME\");\n",
    "\n",
    "TLegend* leg0 = new TLegend(0.7, 0.75, 0.95, 0.95);\n",
    "leg0->AddEntry(Sum_background_8inch_DC, \"Background\", \"l\");\n",
    "leg0->AddEntry(SignalandBackground_8inch_DC, \"Signal and Bckg\", \"l\");\n",
    "leg0->AddEntry(Muon_background_8inch_DC, \"Muon Bckg\", \"l\");\n",
    "leg0->AddEntry(Gamma_background_8inch, \"Gamma Bckg\", \"l\");\n",
    "leg0->AddEntry(Neutrons_8inch_DC, \"Neutron Signal\", \"l\");\n",
    "leg0->Draw(\"SAME\");\n",
    "\n",
    "leg0->SetLineWidth(0);\n",
    "\n",
    "\n",
    "C->cd();\n",
    "TPad *p1 = new TPad(\"p1\",\"p1\",0.,0.02,0.795,0.375);\n",
    "p1->Draw();\n",
    "p1->cd();\n",
    "p1->SetLeftMargin(0.12);\n",
    "p1->SetRightMargin(0.03);\n",
    "p1->SetBottomMargin(0.2);\n",
    "p1->SetTopMargin(0.04);\n",
    "\n",
    "histosRes_DC_8inch = Residuals_vec(hCal_DC_8inch, SignalandBackground_8inch_DC, Emin_fit, Emax_fit, true);\n",
    "hRes_DC_8inch=histosRes_DC_8inch[0];\n",
    "hRes_DC_8inch->GetYaxis()->SetTitle(\"Residuals [%]\");\n",
    "hRes_DC_8inch->GetYaxis()->SetTitleOffset(0.65);\n",
    "hRes_DC_8inch->GetYaxis()->SetTitleSize(1.8*hCal_DC_8inch->GetYaxis()->GetTitleSize());\n",
    "hRes_DC_8inch->GetXaxis()->SetTitleSize(1.8*hCal_DC_8inch->GetXaxis()->GetTitleSize());\n",
    "hRes_DC_8inch->GetYaxis()->SetLabelSize(1.8*hCal_DC_8inch->GetYaxis()->GetLabelSize());\n",
    "hRes_DC_8inch->GetXaxis()->SetLabelSize(1.8*hCal_DC_8inch->GetXaxis()->GetLabelSize());\n",
    "hRes_DC_8inch->Draw(\"\");\n",
    "\n",
    "h_10pc->Draw(\"E3SAME\");\n",
    "\n",
    "TLegend* leg = new TLegend(0.16, 0.25, 0.3, 0.35);\n",
    "leg->AddEntry(h_10pc, \"#pm 10%\", \"f\");\n",
    "leg->Draw(\"SAME\");\n",
    "leg->SetLineWidth(0);\n",
    "\n",
    "\n",
    "C->cd();\n",
    "TPad *p2 = new TPad(\"p2\",\"p2\",0.795,0.02,1.,0.375);\n",
    "p2->Draw();\n",
    "p2->cd();\n",
    "p2->SetLeftMargin(0.15);\n",
    "p2->SetBottomMargin(0.2);\n",
    "p2->SetTopMargin(0.04);\n",
    "\n",
    "hRedRes_DC_8inch=histosRes_DC_8inch[1];\n",
    "hRedRes_DC_8inch->Draw(\"\");\n",
    "hRedRes_DC_8inch->GetXaxis()->SetTitle(\"Residuals [#sigma]\");\n",
    "hRedRes_DC_8inch->GetYaxis()->SetTitleSize(3.*hCal_DC_8inch->GetYaxis()->GetTitleSize());\n",
    "hRedRes_DC_8inch->GetXaxis()->SetTitleSize(2.7*hCal_DC_8inch->GetXaxis()->GetTitleSize());\n",
    "hRedRes_DC_8inch->GetXaxis()->SetTitleOffset(0.7);\n",
    "hRedRes_DC_8inch->GetYaxis()->SetLabelSize(2.7*hCal_DC_8inch->GetYaxis()->GetLabelSize());\n",
    "hRedRes_DC_8inch->GetXaxis()->SetLabelSize(2.7*hCal_DC_8inch->GetXaxis()->GetLabelSize());\n",
    "hRedRes_DC_8inch->GetXaxis()->SetNdivisions(5);\n",
    "\n",
    "C->SaveAs(\"Figs/Finals/Fit_DC_8inch.pdf\");"
   ]
  },
  {
   "cell_type": "markdown",
   "id": "6067d2b6",
   "metadata": {},
   "source": [
    "The low energy part is less well fitted: the gamma background chosen is limited + neutron contribution? At high energy, the background seems a bit underestimated: problem of model or only stat. effect ?"
   ]
  },
  {
   "cell_type": "markdown",
   "id": "a1d5b377",
   "metadata": {},
   "source": [
    "### VNS"
   ]
  },
  {
   "cell_type": "code",
   "execution_count": 123,
   "id": "457aa0cb",
   "metadata": {},
   "outputs": [
    {
     "name": "stdout",
     "output_type": "stream",
     "text": [
      "\n",
      "*******************************************************\n",
      "Measures@VNS/2022-05-10_BS-A-06_RT_1133460.81_LV_1133048.44.dat\n",
      "\n",
      "*******************************************************\n",
      "Measures@VNS/2022-05-25_BS-A-06_RT_1268564.89_LV_1268171.79.dat\n",
      "\n",
      "*******************************************************\n",
      "Measures@VNS/2022-06-23_BS-A-06_RT_1374109.40_LV_1373731.67.dat\n",
      "\n",
      "*******************************************************\n",
      "Measures@VNS/2022-07-27_BS-A-06_RT_674093.29_LV_673979.29.dat\n"
     ]
    }
   ],
   "source": [
    "TH1D* h_VNS_8inch_1 = Put_data_in_histo(\"Measures@VNS/2022-05-10_BS-A-06_RT_1133460.81_LV_1133048.44.dat\", 1133460.81, \"8inch at VNS - 1\");\n",
    "h_VNS_8inch_1->Rebin(4);\n",
    "h_VNS_8inch_1->Scale(1/4.);\n",
    "\n",
    "TH1D* h_VNS_8inch_2 = Put_data_in_histo(\"Measures@VNS/2022-05-25_BS-A-06_RT_1268564.89_LV_1268171.79.dat\", 1268564.89, \"8inch at VNS - 2\");\n",
    "h_VNS_8inch_2->Rebin(4);\n",
    "h_VNS_8inch_2->Scale(1/4.);\n",
    "\n",
    "TH1D* h_VNS_8inch_3 = Put_data_in_histo(\"Measures@VNS/2022-06-23_BS-A-06_RT_1374109.40_LV_1373731.67.dat\", 1374109.40, \"8inch at VNS - 3\");\n",
    "h_VNS_8inch_3->Rebin(4);\n",
    "h_VNS_8inch_3->Scale(1/4.);\n",
    "\n",
    "TH1D* h_VNS_8inch_4 = Put_data_in_histo(\"Measures@VNS/2022-07-27_BS-A-06_RT_674093.29_LV_673979.29.dat\", 674093.29, \"8inch at VNS - 4\");\n",
    "h_VNS_8inch_4->Rebin(4);\n",
    "h_VNS_8inch_4->Scale(1/4.);"
   ]
  },
  {
   "cell_type": "code",
   "execution_count": 124,
   "id": "8734507f",
   "metadata": {},
   "outputs": [],
   "source": [
    "TH1D* h_VNS_8inch_sum = (TH1D*) h_VNS_8inch_1->Clone();\n",
    "h_VNS_8inch_sum->Add(h_VNS_8inch_sum, h_VNS_8inch_2, 1/4., 1/4.); \n",
    "h_VNS_8inch_sum->Add(h_VNS_8inch_sum, h_VNS_8inch_3, 1, 1/4.);\n",
    "h_VNS_8inch_sum->Add(h_VNS_8inch_sum, h_VNS_8inch_4, 1, 1/4.);\n",
    "h_VNS_8inch_sum->SetTitle(\"8inch at VNS - sum\");"
   ]
  },
  {
   "cell_type": "code",
   "execution_count": 125,
   "id": "c26d52d2",
   "metadata": {},
   "outputs": [],
   "source": [
    "TH1D* hCal_VNS_8inch = Calibrate_histo(h_VNS_8inch_sum, Gain, Form(\"%s_keVee\", h_VNS_8inch_sum->GetTitle()), Offset);"
   ]
  },
  {
   "cell_type": "code",
   "execution_count": 126,
   "id": "12dfb930",
   "metadata": {},
   "outputs": [
    {
     "data": {
      "image/png": "[encoded data removed]",
      "text/plain": [
       "<IPython.core.display.Image object>"
      ]
     },
     "metadata": {},
     "output_type": "display_data"
    }
   ],
   "source": [
    "TCanvas* C = new TCanvas();\n",
    "C->Draw();\n",
    "C->SetLogy();\n",
    "hCal_VNS_8inch->Draw();\n",
    "hCal_VNS_9inch->Draw(\"SAME\");"
   ]
  },
  {
   "cell_type": "code",
   "execution_count": 127,
   "id": "3f21e640",
   "metadata": {},
   "outputs": [
    {
     "name": "stdout",
     "output_type": "stream",
     "text": [
      " FCN=259.861 FROM MIGRAD    STATUS=CONVERGED     210 CALLS         211 TOTAL\n",
      "                     EDM=7.47744e-07    STRATEGY= 1      ERROR MATRIX ACCURATE \n",
      "  EXT PARAMETER                                   STEP         FIRST   \n",
      "  NO.   NAME      VALUE            ERROR          SIZE      DERIVATIVE \n",
      "   1  Norm_muons   1.10410e-01   1.05959e-03   6.31680e-06   1.45031e+00\n",
      "   2  Norm_gammas   1.16311e+00   1.05704e-02   6.30173e-05   6.71680e-02\n",
      "   3  Norm_Neutr   3.22897e-11   2.29568e-03   2.39368e-04** at limit **\n",
      "   4  Mean_gauss   2.80407e+03   5.22285e+02   5.00000e-01   2.90888e-08\n",
      "   5  Sigma_gauss   2.23979e+02     fixed    \n",
      " FCN=250.381 FROM MIGRAD    STATUS=CONVERGED     129 CALLS         130 TOTAL\n",
      "                     EDM=1.28322e-07    STRATEGY= 1      ERROR MATRIX ACCURATE \n",
      "  EXT PARAMETER                                   STEP         FIRST   \n",
      "  NO.   NAME      VALUE            ERROR          SIZE      DERIVATIVE \n",
      "   1  Norm_muons   1.09239e-01   1.12692e-03   6.20095e-06   4.00746e-01\n",
      "   2  Norm_gammas   1.17059e+00   1.08512e-02   6.18616e-05  -3.05043e-03\n",
      "   3  Norm_Neutr   4.83820e-03   1.58466e-03   5.20375e-05  -3.05983e-03\n",
      "   4  Mean_gauss   3.13687e+03   6.18635e+01   1.36434e-03   7.45632e-04\n",
      "   5  Sigma_gauss   2.23979e+02     fixed    \n",
      "\n",
      "Chi2/ndf = 250.381/103 = 2.43088\n",
      "\n",
      "Total N_ev in peak region = 59.0773 ev/d +- 1.12157 ev/d\n",
      "N_ev in neutron peak from fit = 2.70937 ev/d +- 0.887409 ev/d (error from normalization error only!)\n",
      "N_ev in background = 56.0758 ev/d +- 0.443532 ev/d\n",
      "N_ev in neutron peak from data - bckg = 3.00155 ev/d +- 1.20608 ev/d\n"
     ]
    }
   ],
   "source": [
    "SignalandBackground_8inch_VNS->SetParameter(3, 3000);\n",
    "SignalandBackground_8inch_VNS->SetParLimits(3, 2800, 3500);\n",
    "SignalandBackground_8inch_VNS->SetParameter(2, 1);\n",
    "SignalandBackground_8inch_VNS->SetParLimits(2, 0, 10);\n",
    "\n",
    "TFitResultPtr r_8_VNS = hCal_VNS_8inch->Fit(SignalandBackground_8inch_VNS, \"SR0\", \"\", Emin_fit, Emax_fit);\n",
    "r_8_VNS = hCal_VNS_8inch->Fit(SignalandBackground_8inch_VNS, \"SR0\", \"\", Emin_fit, Emax_fit);\n",
    "\n",
    "TMatrixD CovMat_8_VNS = r_8_VNS->GetCovarianceMatrix();\n",
    "\n",
    "//CovMat_8_VNS.Print();\n",
    "\n",
    "Double_t err_norm_NP_8_VNS = sqrt(CovMat_8_VNS(2,2));\n",
    "Double_t norm_NP_8_VNS = SignalandBackground_8inch_VNS->GetParameter(2);\n",
    "\n",
    "Double_t err_norm_Bkg_8_VNS = sqrt(CovMat_8_VNS(0,0)+CovMat_8_VNS(1,1)+2*CovMat_8_VNS(0,1));\n",
    "Double_t norm_Bckg_8_VNS = SignalandBackground_8inch_VNS->GetParameter(0)+SignalandBackground_8inch_VNS->GetParameter(1);\n",
    "\n",
    "Double_t Norm_mu_8_VNS = SignalandBackground_8inch_VNS->GetParameter(0);\n",
    "Double_t err_Norm_mu_8_VNS = SignalandBackground_8inch_VNS->GetParError(0);\n",
    "\n",
    "Sum_background_8inch_VNS->SetParameter(0, Norm_mu_8_VNS);\n",
    "Sum_background_8inch_VNS->SetParameter(1, SignalandBackground_8inch_VNS->GetParameter(1));\n",
    "\n",
    "Muon_background_8inch_VNS->SetParameter(0, SignalandBackground_8inch_VNS->GetParameter(0));\n",
    "Gamma_background_8inch->SetParameter(0, SignalandBackground_8inch_VNS->GetParameter(1));\n",
    "\n",
    "Neutrons_8inch_VNS->SetParameter(0, SignalandBackground_8inch_VNS->GetParameter(2));\n",
    "Neutrons_8inch_VNS->SetParameter(1, SignalandBackground_8inch_VNS->GetParameter(3));\n",
    "Neutrons_8inch_VNS->SetParameter(2, SignalandBackground_8inch_VNS->GetParameter(4));\n",
    "\n",
    "Double_t N_ev_tot_8_VNS = SignalandBackground_8inch_VNS->Integral(Emin, Emax);\n",
    "Double_t N_ev_NP_8_VNS = Neutrons_8inch_VNS->Integral(Emin, Emax);\n",
    "Double_t err_N_ev_NP_8_VNS = (err_norm_NP_8_VNS/norm_NP_8_VNS)*Neutrons_8inch_VNS->Integral(Emin, Emax);\n",
    "Double_t N_ev_BKG_8_VNS = Sum_background_8inch_VNS->Integral(Emin, Emax);\n",
    "Double_t err_N_ev_BKG_8_VNS = (err_norm_Bkg_8_VNS/norm_Bckg_8_VNS)*Sum_background_8inch_VNS->Integral(Emin, Emax);\n",
    "\n",
    "Double_t err_N_ev_data_8_VNS;\n",
    "Double_t N_ev_data_8_VNS = hCal_VNS_8inch->IntegralAndError(hCal_VNS_8inch->FindBin(Emin), hCal_VNS_8inch->FindBin(Emax), err_N_ev_data_8_VNS, \"width\");\n",
    "\n",
    "Double_t err_N_ev_data_NP_8_VNS = sqrt(err_N_ev_data_8_VNS*err_N_ev_data_8_VNS + err_N_ev_BKG_8_VNS*err_N_ev_BKG_8_VNS);\n",
    "Double_t N_ev_data_NP_8_VNS = N_ev_data_8_VNS-N_ev_BKG_8_VNS;\n",
    "\n",
    "cout<<\"\\nChi2/ndf = \"<<SignalandBackground_8inch_VNS->GetChisquare()<<\"/\"<<SignalandBackground_8inch_VNS->GetNDF()<<\" = \"<<SignalandBackground_8inch_VNS->GetChisquare()/SignalandBackground_8inch_VNS->GetNDF()<<endl;\n",
    "cout<<\"\\nTotal N_ev in peak region = \"<<N_ev_data_8_VNS<<\" ev/d +- \"<<err_N_ev_data_8_VNS<<\" ev/d\"<<endl;\n",
    "cout<<\"N_ev in neutron peak from fit = \"<<N_ev_NP_8_VNS<<\" ev/d +- \"<<err_N_ev_NP_8_VNS<<\" ev/d (error from normalization error only!)\"<<endl;\n",
    "cout<<\"N_ev in background = \"<<N_ev_BKG_8_VNS<<\" ev/d +- \"<<err_N_ev_BKG_8_VNS<<\" ev/d\"<<endl;\n",
    "cout<<\"N_ev in neutron peak from data - bckg = \"<<N_ev_data_NP_8_VNS<<\" ev/d +- \"<<err_N_ev_data_NP_8_VNS<<\" ev/d\"<<endl;"
   ]
  },
  {
   "cell_type": "code",
   "execution_count": 128,
   "id": "488c5a4f",
   "metadata": {},
   "outputs": [
    {
     "data": {
      "image/png": "[encoded data removed]",
      "text/plain": [
       "<IPython.core.display.Image object>"
      ]
     },
     "metadata": {},
     "output_type": "display_data"
    },
    {
     "name": "stderr",
     "output_type": "stream",
     "text": [
      "Warning in <TFile::Append>: Replacing existing TH1: Reduced_res_ (Potential memory leak).\n",
      "Info in <TCanvas::Print>: pdf file Figs/Finals/Fit_VNS_8inch.pdf has been created\n"
     ]
    }
   ],
   "source": [
    "TCanvas* C = new TCanvas(\"cVNS_8inch\", \"cVNS_8inch\", 800, 700);\n",
    "C->Draw();\n",
    "TPad *p0 = new TPad(\"p0\",\"p0\",0.02,0.375,0.795,1.);\n",
    "p0->Draw();\n",
    "p0->cd();\n",
    "p0->SetLeftMargin(0.1);\n",
    "p0->SetRightMargin(0.03);\n",
    "p0->SetBottomMargin(0.1);\n",
    "p0->SetTopMargin(0.02);\n",
    "\n",
    "p0->SetLogy();\n",
    "hCal_VNS_8inch->Draw(\"\");\n",
    "hCal_VNS_8inch->GetXaxis()->SetTitleOffset(1.1);\n",
    "hCal_VNS_8inch->GetXaxis()->SetTitleOffset(1.2);\n",
    "hCal_VNS_8inch->SetTitle(0);\n",
    "hCal_VNS_8inch->GetYaxis()->SetRangeUser(1e-5, 10);\n",
    "SignalandBackground_8inch_VNS->SetLineColor(kBlack);\n",
    "Sum_background_8inch_VNS->SetLineColor(kBlue);\n",
    "Sum_background_8inch_VNS->Draw(\"SAME\");\n",
    "Muon_background_8inch_VNS->SetLineColor(kOrange);\n",
    "Gamma_background_8inch->SetLineColor(kRed);\n",
    "Muon_background_8inch_VNS->Draw(\"SAME\");\n",
    "Gamma_background_8inch->Draw(\"SAME\");\n",
    "Gamma_background_8inch->SetLineStyle(6);\n",
    "Sum_background_8inch_VNS->Draw(\"SAME\");\n",
    "SignalandBackground_8inch_VNS->Draw(\"SAME\");\n",
    "Neutrons_8inch_VNS->SetLineColor(kMagenta+1);\n",
    "Neutrons_8inch_VNS->SetLineStyle(2);\n",
    "Neutrons_8inch_VNS->Draw(\"SAME\");\n",
    "Sum_background_8inch_VNS->SetLineStyle(4);\n",
    "Sum_background_8inch_VNS->SetLineColor(kCyan+2);\n",
    "Sum_background_8inch_VNS->Draw(\"SAME\");\n",
    "\n",
    "TLegend* leg0 = new TLegend(0.7, 0.75, 0.95, 0.95);\n",
    "leg0->AddEntry(Sum_background_8inch_VNS, \"Background\", \"l\");\n",
    "leg0->AddEntry(SignalandBackground_8inch_VNS, \"Signal and Bckg\", \"l\");\n",
    "leg0->AddEntry(Muon_background_8inch_VNS, \"Muon Bckg\", \"l\");\n",
    "leg0->AddEntry(Gamma_background_8inch, \"Gamma Bckg\", \"l\");\n",
    "leg0->AddEntry(Neutrons_8inch_VNS, \"Neutron Signal\", \"l\");\n",
    "leg0->SetLineWidth(0);\n",
    "leg0->Draw(\"SAME\");\n",
    "\n",
    "C->cd();\n",
    "TPad *p1 = new TPad(\"p1\",\"p1\",0.,0.02,0.795,0.375);\n",
    "p1->Draw();\n",
    "p1->cd();\n",
    "p1->SetLeftMargin(0.12);\n",
    "p1->SetRightMargin(0.03);\n",
    "p1->SetBottomMargin(0.2);\n",
    "p1->SetTopMargin(0.04);\n",
    "\n",
    "histosRes_VNS_8inch = Residuals_vec(hCal_VNS_8inch, SignalandBackground_8inch_VNS, Emin_fit, Emax_fit, true);\n",
    "hRes_VNS_8inch=histosRes_VNS_8inch[0];\n",
    "hRes_VNS_8inch->GetYaxis()->SetTitle(\"Residuals [%]\");\n",
    "hRes_VNS_8inch->GetYaxis()->SetTitleOffset(0.65);\n",
    "hRes_VNS_8inch->GetYaxis()->SetTitleSize(1.8*hCal_VNS_8inch->GetYaxis()->GetTitleSize());\n",
    "hRes_VNS_8inch->GetXaxis()->SetTitleSize(1.8*hCal_VNS_8inch->GetXaxis()->GetTitleSize());\n",
    "hRes_VNS_8inch->GetYaxis()->SetLabelSize(1.8*hCal_VNS_8inch->GetYaxis()->GetLabelSize());\n",
    "hRes_VNS_8inch->GetXaxis()->SetLabelSize(1.8*hCal_VNS_8inch->GetXaxis()->GetLabelSize());\n",
    "hRes_VNS_8inch->Draw(\"\");\n",
    "\n",
    "h_10pc->Draw(\"E3SAME\");\n",
    "\n",
    "\n",
    "TLegend* leg = new TLegend(0.16, 0.25, 0.3, 0.35);\n",
    "leg->AddEntry(h_10pc, \"#pm 10%\", \"f\");\n",
    "leg->Draw(\"SAME\");\n",
    "leg->SetLineWidth(0);\n",
    "\n",
    "\n",
    "C->cd();\n",
    "TPad *p2 = new TPad(\"p2\",\"p2\",0.795,0.02,1.,0.375);\n",
    "p2->Draw();\n",
    "p2->cd();\n",
    "p2->SetLeftMargin(0.15);\n",
    "p2->SetBottomMargin(0.2);\n",
    "p2->SetTopMargin(0.04);\n",
    "\n",
    "hRedRes_VNS_8inch=histosRes_VNS_8inch[1];\n",
    "hRedRes_VNS_8inch->Draw(\"\");\n",
    "hRedRes_VNS_8inch->GetXaxis()->SetTitle(\"Residuals [#sigma]\");\n",
    "hRedRes_VNS_8inch->GetYaxis()->SetTitleSize(3.*hCal_VNS_8inch->GetYaxis()->GetTitleSize());\n",
    "hRedRes_VNS_8inch->GetXaxis()->SetTitleSize(2.7*hCal_VNS_8inch->GetXaxis()->GetTitleSize());\n",
    "hRedRes_VNS_8inch->GetXaxis()->SetTitleOffset(0.7);\n",
    "hRedRes_VNS_8inch->GetYaxis()->SetLabelSize(2.7*hCal_VNS_8inch->GetYaxis()->GetLabelSize());\n",
    "hRedRes_VNS_8inch->GetXaxis()->SetLabelSize(2.7*hCal_VNS_8inch->GetXaxis()->GetLabelSize());\n",
    "hRedRes_VNS_8inch->GetXaxis()->SetNdivisions(5);\n",
    "\n",
    "C->SaveAs(\"Figs/Finals/Fit_VNS_8inch.pdf\");"
   ]
  },
  {
   "cell_type": "markdown",
   "id": "80998bf6-cac1-4838-9f04-7cf462aa7703",
   "metadata": {},
   "source": [
    "# Plot muon and gamma functions"
   ]
  },
  {
   "cell_type": "code",
   "execution_count": 183,
   "id": "1a9dc3e0-0a0d-40e7-8bd8-b5986c79fa3d",
   "metadata": {},
   "outputs": [
    {
     "data": {
      "image/png": "[encoded data removed]",
      "text/plain": [
       "<IPython.core.display.Image object>"
      ]
     },
     "metadata": {},
     "output_type": "display_data"
    },
    {
     "name": "stderr",
     "output_type": "stream",
     "text": [
      "Info in <TCanvas::Print>: png file /Users/cg264002/research/Redaction_These/Figures/Chap3/Neutrons/ModelSpectra_BS.png has been created\n"
     ]
    }
   ],
   "source": [
    "TCanvas* C = new TCanvas();\n",
    "C->Draw();\n",
    "gPad->SetLeftMargin(0.1);\n",
    "gPad->SetRightMargin(0.03);\n",
    "gPad->SetBottomMargin(0.1);\n",
    "gPad->SetTopMargin(0.02);\n",
    "gPad->SetLogy();\n",
    "\n",
    "Muon_shape_8inch_VNS->SetTitle(\"\");\n",
    "Muon_shape_9inch_VNS->SetLineColor(kBlack);\n",
    "Muon_shape_8inch_VNS->SetLineColor(kRed);\n",
    "Muon_shape_8inch_VNS->SetLineStyle(1);\n",
    "Muon_shape_8inch_VNS->GetXaxis()->SetRangeUser(400, 4500);\n",
    "Muon_shape_8inch_VNS->GetYaxis()->SetRangeUser(0.01, 10);\n",
    "\n",
    "Muon_shape_8inch_VNS->Draw(\"L\");\n",
    "Muon_shape_9inch_VNS->Draw(\"L SAME\");\n",
    "Muon_shape_9inch_VNS->SetLineStyle(1);\n",
    "\n",
    "Gamma_shape_8inch->SetTitle(\"\");\n",
    "Gamma_shape_9inch->SetLineColor(kBlack);\n",
    "Gamma_shape_8inch->SetLineColor(kRed);\n",
    "Gamma_shape_8inch->SetLineStyle(2);\n",
    "\n",
    "Gamma_shape_8inch->Draw(\"RL SAME\");\n",
    "Gamma_shape_9inch->Draw(\"RL SAME\");\n",
    "Gamma_shape_9inch->SetLineStyle(2);\n",
    "\n",
    "Muon_shape_8inch_VNS->GetYaxis()->SetTitle(\"Counts d^{-1} keVee^{-1}\");\n",
    "Muon_shape_8inch_VNS->GetXaxis()->SetTitle(\"Calibrated energy [keVee]\");\n",
    "\n",
    "TLegend* leg0 = new TLegend(0.8, 0.6, 0.97, 0.97);\n",
    "leg0->SetTextSize(0.05);\n",
    "leg0->AddEntry(Gamma_shape_8inch, \"S_{#gamma}^{BS-A-06}\", \"l\");\n",
    "leg0->AddEntry(Gamma_shape_9inch, \"S_{#gamma}^{BS-EXT}\", \"l\");\n",
    "leg0->AddEntry(Muon_shape_8inch_VNS, \"S_{#mu}^{BS-A-06}\", \"l\");\n",
    "leg0->AddEntry(Muon_shape_9inch_VNS, \"S_{#mu}^{BS-EXT}\", \"l\");\n",
    "leg0->SetLineWidth(0);\n",
    "leg0->Draw(\"SAME\");\n",
    "\n",
    "C->SaveAs(\"/Users/cg264002/research/Redaction_These/Figures/Chap3/Neutrons/ModelSpectra_BS.png\");"
   ]
  },
  {
   "cell_type": "code",
   "execution_count": 130,
   "id": "df82bffa-5417-4361-920b-f06dd9623515",
   "metadata": {},
   "outputs": [
    {
     "data": {
      "image/png": "[encoded data removed]",
      "text/plain": [
       "<IPython.core.display.Image object>"
      ]
     },
     "metadata": {},
     "output_type": "display_data"
    }
   ],
   "source": [
    "TCanvas* C = new TCanvas();\n",
    "C->Draw();\n",
    "gPad->SetLeftMargin(0.1);\n",
    "gPad->SetRightMargin(0.03);\n",
    "gPad->SetBottomMargin(0.1);\n",
    "gPad->SetTopMargin(0.02);\n",
    "gPad->SetLogy();\n",
    "\n",
    "\n",
    "Muon_shape_8inch_VNS->GetYaxis()->SetTitle(\"Arbitrary scale []\");\n",
    "Muon_shape_8inch_VNS->GetXaxis()->SetTitle(\"Calibrated energy [keVee]\");"
   ]
  },
  {
   "cell_type": "raw",
   "id": "f31227a3",
   "metadata": {},
   "source": [
    "## Systematics estimate calculation"
   ]
  },
  {
   "cell_type": "raw",
   "id": "169ffb29",
   "metadata": {},
   "source": [
    "Same procedure as presented in the 9 inch part."
   ]
  },
  {
   "cell_type": "raw",
   "id": "048906cb",
   "metadata": {},
   "source": [
    "int NDraw = 500;\n",
    "vector<Double_t> N_ev_data_8_NP_VNS;\n",
    "vector<Double_t> N_ev_data_8_NP_DC;\n",
    "\n",
    "Double_t N_ev_bck, N_ev_data, N_ev_data_NP;\n",
    "\n",
    "for (int i=0; i<NDraw; i++){\n",
    "    \n",
    "    //Surface\n",
    "    SignalandBackground_8inch->SetParameter(3, 3500);\n",
    "    SignalandBackground_8inch->SetParLimits(3, 3300, 3700);\n",
    "    SignalandBackground_8inch->SetParameter(2, 1);\n",
    "    \n",
    "    TH1D* new_histo_DC = Ramdom_new_spectrum(hCal_DC_8inch, 1e7, Form(\"Random_DC_8inch_%d\", i));\n",
    "    new_histo_DC->Fit(SignalandBackground_8inch, \"QSR\", \"\", 400, 5000);\n",
    "    \n",
    "    Sum_background_8inch->SetParameter(0, SignalandBackground_8inch->GetParameter(0));\n",
    "    Sum_background_8inch->SetParameter(1, SignalandBackground_8inch->GetParameter(1));\n",
    "    \n",
    "    N_ev_bck = Sum_background_8inch->Integral(2500, 4500);\n",
    "    N_ev_data = new_histo_DC->Integral(new_histo_DC->FindBin(2500), new_histo_DC->FindBin(4500), \"width\");\n",
    "    \n",
    "    N_ev_data_8_NP_DC.push_back(N_ev_data-N_ev_bck);\n",
    "    \n",
    "    new_histo_DC->Delete();\n",
    "    \n",
    "    //VNS\n",
    "    TH1D* new_histo_VNS = Ramdom_new_spectrum(hCal_VNS_8inch, 1e7, Form(\"Random_VNS_9inch_%d\", i));\n",
    "    SignalandBackground_8inch->FixParameter(4, SignalandBackground_8inch->GetParameter(4)); //Fix the sigma value of the neutron peak\n",
    "    new_histo_VNS->Fit(SignalandBackground_8inch, \"QSR\", \"\", 400, 5000);\n",
    "    \n",
    "    Sum_background_8inch->SetParameter(0, SignalandBackground_8inch->GetParameter(0));\n",
    "    Sum_background_8inch->SetParameter(1, SignalandBackground_8inch->GetParameter(1));\n",
    "    \n",
    "    N_ev_bck = Sum_background_8inch->Integral(2500, 4500);\n",
    "    N_ev_data = new_histo_VNS->Integral(new_histo_VNS->FindBin(2500), new_histo_VNS->FindBin(4500), \"width\");\n",
    "    \n",
    "    N_ev_data_8_NP_VNS.push_back(N_ev_data-N_ev_bck);\n",
    "    \n",
    "    new_histo_VNS->Delete();\n",
    "}"
   ]
  },
  {
   "cell_type": "raw",
   "id": "ef569797",
   "metadata": {},
   "source": [
    "cout<<\"------------------------------ VNS -------------------------------\"<<endl;\n",
    "err_Syst_N_ev_data_NP_8_VNS = Sigma(N_ev_data_8_NP_VNS);\n",
    "cout<<\" 8inch: \"<< N_ev_data_NP_8_VNS << \" +- \" << err_N_ev_data_NP_8_VNS<<\" (stat.) \"<< err_Syst_N_ev_data_NP_8_VNS<<\" (syst.) ev/d\"<<endl;\n",
    "\n",
    "cout<<\"\\n------------------------ Surface (DCHut) -----------------------\"<<endl;\n",
    "err_Syst_N_ev_data_NP_8_DC = Sigma(N_ev_data_8_NP_DC);\n",
    "cout<<\" 8inch: \"<< N_ev_data_NP_8_DC << \" +- \" << err_N_ev_data_NP_8_DC<<\" (stat.) \"<< err_Syst_N_ev_data_NP_8_DC<<\" (syst.) ev/d\"<<endl;"
   ]
  },
  {
   "cell_type": "markdown",
   "id": "e30d13b3",
   "metadata": {},
   "source": [
    "# Attenuation from VNS\n"
   ]
  },
  {
   "cell_type": "markdown",
   "id": "7d7464a6",
   "metadata": {},
   "source": [
    "The >10 MeV neutron contribution is expected to be extracted from the difference between the number of events with the 9inch and the 8inch spheres. "
   ]
  },
  {
   "cell_type": "markdown",
   "id": "ba13aade",
   "metadata": {},
   "source": [
    "## First \"naive\" calculation of the attenuation"
   ]
  },
  {
   "cell_type": "code",
   "execution_count": 131,
   "id": "7871f477",
   "metadata": {},
   "outputs": [
    {
     "name": "stdout",
     "output_type": "stream",
     "text": [
      "------------------------------ VNS -------------------------------\n",
      " 9inch: 9.87792 +- 1.05824 (stat.) \n",
      " 8inch: 2.70937 +- 0.887409 (stat.) \n",
      "\n",
      "------------------------ Surface (DCHut) -----------------------\n",
      " 9inch: 144.291 +- 3.35579 (stat.) \n",
      " 8inch: 96.1152 +- 3.67596 (stat.) \n"
     ]
    }
   ],
   "source": [
    "cout<<\"------------------------------ VNS -------------------------------\"<<endl;\n",
    "cout<<\" 9inch: \"<< N_ev_NP_VNS << \" +- \" << err_N_ev_NP_VNS<<\" (stat.) \"<<endl;\n",
    "cout<<\" 8inch: \"<< N_ev_NP_8_VNS << \" +- \" << err_N_ev_NP_8_VNS<<\" (stat.) \"<<endl;\n",
    "\n",
    "cout<<\"\\n------------------------ Surface (DCHut) -----------------------\"<<endl;\n",
    "cout<<\" 9inch: \"<< N_ev_NP_DC << \" +- \" << err_N_ev_NP_DC<<\" (stat.) \"<<endl;\n",
    "cout<<\" 8inch: \"<< N_ev_NP_8_DC << \" +- \" << err_N_ev_NP_8_DC<<\" (stat.) \"<<endl;"
   ]
  },
  {
   "cell_type": "code",
   "execution_count": 132,
   "id": "6f697ff4",
   "metadata": {},
   "outputs": [
    {
     "name": "stdout",
     "output_type": "stream",
     "text": [
      ">10MeV Neutron contribution\n",
      "----------------------------\n",
      "Surface: 45.03 +- 4.28514 (stat.) +- 3.23025 (syst. ) ev/d\n",
      "VNS: 5.68 +- 1.42025 (stat.) +- 1.25399 (syst. ) ev/d\n"
     ]
    }
   ],
   "source": [
    "//FastNeutrons_Surface = N_ev_NP_DC-N_ev_NP_8_DC;\n",
    "//err_FastNeutrons_Surface = sqrt(err_N_ev_NP_DC*err_N_ev_NP_DC+err_N_ev_NP_8_DC*err_N_ev_NP_8_DC);\n",
    "\n",
    "//FastNeutrons_VNS = N_ev_NP_VNS-N_ev_NP_8_VNS;\n",
    "//err_FastNeutrons_VNS = sqrt(err_N_ev_NP_VNS*err_N_ev_NP_VNS+err_N_ev_NP_8_VNS*err_N_ev_NP_8_VNS);\n",
    "\n",
    "mean_Surface = 143.65-98.62;\n",
    "mean_VNS = 8.76-3.08;\n",
    "\n",
    "mean_err_stat_Surface = sqrt(3.32*3.32+3.67+3.67);\n",
    "mean_err_stat_VNS = sqrt(1.07*1.07+0.89*0.98);\n",
    "\n",
    "errSyst_FastNeutrons_Surface = sqrt(0.67*0.67+3.16*3.16);\n",
    "errSyst_FastNeutrons_VNS = sqrt(0.67*0.67+1.06*1.06);\n",
    "\n",
    "cout<< \">10MeV Neutron contribution\"<<endl;\n",
    "cout<< \"----------------------------\"<<endl;\n",
    "cout<<\"Surface: \"<<mean_Surface<<\" +- \"<<mean_err_stat_Surface<<\" (stat.)\" <<\" +- \"<< errSyst_FastNeutrons_Surface <<\" (syst. ) ev/d\"<<endl;\n",
    "cout<<\"VNS: \"<<mean_VNS<<\" +- \"<<mean_err_stat_VNS<<\" (stat.)\"<< \" +- \" <<errSyst_FastNeutrons_VNS <<\" (syst. ) ev/d\"<<endl;\n"
   ]
  },
  {
   "cell_type": "code",
   "execution_count": 133,
   "id": "e135bd3a",
   "metadata": {},
   "outputs": [
    {
     "name": "stdout",
     "output_type": "stream",
     "text": [
      "Ratio = 7.92782 +- 0.377246 (stat. only)\n"
     ]
    }
   ],
   "source": [
    "Ratio = mean_Surface/mean_VNS;\n",
    "err_Ratio = Ratio*sqrt((mean_err_stat_VNS/mean_VNS)*(mean_err_stat_Surface/mean_Surface)*(mean_err_stat_Surface/mean_Surface));\n",
    "\n",
    "cout<<\"Ratio = \"<<Ratio<<\" +- \"<<err_Ratio<< \" (stat. only)\" << endl; "
   ]
  },
  {
   "cell_type": "markdown",
   "id": "b4f1981c",
   "metadata": {},
   "source": [
    "<b>Aside</b>: Let's check the consistency of the attenuation observed for muons"
   ]
  },
  {
   "cell_type": "code",
   "execution_count": 134,
   "id": "7afdc241",
   "metadata": {},
   "outputs": [
    {
     "name": "stdout",
     "output_type": "stream",
     "text": [
      "Muons attenuation in 8inch = 1.86683 +- 0.0279511\n",
      "Muons attenuation in 9inch = 2.18225 +- 0.0293156\n"
     ]
    }
   ],
   "source": [
    "cout<<\"Muons attenuation in 8inch = \"<<Norm_mu_8_DC/Norm_mu_8_VNS<<\" +- \"<<(Norm_mu_8_DC/Norm_mu_8_VNS)*sqrt((err_Norm_mu_8_DC/Norm_mu_8_DC)*(err_Norm_mu_8_DC/Norm_mu_8_DC)+(err_Norm_mu_8_VNS/Norm_mu_8_VNS)*(err_Norm_mu_8_VNS/Norm_mu_8_VNS))<<endl;\n",
    "cout<<\"Muons attenuation in 9inch = \"<<Norm_mu_9_DC/Norm_mu_9_VNS<<\" +- \"<<(Norm_mu_9_DC/Norm_mu_9_VNS)*sqrt((err_Norm_mu_9_DC/Norm_mu_9_DC)*(err_Norm_mu_9_DC/Norm_mu_9_DC)+(err_Norm_mu_9_VNS/Norm_mu_9_VNS)*(err_Norm_mu_9_VNS/Norm_mu_9_VNS))<<endl;"
   ]
  },
  {
   "cell_type": "markdown",
   "id": "03d87e5d",
   "metadata": {},
   "source": [
    "The attenuation value is close to the one expected (1.4) but they are not compatible with each other at 1 sigma. This can be due to simplificity of the neutron contribution in the DC data? Gamma/Muon backgrounds not correctly modelled? "
   ]
  },
  {
   "cell_type": "markdown",
   "id": "57bc1a99",
   "metadata": {},
   "source": [
    "## Estimate of the attenuation from a Toy MonteCarlo"
   ]
  },
  {
   "cell_type": "markdown",
   "id": "9c8fa51d",
   "metadata": {},
   "source": [
    "### Considering stat. errors only"
   ]
  },
  {
   "cell_type": "code",
   "execution_count": 135,
   "id": "712e98fd",
   "metadata": {},
   "outputs": [],
   "source": [
    "TF1* Gaus_ev_DC = new TF1(\"Gauss_ev_DC\", \"TMath::Gaus(x, [0], [1], true)\", 0, mean_Surface+5*mean_err_stat_Surface);\n",
    "Gaus_ev_DC->FixParameter(0, mean_Surface);\n",
    "Gaus_ev_DC->FixParameter(1, mean_err_stat_Surface);\n",
    "\n",
    "TF1* Gaus_ev_VNS = new TF1(\"Gauss_ev_VNS\", \"TMath::Gaus(x, [0], [1], true)\", 0, mean_VNS+5*mean_err_stat_VNS);\n",
    "Gaus_ev_VNS->FixParameter(0, mean_VNS);\n",
    "Gaus_ev_VNS->FixParameter(1, mean_err_stat_VNS);\n",
    "\n",
    "TF1* Gaus_ev_DC_syst = new TF1(\"Gaus_ev_DC_syst\", \"TMath::Gaus(x, [0], [1], true)\", 0, mean_Surface+5*errSyst_FastNeutrons_Surface);\n",
    "Gaus_ev_DC_syst->FixParameter(0, mean_Surface);\n",
    "Gaus_ev_DC_syst->FixParameter(1, errSyst_FastNeutrons_Surface);\n",
    "\n",
    "TF1* Gaus_ev_VNS_syst = new TF1(\"Gaus_ev_VNS_syst\", \"TMath::Gaus(x, [0], [1], true)\", 0, mean_VNS+5*errSyst_FastNeutrons_VNS);\n",
    "Gaus_ev_VNS_syst->FixParameter(0, mean_VNS);\n",
    "Gaus_ev_VNS_syst->FixParameter(1, errSyst_FastNeutrons_VNS);\n",
    "\n",
    "TF1* NumEv = new TF1(\"NumEv\", \"TMath::Gaus(x, [0], [1], true)\", 0, 117.7+5*3.5);\n",
    "NumEv->FixParameter(0, 117.7);\n",
    "NumEv->FixParameter(1, 3.5);"
   ]
  },
  {
   "cell_type": "code",
   "execution_count": 136,
   "id": "411fa004",
   "metadata": {},
   "outputs": [],
   "source": [
    "TH1D* hRatio = new TH1D(\"Attenuation factor from Toy MC\", \"Attenuation factor from Toy MC\", 10000, 0, 500);\n",
    "Double_t Ev_out, Ev_VNS;   \n",
    "for (int i=0; i<100000; i++){\n",
    "    Ev_out = Gaus_ev_DC->GetRandom();\n",
    "    Ev_VNS = Gaus_ev_VNS->GetRandom();\n",
    "    if ((Ev_VNS>0)&&(Ev_out>0)) {hRatio->Fill(Ev_out/Ev_VNS);}\n",
    "}\n",
    "\n",
    "hRatio->GetXaxis()->SetRangeUser(0, 40);\n",
    "hRatio->GetXaxis()->SetTitle(\"R^{Surface}/R_{VNS}\");\n",
    "hRatio->GetYaxis()->SetTitle(\"Probability\");\n",
    "hRatio->Scale(1./hRatio->Integral());"
   ]
  },
  {
   "cell_type": "code",
   "execution_count": 137,
   "id": "bcb85361",
   "metadata": {},
   "outputs": [],
   "source": [
    "TH1D* hRatio_syststat = new TH1D(\"Attenuation factor from Toy MC syst stat\", \"Attenuation factor from Toy MC syst stat\", 10000, 0, 500);\n",
    "TH1D* hNewNumEv = new TH1D(\"hNewNumEv\", \"hNewNumEv\", 1000, 0, 300);\n",
    "Double_t Ev_out_1, Ev_VNS_1, Ev_out, Ev_VNS, NumEv_i;   \n",
    "for (int i=0; i<100; i++){\n",
    "    Ev_out_1 = Gaus_ev_DC_syst->GetRandom();\n",
    "    Gaus_ev_DC->SetParameter(0, Ev_out_1);\n",
    "    Ev_out = Gaus_ev_DC->GetRandom();\n",
    "    \n",
    "    Ev_VNS_1 = Gaus_ev_VNS_syst->GetRandom();\n",
    "    Gaus_ev_VNS->SetParameter(0, Ev_VNS_1);\n",
    "    Ev_VNS = Gaus_ev_VNS->GetRandom();\n",
    "    \n",
    "    NumEv_i = NumEv->GetRandom();\n",
    "    if ((Ev_VNS>0)&&(Ev_out>0)) {hRatio_syststat->Fill(Ev_out/Ev_VNS);}\n",
    "    if ((Ev_VNS>0)&&(Ev_out>0)) {hNewNumEv->Fill(NumEv_i/(Ev_out/Ev_VNS));}\n",
    "}\n",
    "\n",
    "hRatio_syststat->SetLineColor(kRed);\n",
    "hRatio_syststat->GetXaxis()->SetRangeUser(0, 100);\n",
    "hRatio_syststat->GetXaxis()->SetTitle(\"R^{Surface}/R_{VNS}\");\n",
    "hRatio_syststat->GetYaxis()->SetTitle(\"Probability\");\n",
    "hRatio_syststat->Scale(1./hRatio_syststat->Integral());"
   ]
  },
  {
   "cell_type": "code",
   "execution_count": 138,
   "id": "29ea1e6d",
   "metadata": {},
   "outputs": [
    {
     "data": {
      "image/png": "[encoded data removed]",
      "text/plain": [
       "<IPython.core.display.Image object>"
      ]
     },
     "metadata": {},
     "output_type": "display_data"
    }
   ],
   "source": [
    "TCanvas* C = new TCanvas();\n",
    "C->Draw();\n",
    "C->SetLogy();\n",
    "hRatio->Draw(\"\");\n",
    "hRatio->GetYaxis()->SetRangeUser(1e-5, 2e-2);\n",
    "hRatio_syststat->Draw(\"SAME\");\n",
    "\n",
    "TLegend* leg = new TLegend(0.55, 0.75, 0.89, 0.89);\n",
    "leg->AddEntry(hRatio, \"Stat. errors only\");\n",
    "leg->AddEntry(hRatio_syststat, \"Syst and stat. errors\");\n",
    "leg->Draw(\"SAME\");\n",
    "leg->SetLineWidth(0);"
   ]
  },
  {
   "cell_type": "code",
   "execution_count": null,
   "id": "218eb6f5",
   "metadata": {},
   "outputs": [],
   "source": []
  },
  {
   "cell_type": "code",
   "execution_count": 139,
   "id": "37087408",
   "metadata": {},
   "outputs": [
    {
     "data": {
      "image/png": "[encoded data removed]",
      "text/plain": [
       "<IPython.core.display.Image object>"
      ]
     },
     "metadata": {},
     "output_type": "display_data"
    },
    {
     "name": "stdout",
     "output_type": "stream",
     "text": [
      " FCN=0.474335 FROM MIGRAD    STATUS=CONVERGED     205 CALLS         206 TOTAL\n",
      "                     EDM=1.59516e-06    STRATEGY= 1      ERROR MATRIX ACCURATE \n",
      "  EXT PARAMETER                                   STEP         FIRST   \n",
      "  NO.   NAME      VALUE            ERROR          SIZE      DERIVATIVE \n",
      "   1  Constant     1.05678e+00   5.00428e-01   1.70491e-04  -2.58099e-03\n",
      "   2  Mean         1.77058e+01   1.23722e+02   4.11168e-02  -1.17197e-05\n",
      "   3  Sigma        4.55059e+01   2.60989e+01   2.12077e-02   4.40917e-05\n"
     ]
    }
   ],
   "source": [
    "TCanvas* C = new TCanvas();\n",
    "C->Draw();\n",
    "C->SetLogy();\n",
    "hNewNumEv->Draw(\"\");\n",
    "\n",
    "hNewNumEv->Fit(\"gaus\", \"\", \"\", 20, 50);"
   ]
  },
  {
   "cell_type": "code",
   "execution_count": 140,
   "id": "5d160d0d",
   "metadata": {},
   "outputs": [
    {
     "name": "stdout",
     "output_type": "stream",
     "text": [
      "Attenuation factor > 5.4 at 95.0074 % confidence level\n"
     ]
    }
   ],
   "source": [
    "Double_t Rmin=0;\n",
    "Double_t Pas=0.02;\n",
    "Double_t int_below_min=0;\n",
    "while (int_below_min<0.05){\n",
    "    Rmin+= Pas;\n",
    "    int_below_min = hRatio->Integral(0, hRatio->FindBin(Rmin));\n",
    "}\n",
    "Rmin -= Pas;\n",
    "int_below_min = hRatio->Integral(0, hRatio->FindBin(Rmin));\n",
    "\n",
    "cout<<\"Attenuation factor > \"<< Rmin<<\" at \"<<(1-int_below_min)*100 << \" % confidence level\"<<endl;"
   ]
  },
  {
   "cell_type": "code",
   "execution_count": 141,
   "id": "abbceab9",
   "metadata": {},
   "outputs": [
    {
     "name": "stdout",
     "output_type": "stream",
     "text": [
      "Attenuation factor > 4.84 at 96 % confidence level\n"
     ]
    }
   ],
   "source": [
    "Double_t Rmin=0;\n",
    "Double_t Pas=0.02;\n",
    "Double_t int_below_min=0;\n",
    "while (int_below_min<0.05){\n",
    "    Rmin+= Pas;\n",
    "    int_below_min = hRatio_syststat->Integral(0, hRatio_syststat->FindBin(Rmin));\n",
    "}\n",
    "Rmin -= Pas;\n",
    "int_below_min = hRatio_syststat->Integral(0, hRatio_syststat->FindBin(Rmin));\n",
    "\n",
    "cout<<\"Attenuation factor > \"<< Rmin<<\" at \"<<(1-int_below_min)*100 << \" % confidence level\"<<endl;"
   ]
  },
  {
   "cell_type": "code",
   "execution_count": 142,
   "id": "e13f1a76",
   "metadata": {},
   "outputs": [
    {
     "name": "stdout",
     "output_type": "stream",
     "text": [
      "0.0109079\n",
      "MPV = 7.475 + 1.95 - 1.85 with a probability of 66.1006 %\n"
     ]
    }
   ],
   "source": [
    "MPV = hRatio->GetBinCenter(hRatio->GetMaximumBin());\n",
    "\n",
    "Double_t maximum = hRatio->GetBinContent(hRatio->GetMaximumBin());\n",
    "cout<<maximum<<endl;\n",
    "Double_t y_value=0;\n",
    "Double_t indexRmin, indexRmax;\n",
    "Double_t Pas=0.00001;\n",
    "Double_t int_between_min_max=0;\n",
    "while (int_between_min_max<0.65){\n",
    "    y_value += Pas;\n",
    "    indexRmin = hRatio->FindFirstBinAbove (maximum-y_value, 1);\n",
    "    indexRmax = hRatio->FindLastBinAbove (maximum-y_value, 1);\n",
    "    int_between_min_max = hRatio->Integral(indexRmin, indexRmax);\n",
    "}\n",
    "\n",
    "cout<<\"MPV = \"<< MPV <<\" + \"<<hRatio->GetBinCenter(indexRmax)-MPV<<\" - \"<<MPV-hRatio->GetBinCenter(indexRmin) << \" with a probability of \"<<int_between_min_max*100<<\" %\" <<endl;"
   ]
  },
  {
   "cell_type": "code",
   "execution_count": 143,
   "id": "604007b8",
   "metadata": {},
   "outputs": [
    {
     "name": "stdout",
     "output_type": "stream",
     "text": [
      "0.03\n",
      "MPV = 6.425 + 5.1 - 1.35 with a probability of 83 %\n"
     ]
    }
   ],
   "source": [
    "MPV = hRatio_syststat->GetBinCenter(hRatio_syststat->GetMaximumBin());\n",
    "\n",
    "Double_t maximum = hRatio_syststat->GetBinContent(hRatio_syststat->GetMaximumBin());\n",
    "cout<<maximum<<endl;\n",
    "Double_t y_value=0;\n",
    "Double_t indexRmin, indexRmax;\n",
    "Double_t Pas=0.00001;\n",
    "Double_t int_between_min_max=0;\n",
    "while (int_between_min_max<0.65){\n",
    "    y_value += Pas;\n",
    "    indexRmin = hRatio_syststat->FindFirstBinAbove (maximum-y_value, 1);\n",
    "    indexRmax = hRatio_syststat->FindLastBinAbove (maximum-y_value, 1);\n",
    "    int_between_min_max = hRatio_syststat->Integral(indexRmin, indexRmax);\n",
    "}\n",
    "\n",
    "cout<<\"MPV = \"<< MPV <<\" + \"<<hRatio_syststat->GetBinCenter(indexRmax)-MPV<<\" - \"<<MPV-hRatio_syststat->GetBinCenter(indexRmin) << \" with a probability of \"<<int_between_min_max*100<<\" %\" <<endl;"
   ]
  },
  {
   "cell_type": "raw",
   "id": "df75452f",
   "metadata": {},
   "source": [
    "### With syst. errors"
   ]
  },
  {
   "cell_type": "raw",
   "id": "d23eecad",
   "metadata": {},
   "source": [
    "errSyst_FastNeutrons_Surface = sqrt(err_Syst_N_ev_data_NP_8_DC*err_Syst_N_ev_data_NP_8_DC+err_Syst_N_ev_data_NP_9_DC*err_Syst_N_ev_data_NP_9_DC);\n",
    "errSyst_FastNeutrons_VNS = sqrt(err_Syst_N_ev_data_NP_8_VNS*err_Syst_N_ev_data_NP_8_VNS+err_Syst_N_ev_data_NP_9_VNS*err_Syst_N_ev_data_NP_9_VNS);\n",
    "\n",
    "cout<< \">10MeV Neutron contribution\"<<endl;\n",
    "cout<< \"----------------------------\"<<endl;\n",
    "cout<<\"Surface: \"<<FastNeutrons_Surface<<\" +- \"<<err_FastNeutrons_Surface+errSyst_FastNeutrons_Surface<<\" (stat. and syst. from fit) ev/d\"<<endl;\n",
    "cout<<\"VNS: \"<<FastNeutrons_VNS<<\" +- \"<<err_FastNeutrons_VNS+errSyst_FastNeutrons_VNS<<\" (stat. and syst. from fit) ev/d\"<<endl;"
   ]
  },
  {
   "cell_type": "raw",
   "id": "4660a7f4",
   "metadata": {},
   "source": [
    "TF1* Gaus_ev_DC_wth_syst = new TF1(\"Gaus_ev_DC_wth_syst\", \"TMath::Gaus(x, [0], [1], true)\", 0, FastNeutrons_Surface+5*(err_FastNeutrons_Surface+errSyst_FastNeutrons_Surface));\n",
    "Gaus_ev_DC_wth_syst->FixParameter(0, FastNeutrons_Surface);\n",
    "Gaus_ev_DC_wth_syst->FixParameter(1, err_FastNeutrons_Surface+errSyst_FastNeutrons_Surface);\n",
    "\n",
    "TF1* Gaus_ev_VNS_wth_syst = new TF1(\"Gaus_ev_VNS_wth_syst\", \"TMath::Gaus(x, [0], [1], true)\", 0, FastNeutrons_VNS+5*(err_FastNeutrons_VNS+errSyst_FastNeutrons_VNS));\n",
    "Gaus_ev_VNS_wth_syst->FixParameter(0, FastNeutrons_VNS);\n",
    "Gaus_ev_VNS_wth_syst->FixParameter(1, err_FastNeutrons_VNS+errSyst_FastNeutrons_VNS);"
   ]
  },
  {
   "cell_type": "raw",
   "id": "5c03a2d6",
   "metadata": {},
   "source": [
    "TH1D* hRatio_withStat = new TH1D(\"Attenuation factor from Toy MC 2\", \"Attenuation factor from Toy MC 2\", 10000, 0, 500);\n",
    "Double_t Ev_out, Ev_VNS;   \n",
    "for (int i=0; i<50000; i++){\n",
    "    Ev_out = Gaus_ev_DC_wth_syst->GetRandom();\n",
    "    Ev_VNS = Gaus_ev_VNS_wth_syst->GetRandom();\n",
    "    if ((Ev_VNS>0)&&(Ev_out>0)) {hRatio_withStat->Fill(Ev_out/Ev_VNS);}\n",
    "}\n",
    "\n",
    "hRatio_withStat->GetXaxis()->SetRangeUser(0, 20);\n",
    "hRatio_withStat->GetXaxis()->SetTitle(\"R^{Out}/R_{VNS}\");\n",
    "hRatio_withStat->GetYaxis()->SetTitle(\"Probability\");\n",
    "hRatio_withStat->Scale(1./hRatio_withStat->Integral());"
   ]
  },
  {
   "cell_type": "raw",
   "id": "c278ca99",
   "metadata": {},
   "source": [
    "TCanvas* C = new TCanvas();\n",
    "C->Draw();\n",
    "C->SetLogy();\n",
    "hRatio_withStat->Draw(\"\");"
   ]
  },
  {
   "cell_type": "raw",
   "id": "600e8e5b",
   "metadata": {},
   "source": [
    "Double_t Rmin=0;\n",
    "Double_t int_above_min=1;\n",
    "while (int_above_min>0.95){\n",
    "    Rmin+= 0.02;\n",
    "    int_above_min = hRatio_withStat->Integral()-hRatio_withStat->Integral(0, hRatio_withStat->FindBin(Rmin));\n",
    "}\n",
    "\n",
    "cout<<\"Attenuation factor > \"<< Rmin<<\" at \"<<int_above_min*100 << \" % confidence level\"<<endl;"
   ]
  },
  {
   "cell_type": "markdown",
   "id": "2919495e",
   "metadata": {},
   "source": [
    "### With previous fits (linear and exponential)"
   ]
  },
  {
   "cell_type": "markdown",
   "id": "c83ff9e7",
   "metadata": {},
   "source": [
    "#### Linear"
   ]
  },
  {
   "cell_type": "code",
   "execution_count": 144,
   "id": "e730daa0",
   "metadata": {},
   "outputs": [],
   "source": [
    "TF1* Gaus_ev_DC_lin = new TF1(\"Gaus_ev_DC_lin\", \"TMath::Gaus(x, [0], [1], true)\", 0, 22+5*6.2);\n",
    "Gaus_ev_DC_lin->FixParameter(0, 21.7);\n",
    "Gaus_ev_DC_lin->FixParameter(1, 6.2);\n",
    "\n",
    "TF1* Gaus_ev_VNS_lin = new TF1(\"Gaus_ev_VNS_lin\", \"TMath::Gaus(x, [0], [1], true)\", 0, 4.8+5*7);\n",
    "Gaus_ev_VNS_lin->FixParameter(0, 4.8);\n",
    "Gaus_ev_VNS_lin->FixParameter(1, 6.9);"
   ]
  },
  {
   "cell_type": "code",
   "execution_count": 145,
   "id": "d0b81b7a",
   "metadata": {},
   "outputs": [],
   "source": [
    "TH1D* hRatio_lin = new TH1D(\"Attenuation factor from Toy MC with linear fit\", \"Attenuation factor from Toy MC with linear fit\", 10000, 0, 500);\n",
    "Double_t Ev_out, Ev_VNS;   \n",
    "for (int i=0; i<100000; i++){\n",
    "    Ev_out = Gaus_ev_DC_lin->GetRandom();\n",
    "    Ev_VNS = Gaus_ev_VNS_lin->GetRandom();\n",
    "    if ((Ev_VNS>0)&&(Ev_out>0)) {hRatio_lin->Fill(Ev_out/Ev_VNS);}\n",
    "}\n",
    "\n",
    "hRatio_lin->GetXaxis()->SetRangeUser(0, 20);\n",
    "hRatio_lin->GetXaxis()->SetTitle(\"R^{Out}/R_{VNS}\");\n",
    "hRatio_lin->GetYaxis()->SetTitle(\"Probability\");\n",
    "hRatio_lin->Scale(1./hRatio_lin->Integral());"
   ]
  },
  {
   "cell_type": "code",
   "execution_count": 146,
   "id": "6ce3824c",
   "metadata": {},
   "outputs": [
    {
     "data": {
      "image/png": "[encoded data removed]",
      "text/plain": [
       "<IPython.core.display.Image object>"
      ]
     },
     "metadata": {},
     "output_type": "display_data"
    }
   ],
   "source": [
    "TCanvas* C = new TCanvas();\n",
    "C->Draw();\n",
    "C->SetLogy();\n",
    "hRatio_lin->Draw(\"\");"
   ]
  },
  {
   "cell_type": "code",
   "execution_count": 147,
   "id": "f7adf89e",
   "metadata": {},
   "outputs": [
    {
     "name": "stdout",
     "output_type": "stream",
     "text": [
      "Attenuation factor > 0.98 at 95.1994 % confidence level\n"
     ]
    }
   ],
   "source": [
    "Double_t Rmin=0;\n",
    "Double_t Pas=0.02;\n",
    "Double_t int_below_min=0;\n",
    "while (int_below_min<0.05){\n",
    "    Rmin+= Pas;\n",
    "    int_below_min = hRatio_lin->Integral(0, hRatio_lin->FindBin(Rmin));\n",
    "}\n",
    "Rmin -= Pas;\n",
    "int_below_min = hRatio_lin->Integral(0, hRatio_lin->FindBin(Rmin));\n",
    "\n",
    "cout<<\"Attenuation factor > \"<< Rmin<<\" at \"<<(1-int_below_min)*100 << \" % confidence level\"<<endl;"
   ]
  },
  {
   "cell_type": "markdown",
   "id": "7dfb9e66",
   "metadata": {},
   "source": [
    "#### Exponential fit"
   ]
  },
  {
   "cell_type": "code",
   "execution_count": 148,
   "id": "9420a481",
   "metadata": {},
   "outputs": [],
   "source": [
    "TF1* Gaus_ev_DC_expo = new TF1(\"Gaus_ev_DC_expo\", \"TMath::Gaus(x, [0], [1], true)\", 0, 39+5*9.2);\n",
    "Gaus_ev_DC_expo->FixParameter(0, 39);\n",
    "Gaus_ev_DC_expo->FixParameter(1, 9.2);\n",
    "\n",
    "TF1* Gaus_ev_VNS_expo = new TF1(\"Gaus_ev_VNS_lin\", \"TMath::Gaus(x, [0], [1], true)\", 0, 7.5+5*6.9);\n",
    "Gaus_ev_VNS_expo->FixParameter(0, 7.5);\n",
    "Gaus_ev_VNS_expo->FixParameter(1, 6.9);"
   ]
  },
  {
   "cell_type": "code",
   "execution_count": 149,
   "id": "16511382",
   "metadata": {},
   "outputs": [],
   "source": [
    "TH1D* hRatio_expo = new TH1D(\"Attenuation factor from Toy MC with exponential fit\", \"Attenuation factor from Toy MC with exponential fit\", 10000, 0, 500);\n",
    "Double_t Ev_out, Ev_VNS;   \n",
    "for (int i=0; i<100000; i++){\n",
    "    Ev_out = Gaus_ev_DC_expo->GetRandom();\n",
    "    Ev_VNS = Gaus_ev_VNS_expo->GetRandom();\n",
    "    if ((Ev_VNS>0)&&(Ev_out>0)) {hRatio_expo->Fill(Ev_out/Ev_VNS);}\n",
    "}\n",
    "\n",
    "hRatio_expo->GetXaxis()->SetRangeUser(0, 20);\n",
    "hRatio_expo->GetXaxis()->SetTitle(\"R^{Out}/R_{VNS}\");\n",
    "hRatio_expo->GetYaxis()->SetTitle(\"Probability\");\n",
    "hRatio_expo->Scale(1./hRatio_expo->Integral());"
   ]
  },
  {
   "cell_type": "code",
   "execution_count": 150,
   "id": "06f6c043",
   "metadata": {},
   "outputs": [
    {
     "data": {
      "image/png": "[encoded data removed]",
      "text/plain": [
       "<IPython.core.display.Image object>"
      ]
     },
     "metadata": {},
     "output_type": "display_data"
    }
   ],
   "source": [
    "TCanvas* C = new TCanvas();\n",
    "C->Draw();\n",
    "C->SetLogy();\n",
    "hRatio_expo->Draw(\"\");"
   ]
  },
  {
   "cell_type": "code",
   "execution_count": 151,
   "id": "29858d49",
   "metadata": {},
   "outputs": [
    {
     "name": "stdout",
     "output_type": "stream",
     "text": [
      "Attenuation factor > 1.68 at 95.0564 % confidence level\n"
     ]
    }
   ],
   "source": [
    "Double_t Rmin=0;\n",
    "Double_t Pas=0.02;\n",
    "Double_t int_below_min=0;\n",
    "while (int_below_min<0.05){\n",
    "    Rmin+= Pas;\n",
    "    int_below_min = hRatio_expo->Integral(0, hRatio_expo->FindBin(Rmin));\n",
    "}\n",
    "Rmin -= Pas;\n",
    "int_below_min = hRatio_expo->Integral(0, hRatio_expo->FindBin(Rmin));\n",
    "\n",
    "cout<<\"Attenuation factor > \"<< Rmin<<\" at \"<<(1-int_below_min)*100 << \" % confidence level\"<<endl;"
   ]
  },
  {
   "cell_type": "markdown",
   "id": "5dcac96c",
   "metadata": {},
   "source": [
    "# Other fitting methods"
   ]
  },
  {
   "cell_type": "markdown",
   "id": "1065477d",
   "metadata": {},
   "source": [
    "## Local linear background"
   ]
  },
  {
   "cell_type": "code",
   "execution_count": 152,
   "id": "73dd924b",
   "metadata": {},
   "outputs": [],
   "source": [
    "TF1* Model_linear = new TF1(\"Model_linear\", \"gaus(0)+pol1(3)\", 3000, 4700);"
   ]
  },
  {
   "cell_type": "code",
   "execution_count": 153,
   "id": "821aba49",
   "metadata": {},
   "outputs": [],
   "source": [
    "TF1* Linear_bckg = new TF1(\"Linear_bckg\", \"pol1\", 3000, 4700);"
   ]
  },
  {
   "cell_type": "markdown",
   "id": "c671d3f9",
   "metadata": {},
   "source": [
    "### 9inch"
   ]
  },
  {
   "cell_type": "code",
   "execution_count": 154,
   "id": "8d74c264",
   "metadata": {},
   "outputs": [
    {
     "name": "stdout",
     "output_type": "stream",
     "text": [
      " FCN=1178.93 FROM HESSE     STATUS=NOT POSDEF     45 CALLS         395 TOTAL\n",
      "                     EDM=0.000452256    STRATEGY= 1      ERR MATRIX NOT POS-DEF\n",
      "  EXT PARAMETER                APPROXIMATE        STEP         FIRST   \n",
      "  NO.   NAME      VALUE            ERROR          SIZE      DERIVATIVE \n",
      "   1  p0           2.45019e-01   1.90340e-04   3.21738e-06   6.09731e-01\n",
      "   2  p1          -2.90562e+02   3.19856e+06   2.02497e+05   2.98620e-11\n",
      "   3  p2           4.67155e+06   1.46670e+09   1.42951e+05  -2.06886e-11\n",
      "   4  p3           2.45022e-01   1.90386e-04   3.21738e-06   6.09534e-01\n",
      "   5  p4          -1.09786e-04   4.69676e-08   7.94578e-10   2.48382e+03\n",
      "\n",
      "Chi2/ndf = 1178.93/37 = 31.8629\n",
      "\n",
      "Total N_ev in peak region = 160.277 ev/d +- 2.16677 ev/d\n",
      "N_ev in neutron peak from fit = 202.128 ev/d +- 0.157021 ev/d \n",
      "N_ev in background = -250.014 ev/d +- 0.284489 ev/d\n",
      "N_ev in neutron peak from data - bckg = 410.291 ev/d +- 2.18537 ev/d\n"
     ]
    }
   ],
   "source": [
    "Int_start = 3000;\n",
    "Int_stop = 4500;\n",
    "\n",
    "Model_linear->SetParameter(1, 3500);\n",
    "if (Model_linear->GetParameter(2)==0) Model_linear->SetParameter(2, Resol_NP*3500);\n",
    "\n",
    "TFitResultPtr r = hCal_DC_9inch->Fit(Model_linear, \"S0\", \"\", 3000, 5100);\n",
    "\n",
    "TMatrixD CovMat_9_lin_DC = r->GetCovarianceMatrix();\n",
    "\n",
    "//CovMat_DC.Print();\n",
    "\n",
    "Double_t err_norm_NP_DC_lin = sqrt(CovMat_9_lin_DC(0,0));\n",
    "Double_t norm_NP_DC_lin = Model_linear->GetParameter(0);\n",
    "\n",
    "Linear_bckg->SetParameter(0, Model_linear->GetParameter(3));\n",
    "Linear_bckg->SetParameter(1, Model_linear->GetParameter(4));\n",
    "\n",
    "Neutron_signal_9inch->SetParameter(0, Model_linear->GetParameter(0));\n",
    "Neutron_signal_9inch->SetParameter(1, Model_linear->GetParameter(1));\n",
    "Neutron_signal_9inch->SetParameter(2, Model_linear->GetParameter(2));\n",
    "\n",
    "Double_t N_ev_tot_DC_lin = Model_linear->Integral(Int_start, Int_stop);\n",
    "Double_t N_ev_NP_DC_lin = Neutron_signal_9inch->Integral(Int_start, Int_stop);\n",
    "Double_t err_N_ev_NP_DC_lin = (err_norm_NP_DC_lin/norm_NP_DC_lin)*Neutron_signal_9inch->Integral(Int_start, Int_stop);\n",
    "Double_t N_ev_BKG_DC_lin = Linear_bckg->Integral(Int_start, Int_stop);\n",
    "Double_t err_N_ev_BKG_DC_lin = sqrt((Int_stop-Int_start)*(Int_stop-Int_start)*CovMat_9_lin_DC(3,3)+(Int_stop-Int_start)*(Int_stop*Int_stop-Int_start*Int_start)*CovMat_9_lin_DC(3, 4)+(Int_stop*Int_stop-Int_start*Int_start)*(Int_stop*Int_stop-Int_start*Int_start)*CovMat_9_lin_DC(4,4)/4);\n",
    "\n",
    "Double_t err_N_ev_data_DC_lin;\n",
    "Double_t N_ev_data_DC_lin = hCal_DC_9inch->IntegralAndError(hCal_DC_9inch->FindBin(Int_start), hCal_DC_9inch->FindBin(Int_stop), err_N_ev_data_DC_lin, \"width\");\n",
    "\n",
    "Double_t err_N_ev_data_NP_DC_lin = sqrt(err_N_ev_data_DC_lin*err_N_ev_data_DC_lin + err_N_ev_BKG_DC_lin*err_N_ev_BKG_DC_lin);\n",
    "Double_t N_ev_data_NP_DC_lin = N_ev_data_DC_lin-N_ev_BKG_DC_lin;\n",
    "\n",
    "cout<<\"\\nChi2/ndf = \"<<Model_linear->GetChisquare()<<\"/\"<<Model_linear->GetNDF()<<\" = \"<<Model_linear->GetChisquare()/Model_linear->GetNDF()<<endl;\n",
    "cout<<\"\\nTotal N_ev in peak region = \"<<N_ev_data_DC_lin<<\" ev/d +- \"<<err_N_ev_data_DC_lin<<\" ev/d\"<<endl;\n",
    "cout<<\"N_ev in neutron peak from fit = \"<<N_ev_NP_DC_lin<<\" ev/d +- \"<<err_N_ev_NP_DC_lin<<\" ev/d \"<<endl;\n",
    "cout<<\"N_ev in background = \"<<N_ev_BKG_DC_lin<<\" ev/d +- \"<<err_N_ev_BKG_DC_lin<<\" ev/d\"<<endl;\n",
    "cout<<\"N_ev in neutron peak from data - bckg = \"<<N_ev_data_NP_DC_lin<<\" ev/d +- \"<<err_N_ev_data_NP_DC_lin<<\" ev/d\"<<endl;\n",
    "\n",
    "Model_linear->FixParameter(2, Model_linear->GetParameter(2)); //Fix the sigma value of the neutron peak  "
   ]
  },
  {
   "cell_type": "code",
   "execution_count": 155,
   "id": "9709a892",
   "metadata": {},
   "outputs": [
    {
     "data": {
      "image/png": "[encoded data removed]",
      "text/plain": [
       "<IPython.core.display.Image object>"
      ]
     },
     "metadata": {},
     "output_type": "display_data"
    },
    {
     "data": {
      "image/png": "[encoded data removed]",
      "text/plain": [
       "<IPython.core.display.Image object>"
      ]
     },
     "metadata": {},
     "output_type": "display_data"
    }
   ],
   "source": [
    "TCanvas* C = new TCanvas();\n",
    "C->Draw();\n",
    "C->SetLogy();\n",
    "hCal_DC_9inch->Draw(\"\");\n",
    "hCal_DC_9inch->GetYaxis()->SetRangeUser(1e-4, 10);\n",
    "Linear_bckg->SetLineColor(kBlue);\n",
    "Linear_bckg->Draw(\"RSAME\");\n",
    "Model_linear->Draw(\"RSAME\");\n",
    "\n",
    "TCanvas* C2 = new TCanvas(\"cRes_DC_9inch_lin\", \"cRes_DC_9inch_lin\", C->GetWw(), 0.6*C->GetWh());\n",
    "C2->Draw();\n",
    "gPad->SetMargin(0.1,0.1,0.2,0.1);\n",
    "\n",
    "hRes_DC_9inch_lin=Residuals(hCal_DC_9inch, Model_linear, 3000, 4700, true);\n",
    "hRes_DC_9inch_lin->GetYaxis()->SetTitle(\"Residuals [%]\");\n",
    "hRes_DC_9inch_lin->GetYaxis()->SetTitleSize(2*hCal_DC_9inch->GetYaxis()->GetTitleSize());\n",
    "hRes_DC_9inch_lin->GetXaxis()->SetTitleSize(2*hCal_DC_9inch->GetXaxis()->GetTitleSize());\n",
    "hRes_DC_9inch_lin->GetYaxis()->SetLabelSize(2*hCal_DC_9inch->GetYaxis()->GetLabelSize());\n",
    "hRes_DC_9inch_lin->GetXaxis()->SetLabelSize(2*hCal_DC_9inch->GetXaxis()->GetLabelSize());\n",
    "hRes_DC_9inch_lin->Draw(\"\");\n",
    "\n",
    "h_10pc->SetLineColorAlpha(kOrange+1, 0.2);\n",
    "h_10pc->SetMarkerColorAlpha(kOrange+1, 0.2);\n",
    "h_10pc->SetFillColorAlpha(kOrange+1, 0.2);\n",
    "h_10pc->Draw(\"E3SAME\");\n",
    "\n",
    "TLegend* leg = new TLegend(0.15, 0.3, 0.30, 0.4);\n",
    "leg->AddEntry(h_10pc, \"10%\");\n",
    "leg->Draw(\"SAME\");\n",
    "leg->SetLineWidth(0);"
   ]
  },
  {
   "cell_type": "code",
   "execution_count": 156,
   "id": "9f415d51",
   "metadata": {},
   "outputs": [
    {
     "name": "stdout",
     "output_type": "stream",
     "text": [
      " FCN=141.631 FROM HESSE     STATUS=NOT POSDEF     23 CALLS         200 TOTAL\n",
      "                     EDM=4.35973e-07    STRATEGY= 1      ERR MATRIX NOT POS-DEF\n",
      "  EXT PARAMETER                APPROXIMATE        STEP         FIRST   \n",
      "  NO.   NAME      VALUE            ERROR          SIZE      DERIVATIVE \n",
      "   1  p0           1.13353e-01   2.24805e-02   1.87383e-06   2.84329e-01\n",
      "   2  p1          -7.77250e+06   5.56334e+05   6.69284e+00   1.08507e-08\n",
      "   3  p2           4.67155e+06     fixed    \n",
      "   4  p3           7.80161e-02   5.61028e-03   4.96363e-07   1.07347e+00\n",
      "   5  p4          -2.32509e-05   9.01896e-07   1.23517e-10   3.38707e+03\n",
      "\n",
      "Chi2/ndf = 141.631/38 = 3.72712\n",
      "\n",
      "Total N_ev in peak region = 33.3166 ev/d +- 0.827373 ev/d\n",
      "N_ev in neutron peak from fit = 23.4155 ev/d +- 4.64417 ev/d \n",
      "N_ev in background = -13.762 ev/d +- 8.43518 ev/d\n",
      "N_ev in neutron peak from data - bckg = 47.0786 ev/d +- 8.47566 ev/d\n"
     ]
    }
   ],
   "source": [
    "Int_start = 3000;\n",
    "Int_stop = 4500;\n",
    "\n",
    "Model_linear->SetParLimits(0, 0, 10);\n",
    "\n",
    "TFitResultPtr r = hCal_VNS_9inch->Fit(Model_linear, \"S0\", \"\", 3000, 4700);\n",
    "\n",
    "TMatrixD CovMat_9_lin_VNS = r->GetCovarianceMatrix();\n",
    "\n",
    "//CovMat_DC.Print();\n",
    "\n",
    "Double_t err_norm_NP_VNS_lin = sqrt(CovMat_9_lin_VNS(0,0));\n",
    "Double_t norm_NP_VNS_lin = Model_linear->GetParameter(0);\n",
    "\n",
    "Linear_bckg->SetParameter(0, Model_linear->GetParameter(3));\n",
    "Linear_bckg->SetParameter(1, Model_linear->GetParameter(4));\n",
    "\n",
    "Neutron_signal_9inch->SetParameter(0, Model_linear->GetParameter(0));\n",
    "Neutron_signal_9inch->SetParameter(1, Model_linear->GetParameter(1));\n",
    "Neutron_signal_9inch->SetParameter(2, Model_linear->GetParameter(2));\n",
    "\n",
    "Double_t N_ev_tot_VNS_lin = Model_linear->Integral(Int_start, Int_stop);\n",
    "Double_t N_ev_NP_VNS_lin = Neutron_signal_9inch->Integral(Int_start, Int_stop);\n",
    "Double_t err_N_ev_NP_VNS_lin = (err_norm_NP_VNS_lin/norm_NP_VNS_lin)*Neutron_signal_9inch->Integral(Int_start, Int_stop);\n",
    "Double_t N_ev_BKG_VNS_lin = Linear_bckg->Integral(Int_start, Int_stop);\n",
    "Double_t err_N_ev_BKG_VNS_lin = sqrt((Int_stop-Int_start)*(Int_stop-Int_start)*CovMat_9_lin_VNS(3,3)+(Int_stop-Int_start)*(Int_stop*Int_stop-Int_start*Int_start)*CovMat_9_lin_VNS(3, 4)+(Int_stop*Int_stop-Int_start*Int_start)*(Int_stop*Int_stop-Int_start*Int_start)*CovMat_9_lin_VNS(4,4)/4);\n",
    "\n",
    "Double_t err_N_ev_data_VNS_lin;\n",
    "Double_t N_ev_data_VNS_lin = hCal_VNS_9inch->IntegralAndError(hCal_VNS_9inch->FindBin(Int_start), hCal_VNS_9inch->FindBin(Int_stop), err_N_ev_data_VNS_lin, \"width\");\n",
    "\n",
    "Double_t err_N_ev_data_NP_VNS_lin = sqrt(err_N_ev_data_VNS_lin*err_N_ev_data_VNS_lin + err_N_ev_BKG_VNS_lin*err_N_ev_BKG_VNS_lin);\n",
    "Double_t N_ev_data_NP_VNS_lin = N_ev_data_VNS_lin-N_ev_BKG_VNS_lin;\n",
    "\n",
    "cout<<\"\\nChi2/ndf = \"<<Model_linear->GetChisquare()<<\"/\"<<Model_linear->GetNDF()<<\" = \"<<Model_linear->GetChisquare()/Model_linear->GetNDF()<<endl;\n",
    "cout<<\"\\nTotal N_ev in peak region = \"<<N_ev_data_VNS_lin<<\" ev/d +- \"<<err_N_ev_data_VNS_lin<<\" ev/d\"<<endl;\n",
    "cout<<\"N_ev in neutron peak from fit = \"<<N_ev_NP_VNS_lin<<\" ev/d +- \"<<err_N_ev_NP_VNS_lin<<\" ev/d \"<<endl;\n",
    "cout<<\"N_ev in background = \"<<N_ev_BKG_VNS_lin<<\" ev/d +- \"<<err_N_ev_BKG_VNS_lin<<\" ev/d\"<<endl;\n",
    "cout<<\"N_ev in neutron peak from data - bckg = \"<<N_ev_data_NP_VNS_lin<<\" ev/d +- \"<<err_N_ev_data_NP_VNS_lin<<\" ev/d\"<<endl;"
   ]
  },
  {
   "cell_type": "code",
   "execution_count": 157,
   "id": "66e77146",
   "metadata": {},
   "outputs": [
    {
     "data": {
      "image/png": "[encoded data removed]",
      "text/plain": [
       "<IPython.core.display.Image object>"
      ]
     },
     "metadata": {},
     "output_type": "display_data"
    },
    {
     "data": {
      "image/png": "[encoded data removed]",
      "text/plain": [
       "<IPython.core.display.Image object>"
      ]
     },
     "metadata": {},
     "output_type": "display_data"
    }
   ],
   "source": [
    "TCanvas* C = new TCanvas();\n",
    "C->Draw();\n",
    "C->SetLogy();\n",
    "hCal_VNS_9inch->Draw(\"\");\n",
    "hCal_VNS_9inch->GetYaxis()->SetRangeUser(1e-4, 10);\n",
    "Linear_bckg->SetLineColor(kBlue);\n",
    "Linear_bckg->Draw(\"RSAME\");\n",
    "Model_linear->Draw(\"RSAME\");\n",
    "\n",
    "TCanvas* C2 = new TCanvas(\"cRes_VNS_9inch_lin\", \"cRes_VNS_9inch_lin\", C->GetWw(), 0.6*C->GetWh());\n",
    "C2->Draw();\n",
    "gPad->SetMargin(0.1,0.1,0.2,0.1);\n",
    "\n",
    "hRes_VNS_9inch_lin=Residuals(hCal_VNS_9inch, Model_linear, 2900, 4700, true);\n",
    "hRes_VNS_9inch_lin->GetYaxis()->SetTitle(\"Residuals [%]\");\n",
    "hRes_VNS_9inch_lin->GetYaxis()->SetTitleSize(2*hCal_VNS_9inch->GetYaxis()->GetTitleSize());\n",
    "hRes_VNS_9inch_lin->GetXaxis()->SetTitleSize(2*hCal_VNS_9inch->GetXaxis()->GetTitleSize());\n",
    "hRes_VNS_9inch_lin->GetYaxis()->SetLabelSize(2*hCal_VNS_9inch->GetYaxis()->GetLabelSize());\n",
    "hRes_VNS_9inch_lin->GetXaxis()->SetLabelSize(2*hCal_VNS_9inch->GetXaxis()->GetLabelSize());\n",
    "hRes_VNS_9inch_lin->Draw(\"\");\n",
    "\n",
    "h_10pc->Draw(\"E3SAME\");\n",
    "\n",
    "TLegend* leg = new TLegend(0.15, 0.3, 0.30, 0.4);\n",
    "leg->AddEntry(h_10pc, \"10 %\");\n",
    "leg->Draw(\"SAME\");\n",
    "leg->SetLineWidth(0);"
   ]
  },
  {
   "cell_type": "markdown",
   "id": "e77f7dd2",
   "metadata": {},
   "source": [
    "### 8inch"
   ]
  },
  {
   "cell_type": "code",
   "execution_count": 158,
   "id": "60d42ba4",
   "metadata": {},
   "outputs": [
    {
     "name": "stdout",
     "output_type": "stream",
     "text": [
      " FCN=610.894 FROM MIGRAD    STATUS=CONVERGED     208 CALLS         209 TOTAL\n",
      "                     EDM=2.20408e-07    STRATEGY= 1  ERROR MATRIX UNCERTAINTY   0.4 per cent\n",
      "  EXT PARAMETER                                   STEP         FIRST   \n",
      "  NO.   NAME      VALUE            ERROR          SIZE      DERIVATIVE \n",
      "   1  p0           2.44121e-01   6.15601e-03   3.65010e-05   1.86874e-01\n",
      "   2  p1          -1.55926e+06   1.41421e+00   3.85170e-07   2.12017e-09\n",
      "   3  p2           4.67155e+06     fixed    \n",
      "   4  p3           2.20983e-01   5.87152e-03   5.54842e-05   1.27650e-01\n",
      "   5  p4          -1.01696e-04   2.86022e-06  -2.79004e-08   8.42113e+02\n",
      "\n",
      "Chi2/ndf = 610.894/44 = 13.8839\n",
      "\n",
      "Total N_ev in peak region = 128.605 ev/d +- 2.53141 ev/d\n",
      "N_ev in neutron peak from fit = 346.248 ev/d +- 8.7314 ev/d \n",
      "N_ev in background = -240.566 ev/d +- 9.08942 ev/d\n",
      "N_ev in neutron peak from data - bckg = 369.17 ev/d +- 9.43534 ev/d\n"
     ]
    }
   ],
   "source": [
    "Int_start = 3000;\n",
    "Int_stop = 4500;\n",
    "\n",
    "Model_linear->SetParameter(1, 3500);\n",
    "if (Model_linear->GetParameter(2)==0) Model_linear->SetParameter(2, Resol_NP*3500);\n",
    "\n",
    "TFitResultPtr r = hCal_DC_8inch->Fit(Model_linear, \"S0\", \"\", 2800, 5100);\n",
    "\n",
    "TMatrixD CovMat_8_lin_DC = r->GetCovarianceMatrix();\n",
    "\n",
    "//CovMat_DC.Print();\n",
    "\n",
    "Double_t err_norm_8_NP_DC_lin = sqrt(CovMat_8_lin_DC(0,0));\n",
    "Double_t norm_8_NP_DC_lin = Model_linear->GetParameter(0);\n",
    "\n",
    "Linear_bckg->SetParameter(0, Model_linear->GetParameter(3));\n",
    "Linear_bckg->SetParameter(1, Model_linear->GetParameter(4));\n",
    "\n",
    "Neutron_peak_Gaus->SetParameter(0, Model_linear->GetParameter(0));\n",
    "Neutron_peak_Gaus->SetParameter(1, Model_linear->GetParameter(1));\n",
    "Neutron_peak_Gaus->SetParameter(2, Model_linear->GetParameter(2));\n",
    "\n",
    "Double_t N_ev_tot_8_DC_lin = Model_linear->Integral(Int_start, Int_stop);\n",
    "Double_t N_ev_NP_8_DC_lin = Neutron_peak_Gaus->Integral(Int_start, Int_stop);\n",
    "Double_t err_N_ev_NP_8_DC_lin = (err_norm_8_NP_DC_lin/norm_8_NP_DC_lin)*Neutron_peak_Gaus->Integral(Int_start, Int_stop);\n",
    "Double_t N_ev_BKG_8_DC_lin = Linear_bckg->Integral(Int_start, Int_stop);\n",
    "Double_t err_N_ev_BKG_8_DC_lin = sqrt((Int_stop-Int_start)*(Int_stop-Int_start)*CovMat_8_lin_DC(3,3)+(Int_stop-Int_start)*(Int_stop*Int_stop-Int_start*Int_start)*CovMat_8_lin_DC(3, 4)+(Int_stop*Int_stop-Int_start*Int_start)*(Int_stop*Int_stop-Int_start*Int_start)*CovMat_8_lin_DC(4,4)/4);\n",
    "\n",
    "Double_t err_N_ev_data_8_DC_lin;\n",
    "Double_t N_ev_data_8_DC_lin = hCal_DC_8inch->IntegralAndError(hCal_DC_8inch->FindBin(Int_start), hCal_DC_8inch->FindBin(Int_stop), err_N_ev_data_8_DC_lin, \"width\");\n",
    "\n",
    "Double_t err_N_ev_data_8_NP_DC_lin = sqrt(err_N_ev_data_8_DC_lin*err_N_ev_data_8_DC_lin + err_N_ev_BKG_8_DC_lin*err_N_ev_BKG_8_DC_lin);\n",
    "Double_t N_ev_data_NP_8_DC_lin = N_ev_data_8_DC_lin-N_ev_BKG_8_DC_lin;\n",
    "\n",
    "cout<<\"\\nChi2/ndf = \"<<Model_linear->GetChisquare()<<\"/\"<<Model_linear->GetNDF()<<\" = \"<<Model_linear->GetChisquare()/Model_linear->GetNDF()<<endl;\n",
    "cout<<\"\\nTotal N_ev in peak region = \"<<N_ev_data_8_DC_lin<<\" ev/d +- \"<<err_N_ev_data_8_DC_lin<<\" ev/d\"<<endl;\n",
    "cout<<\"N_ev in neutron peak from fit = \"<<N_ev_NP_8_DC_lin<<\" ev/d +- \"<<err_N_ev_NP_8_DC_lin<<\" ev/d \"<<endl;\n",
    "cout<<\"N_ev in background = \"<<N_ev_BKG_8_DC_lin<<\" ev/d +- \"<<err_N_ev_BKG_8_DC_lin<<\" ev/d\"<<endl;\n",
    "cout<<\"N_ev in neutron peak from data - bckg = \"<<N_ev_data_NP_8_DC_lin<<\" ev/d +- \"<<err_N_ev_data_8_NP_DC_lin<<\" ev/d\"<<endl;\n",
    "\n",
    "Model_linear->FixParameter(2, Model_linear->GetParameter(2)); //Fix the sigma value of the neutron peak \n",
    "Model_linear->FixParameter(1, Model_linear->GetParameter(1)); //Fix the positio. of the neutron peak  "
   ]
  },
  {
   "cell_type": "code",
   "execution_count": 159,
   "id": "b1929388",
   "metadata": {},
   "outputs": [
    {
     "data": {
      "image/png": "[encoded data removed]",
      "text/plain": [
       "<IPython.core.display.Image object>"
      ]
     },
     "metadata": {},
     "output_type": "display_data"
    },
    {
     "data": {
      "image/png": "[encoded data removed]",
      "text/plain": [
       "<IPython.core.display.Image object>"
      ]
     },
     "metadata": {},
     "output_type": "display_data"
    }
   ],
   "source": [
    "TCanvas* C = new TCanvas();\n",
    "C->Draw();\n",
    "C->SetLogy();\n",
    "hCal_DC_8inch->Draw(\"\");\n",
    "hCal_DC_8inch->GetYaxis()->SetRangeUser(1e-4, 10);\n",
    "Linear_bckg->SetLineColor(kBlue);\n",
    "Linear_bckg->Draw(\"RSAME\");\n",
    "Model_linear->Draw(\"RSAME\");\n",
    "\n",
    "TCanvas* C2 = new TCanvas(\"cRes_DC_8inch_lin\", \"cRes_DC_8inch_lin\", C->GetWw(), 0.6*C->GetWh());\n",
    "C2->Draw();\n",
    "gPad->SetMargin(0.1,0.1,0.2,0.1);\n",
    "\n",
    "hRes_DC_8inch_lin=Residuals(hCal_DC_8inch, Model_linear, 2800, 4700, true);\n",
    "hRes_DC_8inch_lin->GetYaxis()->SetTitle(\"Residuals [%]\");\n",
    "hRes_DC_8inch_lin->GetYaxis()->SetTitleSize(2*hCal_DC_8inch->GetYaxis()->GetTitleSize());\n",
    "hRes_DC_8inch_lin->GetXaxis()->SetTitleSize(2*hCal_DC_8inch->GetXaxis()->GetTitleSize());\n",
    "hRes_DC_8inch_lin->GetYaxis()->SetLabelSize(2*hCal_DC_8inch->GetYaxis()->GetLabelSize());\n",
    "hRes_DC_8inch_lin->GetXaxis()->SetLabelSize(2*hCal_DC_8inch->GetXaxis()->GetLabelSize());\n",
    "hRes_DC_8inch_lin->Draw(\"\");\n",
    "\n",
    "h_10pc->SetLineColorAlpha(kOrange+1, 0.2);\n",
    "h_10pc->SetMarkerColorAlpha(kOrange+1, 0.2);\n",
    "h_10pc->SetFillColorAlpha(kOrange+1, 0.2);\n",
    "h_10pc->Draw(\"E3SAME\");\n",
    "\n",
    "TLegend* leg = new TLegend(0.15, 0.3, 0.30, 0.4);\n",
    "leg->AddEntry(h_10pc, \"10%\");\n",
    "leg->Draw(\"SAME\");\n",
    "leg->SetLineWidth(0);"
   ]
  },
  {
   "cell_type": "code",
   "execution_count": 160,
   "id": "e43de877",
   "metadata": {},
   "outputs": [
    {
     "name": "stdout",
     "output_type": "stream",
     "text": [
      " FCN=114.947 FROM MIGRAD    STATUS=CONVERGED      87 CALLS          88 TOTAL\n",
      "                     EDM=8.31894e-11    STRATEGY= 1  ERROR MATRIX UNCERTAINTY   2.5 per cent\n",
      "  EXT PARAMETER                                   STEP         FIRST   \n",
      "  NO.   NAME      VALUE            ERROR          SIZE      DERIVATIVE \n",
      "   1  p0           9.57480e-02   1.56403e-03  -1.57526e-06   1.63711e-02\n",
      "   2  p1           3.50000e+03     fixed    \n",
      "   3  p2           4.67155e+06     fixed    \n",
      "   4  p3           7.42121e-03   3.05915e-03  -2.95997e-06   1.65261e-02\n",
      "   5  p4          -2.24634e-05   1.14163e-06   1.15191e-09   8.02269e+01\n",
      "\n",
      "Chi2/ndf = 114.947/39 = 2.94736\n",
      "\n",
      "Total N_ev in peak region = 32.1108 ev/d +- 0.822646 ev/d\n",
      "N_ev in neutron peak from fit = 143.622 ev/d +- 2.34605 ev/d \n",
      "N_ev in background = -115.225 ev/d +- 4.70229 ev/d\n",
      "N_ev in neutron peak from data - bckg = 147.336 ev/d +- 4.7737 ev/d\n"
     ]
    }
   ],
   "source": [
    "Int_start = 3000;\n",
    "Int_stop = 4500;\n",
    "\n",
    "Model_linear->SetParameter(1, 3500);\n",
    "if (Model_linear->GetParameter(2)==0) Model_linear->SetParameter(2, Resol_NP*3500);\n",
    "\n",
    "TFitResultPtr r = hCal_VNS_8inch->Fit(Model_linear, \"S0\", \"\", 3000, 5100);\n",
    "\n",
    "TMatrixD CovMat_8_lin_VNS = r->GetCovarianceMatrix();\n",
    "\n",
    "//CovMat_DC.Print();\n",
    "\n",
    "Double_t err_norm_8_NP_VNS_lin = sqrt(CovMat_8_lin_VNS(0,0));\n",
    "Double_t norm_8_NP_VNS_lin = Model_linear->GetParameter(0);\n",
    "\n",
    "Linear_bckg->SetParameter(0, Model_linear->GetParameter(3));\n",
    "Linear_bckg->SetParameter(1, Model_linear->GetParameter(4));\n",
    "\n",
    "Neutron_peak_Gaus->SetParameter(0, Model_linear->GetParameter(0));\n",
    "Neutron_peak_Gaus->SetParameter(1, Model_linear->GetParameter(1));\n",
    "Neutron_peak_Gaus->SetParameter(2, Model_linear->GetParameter(2));\n",
    "\n",
    "Double_t N_ev_tot_8_VNS_lin = Model_linear->Integral(Int_start, Int_stop);\n",
    "Double_t N_ev_NP_8_VNS_lin = Neutron_peak_Gaus->Integral(Int_start, Int_stop);\n",
    "Double_t err_N_ev_NP_8_VNS_lin = (err_norm_8_NP_VNS_lin/norm_8_NP_VNS_lin)*Neutron_peak_Gaus->Integral(Int_start, Int_stop);\n",
    "Double_t N_ev_BKG_8_VNS_lin = Linear_bckg->Integral(Int_start, Int_stop);\n",
    "Double_t err_N_ev_BKG_8_VNS_lin = sqrt((Int_stop-Int_start)*(Int_stop-Int_start)*CovMat_8_lin_VNS(3,3)+(Int_stop-Int_start)*(Int_stop*Int_stop-Int_start*Int_start)*CovMat_8_lin_VNS(3, 4)+(Int_stop*Int_stop-Int_start*Int_start)*(Int_stop*Int_stop-Int_start*Int_start)*CovMat_8_lin_VNS(4,4)/4);\n",
    "\n",
    "Double_t err_N_ev_data_8_VNS_lin;\n",
    "Double_t N_ev_data_8_VNS_lin = hCal_VNS_8inch->IntegralAndError(hCal_VNS_8inch->FindBin(Int_start), hCal_VNS_8inch->FindBin(Int_stop), err_N_ev_data_8_VNS_lin, \"width\");\n",
    "\n",
    "Double_t err_N_ev_data_8_NP_VNS_lin = sqrt(err_N_ev_data_8_VNS_lin*err_N_ev_data_8_VNS_lin + err_N_ev_BKG_8_VNS_lin*err_N_ev_BKG_8_VNS_lin);\n",
    "Double_t N_ev_data_NP_8_VNS_lin = N_ev_data_8_VNS_lin-N_ev_BKG_8_VNS_lin;\n",
    "\n",
    "cout<<\"\\nChi2/ndf = \"<<Model_linear->GetChisquare()<<\"/\"<<Model_linear->GetNDF()<<\" = \"<<Model_linear->GetChisquare()/Model_linear->GetNDF()<<endl;\n",
    "cout<<\"\\nTotal N_ev in peak region = \"<<N_ev_data_8_VNS_lin<<\" ev/d +- \"<<err_N_ev_data_8_VNS_lin<<\" ev/d\"<<endl;\n",
    "cout<<\"N_ev in neutron peak from fit = \"<<N_ev_NP_8_VNS_lin<<\" ev/d +- \"<<err_N_ev_NP_8_VNS_lin<<\" ev/d \"<<endl;\n",
    "cout<<\"N_ev in background = \"<<N_ev_BKG_8_VNS_lin<<\" ev/d +- \"<<err_N_ev_BKG_8_VNS_lin<<\" ev/d\"<<endl;\n",
    "cout<<\"N_ev in neutron peak from data - bckg = \"<<N_ev_data_NP_8_VNS_lin<<\" ev/d +- \"<<err_N_ev_data_8_NP_VNS_lin<<\" ev/d\"<<endl;\n",
    "\n",
    "Model_linear->FixParameter(2, Model_linear->GetParameter(2)); //Fix the sigma value of the neutron peak  "
   ]
  },
  {
   "cell_type": "code",
   "execution_count": 161,
   "id": "9e14aefe",
   "metadata": {},
   "outputs": [
    {
     "data": {
      "image/png": "[encoded data removed]",
      "text/plain": [
       "<IPython.core.display.Image object>"
      ]
     },
     "metadata": {},
     "output_type": "display_data"
    },
    {
     "data": {
      "image/png": "[encoded data removed]",
      "text/plain": [
       "<IPython.core.display.Image object>"
      ]
     },
     "metadata": {},
     "output_type": "display_data"
    }
   ],
   "source": [
    "TCanvas* C = new TCanvas();\n",
    "C->Draw();\n",
    "C->SetLogy();\n",
    "hCal_VNS_8inch->Draw(\"\");\n",
    "hCal_VNS_8inch->GetYaxis()->SetRangeUser(1e-4, 10);\n",
    "Linear_bckg->SetLineColor(kBlue);\n",
    "Linear_bckg->Draw(\"RSAME\");\n",
    "Model_linear->Draw(\"RSAME\");\n",
    "\n",
    "TCanvas* C2 = new TCanvas(\"cRes_VNS_8inch_lin\", \"cRes_VNS_8inch_lin\", C->GetWw(), 0.6*C->GetWh());\n",
    "C2->Draw();\n",
    "gPad->SetMargin(0.1,0.1,0.2,0.1);\n",
    "\n",
    "hRes_VNS_8inch_lin=Residuals(hCal_VNS_8inch, Model_linear, 3000, 4700, true);\n",
    "hRes_VNS_8inch_lin->GetYaxis()->SetTitle(\"Residuals [%]\");\n",
    "hRes_VNS_8inch_lin->GetYaxis()->SetTitleSize(2*hCal_VNS_8inch->GetYaxis()->GetTitleSize());\n",
    "hRes_VNS_8inch_lin->GetXaxis()->SetTitleSize(2*hCal_VNS_8inch->GetXaxis()->GetTitleSize());\n",
    "hRes_VNS_8inch_lin->GetYaxis()->SetLabelSize(2*hCal_VNS_8inch->GetYaxis()->GetLabelSize());\n",
    "hRes_VNS_8inch_lin->GetXaxis()->SetLabelSize(2*hCal_VNS_8inch->GetXaxis()->GetLabelSize());\n",
    "hRes_VNS_8inch_lin->Draw(\"\");\n",
    "\n",
    "h_10pc->SetLineColorAlpha(kOrange+1, 0.2);\n",
    "h_10pc->SetMarkerColorAlpha(kOrange+1, 0.2);\n",
    "h_10pc->SetFillColorAlpha(kOrange+1, 0.2);\n",
    "h_10pc->Draw(\"E3SAME\");\n",
    "\n",
    "TLegend* leg = new TLegend(0.15, 0.3, 0.30, 0.4);\n",
    "leg->AddEntry(h_10pc, \"10%\");\n",
    "leg->Draw(\"SAME\");\n",
    "leg->SetLineWidth(0);"
   ]
  }
 ],
 "metadata": {
  "kernelspec": {
   "display_name": "ROOT C++",
   "language": "c++",
   "name": "root"
  },
  "language_info": {
   "codemirror_mode": "text/x-c++src",
   "file_extension": ".C",
   "mimetype": " text/x-c++src",
   "name": "c++"
  },
  "toc": {
   "base_numbering": 1,
   "nav_menu": {},
   "number_sections": true,
   "sideBar": true,
   "skip_h1_title": false,
   "title_cell": "Table of Contents",
   "title_sidebar": "Contents",
   "toc_cell": false,
   "toc_position": {
    "height": "calc(100% - 180px)",
    "left": "10px",
    "top": "150px",
    "width": "246px"
   },
   "toc_section_display": true,
   "toc_window_display": true
  }
 },
 "nbformat": 4,
 "nbformat_minor": 5
}
